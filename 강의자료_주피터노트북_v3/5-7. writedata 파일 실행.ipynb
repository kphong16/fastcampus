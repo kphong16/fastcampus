{
 "cells": [
  {
   "cell_type": "markdown",
   "id": "36d32192",
   "metadata": {},
   "source": [
    "# [ 5-7. writedata.py 파일 실행 ]"
   ]
  },
  {
   "cell_type": "code",
   "execution_count": 1,
   "id": "9e32dd13",
   "metadata": {},
   "outputs": [],
   "source": [
    "from practice import writedata"
   ]
  },
  {
   "cell_type": "markdown",
   "id": "3f9af954",
   "metadata": {},
   "source": [
    "**=> \"writedata\"를 임포트 할 때 동시에 파일 내부에 코딩되어 있는 현금흐름의 작성 및 엑셀파일 출력이 실행됨.**  \n",
    "**=> \"result\" 폴더에 엑셀파일 결과물 생성.**"
   ]
  },
  {
   "cell_type": "code",
   "execution_count": null,
   "id": "9be2cd39",
   "metadata": {},
   "outputs": [],
   "source": []
  }
 ],
 "metadata": {
  "kernelspec": {
   "display_name": "Python 3 (ipykernel)",
   "language": "python",
   "name": "python3"
  },
  "language_info": {
   "codemirror_mode": {
    "name": "ipython",
    "version": 3
   },
   "file_extension": ".py",
   "mimetype": "text/x-python",
   "name": "python",
   "nbconvert_exporter": "python",
   "pygments_lexer": "ipython3",
   "version": "3.7.13"
  }
 },
 "nbformat": 4,
 "nbformat_minor": 5
}
