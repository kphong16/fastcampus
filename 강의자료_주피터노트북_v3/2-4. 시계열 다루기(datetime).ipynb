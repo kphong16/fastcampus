{
 "cells": [
  {
   "cell_type": "markdown",
   "id": "190e0510",
   "metadata": {},
   "source": [
    "# [ 2-4. 시계열 다루기(datetime) ]"
   ]
  },
  {
   "cell_type": "markdown",
   "id": "a7070670",
   "metadata": {},
   "source": [
    "## 1. datetime 라이브러리\n",
    "* 파이썬에서 날짜와 시간을 다루고자 하는 경우 datetime 라이브러리를 많이 사용함.\n",
    "* datetime 라이브러리는 파이썬 표준라이브러리임.\n",
    "* datetime 라이브러리에는 date객체(날짜), time객체(시간), datetime객체(날짜와 시간)가 있고, 이러한 객체들을 이용하여 날짜와 시간을 다루게 됨."
   ]
  },
  {
   "cell_type": "markdown",
   "id": "2fbd61a8",
   "metadata": {},
   "source": [
    "### 1) datetime 객체"
   ]
  },
  {
   "cell_type": "code",
   "execution_count": 1,
   "id": "3158d972",
   "metadata": {},
   "outputs": [],
   "source": [
    "from datetime import datetime"
   ]
  },
  {
   "cell_type": "code",
   "execution_count": 2,
   "id": "6c7ca6e0",
   "metadata": {},
   "outputs": [],
   "source": [
    "dt = [datetime(2023, 1, 31), datetime(2023, 2, 28), datetime(2023, 3, 31), \n",
    "      datetime(2023, 4, 30), datetime(2023, 5, 31), datetime(2023, 6, 30)]"
   ]
  },
  {
   "cell_type": "code",
   "execution_count": 3,
   "id": "1a56269e",
   "metadata": {
    "scrolled": true
   },
   "outputs": [
    {
     "data": {
      "text/plain": [
       "[datetime.datetime(2023, 1, 31, 0, 0),\n",
       " datetime.datetime(2023, 2, 28, 0, 0),\n",
       " datetime.datetime(2023, 3, 31, 0, 0),\n",
       " datetime.datetime(2023, 4, 30, 0, 0),\n",
       " datetime.datetime(2023, 5, 31, 0, 0),\n",
       " datetime.datetime(2023, 6, 30, 0, 0)]"
      ]
     },
     "execution_count": 3,
     "metadata": {},
     "output_type": "execute_result"
    }
   ],
   "source": [
    "dt"
   ]
  },
  {
   "cell_type": "code",
   "execution_count": 4,
   "id": "6852c534",
   "metadata": {},
   "outputs": [
    {
     "data": {
      "text/plain": [
       "2023"
      ]
     },
     "execution_count": 4,
     "metadata": {},
     "output_type": "execute_result"
    }
   ],
   "source": [
    "dt[0].year"
   ]
  },
  {
   "cell_type": "code",
   "execution_count": 5,
   "id": "d1aec73a",
   "metadata": {},
   "outputs": [
    {
     "data": {
      "text/plain": [
       "1"
      ]
     },
     "execution_count": 5,
     "metadata": {},
     "output_type": "execute_result"
    }
   ],
   "source": [
    "dt[0].month"
   ]
  },
  {
   "cell_type": "code",
   "execution_count": 6,
   "id": "271a045a",
   "metadata": {},
   "outputs": [
    {
     "data": {
      "text/plain": [
       "31"
      ]
     },
     "execution_count": 6,
     "metadata": {},
     "output_type": "execute_result"
    }
   ],
   "source": [
    "dt[0].day"
   ]
  },
  {
   "cell_type": "code",
   "execution_count": 7,
   "id": "f76f1ddd",
   "metadata": {},
   "outputs": [
    {
     "data": {
      "text/plain": [
       "[1, 2, 3, 4, 5, 6]"
      ]
     },
     "execution_count": 7,
     "metadata": {},
     "output_type": "execute_result"
    }
   ],
   "source": [
    "[x.month for x in dt]  #리스트 컴프리헨션을 통해 year, month, day 등 추출"
   ]
  },
  {
   "cell_type": "code",
   "execution_count": 8,
   "id": "246d585c",
   "metadata": {},
   "outputs": [
    {
     "data": {
      "text/plain": [
       "[2023, 2023, 2023, 2023, 2023, 2023]"
      ]
     },
     "execution_count": 8,
     "metadata": {},
     "output_type": "execute_result"
    }
   ],
   "source": [
    "[x.year for x in dt]"
   ]
  },
  {
   "cell_type": "code",
   "execution_count": 9,
   "id": "b6763be2",
   "metadata": {},
   "outputs": [
    {
     "data": {
      "text/plain": [
       "[(2023, 1), (2023, 2), (2023, 3), (2023, 4), (2023, 5), (2023, 6)]"
      ]
     },
     "execution_count": 9,
     "metadata": {},
     "output_type": "execute_result"
    }
   ],
   "source": [
    "[(x.year, x.month) for x in dt]"
   ]
  },
  {
   "cell_type": "markdown",
   "id": "63d4aa5a",
   "metadata": {},
   "source": [
    "#### 문자형태로 출력(strftime 메서드)"
   ]
  },
  {
   "cell_type": "code",
   "execution_count": 10,
   "id": "2461a7f7",
   "metadata": {},
   "outputs": [
    {
     "data": {
      "text/plain": [
       "'2023-01-31'"
      ]
     },
     "execution_count": 10,
     "metadata": {},
     "output_type": "execute_result"
    }
   ],
   "source": [
    "dt[0].strftime('%Y-%m-%d')"
   ]
  },
  {
   "cell_type": "code",
   "execution_count": 11,
   "id": "55ee81b3",
   "metadata": {},
   "outputs": [
    {
     "data": {
      "text/plain": [
       "'2023.02.28'"
      ]
     },
     "execution_count": 11,
     "metadata": {},
     "output_type": "execute_result"
    }
   ],
   "source": [
    "dt[1].strftime('%Y.%m.%d')"
   ]
  },
  {
   "cell_type": "code",
   "execution_count": 12,
   "id": "8f4d5f84",
   "metadata": {},
   "outputs": [
    {
     "data": {
      "text/plain": [
       "['2023.01.31',\n",
       " '2023.02.28',\n",
       " '2023.03.31',\n",
       " '2023.04.30',\n",
       " '2023.05.31',\n",
       " '2023.06.30']"
      ]
     },
     "execution_count": 12,
     "metadata": {},
     "output_type": "execute_result"
    }
   ],
   "source": [
    "[x.strftime('%Y.%m.%d') for x in dt]"
   ]
  },
  {
   "cell_type": "markdown",
   "id": "a38955a6",
   "metadata": {},
   "source": [
    "#### 날짜간 차이 계산"
   ]
  },
  {
   "cell_type": "code",
   "execution_count": 13,
   "id": "9ddc4396",
   "metadata": {},
   "outputs": [
    {
     "data": {
      "text/plain": [
       "datetime.timedelta(days=181)"
      ]
     },
     "execution_count": 13,
     "metadata": {},
     "output_type": "execute_result"
    }
   ],
   "source": [
    "diff = datetime(2023, 7, 1) - datetime(2023, 1, 1)\n",
    "diff"
   ]
  },
  {
   "cell_type": "code",
   "execution_count": 14,
   "id": "6dc7b717",
   "metadata": {},
   "outputs": [
    {
     "data": {
      "text/plain": [
       "181"
      ]
     },
     "execution_count": 14,
     "metadata": {},
     "output_type": "execute_result"
    }
   ],
   "source": [
    "diff.days"
   ]
  },
  {
   "cell_type": "markdown",
   "id": "a6bdecce",
   "metadata": {},
   "source": [
    "#### 오늘 날짜 객체 생성"
   ]
  },
  {
   "cell_type": "code",
   "execution_count": 15,
   "id": "3edc54e0",
   "metadata": {},
   "outputs": [
    {
     "data": {
      "text/plain": [
       "datetime.datetime(2022, 12, 1, 23, 43, 35, 181691)"
      ]
     },
     "execution_count": 15,
     "metadata": {},
     "output_type": "execute_result"
    }
   ],
   "source": [
    "datetime.today()"
   ]
  },
  {
   "cell_type": "code",
   "execution_count": 16,
   "id": "fd260b43",
   "metadata": {},
   "outputs": [
    {
     "data": {
      "text/plain": [
       "datetime.datetime(2022, 12, 1, 23, 43, 35, 366120)"
      ]
     },
     "execution_count": 16,
     "metadata": {},
     "output_type": "execute_result"
    }
   ],
   "source": [
    "datetime.now()"
   ]
  },
  {
   "cell_type": "code",
   "execution_count": null,
   "id": "591facd5",
   "metadata": {},
   "outputs": [],
   "source": []
  },
  {
   "cell_type": "markdown",
   "id": "4e74bae4",
   "metadata": {},
   "source": [
    "### 2) timedelta 객체"
   ]
  },
  {
   "cell_type": "code",
   "execution_count": 17,
   "id": "ab30c2a8",
   "metadata": {},
   "outputs": [],
   "source": [
    "from datetime import timedelta"
   ]
  },
  {
   "cell_type": "code",
   "execution_count": 18,
   "id": "5b3fb24e",
   "metadata": {},
   "outputs": [],
   "source": [
    "start = datetime(2023, 1, 1)"
   ]
  },
  {
   "cell_type": "code",
   "execution_count": 19,
   "id": "85cba0e5",
   "metadata": {},
   "outputs": [
    {
     "data": {
      "text/plain": [
       "datetime.datetime(2023, 2, 1, 0, 0)"
      ]
     },
     "execution_count": 19,
     "metadata": {},
     "output_type": "execute_result"
    }
   ],
   "source": [
    "start + timedelta(31)  #days"
   ]
  },
  {
   "cell_type": "code",
   "execution_count": 20,
   "id": "b342a978",
   "metadata": {},
   "outputs": [
    {
     "data": {
      "text/plain": [
       "[datetime.datetime(2023, 1, 31, 0, 0),\n",
       " datetime.datetime(2023, 2, 28, 0, 0),\n",
       " datetime.datetime(2023, 3, 31, 0, 0),\n",
       " datetime.datetime(2023, 4, 30, 0, 0),\n",
       " datetime.datetime(2023, 5, 31, 0, 0),\n",
       " datetime.datetime(2023, 6, 30, 0, 0)]"
      ]
     },
     "execution_count": 20,
     "metadata": {},
     "output_type": "execute_result"
    }
   ],
   "source": [
    "dt"
   ]
  },
  {
   "cell_type": "code",
   "execution_count": 21,
   "id": "c086fcd6",
   "metadata": {},
   "outputs": [
    {
     "data": {
      "text/plain": [
       "[datetime.datetime(2023, 2, 1, 0, 0),\n",
       " datetime.datetime(2023, 3, 1, 0, 0),\n",
       " datetime.datetime(2023, 4, 1, 0, 0),\n",
       " datetime.datetime(2023, 5, 1, 0, 0),\n",
       " datetime.datetime(2023, 6, 1, 0, 0),\n",
       " datetime.datetime(2023, 7, 1, 0, 0)]"
      ]
     },
     "execution_count": 21,
     "metadata": {},
     "output_type": "execute_result"
    }
   ],
   "source": [
    "[x + timedelta(1) for x in dt]"
   ]
  },
  {
   "cell_type": "code",
   "execution_count": null,
   "id": "c39bd284",
   "metadata": {},
   "outputs": [],
   "source": []
  },
  {
   "cell_type": "markdown",
   "id": "8f3af384",
   "metadata": {},
   "source": [
    "## 2. pandas.to_datetime\n",
    "* 일반적으로 사용하는 날짜 시간의 문자열 형식을 datetime 객체로 변환"
   ]
  },
  {
   "cell_type": "code",
   "execution_count": 22,
   "id": "2888e45d",
   "metadata": {},
   "outputs": [
    {
     "data": {
      "text/plain": [
       "[datetime.datetime(2023, 1, 31, 0, 0),\n",
       " datetime.datetime(2023, 2, 28, 0, 0),\n",
       " datetime.datetime(2023, 3, 31, 0, 0),\n",
       " datetime.datetime(2023, 4, 30, 0, 0),\n",
       " datetime.datetime(2023, 5, 31, 0, 0),\n",
       " datetime.datetime(2023, 6, 30, 0, 0)]"
      ]
     },
     "execution_count": 22,
     "metadata": {},
     "output_type": "execute_result"
    }
   ],
   "source": [
    "dt"
   ]
  },
  {
   "cell_type": "code",
   "execution_count": 23,
   "id": "df0d3943",
   "metadata": {},
   "outputs": [
    {
     "data": {
      "text/plain": [
       "['2023.01.31',\n",
       " '2023.02.28',\n",
       " '2023.03.31',\n",
       " '2023.04.30',\n",
       " '2023.05.31',\n",
       " '2023.06.30']"
      ]
     },
     "execution_count": 23,
     "metadata": {},
     "output_type": "execute_result"
    }
   ],
   "source": [
    "dtstr = [x.strftime('%Y.%m.%d') for x in dt]\n",
    "dtstr"
   ]
  },
  {
   "cell_type": "code",
   "execution_count": 24,
   "id": "77d73665",
   "metadata": {},
   "outputs": [
    {
     "data": {
      "text/plain": [
       "'2023.01.31'"
      ]
     },
     "execution_count": 24,
     "metadata": {},
     "output_type": "execute_result"
    }
   ],
   "source": [
    "dtstr[0]"
   ]
  },
  {
   "cell_type": "code",
   "execution_count": null,
   "id": "ccf2d192",
   "metadata": {},
   "outputs": [],
   "source": []
  },
  {
   "cell_type": "code",
   "execution_count": 25,
   "id": "69a59543",
   "metadata": {},
   "outputs": [],
   "source": [
    "import pandas as pd"
   ]
  },
  {
   "cell_type": "code",
   "execution_count": 26,
   "id": "b808fdad",
   "metadata": {},
   "outputs": [
    {
     "data": {
      "text/plain": [
       "DatetimeIndex(['2023-01-31', '2023-02-28', '2023-03-31', '2023-04-30',\n",
       "               '2023-05-31', '2023-06-30'],\n",
       "              dtype='datetime64[ns]', freq=None)"
      ]
     },
     "execution_count": 26,
     "metadata": {},
     "output_type": "execute_result"
    }
   ],
   "source": [
    "dtpd = pd.to_datetime(dtstr)  #문자열로 작성된 날짜를 datetime 객체로 변환\n",
    "dtpd"
   ]
  },
  {
   "cell_type": "code",
   "execution_count": 27,
   "id": "cfa2dfae",
   "metadata": {},
   "outputs": [
    {
     "data": {
      "text/plain": [
       "DatetimeIndex(['2023-02-01', '2023-03-01', '2023-04-01', '2023-05-01',\n",
       "               '2023-06-01', '2023-07-01'],\n",
       "              dtype='datetime64[ns]', freq=None)"
      ]
     },
     "execution_count": 27,
     "metadata": {},
     "output_type": "execute_result"
    }
   ],
   "source": [
    "dtpd + timedelta(1)"
   ]
  },
  {
   "cell_type": "code",
   "execution_count": null,
   "id": "ac11d2f8",
   "metadata": {},
   "outputs": [],
   "source": []
  }
 ],
 "metadata": {
  "kernelspec": {
   "display_name": "Python 3 (ipykernel)",
   "language": "python",
   "name": "python3"
  },
  "language_info": {
   "codemirror_mode": {
    "name": "ipython",
    "version": 3
   },
   "file_extension": ".py",
   "mimetype": "text/x-python",
   "name": "python",
   "nbconvert_exporter": "python",
   "pygments_lexer": "ipython3",
   "version": "3.7.13"
  }
 },
 "nbformat": 4,
 "nbformat_minor": 5
}
