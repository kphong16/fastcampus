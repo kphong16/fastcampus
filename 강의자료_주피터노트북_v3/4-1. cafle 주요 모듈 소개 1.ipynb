{
 "cells": [
  {
   "cell_type": "markdown",
   "id": "4f7e6048",
   "metadata": {},
   "source": [
    "# [ 4-1. cafle 주요 모듈 소개 1 ]"
   ]
  },
  {
   "cell_type": "code",
   "execution_count": 4,
   "id": "53c93a44",
   "metadata": {},
   "outputs": [],
   "source": [
    "import cafle as cf\n",
    "from cafle import Index, Account"
   ]
  },
  {
   "cell_type": "markdown",
   "id": "3c78759b",
   "metadata": {},
   "source": [
    "## 1. Index 모듈"
   ]
  },
  {
   "cell_type": "markdown",
   "id": "fbfe36ad",
   "metadata": {},
   "source": [
    "### 1) 정수 인덱스 생성\n",
    "* Index(마지막 숫자) : from 0 to 마지막 숫자의 RangeIndex 생성\n",
    "* Index(시작 숫자, 마지막 숫자) : from 시작 숫자 to 마지막 숫자의 RangeIndex 생성\n",
    "* Index(시작 숫자, 마지막 숫지, 숫자 간격) : from 시작 숫자 to 마지막 숫자를 숫자 간격에 따라 띄워서 RangeIndex 생성"
   ]
  },
  {
   "cell_type": "code",
   "execution_count": 5,
   "id": "acd55b04",
   "metadata": {},
   "outputs": [
    {
     "data": {
      "text/plain": [
       "RangeIndex(range(0, 12))"
      ]
     },
     "execution_count": 5,
     "metadata": {},
     "output_type": "execute_result"
    }
   ],
   "source": [
    "idx = Index(12)\n",
    "idx"
   ]
  },
  {
   "cell_type": "code",
   "execution_count": 6,
   "id": "c21405a4",
   "metadata": {},
   "outputs": [
    {
     "data": {
      "text/plain": [
       "0"
      ]
     },
     "execution_count": 6,
     "metadata": {},
     "output_type": "execute_result"
    }
   ],
   "source": [
    "idx[0]"
   ]
  },
  {
   "cell_type": "code",
   "execution_count": 7,
   "id": "18e4abb7",
   "metadata": {},
   "outputs": [
    {
     "data": {
      "text/plain": [
       "11"
      ]
     },
     "execution_count": 7,
     "metadata": {},
     "output_type": "execute_result"
    }
   ],
   "source": [
    "idx[11]"
   ]
  },
  {
   "cell_type": "code",
   "execution_count": 8,
   "id": "8b532266",
   "metadata": {},
   "outputs": [
    {
     "data": {
      "text/plain": [
       "11"
      ]
     },
     "execution_count": 8,
     "metadata": {},
     "output_type": "execute_result"
    }
   ],
   "source": [
    "idx[-1]"
   ]
  },
  {
   "cell_type": "code",
   "execution_count": 9,
   "id": "118182c4",
   "metadata": {},
   "outputs": [
    {
     "ename": "IndexError",
     "evalue": "range object index out of range",
     "output_type": "error",
     "traceback": [
      "\u001b[0;31m---------------------------------------------------------------------------\u001b[0m",
      "\u001b[0;31mIndexError\u001b[0m                                Traceback (most recent call last)",
      "\u001b[0;32m/var/folders/01/c04y5bhn61l8kzg4jnpy_8dw0000gp/T/ipykernel_9276/2658602549.py\u001b[0m in \u001b[0;36m<module>\u001b[0;34m\u001b[0m\n\u001b[1;32m      1\u001b[0m \u001b[0;31m# range() 함수와 같이 마지막 숫자는 제외됨.\u001b[0m\u001b[0;34m\u001b[0m\u001b[0;34m\u001b[0m\u001b[0;34m\u001b[0m\u001b[0m\n\u001b[0;32m----> 2\u001b[0;31m \u001b[0midx\u001b[0m\u001b[0;34m[\u001b[0m\u001b[0;36m12\u001b[0m\u001b[0;34m]\u001b[0m\u001b[0;34m\u001b[0m\u001b[0;34m\u001b[0m\u001b[0m\n\u001b[0m",
      "\u001b[0;32m~/opt/anaconda3/envs/FastCampus2/lib/python3.7/site-packages/cafle/index.py\u001b[0m in \u001b[0;36m__getitem__\u001b[0;34m(self, key)\u001b[0m\n\u001b[1;32m    263\u001b[0m \u001b[0;34m\u001b[0m\u001b[0m\n\u001b[1;32m    264\u001b[0m         \u001b[0;32mif\u001b[0m \u001b[0mis_scalar\u001b[0m\u001b[0;34m(\u001b[0m\u001b[0mkey\u001b[0m\u001b[0;34m)\u001b[0m\u001b[0;34m:\u001b[0m\u001b[0;34m\u001b[0m\u001b[0;34m\u001b[0m\u001b[0m\n\u001b[0;32m--> 265\u001b[0;31m             \u001b[0;32mreturn\u001b[0m \u001b[0mgetitem\u001b[0m\u001b[0;34m(\u001b[0m\u001b[0mkey\u001b[0m\u001b[0;34m)\u001b[0m\u001b[0;34m\u001b[0m\u001b[0;34m\u001b[0m\u001b[0m\n\u001b[0m\u001b[1;32m    266\u001b[0m \u001b[0;34m\u001b[0m\u001b[0m\n\u001b[1;32m    267\u001b[0m         \u001b[0;32mif\u001b[0m \u001b[0misinstance\u001b[0m\u001b[0;34m(\u001b[0m\u001b[0mkey\u001b[0m\u001b[0;34m,\u001b[0m \u001b[0mslice\u001b[0m\u001b[0;34m)\u001b[0m\u001b[0;34m:\u001b[0m\u001b[0;34m\u001b[0m\u001b[0;34m\u001b[0m\u001b[0m\n",
      "\u001b[0;31mIndexError\u001b[0m: range object index out of range"
     ]
    }
   ],
   "source": [
    "# range() 함수와 같이 마지막 숫자는 제외됨.\n",
    "idx[12]"
   ]
  },
  {
   "cell_type": "code",
   "execution_count": 10,
   "id": "df6c5cf9",
   "metadata": {
    "scrolled": true
   },
   "outputs": [
    {
     "data": {
      "text/plain": [
       "RangeIndex(range(10, 24))"
      ]
     },
     "execution_count": 10,
     "metadata": {},
     "output_type": "execute_result"
    }
   ],
   "source": [
    "idx = Index(10, 24)\n",
    "idx"
   ]
  },
  {
   "cell_type": "code",
   "execution_count": 11,
   "id": "5e123ecd",
   "metadata": {},
   "outputs": [
    {
     "data": {
      "text/plain": [
       "10"
      ]
     },
     "execution_count": 11,
     "metadata": {},
     "output_type": "execute_result"
    }
   ],
   "source": [
    "idx[0]"
   ]
  },
  {
   "cell_type": "code",
   "execution_count": 12,
   "id": "19a2edaa",
   "metadata": {},
   "outputs": [
    {
     "data": {
      "text/plain": [
       "23"
      ]
     },
     "execution_count": 12,
     "metadata": {},
     "output_type": "execute_result"
    }
   ],
   "source": [
    "idx[-1]"
   ]
  },
  {
   "cell_type": "code",
   "execution_count": 13,
   "id": "3888b3d5",
   "metadata": {},
   "outputs": [
    {
     "data": {
      "text/plain": [
       "RangeIndex(range(10, 13))"
      ]
     },
     "execution_count": 13,
     "metadata": {},
     "output_type": "execute_result"
    }
   ],
   "source": [
    "# 슬라이싱 적용 가능\n",
    "idx[0:3]"
   ]
  },
  {
   "cell_type": "code",
   "execution_count": 14,
   "id": "60d4277d",
   "metadata": {},
   "outputs": [
    {
     "data": {
      "text/plain": [
       "RangeIndex(range(0, 12, 2))"
      ]
     },
     "execution_count": 14,
     "metadata": {},
     "output_type": "execute_result"
    }
   ],
   "source": [
    "idx = Index(0, 12, 2)\n",
    "idx"
   ]
  },
  {
   "cell_type": "code",
   "execution_count": 15,
   "id": "3406df77",
   "metadata": {},
   "outputs": [
    {
     "data": {
      "text/plain": [
       "0"
      ]
     },
     "execution_count": 15,
     "metadata": {},
     "output_type": "execute_result"
    }
   ],
   "source": [
    "idx[0]"
   ]
  },
  {
   "cell_type": "code",
   "execution_count": 16,
   "id": "95cbac0b",
   "metadata": {},
   "outputs": [
    {
     "data": {
      "text/plain": [
       "2"
      ]
     },
     "execution_count": 16,
     "metadata": {},
     "output_type": "execute_result"
    }
   ],
   "source": [
    "idx[1]"
   ]
  },
  {
   "cell_type": "code",
   "execution_count": null,
   "id": "0a002156",
   "metadata": {},
   "outputs": [],
   "source": []
  },
  {
   "cell_type": "markdown",
   "id": "2a30be60",
   "metadata": {},
   "source": [
    "### 2) 월별 인덱스 생성\n",
    "* Index(시작월, 생성 갯수) : 시작월의 마지막 날에서 시작하여 총 생성 갯수의 날짜 Index 생성\n",
    "* Index(시작월, 마지막월) : 시작월의 마지막 날에서 시작하여 마지막월 마지막 날까지의 월별 날짜 Index 생성"
   ]
  },
  {
   "cell_type": "code",
   "execution_count": 17,
   "id": "c33f8cb9",
   "metadata": {},
   "outputs": [
    {
     "data": {
      "text/plain": [
       "DateIndex(['2023.01.31', '2023.02.28', '2023.03.31', '2023.04.30', '2023.05.31', '2023.06.30', '2023.07.31', '2023.08.31', '2023.09.30', '2023.10.31', '2023.11.30', '2023.12.31'])"
      ]
     },
     "execution_count": 17,
     "metadata": {},
     "output_type": "execute_result"
    }
   ],
   "source": [
    "idx = Index('2023.01', 12)\n",
    "idx"
   ]
  },
  {
   "cell_type": "code",
   "execution_count": 18,
   "id": "7ba5a7f1",
   "metadata": {},
   "outputs": [
    {
     "data": {
      "text/plain": [
       "datetime.date(2023, 4, 30)"
      ]
     },
     "execution_count": 18,
     "metadata": {},
     "output_type": "execute_result"
    }
   ],
   "source": [
    "idx[3]"
   ]
  },
  {
   "cell_type": "code",
   "execution_count": 19,
   "id": "481af8d6",
   "metadata": {},
   "outputs": [
    {
     "data": {
      "text/plain": [
       "datetime.date(2023, 12, 31)"
      ]
     },
     "execution_count": 19,
     "metadata": {},
     "output_type": "execute_result"
    }
   ],
   "source": [
    "idx[-1]"
   ]
  },
  {
   "cell_type": "code",
   "execution_count": null,
   "id": "f87c28a4",
   "metadata": {},
   "outputs": [],
   "source": []
  },
  {
   "cell_type": "code",
   "execution_count": 20,
   "id": "308840c0",
   "metadata": {},
   "outputs": [
    {
     "data": {
      "text/plain": [
       "DateIndex(['2023.01.31', '2023.02.28', '2023.03.31', '2023.04.30', '2023.05.31', '2023.06.30', '2023.07.31', '2023.08.31', '2023.09.30', '2023.10.31', '2023.11.30', '2023.12.31'])"
      ]
     },
     "execution_count": 20,
     "metadata": {},
     "output_type": "execute_result"
    }
   ],
   "source": [
    "idx = Index('2023.01', '2023.12')\n",
    "idx"
   ]
  },
  {
   "cell_type": "code",
   "execution_count": 21,
   "id": "ac03f16a",
   "metadata": {},
   "outputs": [
    {
     "data": {
      "text/plain": [
       "datetime.date(2023, 1, 31)"
      ]
     },
     "execution_count": 21,
     "metadata": {},
     "output_type": "execute_result"
    }
   ],
   "source": [
    "idx[0]"
   ]
  },
  {
   "cell_type": "code",
   "execution_count": 22,
   "id": "89d0bb94",
   "metadata": {},
   "outputs": [
    {
     "data": {
      "text/plain": [
       "datetime.date(2023, 12, 31)"
      ]
     },
     "execution_count": 22,
     "metadata": {},
     "output_type": "execute_result"
    }
   ],
   "source": [
    "idx[-1]"
   ]
  },
  {
   "cell_type": "code",
   "execution_count": null,
   "id": "13b4af2d",
   "metadata": {},
   "outputs": [],
   "source": []
  },
  {
   "cell_type": "markdown",
   "id": "f1f15191",
   "metadata": {},
   "source": [
    "### 3) 개별 인덱스 생성\n",
    "* 개별적인 날짜 값을 리스트로 묶어서 Index를 생성할 수 있음."
   ]
  },
  {
   "cell_type": "code",
   "execution_count": 23,
   "id": "08463431",
   "metadata": {},
   "outputs": [],
   "source": [
    "from datetime import date as D"
   ]
  },
  {
   "cell_type": "code",
   "execution_count": 24,
   "id": "bc23e4f9",
   "metadata": {},
   "outputs": [
    {
     "data": {
      "text/plain": [
       "datetime.date(2023, 1, 31)"
      ]
     },
     "execution_count": 24,
     "metadata": {},
     "output_type": "execute_result"
    }
   ],
   "source": [
    "D(2023, 1, 31)"
   ]
  },
  {
   "cell_type": "code",
   "execution_count": 25,
   "id": "5baa225d",
   "metadata": {},
   "outputs": [
    {
     "data": {
      "text/plain": [
       "DateIndex(['2023.01.31', '2023.02.28', '2023.03.31'])"
      ]
     },
     "execution_count": 25,
     "metadata": {},
     "output_type": "execute_result"
    }
   ],
   "source": [
    "idx = Index([D(2023, 1, 31), D(2023, 2, 28), D(2023, 3, 31)])\n",
    "idx"
   ]
  },
  {
   "cell_type": "code",
   "execution_count": 26,
   "id": "06e53f59",
   "metadata": {},
   "outputs": [
    {
     "data": {
      "text/plain": [
       "datetime.date(2023, 1, 31)"
      ]
     },
     "execution_count": 26,
     "metadata": {},
     "output_type": "execute_result"
    }
   ],
   "source": [
    "idx[0]"
   ]
  },
  {
   "cell_type": "code",
   "execution_count": 27,
   "id": "8c8c5aaa",
   "metadata": {},
   "outputs": [
    {
     "data": {
      "text/plain": [
       "datetime.date(2023, 3, 31)"
      ]
     },
     "execution_count": 27,
     "metadata": {},
     "output_type": "execute_result"
    }
   ],
   "source": [
    "idx[-1]"
   ]
  },
  {
   "cell_type": "code",
   "execution_count": null,
   "id": "ab48fdb7",
   "metadata": {},
   "outputs": [],
   "source": []
  },
  {
   "cell_type": "code",
   "execution_count": 28,
   "id": "480b067e",
   "metadata": {},
   "outputs": [
    {
     "data": {
      "text/plain": [
       "DateIndex(['2023.01.10', '2023.02.10', '2023.03.10'])"
      ]
     },
     "execution_count": 28,
     "metadata": {},
     "output_type": "execute_result"
    }
   ],
   "source": [
    "idx = Index([D(2023, 1, 10), D(2023, 2, 10), D(2023, 3, 10)])\n",
    "idx"
   ]
  },
  {
   "cell_type": "code",
   "execution_count": null,
   "id": "78bda319",
   "metadata": {},
   "outputs": [],
   "source": []
  },
  {
   "cell_type": "markdown",
   "id": "5c827c1c",
   "metadata": {},
   "source": [
    "### 4) 실제 모델 상 설정 예"
   ]
  },
  {
   "cell_type": "code",
   "execution_count": 29,
   "id": "e41687cf",
   "metadata": {},
   "outputs": [],
   "source": [
    "idx = Index('2023.01', 30)                # 총 사업기간\n",
    "idx.mtrt = 26 #maturity                   # 대출 만기\n",
    "idx.loan = Index('2023.03', idx.mtrt + 1) # 대출 기간\n",
    "idx.cstrn = Index('2023.04', 24)          # 공사기간"
   ]
  },
  {
   "cell_type": "code",
   "execution_count": 30,
   "id": "72857a92",
   "metadata": {},
   "outputs": [
    {
     "data": {
      "text/plain": [
       "DateIndex(['2023.01.31', '2023.02.28', '2023.03.31', '2023.04.30', '2023.05.31', '2023.06.30', '2023.07.31', '2023.08.31', '2023.09.30', '2023.10.31', '2023.11.30', '2023.12.31', '2024.01.31', '2024.02.29', '2024.03.31', '2024.04.30', '2024.05.31', '2024.06.30', '2024.07.31', '2024.08.31', '2024.09.30', '2024.10.31', '2024.11.30', '2024.12.31', '2025.01.31', '2025.02.28', '2025.03.31', '2025.04.30', '2025.05.31', '2025.06.30'])"
      ]
     },
     "execution_count": 30,
     "metadata": {},
     "output_type": "execute_result"
    }
   ],
   "source": [
    "idx"
   ]
  },
  {
   "cell_type": "code",
   "execution_count": 31,
   "id": "7a9d4cf4",
   "metadata": {},
   "outputs": [
    {
     "data": {
      "text/plain": [
       "DateIndex(['2023.03.31', '2023.04.30', '2023.05.31', '2023.06.30', '2023.07.31', '2023.08.31', '2023.09.30', '2023.10.31', '2023.11.30', '2023.12.31', '2024.01.31', '2024.02.29', '2024.03.31', '2024.04.30', '2024.05.31', '2024.06.30', '2024.07.31', '2024.08.31', '2024.09.30', '2024.10.31', '2024.11.30', '2024.12.31', '2025.01.31', '2025.02.28', '2025.03.31', '2025.04.30', '2025.05.31'])"
      ]
     },
     "execution_count": 31,
     "metadata": {},
     "output_type": "execute_result"
    }
   ],
   "source": [
    "idx.loan"
   ]
  },
  {
   "cell_type": "code",
   "execution_count": 32,
   "id": "c7d71529",
   "metadata": {},
   "outputs": [
    {
     "data": {
      "text/plain": [
       "DateIndex(['2023.04.30', '2023.05.31', '2023.06.30', '2023.07.31', '2023.08.31', '2023.09.30', '2023.10.31', '2023.11.30', '2023.12.31', '2024.01.31', '2024.02.29', '2024.03.31', '2024.04.30', '2024.05.31', '2024.06.30', '2024.07.31', '2024.08.31', '2024.09.30', '2024.10.31', '2024.11.30', '2024.12.31', '2025.01.31', '2025.02.28', '2025.03.31'])"
      ]
     },
     "execution_count": 32,
     "metadata": {},
     "output_type": "execute_result"
    }
   ],
   "source": [
    "idx.cstrn"
   ]
  },
  {
   "cell_type": "code",
   "execution_count": null,
   "id": "1b9744a0",
   "metadata": {},
   "outputs": [],
   "source": []
  },
  {
   "cell_type": "markdown",
   "id": "42d8233b",
   "metadata": {},
   "source": [
    "## 2. Account 모듈"
   ]
  },
  {
   "cell_type": "markdown",
   "id": "cb7b22d3",
   "metadata": {},
   "source": [
    "### 1) 간략 사용 예"
   ]
  },
  {
   "cell_type": "code",
   "execution_count": 33,
   "id": "45a18489",
   "metadata": {},
   "outputs": [
    {
     "data": {
      "text/plain": [
       "Account(main, len 30)"
      ]
     },
     "execution_count": 33,
     "metadata": {},
     "output_type": "execute_result"
    }
   ],
   "source": [
    "공사비 = Account(idx)\n",
    "공사비"
   ]
  },
  {
   "cell_type": "code",
   "execution_count": 34,
   "id": "c737ca33",
   "metadata": {
    "scrolled": true
   },
   "outputs": [
    {
     "data": {
      "text/html": [
       "<div>\n",
       "<style scoped>\n",
       "    .dataframe tbody tr th:only-of-type {\n",
       "        vertical-align: middle;\n",
       "    }\n",
       "\n",
       "    .dataframe tbody tr th {\n",
       "        vertical-align: top;\n",
       "    }\n",
       "\n",
       "    .dataframe thead th {\n",
       "        text-align: right;\n",
       "    }\n",
       "</style>\n",
       "<table border=\"1\" class=\"dataframe\">\n",
       "  <thead>\n",
       "    <tr style=\"text-align: right;\">\n",
       "      <th></th>\n",
       "      <th>bal_strt</th>\n",
       "      <th>amt_in</th>\n",
       "      <th>amt_out</th>\n",
       "      <th>bal_end</th>\n",
       "    </tr>\n",
       "  </thead>\n",
       "  <tbody>\n",
       "    <tr>\n",
       "      <th>2023-01-31</th>\n",
       "      <td>0.0</td>\n",
       "      <td>0.0</td>\n",
       "      <td>0.0</td>\n",
       "      <td>0.0</td>\n",
       "    </tr>\n",
       "    <tr>\n",
       "      <th>2023-02-28</th>\n",
       "      <td>0.0</td>\n",
       "      <td>0.0</td>\n",
       "      <td>0.0</td>\n",
       "      <td>0.0</td>\n",
       "    </tr>\n",
       "    <tr>\n",
       "      <th>2023-03-31</th>\n",
       "      <td>0.0</td>\n",
       "      <td>0.0</td>\n",
       "      <td>0.0</td>\n",
       "      <td>0.0</td>\n",
       "    </tr>\n",
       "    <tr>\n",
       "      <th>2023-04-30</th>\n",
       "      <td>0.0</td>\n",
       "      <td>0.0</td>\n",
       "      <td>0.0</td>\n",
       "      <td>0.0</td>\n",
       "    </tr>\n",
       "    <tr>\n",
       "      <th>2023-05-31</th>\n",
       "      <td>0.0</td>\n",
       "      <td>0.0</td>\n",
       "      <td>0.0</td>\n",
       "      <td>0.0</td>\n",
       "    </tr>\n",
       "    <tr>\n",
       "      <th>2023-06-30</th>\n",
       "      <td>0.0</td>\n",
       "      <td>0.0</td>\n",
       "      <td>0.0</td>\n",
       "      <td>0.0</td>\n",
       "    </tr>\n",
       "    <tr>\n",
       "      <th>2023-07-31</th>\n",
       "      <td>0.0</td>\n",
       "      <td>0.0</td>\n",
       "      <td>0.0</td>\n",
       "      <td>0.0</td>\n",
       "    </tr>\n",
       "    <tr>\n",
       "      <th>2023-08-31</th>\n",
       "      <td>0.0</td>\n",
       "      <td>0.0</td>\n",
       "      <td>0.0</td>\n",
       "      <td>0.0</td>\n",
       "    </tr>\n",
       "    <tr>\n",
       "      <th>2023-09-30</th>\n",
       "      <td>0.0</td>\n",
       "      <td>0.0</td>\n",
       "      <td>0.0</td>\n",
       "      <td>0.0</td>\n",
       "    </tr>\n",
       "    <tr>\n",
       "      <th>2023-10-31</th>\n",
       "      <td>0.0</td>\n",
       "      <td>0.0</td>\n",
       "      <td>0.0</td>\n",
       "      <td>0.0</td>\n",
       "    </tr>\n",
       "    <tr>\n",
       "      <th>2023-11-30</th>\n",
       "      <td>0.0</td>\n",
       "      <td>0.0</td>\n",
       "      <td>0.0</td>\n",
       "      <td>0.0</td>\n",
       "    </tr>\n",
       "    <tr>\n",
       "      <th>2023-12-31</th>\n",
       "      <td>0.0</td>\n",
       "      <td>0.0</td>\n",
       "      <td>0.0</td>\n",
       "      <td>0.0</td>\n",
       "    </tr>\n",
       "    <tr>\n",
       "      <th>2024-01-31</th>\n",
       "      <td>0.0</td>\n",
       "      <td>0.0</td>\n",
       "      <td>0.0</td>\n",
       "      <td>0.0</td>\n",
       "    </tr>\n",
       "    <tr>\n",
       "      <th>2024-02-29</th>\n",
       "      <td>0.0</td>\n",
       "      <td>0.0</td>\n",
       "      <td>0.0</td>\n",
       "      <td>0.0</td>\n",
       "    </tr>\n",
       "    <tr>\n",
       "      <th>2024-03-31</th>\n",
       "      <td>0.0</td>\n",
       "      <td>0.0</td>\n",
       "      <td>0.0</td>\n",
       "      <td>0.0</td>\n",
       "    </tr>\n",
       "    <tr>\n",
       "      <th>2024-04-30</th>\n",
       "      <td>0.0</td>\n",
       "      <td>0.0</td>\n",
       "      <td>0.0</td>\n",
       "      <td>0.0</td>\n",
       "    </tr>\n",
       "    <tr>\n",
       "      <th>2024-05-31</th>\n",
       "      <td>0.0</td>\n",
       "      <td>0.0</td>\n",
       "      <td>0.0</td>\n",
       "      <td>0.0</td>\n",
       "    </tr>\n",
       "    <tr>\n",
       "      <th>2024-06-30</th>\n",
       "      <td>0.0</td>\n",
       "      <td>0.0</td>\n",
       "      <td>0.0</td>\n",
       "      <td>0.0</td>\n",
       "    </tr>\n",
       "    <tr>\n",
       "      <th>2024-07-31</th>\n",
       "      <td>0.0</td>\n",
       "      <td>0.0</td>\n",
       "      <td>0.0</td>\n",
       "      <td>0.0</td>\n",
       "    </tr>\n",
       "    <tr>\n",
       "      <th>2024-08-31</th>\n",
       "      <td>0.0</td>\n",
       "      <td>0.0</td>\n",
       "      <td>0.0</td>\n",
       "      <td>0.0</td>\n",
       "    </tr>\n",
       "    <tr>\n",
       "      <th>2024-09-30</th>\n",
       "      <td>0.0</td>\n",
       "      <td>0.0</td>\n",
       "      <td>0.0</td>\n",
       "      <td>0.0</td>\n",
       "    </tr>\n",
       "    <tr>\n",
       "      <th>2024-10-31</th>\n",
       "      <td>0.0</td>\n",
       "      <td>0.0</td>\n",
       "      <td>0.0</td>\n",
       "      <td>0.0</td>\n",
       "    </tr>\n",
       "    <tr>\n",
       "      <th>2024-11-30</th>\n",
       "      <td>0.0</td>\n",
       "      <td>0.0</td>\n",
       "      <td>0.0</td>\n",
       "      <td>0.0</td>\n",
       "    </tr>\n",
       "    <tr>\n",
       "      <th>2024-12-31</th>\n",
       "      <td>0.0</td>\n",
       "      <td>0.0</td>\n",
       "      <td>0.0</td>\n",
       "      <td>0.0</td>\n",
       "    </tr>\n",
       "    <tr>\n",
       "      <th>2025-01-31</th>\n",
       "      <td>0.0</td>\n",
       "      <td>0.0</td>\n",
       "      <td>0.0</td>\n",
       "      <td>0.0</td>\n",
       "    </tr>\n",
       "    <tr>\n",
       "      <th>2025-02-28</th>\n",
       "      <td>0.0</td>\n",
       "      <td>0.0</td>\n",
       "      <td>0.0</td>\n",
       "      <td>0.0</td>\n",
       "    </tr>\n",
       "    <tr>\n",
       "      <th>2025-03-31</th>\n",
       "      <td>0.0</td>\n",
       "      <td>0.0</td>\n",
       "      <td>0.0</td>\n",
       "      <td>0.0</td>\n",
       "    </tr>\n",
       "    <tr>\n",
       "      <th>2025-04-30</th>\n",
       "      <td>0.0</td>\n",
       "      <td>0.0</td>\n",
       "      <td>0.0</td>\n",
       "      <td>0.0</td>\n",
       "    </tr>\n",
       "    <tr>\n",
       "      <th>2025-05-31</th>\n",
       "      <td>0.0</td>\n",
       "      <td>0.0</td>\n",
       "      <td>0.0</td>\n",
       "      <td>0.0</td>\n",
       "    </tr>\n",
       "    <tr>\n",
       "      <th>2025-06-30</th>\n",
       "      <td>0.0</td>\n",
       "      <td>0.0</td>\n",
       "      <td>0.0</td>\n",
       "      <td>0.0</td>\n",
       "    </tr>\n",
       "  </tbody>\n",
       "</table>\n",
       "</div>"
      ],
      "text/plain": [
       "            bal_strt  amt_in  amt_out  bal_end\n",
       "2023-01-31       0.0     0.0      0.0      0.0\n",
       "2023-02-28       0.0     0.0      0.0      0.0\n",
       "2023-03-31       0.0     0.0      0.0      0.0\n",
       "2023-04-30       0.0     0.0      0.0      0.0\n",
       "2023-05-31       0.0     0.0      0.0      0.0\n",
       "2023-06-30       0.0     0.0      0.0      0.0\n",
       "2023-07-31       0.0     0.0      0.0      0.0\n",
       "2023-08-31       0.0     0.0      0.0      0.0\n",
       "2023-09-30       0.0     0.0      0.0      0.0\n",
       "2023-10-31       0.0     0.0      0.0      0.0\n",
       "2023-11-30       0.0     0.0      0.0      0.0\n",
       "2023-12-31       0.0     0.0      0.0      0.0\n",
       "2024-01-31       0.0     0.0      0.0      0.0\n",
       "2024-02-29       0.0     0.0      0.0      0.0\n",
       "2024-03-31       0.0     0.0      0.0      0.0\n",
       "2024-04-30       0.0     0.0      0.0      0.0\n",
       "2024-05-31       0.0     0.0      0.0      0.0\n",
       "2024-06-30       0.0     0.0      0.0      0.0\n",
       "2024-07-31       0.0     0.0      0.0      0.0\n",
       "2024-08-31       0.0     0.0      0.0      0.0\n",
       "2024-09-30       0.0     0.0      0.0      0.0\n",
       "2024-10-31       0.0     0.0      0.0      0.0\n",
       "2024-11-30       0.0     0.0      0.0      0.0\n",
       "2024-12-31       0.0     0.0      0.0      0.0\n",
       "2025-01-31       0.0     0.0      0.0      0.0\n",
       "2025-02-28       0.0     0.0      0.0      0.0\n",
       "2025-03-31       0.0     0.0      0.0      0.0\n",
       "2025-04-30       0.0     0.0      0.0      0.0\n",
       "2025-05-31       0.0     0.0      0.0      0.0\n",
       "2025-06-30       0.0     0.0      0.0      0.0"
      ]
     },
     "execution_count": 34,
     "metadata": {},
     "output_type": "execute_result"
    }
   ],
   "source": [
    "공사비.df"
   ]
  },
  {
   "cell_type": "code",
   "execution_count": null,
   "id": "5cf754ba",
   "metadata": {},
   "outputs": [],
   "source": []
  },
  {
   "cell_type": "code",
   "execution_count": 35,
   "id": "75196923",
   "metadata": {},
   "outputs": [],
   "source": [
    "공사비.총공사비 = 30_000"
   ]
  },
  {
   "cell_type": "code",
   "execution_count": 36,
   "id": "0aa3232f",
   "metadata": {},
   "outputs": [
    {
     "data": {
      "text/plain": [
       "24"
      ]
     },
     "execution_count": 36,
     "metadata": {},
     "output_type": "execute_result"
    }
   ],
   "source": [
    "공사비.공사기간 = len(idx.cstrn)\n",
    "공사비.공사기간"
   ]
  },
  {
   "cell_type": "code",
   "execution_count": 37,
   "id": "7ec98ba0",
   "metadata": {},
   "outputs": [
    {
     "data": {
      "text/plain": [
       "1250.0"
      ]
     },
     "execution_count": 37,
     "metadata": {},
     "output_type": "execute_result"
    }
   ],
   "source": [
    "공사비.월별공사비 = 공사비.총공사비 / 공사비.공사기간\n",
    "공사비.월별공사비"
   ]
  },
  {
   "cell_type": "code",
   "execution_count": 38,
   "id": "b6708e91",
   "metadata": {
    "scrolled": true
   },
   "outputs": [
    {
     "data": {
      "text/plain": [
       "[1250.0,\n",
       " 1250.0,\n",
       " 1250.0,\n",
       " 1250.0,\n",
       " 1250.0,\n",
       " 1250.0,\n",
       " 1250.0,\n",
       " 1250.0,\n",
       " 1250.0,\n",
       " 1250.0,\n",
       " 1250.0,\n",
       " 1250.0,\n",
       " 1250.0,\n",
       " 1250.0,\n",
       " 1250.0,\n",
       " 1250.0,\n",
       " 1250.0,\n",
       " 1250.0,\n",
       " 1250.0,\n",
       " 1250.0,\n",
       " 1250.0,\n",
       " 1250.0,\n",
       " 1250.0,\n",
       " 1250.0]"
      ]
     },
     "execution_count": 38,
     "metadata": {},
     "output_type": "execute_result"
    }
   ],
   "source": [
    "공사비리스트 = [공사비.월별공사비] * 공사비.공사기간\n",
    "공사비리스트"
   ]
  },
  {
   "cell_type": "code",
   "execution_count": 39,
   "id": "d8f6239c",
   "metadata": {},
   "outputs": [],
   "source": [
    "공사비.addamt(idx.cstrn, 공사비리스트)"
   ]
  },
  {
   "cell_type": "code",
   "execution_count": 40,
   "id": "b5bdc5a9",
   "metadata": {
    "scrolled": true
   },
   "outputs": [
    {
     "data": {
      "text/html": [
       "<div>\n",
       "<style scoped>\n",
       "    .dataframe tbody tr th:only-of-type {\n",
       "        vertical-align: middle;\n",
       "    }\n",
       "\n",
       "    .dataframe tbody tr th {\n",
       "        vertical-align: top;\n",
       "    }\n",
       "\n",
       "    .dataframe thead th {\n",
       "        text-align: right;\n",
       "    }\n",
       "</style>\n",
       "<table border=\"1\" class=\"dataframe\">\n",
       "  <thead>\n",
       "    <tr style=\"text-align: right;\">\n",
       "      <th></th>\n",
       "      <th>bal_strt</th>\n",
       "      <th>amt_in</th>\n",
       "      <th>amt_out</th>\n",
       "      <th>bal_end</th>\n",
       "    </tr>\n",
       "  </thead>\n",
       "  <tbody>\n",
       "    <tr>\n",
       "      <th>2023-01-31</th>\n",
       "      <td>0.0</td>\n",
       "      <td>0.0</td>\n",
       "      <td>0.0</td>\n",
       "      <td>0.0</td>\n",
       "    </tr>\n",
       "    <tr>\n",
       "      <th>2023-02-28</th>\n",
       "      <td>0.0</td>\n",
       "      <td>0.0</td>\n",
       "      <td>0.0</td>\n",
       "      <td>0.0</td>\n",
       "    </tr>\n",
       "    <tr>\n",
       "      <th>2023-03-31</th>\n",
       "      <td>0.0</td>\n",
       "      <td>0.0</td>\n",
       "      <td>0.0</td>\n",
       "      <td>0.0</td>\n",
       "    </tr>\n",
       "    <tr>\n",
       "      <th>2023-04-30</th>\n",
       "      <td>0.0</td>\n",
       "      <td>1250.0</td>\n",
       "      <td>0.0</td>\n",
       "      <td>1250.0</td>\n",
       "    </tr>\n",
       "    <tr>\n",
       "      <th>2023-05-31</th>\n",
       "      <td>1250.0</td>\n",
       "      <td>1250.0</td>\n",
       "      <td>0.0</td>\n",
       "      <td>2500.0</td>\n",
       "    </tr>\n",
       "    <tr>\n",
       "      <th>2023-06-30</th>\n",
       "      <td>2500.0</td>\n",
       "      <td>1250.0</td>\n",
       "      <td>0.0</td>\n",
       "      <td>3750.0</td>\n",
       "    </tr>\n",
       "    <tr>\n",
       "      <th>2023-07-31</th>\n",
       "      <td>3750.0</td>\n",
       "      <td>1250.0</td>\n",
       "      <td>0.0</td>\n",
       "      <td>5000.0</td>\n",
       "    </tr>\n",
       "    <tr>\n",
       "      <th>2023-08-31</th>\n",
       "      <td>5000.0</td>\n",
       "      <td>1250.0</td>\n",
       "      <td>0.0</td>\n",
       "      <td>6250.0</td>\n",
       "    </tr>\n",
       "    <tr>\n",
       "      <th>2023-09-30</th>\n",
       "      <td>6250.0</td>\n",
       "      <td>1250.0</td>\n",
       "      <td>0.0</td>\n",
       "      <td>7500.0</td>\n",
       "    </tr>\n",
       "    <tr>\n",
       "      <th>2023-10-31</th>\n",
       "      <td>7500.0</td>\n",
       "      <td>1250.0</td>\n",
       "      <td>0.0</td>\n",
       "      <td>8750.0</td>\n",
       "    </tr>\n",
       "    <tr>\n",
       "      <th>2023-11-30</th>\n",
       "      <td>8750.0</td>\n",
       "      <td>1250.0</td>\n",
       "      <td>0.0</td>\n",
       "      <td>10000.0</td>\n",
       "    </tr>\n",
       "    <tr>\n",
       "      <th>2023-12-31</th>\n",
       "      <td>10000.0</td>\n",
       "      <td>1250.0</td>\n",
       "      <td>0.0</td>\n",
       "      <td>11250.0</td>\n",
       "    </tr>\n",
       "    <tr>\n",
       "      <th>2024-01-31</th>\n",
       "      <td>11250.0</td>\n",
       "      <td>1250.0</td>\n",
       "      <td>0.0</td>\n",
       "      <td>12500.0</td>\n",
       "    </tr>\n",
       "    <tr>\n",
       "      <th>2024-02-29</th>\n",
       "      <td>12500.0</td>\n",
       "      <td>1250.0</td>\n",
       "      <td>0.0</td>\n",
       "      <td>13750.0</td>\n",
       "    </tr>\n",
       "    <tr>\n",
       "      <th>2024-03-31</th>\n",
       "      <td>13750.0</td>\n",
       "      <td>1250.0</td>\n",
       "      <td>0.0</td>\n",
       "      <td>15000.0</td>\n",
       "    </tr>\n",
       "    <tr>\n",
       "      <th>2024-04-30</th>\n",
       "      <td>15000.0</td>\n",
       "      <td>1250.0</td>\n",
       "      <td>0.0</td>\n",
       "      <td>16250.0</td>\n",
       "    </tr>\n",
       "    <tr>\n",
       "      <th>2024-05-31</th>\n",
       "      <td>16250.0</td>\n",
       "      <td>1250.0</td>\n",
       "      <td>0.0</td>\n",
       "      <td>17500.0</td>\n",
       "    </tr>\n",
       "    <tr>\n",
       "      <th>2024-06-30</th>\n",
       "      <td>17500.0</td>\n",
       "      <td>1250.0</td>\n",
       "      <td>0.0</td>\n",
       "      <td>18750.0</td>\n",
       "    </tr>\n",
       "    <tr>\n",
       "      <th>2024-07-31</th>\n",
       "      <td>18750.0</td>\n",
       "      <td>1250.0</td>\n",
       "      <td>0.0</td>\n",
       "      <td>20000.0</td>\n",
       "    </tr>\n",
       "    <tr>\n",
       "      <th>2024-08-31</th>\n",
       "      <td>20000.0</td>\n",
       "      <td>1250.0</td>\n",
       "      <td>0.0</td>\n",
       "      <td>21250.0</td>\n",
       "    </tr>\n",
       "    <tr>\n",
       "      <th>2024-09-30</th>\n",
       "      <td>21250.0</td>\n",
       "      <td>1250.0</td>\n",
       "      <td>0.0</td>\n",
       "      <td>22500.0</td>\n",
       "    </tr>\n",
       "    <tr>\n",
       "      <th>2024-10-31</th>\n",
       "      <td>22500.0</td>\n",
       "      <td>1250.0</td>\n",
       "      <td>0.0</td>\n",
       "      <td>23750.0</td>\n",
       "    </tr>\n",
       "    <tr>\n",
       "      <th>2024-11-30</th>\n",
       "      <td>23750.0</td>\n",
       "      <td>1250.0</td>\n",
       "      <td>0.0</td>\n",
       "      <td>25000.0</td>\n",
       "    </tr>\n",
       "    <tr>\n",
       "      <th>2024-12-31</th>\n",
       "      <td>25000.0</td>\n",
       "      <td>1250.0</td>\n",
       "      <td>0.0</td>\n",
       "      <td>26250.0</td>\n",
       "    </tr>\n",
       "    <tr>\n",
       "      <th>2025-01-31</th>\n",
       "      <td>26250.0</td>\n",
       "      <td>1250.0</td>\n",
       "      <td>0.0</td>\n",
       "      <td>27500.0</td>\n",
       "    </tr>\n",
       "    <tr>\n",
       "      <th>2025-02-28</th>\n",
       "      <td>27500.0</td>\n",
       "      <td>1250.0</td>\n",
       "      <td>0.0</td>\n",
       "      <td>28750.0</td>\n",
       "    </tr>\n",
       "    <tr>\n",
       "      <th>2025-03-31</th>\n",
       "      <td>28750.0</td>\n",
       "      <td>1250.0</td>\n",
       "      <td>0.0</td>\n",
       "      <td>30000.0</td>\n",
       "    </tr>\n",
       "    <tr>\n",
       "      <th>2025-04-30</th>\n",
       "      <td>30000.0</td>\n",
       "      <td>0.0</td>\n",
       "      <td>0.0</td>\n",
       "      <td>30000.0</td>\n",
       "    </tr>\n",
       "    <tr>\n",
       "      <th>2025-05-31</th>\n",
       "      <td>30000.0</td>\n",
       "      <td>0.0</td>\n",
       "      <td>0.0</td>\n",
       "      <td>30000.0</td>\n",
       "    </tr>\n",
       "    <tr>\n",
       "      <th>2025-06-30</th>\n",
       "      <td>30000.0</td>\n",
       "      <td>0.0</td>\n",
       "      <td>0.0</td>\n",
       "      <td>30000.0</td>\n",
       "    </tr>\n",
       "  </tbody>\n",
       "</table>\n",
       "</div>"
      ],
      "text/plain": [
       "            bal_strt  amt_in  amt_out  bal_end\n",
       "2023-01-31       0.0     0.0      0.0      0.0\n",
       "2023-02-28       0.0     0.0      0.0      0.0\n",
       "2023-03-31       0.0     0.0      0.0      0.0\n",
       "2023-04-30       0.0  1250.0      0.0   1250.0\n",
       "2023-05-31    1250.0  1250.0      0.0   2500.0\n",
       "2023-06-30    2500.0  1250.0      0.0   3750.0\n",
       "2023-07-31    3750.0  1250.0      0.0   5000.0\n",
       "2023-08-31    5000.0  1250.0      0.0   6250.0\n",
       "2023-09-30    6250.0  1250.0      0.0   7500.0\n",
       "2023-10-31    7500.0  1250.0      0.0   8750.0\n",
       "2023-11-30    8750.0  1250.0      0.0  10000.0\n",
       "2023-12-31   10000.0  1250.0      0.0  11250.0\n",
       "2024-01-31   11250.0  1250.0      0.0  12500.0\n",
       "2024-02-29   12500.0  1250.0      0.0  13750.0\n",
       "2024-03-31   13750.0  1250.0      0.0  15000.0\n",
       "2024-04-30   15000.0  1250.0      0.0  16250.0\n",
       "2024-05-31   16250.0  1250.0      0.0  17500.0\n",
       "2024-06-30   17500.0  1250.0      0.0  18750.0\n",
       "2024-07-31   18750.0  1250.0      0.0  20000.0\n",
       "2024-08-31   20000.0  1250.0      0.0  21250.0\n",
       "2024-09-30   21250.0  1250.0      0.0  22500.0\n",
       "2024-10-31   22500.0  1250.0      0.0  23750.0\n",
       "2024-11-30   23750.0  1250.0      0.0  25000.0\n",
       "2024-12-31   25000.0  1250.0      0.0  26250.0\n",
       "2025-01-31   26250.0  1250.0      0.0  27500.0\n",
       "2025-02-28   27500.0  1250.0      0.0  28750.0\n",
       "2025-03-31   28750.0  1250.0      0.0  30000.0\n",
       "2025-04-30   30000.0     0.0      0.0  30000.0\n",
       "2025-05-31   30000.0     0.0      0.0  30000.0\n",
       "2025-06-30   30000.0     0.0      0.0  30000.0"
      ]
     },
     "execution_count": 40,
     "metadata": {},
     "output_type": "execute_result"
    }
   ],
   "source": [
    "공사비.df"
   ]
  },
  {
   "cell_type": "code",
   "execution_count": null,
   "id": "0fb0f62f",
   "metadata": {},
   "outputs": [],
   "source": []
  },
  {
   "cell_type": "markdown",
   "id": "99c6e1d2",
   "metadata": {},
   "source": [
    "### 2) 실제 모델 상 사용 예"
   ]
  },
  {
   "cell_type": "code",
   "execution_count": 41,
   "id": "7e13d206",
   "metadata": {},
   "outputs": [],
   "source": [
    "공사비 = Account(idx)\n",
    "with 공사비 as c:\n",
    "    c.amt = 30_000 #총공사비\n",
    "    c.prd = len(idx.cstrn) #공사기간\n",
    "    c.amtunt = c.amt / c.prd #월별 공사비\n",
    "    c.untlst = [c.amtunt] * c.prd #월별 공사비의 리스트\n",
    "    c.addamt(idx.cstrn, c.untlst) #cstrn index에 공사비 리스트를 매칭시켜 입력"
   ]
  },
  {
   "cell_type": "code",
   "execution_count": 42,
   "id": "cd6fbc0c",
   "metadata": {
    "scrolled": true
   },
   "outputs": [
    {
     "data": {
      "text/html": [
       "<div>\n",
       "<style scoped>\n",
       "    .dataframe tbody tr th:only-of-type {\n",
       "        vertical-align: middle;\n",
       "    }\n",
       "\n",
       "    .dataframe tbody tr th {\n",
       "        vertical-align: top;\n",
       "    }\n",
       "\n",
       "    .dataframe thead th {\n",
       "        text-align: right;\n",
       "    }\n",
       "</style>\n",
       "<table border=\"1\" class=\"dataframe\">\n",
       "  <thead>\n",
       "    <tr style=\"text-align: right;\">\n",
       "      <th></th>\n",
       "      <th>bal_strt</th>\n",
       "      <th>amt_in</th>\n",
       "      <th>amt_out</th>\n",
       "      <th>bal_end</th>\n",
       "    </tr>\n",
       "  </thead>\n",
       "  <tbody>\n",
       "    <tr>\n",
       "      <th>2023-01-31</th>\n",
       "      <td>0.0</td>\n",
       "      <td>0.0</td>\n",
       "      <td>0.0</td>\n",
       "      <td>0.0</td>\n",
       "    </tr>\n",
       "    <tr>\n",
       "      <th>2023-02-28</th>\n",
       "      <td>0.0</td>\n",
       "      <td>0.0</td>\n",
       "      <td>0.0</td>\n",
       "      <td>0.0</td>\n",
       "    </tr>\n",
       "    <tr>\n",
       "      <th>2023-03-31</th>\n",
       "      <td>0.0</td>\n",
       "      <td>0.0</td>\n",
       "      <td>0.0</td>\n",
       "      <td>0.0</td>\n",
       "    </tr>\n",
       "    <tr>\n",
       "      <th>2023-04-30</th>\n",
       "      <td>0.0</td>\n",
       "      <td>1250.0</td>\n",
       "      <td>0.0</td>\n",
       "      <td>1250.0</td>\n",
       "    </tr>\n",
       "    <tr>\n",
       "      <th>2023-05-31</th>\n",
       "      <td>1250.0</td>\n",
       "      <td>1250.0</td>\n",
       "      <td>0.0</td>\n",
       "      <td>2500.0</td>\n",
       "    </tr>\n",
       "    <tr>\n",
       "      <th>2023-06-30</th>\n",
       "      <td>2500.0</td>\n",
       "      <td>1250.0</td>\n",
       "      <td>0.0</td>\n",
       "      <td>3750.0</td>\n",
       "    </tr>\n",
       "    <tr>\n",
       "      <th>2023-07-31</th>\n",
       "      <td>3750.0</td>\n",
       "      <td>1250.0</td>\n",
       "      <td>0.0</td>\n",
       "      <td>5000.0</td>\n",
       "    </tr>\n",
       "    <tr>\n",
       "      <th>2023-08-31</th>\n",
       "      <td>5000.0</td>\n",
       "      <td>1250.0</td>\n",
       "      <td>0.0</td>\n",
       "      <td>6250.0</td>\n",
       "    </tr>\n",
       "    <tr>\n",
       "      <th>2023-09-30</th>\n",
       "      <td>6250.0</td>\n",
       "      <td>1250.0</td>\n",
       "      <td>0.0</td>\n",
       "      <td>7500.0</td>\n",
       "    </tr>\n",
       "    <tr>\n",
       "      <th>2023-10-31</th>\n",
       "      <td>7500.0</td>\n",
       "      <td>1250.0</td>\n",
       "      <td>0.0</td>\n",
       "      <td>8750.0</td>\n",
       "    </tr>\n",
       "    <tr>\n",
       "      <th>2023-11-30</th>\n",
       "      <td>8750.0</td>\n",
       "      <td>1250.0</td>\n",
       "      <td>0.0</td>\n",
       "      <td>10000.0</td>\n",
       "    </tr>\n",
       "    <tr>\n",
       "      <th>2023-12-31</th>\n",
       "      <td>10000.0</td>\n",
       "      <td>1250.0</td>\n",
       "      <td>0.0</td>\n",
       "      <td>11250.0</td>\n",
       "    </tr>\n",
       "    <tr>\n",
       "      <th>2024-01-31</th>\n",
       "      <td>11250.0</td>\n",
       "      <td>1250.0</td>\n",
       "      <td>0.0</td>\n",
       "      <td>12500.0</td>\n",
       "    </tr>\n",
       "    <tr>\n",
       "      <th>2024-02-29</th>\n",
       "      <td>12500.0</td>\n",
       "      <td>1250.0</td>\n",
       "      <td>0.0</td>\n",
       "      <td>13750.0</td>\n",
       "    </tr>\n",
       "    <tr>\n",
       "      <th>2024-03-31</th>\n",
       "      <td>13750.0</td>\n",
       "      <td>1250.0</td>\n",
       "      <td>0.0</td>\n",
       "      <td>15000.0</td>\n",
       "    </tr>\n",
       "    <tr>\n",
       "      <th>2024-04-30</th>\n",
       "      <td>15000.0</td>\n",
       "      <td>1250.0</td>\n",
       "      <td>0.0</td>\n",
       "      <td>16250.0</td>\n",
       "    </tr>\n",
       "    <tr>\n",
       "      <th>2024-05-31</th>\n",
       "      <td>16250.0</td>\n",
       "      <td>1250.0</td>\n",
       "      <td>0.0</td>\n",
       "      <td>17500.0</td>\n",
       "    </tr>\n",
       "    <tr>\n",
       "      <th>2024-06-30</th>\n",
       "      <td>17500.0</td>\n",
       "      <td>1250.0</td>\n",
       "      <td>0.0</td>\n",
       "      <td>18750.0</td>\n",
       "    </tr>\n",
       "    <tr>\n",
       "      <th>2024-07-31</th>\n",
       "      <td>18750.0</td>\n",
       "      <td>1250.0</td>\n",
       "      <td>0.0</td>\n",
       "      <td>20000.0</td>\n",
       "    </tr>\n",
       "    <tr>\n",
       "      <th>2024-08-31</th>\n",
       "      <td>20000.0</td>\n",
       "      <td>1250.0</td>\n",
       "      <td>0.0</td>\n",
       "      <td>21250.0</td>\n",
       "    </tr>\n",
       "    <tr>\n",
       "      <th>2024-09-30</th>\n",
       "      <td>21250.0</td>\n",
       "      <td>1250.0</td>\n",
       "      <td>0.0</td>\n",
       "      <td>22500.0</td>\n",
       "    </tr>\n",
       "    <tr>\n",
       "      <th>2024-10-31</th>\n",
       "      <td>22500.0</td>\n",
       "      <td>1250.0</td>\n",
       "      <td>0.0</td>\n",
       "      <td>23750.0</td>\n",
       "    </tr>\n",
       "    <tr>\n",
       "      <th>2024-11-30</th>\n",
       "      <td>23750.0</td>\n",
       "      <td>1250.0</td>\n",
       "      <td>0.0</td>\n",
       "      <td>25000.0</td>\n",
       "    </tr>\n",
       "    <tr>\n",
       "      <th>2024-12-31</th>\n",
       "      <td>25000.0</td>\n",
       "      <td>1250.0</td>\n",
       "      <td>0.0</td>\n",
       "      <td>26250.0</td>\n",
       "    </tr>\n",
       "    <tr>\n",
       "      <th>2025-01-31</th>\n",
       "      <td>26250.0</td>\n",
       "      <td>1250.0</td>\n",
       "      <td>0.0</td>\n",
       "      <td>27500.0</td>\n",
       "    </tr>\n",
       "    <tr>\n",
       "      <th>2025-02-28</th>\n",
       "      <td>27500.0</td>\n",
       "      <td>1250.0</td>\n",
       "      <td>0.0</td>\n",
       "      <td>28750.0</td>\n",
       "    </tr>\n",
       "    <tr>\n",
       "      <th>2025-03-31</th>\n",
       "      <td>28750.0</td>\n",
       "      <td>1250.0</td>\n",
       "      <td>0.0</td>\n",
       "      <td>30000.0</td>\n",
       "    </tr>\n",
       "    <tr>\n",
       "      <th>2025-04-30</th>\n",
       "      <td>30000.0</td>\n",
       "      <td>0.0</td>\n",
       "      <td>0.0</td>\n",
       "      <td>30000.0</td>\n",
       "    </tr>\n",
       "    <tr>\n",
       "      <th>2025-05-31</th>\n",
       "      <td>30000.0</td>\n",
       "      <td>0.0</td>\n",
       "      <td>0.0</td>\n",
       "      <td>30000.0</td>\n",
       "    </tr>\n",
       "    <tr>\n",
       "      <th>2025-06-30</th>\n",
       "      <td>30000.0</td>\n",
       "      <td>0.0</td>\n",
       "      <td>0.0</td>\n",
       "      <td>30000.0</td>\n",
       "    </tr>\n",
       "  </tbody>\n",
       "</table>\n",
       "</div>"
      ],
      "text/plain": [
       "            bal_strt  amt_in  amt_out  bal_end\n",
       "2023-01-31       0.0     0.0      0.0      0.0\n",
       "2023-02-28       0.0     0.0      0.0      0.0\n",
       "2023-03-31       0.0     0.0      0.0      0.0\n",
       "2023-04-30       0.0  1250.0      0.0   1250.0\n",
       "2023-05-31    1250.0  1250.0      0.0   2500.0\n",
       "2023-06-30    2500.0  1250.0      0.0   3750.0\n",
       "2023-07-31    3750.0  1250.0      0.0   5000.0\n",
       "2023-08-31    5000.0  1250.0      0.0   6250.0\n",
       "2023-09-30    6250.0  1250.0      0.0   7500.0\n",
       "2023-10-31    7500.0  1250.0      0.0   8750.0\n",
       "2023-11-30    8750.0  1250.0      0.0  10000.0\n",
       "2023-12-31   10000.0  1250.0      0.0  11250.0\n",
       "2024-01-31   11250.0  1250.0      0.0  12500.0\n",
       "2024-02-29   12500.0  1250.0      0.0  13750.0\n",
       "2024-03-31   13750.0  1250.0      0.0  15000.0\n",
       "2024-04-30   15000.0  1250.0      0.0  16250.0\n",
       "2024-05-31   16250.0  1250.0      0.0  17500.0\n",
       "2024-06-30   17500.0  1250.0      0.0  18750.0\n",
       "2024-07-31   18750.0  1250.0      0.0  20000.0\n",
       "2024-08-31   20000.0  1250.0      0.0  21250.0\n",
       "2024-09-30   21250.0  1250.0      0.0  22500.0\n",
       "2024-10-31   22500.0  1250.0      0.0  23750.0\n",
       "2024-11-30   23750.0  1250.0      0.0  25000.0\n",
       "2024-12-31   25000.0  1250.0      0.0  26250.0\n",
       "2025-01-31   26250.0  1250.0      0.0  27500.0\n",
       "2025-02-28   27500.0  1250.0      0.0  28750.0\n",
       "2025-03-31   28750.0  1250.0      0.0  30000.0\n",
       "2025-04-30   30000.0     0.0      0.0  30000.0\n",
       "2025-05-31   30000.0     0.0      0.0  30000.0\n",
       "2025-06-30   30000.0     0.0      0.0  30000.0"
      ]
     },
     "execution_count": 42,
     "metadata": {},
     "output_type": "execute_result"
    }
   ],
   "source": [
    "공사비.df"
   ]
  },
  {
   "cell_type": "code",
   "execution_count": 43,
   "id": "4f36147d",
   "metadata": {},
   "outputs": [
    {
     "name": "stdout",
     "output_type": "stream",
     "text": [
      "총공사비 :  30000\n",
      "공사기간 :  24\n",
      "월공사비 :  1250.0\n"
     ]
    }
   ],
   "source": [
    "print(\"총공사비 : \", 공사비.amt)\n",
    "print(\"공사기간 : \", 공사비.prd)\n",
    "print(\"월공사비 : \", 공사비.amtunt)"
   ]
  },
  {
   "cell_type": "code",
   "execution_count": null,
   "id": "b61d62bf",
   "metadata": {},
   "outputs": [],
   "source": []
  },
  {
   "cell_type": "markdown",
   "id": "5cbe5d5b",
   "metadata": {},
   "source": [
    "## 3. Account 모듈 개요\n",
    "* 재무모델에서 사용되는 현금흐름의 유출입을 기록 및 관리 할 목적으로 작성된 모듈\n",
    "* 생성과 동시에 \"df\"라는 이름(DataFrame)의 데이터프레임과 \"jnl\" 이름(Journal)의 데이터프레임 두개를 생성함"
   ]
  },
  {
   "cell_type": "markdown",
   "id": "0f7668b2",
   "metadata": {},
   "source": [
    "* **\"df\" :** 현금흐름의 유출입 내용을 정리하여 매기별 기초 현금과 현금의 유출입, 기말 현금을 기록함. 예상 현금흐름의 유출입도 기록할 수 있음.\n",
    "  * column의 내용 : \n",
    "    * 'scd_in'       : 계획된 현금 유입액\n",
    "    * 'scd_in_cum'   : 계획된 현금 누적유입액 \n",
    "    * 'scd_out'      : 계획된 현금 유출액\n",
    "    * 'scd_out_cum'  : 계획된 현금 유출액\n",
    "    * 'bal_strt'     : 기초 현금\n",
    "    * 'amt_in'       : 실제 현금 유입액\n",
    "    * 'amt_in_cum'   : 실제 현금 누적유입액\n",
    "    * 'amt_out'      : 실제 현금 유출액\n",
    "    * 'amt_out_cum'  : 실제 현금 누적유출액\n",
    "    * 'bal_end'      : 기말 현금\n",
    "    * 'rsdl_in_cum'  : 계획된 현금 누적유입액 - 실제 현금 누적유입액\n",
    "    * 'rsdl_out_cum' : 계획된 현금 누적유출액 - 실제 현금 누적유출액\n",
    "  * \"df\"를 통해 출력시 \"['bal_strt', 'amt_in', 'amt_out', 'bal_end']\"의 4개 컬럼만 출력함.\n",
    "  * \"dfall\"을 통해 출력시 전체 컬럼 출력"
   ]
  },
  {
   "cell_type": "markdown",
   "id": "16d02fa6",
   "metadata": {},
   "source": [
    "* **\"jnl\" :** 분개장에 기록하듯 개별 현금흐름의 유출입을 건건이 기록함.\n",
    "  * columns의 내용 :\n",
    "    * 'amt_in' : 현금 유입액\n",
    "    * 'amt_out' : 현금 유출액\n",
    "    * 'rcvfrm' : receive from, 어떠한 객체로 부터 현금이 유입되었는지\n",
    "    * 'payto' : pay to, 어떠한 객체에게 현금을 유출하였는지\n",
    "    * 'note' : 비고 사항\n",
    "  * \"jnlscd\" : 계획된 현금 유출입의 기록"
   ]
  },
  {
   "cell_type": "markdown",
   "id": "258cec31",
   "metadata": {},
   "source": [
    "* **데이터 입력 메서드**\n",
    "  * addamt(_index_, _amount_) : _index_에 맞춰서 현금(_amount_)의 유입을 기록\n",
    "  * subamt(_index_, _amount_) : _index_에 맞춰서 현금(_amount_)의 유출을 기록\n",
    "  * addscd(_index_, _amount_) : _index_에 맞춰서 현금(_amount_)의 유입 계획을 기록\n",
    "  * subscd(_index_, _amount_) : _index_에 맞춰서 현금(_amount_)의 유출 계획을 기록"
   ]
  },
  {
   "cell_type": "markdown",
   "id": "4f39d820",
   "metadata": {},
   "source": [
    "* **Account 객체 간 현금 유출입 기록**\n",
    "  * Account1.**send**(_index_, _amount_, _Account2_) : _index_ 시점에 맞춰 _Account1_ 객체에서 _Account2_ 객체로 _amount_의 현금을 이동하는 것으로 기록\n",
    "    * _Account1_ : 현금(_amount_)의 유출을 기록\n",
    "    * _Account2_ : 현금(_amount_)의 유입을 기록"
   ]
  },
  {
   "cell_type": "code",
   "execution_count": null,
   "id": "0833f23c",
   "metadata": {},
   "outputs": [],
   "source": []
  },
  {
   "cell_type": "markdown",
   "id": "be9120ae",
   "metadata": {},
   "source": [
    "## 4. Account 모듈 예시"
   ]
  },
  {
   "cell_type": "markdown",
   "id": "2ca9001f",
   "metadata": {},
   "source": [
    "### 1) 사업기간 설정"
   ]
  },
  {
   "cell_type": "code",
   "execution_count": 44,
   "id": "0fced2de",
   "metadata": {},
   "outputs": [
    {
     "data": {
      "text/plain": [
       "DateIndex(['2023.01.31', '2023.02.28', '2023.03.31', '2023.04.30', '2023.05.31', '2023.06.30'])"
      ]
     },
     "execution_count": 44,
     "metadata": {},
     "output_type": "execute_result"
    }
   ],
   "source": [
    "idx = Index('2023.01', 6)\n",
    "idx"
   ]
  },
  {
   "cell_type": "markdown",
   "id": "1a0fb174",
   "metadata": {},
   "source": [
    "### 2) 자금의 조달 설정"
   ]
  },
  {
   "cell_type": "code",
   "execution_count": 45,
   "id": "38aa568b",
   "metadata": {},
   "outputs": [],
   "source": [
    "eqt = Account(idx)\n",
    "eqt.amt = 30_000\n",
    "eqt.addamt(idx[0], eqt.amt) #최초 보유 현금 기록\n",
    "eqt.subscd(idx[1], 15_000) #첫번째 인출 계획 기록\n",
    "eqt.subscd(idx[3], 15_000) #두번째 인출 계획 기록"
   ]
  },
  {
   "cell_type": "code",
   "execution_count": 46,
   "id": "c7d45249",
   "metadata": {},
   "outputs": [
    {
     "data": {
      "text/html": [
       "<div>\n",
       "<style scoped>\n",
       "    .dataframe tbody tr th:only-of-type {\n",
       "        vertical-align: middle;\n",
       "    }\n",
       "\n",
       "    .dataframe tbody tr th {\n",
       "        vertical-align: top;\n",
       "    }\n",
       "\n",
       "    .dataframe thead th {\n",
       "        text-align: right;\n",
       "    }\n",
       "</style>\n",
       "<table border=\"1\" class=\"dataframe\">\n",
       "  <thead>\n",
       "    <tr style=\"text-align: right;\">\n",
       "      <th></th>\n",
       "      <th>bal_strt</th>\n",
       "      <th>amt_in</th>\n",
       "      <th>amt_out</th>\n",
       "      <th>bal_end</th>\n",
       "    </tr>\n",
       "  </thead>\n",
       "  <tbody>\n",
       "    <tr>\n",
       "      <th>2023-01-31</th>\n",
       "      <td>0.0</td>\n",
       "      <td>30000.0</td>\n",
       "      <td>0.0</td>\n",
       "      <td>30000.0</td>\n",
       "    </tr>\n",
       "    <tr>\n",
       "      <th>2023-02-28</th>\n",
       "      <td>30000.0</td>\n",
       "      <td>0.0</td>\n",
       "      <td>0.0</td>\n",
       "      <td>30000.0</td>\n",
       "    </tr>\n",
       "    <tr>\n",
       "      <th>2023-03-31</th>\n",
       "      <td>30000.0</td>\n",
       "      <td>0.0</td>\n",
       "      <td>0.0</td>\n",
       "      <td>30000.0</td>\n",
       "    </tr>\n",
       "    <tr>\n",
       "      <th>2023-04-30</th>\n",
       "      <td>30000.0</td>\n",
       "      <td>0.0</td>\n",
       "      <td>0.0</td>\n",
       "      <td>30000.0</td>\n",
       "    </tr>\n",
       "    <tr>\n",
       "      <th>2023-05-31</th>\n",
       "      <td>30000.0</td>\n",
       "      <td>0.0</td>\n",
       "      <td>0.0</td>\n",
       "      <td>30000.0</td>\n",
       "    </tr>\n",
       "    <tr>\n",
       "      <th>2023-06-30</th>\n",
       "      <td>30000.0</td>\n",
       "      <td>0.0</td>\n",
       "      <td>0.0</td>\n",
       "      <td>30000.0</td>\n",
       "    </tr>\n",
       "  </tbody>\n",
       "</table>\n",
       "</div>"
      ],
      "text/plain": [
       "            bal_strt   amt_in  amt_out  bal_end\n",
       "2023-01-31       0.0  30000.0      0.0  30000.0\n",
       "2023-02-28   30000.0      0.0      0.0  30000.0\n",
       "2023-03-31   30000.0      0.0      0.0  30000.0\n",
       "2023-04-30   30000.0      0.0      0.0  30000.0\n",
       "2023-05-31   30000.0      0.0      0.0  30000.0\n",
       "2023-06-30   30000.0      0.0      0.0  30000.0"
      ]
     },
     "execution_count": 46,
     "metadata": {},
     "output_type": "execute_result"
    }
   ],
   "source": [
    "eqt.df"
   ]
  },
  {
   "cell_type": "code",
   "execution_count": 47,
   "id": "f6bda619",
   "metadata": {
    "scrolled": true
   },
   "outputs": [
    {
     "data": {
      "text/html": [
       "<div>\n",
       "<style scoped>\n",
       "    .dataframe tbody tr th:only-of-type {\n",
       "        vertical-align: middle;\n",
       "    }\n",
       "\n",
       "    .dataframe tbody tr th {\n",
       "        vertical-align: top;\n",
       "    }\n",
       "\n",
       "    .dataframe thead th {\n",
       "        text-align: right;\n",
       "    }\n",
       "</style>\n",
       "<table border=\"1\" class=\"dataframe\">\n",
       "  <thead>\n",
       "    <tr style=\"text-align: right;\">\n",
       "      <th></th>\n",
       "      <th>scd_in</th>\n",
       "      <th>scd_in_cum</th>\n",
       "      <th>scd_out</th>\n",
       "      <th>scd_out_cum</th>\n",
       "      <th>bal_strt</th>\n",
       "      <th>amt_in</th>\n",
       "      <th>amt_in_cum</th>\n",
       "      <th>amt_out</th>\n",
       "      <th>amt_out_cum</th>\n",
       "      <th>bal_end</th>\n",
       "      <th>rsdl_in_cum</th>\n",
       "      <th>rsdl_out_cum</th>\n",
       "    </tr>\n",
       "  </thead>\n",
       "  <tbody>\n",
       "    <tr>\n",
       "      <th>2023-01-31</th>\n",
       "      <td>0.0</td>\n",
       "      <td>0.0</td>\n",
       "      <td>0.0</td>\n",
       "      <td>0.0</td>\n",
       "      <td>0.0</td>\n",
       "      <td>30000.0</td>\n",
       "      <td>30000.0</td>\n",
       "      <td>0.0</td>\n",
       "      <td>0.0</td>\n",
       "      <td>30000.0</td>\n",
       "      <td>-30000.0</td>\n",
       "      <td>0.0</td>\n",
       "    </tr>\n",
       "    <tr>\n",
       "      <th>2023-02-28</th>\n",
       "      <td>0.0</td>\n",
       "      <td>0.0</td>\n",
       "      <td>15000.0</td>\n",
       "      <td>15000.0</td>\n",
       "      <td>30000.0</td>\n",
       "      <td>0.0</td>\n",
       "      <td>30000.0</td>\n",
       "      <td>0.0</td>\n",
       "      <td>0.0</td>\n",
       "      <td>30000.0</td>\n",
       "      <td>-30000.0</td>\n",
       "      <td>15000.0</td>\n",
       "    </tr>\n",
       "    <tr>\n",
       "      <th>2023-03-31</th>\n",
       "      <td>0.0</td>\n",
       "      <td>0.0</td>\n",
       "      <td>0.0</td>\n",
       "      <td>15000.0</td>\n",
       "      <td>30000.0</td>\n",
       "      <td>0.0</td>\n",
       "      <td>30000.0</td>\n",
       "      <td>0.0</td>\n",
       "      <td>0.0</td>\n",
       "      <td>30000.0</td>\n",
       "      <td>-30000.0</td>\n",
       "      <td>15000.0</td>\n",
       "    </tr>\n",
       "    <tr>\n",
       "      <th>2023-04-30</th>\n",
       "      <td>0.0</td>\n",
       "      <td>0.0</td>\n",
       "      <td>15000.0</td>\n",
       "      <td>30000.0</td>\n",
       "      <td>30000.0</td>\n",
       "      <td>0.0</td>\n",
       "      <td>30000.0</td>\n",
       "      <td>0.0</td>\n",
       "      <td>0.0</td>\n",
       "      <td>30000.0</td>\n",
       "      <td>-30000.0</td>\n",
       "      <td>30000.0</td>\n",
       "    </tr>\n",
       "    <tr>\n",
       "      <th>2023-05-31</th>\n",
       "      <td>0.0</td>\n",
       "      <td>0.0</td>\n",
       "      <td>0.0</td>\n",
       "      <td>30000.0</td>\n",
       "      <td>30000.0</td>\n",
       "      <td>0.0</td>\n",
       "      <td>30000.0</td>\n",
       "      <td>0.0</td>\n",
       "      <td>0.0</td>\n",
       "      <td>30000.0</td>\n",
       "      <td>-30000.0</td>\n",
       "      <td>30000.0</td>\n",
       "    </tr>\n",
       "    <tr>\n",
       "      <th>2023-06-30</th>\n",
       "      <td>0.0</td>\n",
       "      <td>0.0</td>\n",
       "      <td>0.0</td>\n",
       "      <td>30000.0</td>\n",
       "      <td>30000.0</td>\n",
       "      <td>0.0</td>\n",
       "      <td>30000.0</td>\n",
       "      <td>0.0</td>\n",
       "      <td>0.0</td>\n",
       "      <td>30000.0</td>\n",
       "      <td>-30000.0</td>\n",
       "      <td>30000.0</td>\n",
       "    </tr>\n",
       "  </tbody>\n",
       "</table>\n",
       "</div>"
      ],
      "text/plain": [
       "            scd_in  scd_in_cum  scd_out  scd_out_cum  bal_strt   amt_in  amt_in_cum  amt_out  amt_out_cum  bal_end  rsdl_in_cum  rsdl_out_cum\n",
       "2023-01-31     0.0         0.0      0.0          0.0       0.0  30000.0     30000.0      0.0          0.0  30000.0     -30000.0           0.0\n",
       "2023-02-28     0.0         0.0  15000.0      15000.0   30000.0      0.0     30000.0      0.0          0.0  30000.0     -30000.0       15000.0\n",
       "2023-03-31     0.0         0.0      0.0      15000.0   30000.0      0.0     30000.0      0.0          0.0  30000.0     -30000.0       15000.0\n",
       "2023-04-30     0.0         0.0  15000.0      30000.0   30000.0      0.0     30000.0      0.0          0.0  30000.0     -30000.0       30000.0\n",
       "2023-05-31     0.0         0.0      0.0      30000.0   30000.0      0.0     30000.0      0.0          0.0  30000.0     -30000.0       30000.0\n",
       "2023-06-30     0.0         0.0      0.0      30000.0   30000.0      0.0     30000.0      0.0          0.0  30000.0     -30000.0       30000.0"
      ]
     },
     "execution_count": 47,
     "metadata": {},
     "output_type": "execute_result"
    }
   ],
   "source": [
    "eqt.dfall"
   ]
  },
  {
   "cell_type": "markdown",
   "id": "61be4678",
   "metadata": {},
   "source": [
    "### 3) 사업비 지출 계획 설정"
   ]
  },
  {
   "cell_type": "code",
   "execution_count": 48,
   "id": "b49c8486",
   "metadata": {},
   "outputs": [],
   "source": [
    "cst = Account(idx)\n",
    "cst.amt = 28_000 #총 사업비 금액\n",
    "cst.addscd(idx[1], 8_000)\n",
    "cst.addscd(idx[2], 7_000)\n",
    "cst.addscd(idx[3], 7_000)\n",
    "cst.addscd(idx[4], 6_000)"
   ]
  },
  {
   "cell_type": "code",
   "execution_count": 49,
   "id": "bedf69f5",
   "metadata": {},
   "outputs": [
    {
     "data": {
      "text/html": [
       "<div>\n",
       "<style scoped>\n",
       "    .dataframe tbody tr th:only-of-type {\n",
       "        vertical-align: middle;\n",
       "    }\n",
       "\n",
       "    .dataframe tbody tr th {\n",
       "        vertical-align: top;\n",
       "    }\n",
       "\n",
       "    .dataframe thead th {\n",
       "        text-align: right;\n",
       "    }\n",
       "</style>\n",
       "<table border=\"1\" class=\"dataframe\">\n",
       "  <thead>\n",
       "    <tr style=\"text-align: right;\">\n",
       "      <th></th>\n",
       "      <th>bal_strt</th>\n",
       "      <th>amt_in</th>\n",
       "      <th>amt_out</th>\n",
       "      <th>bal_end</th>\n",
       "    </tr>\n",
       "  </thead>\n",
       "  <tbody>\n",
       "    <tr>\n",
       "      <th>2023-01-31</th>\n",
       "      <td>0.0</td>\n",
       "      <td>0.0</td>\n",
       "      <td>0.0</td>\n",
       "      <td>0.0</td>\n",
       "    </tr>\n",
       "    <tr>\n",
       "      <th>2023-02-28</th>\n",
       "      <td>0.0</td>\n",
       "      <td>0.0</td>\n",
       "      <td>0.0</td>\n",
       "      <td>0.0</td>\n",
       "    </tr>\n",
       "    <tr>\n",
       "      <th>2023-03-31</th>\n",
       "      <td>0.0</td>\n",
       "      <td>0.0</td>\n",
       "      <td>0.0</td>\n",
       "      <td>0.0</td>\n",
       "    </tr>\n",
       "    <tr>\n",
       "      <th>2023-04-30</th>\n",
       "      <td>0.0</td>\n",
       "      <td>0.0</td>\n",
       "      <td>0.0</td>\n",
       "      <td>0.0</td>\n",
       "    </tr>\n",
       "    <tr>\n",
       "      <th>2023-05-31</th>\n",
       "      <td>0.0</td>\n",
       "      <td>0.0</td>\n",
       "      <td>0.0</td>\n",
       "      <td>0.0</td>\n",
       "    </tr>\n",
       "    <tr>\n",
       "      <th>2023-06-30</th>\n",
       "      <td>0.0</td>\n",
       "      <td>0.0</td>\n",
       "      <td>0.0</td>\n",
       "      <td>0.0</td>\n",
       "    </tr>\n",
       "  </tbody>\n",
       "</table>\n",
       "</div>"
      ],
      "text/plain": [
       "            bal_strt  amt_in  amt_out  bal_end\n",
       "2023-01-31       0.0     0.0      0.0      0.0\n",
       "2023-02-28       0.0     0.0      0.0      0.0\n",
       "2023-03-31       0.0     0.0      0.0      0.0\n",
       "2023-04-30       0.0     0.0      0.0      0.0\n",
       "2023-05-31       0.0     0.0      0.0      0.0\n",
       "2023-06-30       0.0     0.0      0.0      0.0"
      ]
     },
     "execution_count": 49,
     "metadata": {},
     "output_type": "execute_result"
    }
   ],
   "source": [
    "cst.df"
   ]
  },
  {
   "cell_type": "code",
   "execution_count": 50,
   "id": "bbeb9a81",
   "metadata": {},
   "outputs": [
    {
     "data": {
      "text/html": [
       "<div>\n",
       "<style scoped>\n",
       "    .dataframe tbody tr th:only-of-type {\n",
       "        vertical-align: middle;\n",
       "    }\n",
       "\n",
       "    .dataframe tbody tr th {\n",
       "        vertical-align: top;\n",
       "    }\n",
       "\n",
       "    .dataframe thead th {\n",
       "        text-align: right;\n",
       "    }\n",
       "</style>\n",
       "<table border=\"1\" class=\"dataframe\">\n",
       "  <thead>\n",
       "    <tr style=\"text-align: right;\">\n",
       "      <th></th>\n",
       "      <th>scd_in</th>\n",
       "      <th>scd_in_cum</th>\n",
       "      <th>scd_out</th>\n",
       "      <th>scd_out_cum</th>\n",
       "      <th>bal_strt</th>\n",
       "      <th>amt_in</th>\n",
       "      <th>amt_in_cum</th>\n",
       "      <th>amt_out</th>\n",
       "      <th>amt_out_cum</th>\n",
       "      <th>bal_end</th>\n",
       "      <th>rsdl_in_cum</th>\n",
       "      <th>rsdl_out_cum</th>\n",
       "    </tr>\n",
       "  </thead>\n",
       "  <tbody>\n",
       "    <tr>\n",
       "      <th>2023-01-31</th>\n",
       "      <td>0.0</td>\n",
       "      <td>0.0</td>\n",
       "      <td>0.0</td>\n",
       "      <td>0.0</td>\n",
       "      <td>0.0</td>\n",
       "      <td>0.0</td>\n",
       "      <td>0.0</td>\n",
       "      <td>0.0</td>\n",
       "      <td>0.0</td>\n",
       "      <td>0.0</td>\n",
       "      <td>0.0</td>\n",
       "      <td>0.0</td>\n",
       "    </tr>\n",
       "    <tr>\n",
       "      <th>2023-02-28</th>\n",
       "      <td>8000.0</td>\n",
       "      <td>8000.0</td>\n",
       "      <td>0.0</td>\n",
       "      <td>0.0</td>\n",
       "      <td>0.0</td>\n",
       "      <td>0.0</td>\n",
       "      <td>0.0</td>\n",
       "      <td>0.0</td>\n",
       "      <td>0.0</td>\n",
       "      <td>0.0</td>\n",
       "      <td>8000.0</td>\n",
       "      <td>0.0</td>\n",
       "    </tr>\n",
       "    <tr>\n",
       "      <th>2023-03-31</th>\n",
       "      <td>7000.0</td>\n",
       "      <td>15000.0</td>\n",
       "      <td>0.0</td>\n",
       "      <td>0.0</td>\n",
       "      <td>0.0</td>\n",
       "      <td>0.0</td>\n",
       "      <td>0.0</td>\n",
       "      <td>0.0</td>\n",
       "      <td>0.0</td>\n",
       "      <td>0.0</td>\n",
       "      <td>15000.0</td>\n",
       "      <td>0.0</td>\n",
       "    </tr>\n",
       "    <tr>\n",
       "      <th>2023-04-30</th>\n",
       "      <td>7000.0</td>\n",
       "      <td>22000.0</td>\n",
       "      <td>0.0</td>\n",
       "      <td>0.0</td>\n",
       "      <td>0.0</td>\n",
       "      <td>0.0</td>\n",
       "      <td>0.0</td>\n",
       "      <td>0.0</td>\n",
       "      <td>0.0</td>\n",
       "      <td>0.0</td>\n",
       "      <td>22000.0</td>\n",
       "      <td>0.0</td>\n",
       "    </tr>\n",
       "    <tr>\n",
       "      <th>2023-05-31</th>\n",
       "      <td>6000.0</td>\n",
       "      <td>28000.0</td>\n",
       "      <td>0.0</td>\n",
       "      <td>0.0</td>\n",
       "      <td>0.0</td>\n",
       "      <td>0.0</td>\n",
       "      <td>0.0</td>\n",
       "      <td>0.0</td>\n",
       "      <td>0.0</td>\n",
       "      <td>0.0</td>\n",
       "      <td>28000.0</td>\n",
       "      <td>0.0</td>\n",
       "    </tr>\n",
       "    <tr>\n",
       "      <th>2023-06-30</th>\n",
       "      <td>0.0</td>\n",
       "      <td>28000.0</td>\n",
       "      <td>0.0</td>\n",
       "      <td>0.0</td>\n",
       "      <td>0.0</td>\n",
       "      <td>0.0</td>\n",
       "      <td>0.0</td>\n",
       "      <td>0.0</td>\n",
       "      <td>0.0</td>\n",
       "      <td>0.0</td>\n",
       "      <td>28000.0</td>\n",
       "      <td>0.0</td>\n",
       "    </tr>\n",
       "  </tbody>\n",
       "</table>\n",
       "</div>"
      ],
      "text/plain": [
       "            scd_in  scd_in_cum  scd_out  scd_out_cum  bal_strt  amt_in  amt_in_cum  amt_out  amt_out_cum  bal_end  rsdl_in_cum  rsdl_out_cum\n",
       "2023-01-31     0.0         0.0      0.0          0.0       0.0     0.0         0.0      0.0          0.0      0.0          0.0           0.0\n",
       "2023-02-28  8000.0      8000.0      0.0          0.0       0.0     0.0         0.0      0.0          0.0      0.0       8000.0           0.0\n",
       "2023-03-31  7000.0     15000.0      0.0          0.0       0.0     0.0         0.0      0.0          0.0      0.0      15000.0           0.0\n",
       "2023-04-30  7000.0     22000.0      0.0          0.0       0.0     0.0         0.0      0.0          0.0      0.0      22000.0           0.0\n",
       "2023-05-31  6000.0     28000.0      0.0          0.0       0.0     0.0         0.0      0.0          0.0      0.0      28000.0           0.0\n",
       "2023-06-30     0.0     28000.0      0.0          0.0       0.0     0.0         0.0      0.0          0.0      0.0      28000.0           0.0"
      ]
     },
     "execution_count": 50,
     "metadata": {},
     "output_type": "execute_result"
    }
   ],
   "source": [
    "cst.dfall"
   ]
  },
  {
   "cell_type": "markdown",
   "id": "93abb85f",
   "metadata": {},
   "source": [
    "### 4) 운영계좌 설정"
   ]
  },
  {
   "cell_type": "code",
   "execution_count": 51,
   "id": "b0d74944",
   "metadata": {},
   "outputs": [],
   "source": [
    "oprtg = Account(idx)"
   ]
  },
  {
   "cell_type": "code",
   "execution_count": 52,
   "id": "e9f19760",
   "metadata": {},
   "outputs": [
    {
     "data": {
      "text/html": [
       "<div>\n",
       "<style scoped>\n",
       "    .dataframe tbody tr th:only-of-type {\n",
       "        vertical-align: middle;\n",
       "    }\n",
       "\n",
       "    .dataframe tbody tr th {\n",
       "        vertical-align: top;\n",
       "    }\n",
       "\n",
       "    .dataframe thead th {\n",
       "        text-align: right;\n",
       "    }\n",
       "</style>\n",
       "<table border=\"1\" class=\"dataframe\">\n",
       "  <thead>\n",
       "    <tr style=\"text-align: right;\">\n",
       "      <th></th>\n",
       "      <th>bal_strt</th>\n",
       "      <th>amt_in</th>\n",
       "      <th>amt_out</th>\n",
       "      <th>bal_end</th>\n",
       "    </tr>\n",
       "  </thead>\n",
       "  <tbody>\n",
       "    <tr>\n",
       "      <th>2023-01-31</th>\n",
       "      <td>0.0</td>\n",
       "      <td>0.0</td>\n",
       "      <td>0.0</td>\n",
       "      <td>0.0</td>\n",
       "    </tr>\n",
       "    <tr>\n",
       "      <th>2023-02-28</th>\n",
       "      <td>0.0</td>\n",
       "      <td>0.0</td>\n",
       "      <td>0.0</td>\n",
       "      <td>0.0</td>\n",
       "    </tr>\n",
       "    <tr>\n",
       "      <th>2023-03-31</th>\n",
       "      <td>0.0</td>\n",
       "      <td>0.0</td>\n",
       "      <td>0.0</td>\n",
       "      <td>0.0</td>\n",
       "    </tr>\n",
       "    <tr>\n",
       "      <th>2023-04-30</th>\n",
       "      <td>0.0</td>\n",
       "      <td>0.0</td>\n",
       "      <td>0.0</td>\n",
       "      <td>0.0</td>\n",
       "    </tr>\n",
       "    <tr>\n",
       "      <th>2023-05-31</th>\n",
       "      <td>0.0</td>\n",
       "      <td>0.0</td>\n",
       "      <td>0.0</td>\n",
       "      <td>0.0</td>\n",
       "    </tr>\n",
       "    <tr>\n",
       "      <th>2023-06-30</th>\n",
       "      <td>0.0</td>\n",
       "      <td>0.0</td>\n",
       "      <td>0.0</td>\n",
       "      <td>0.0</td>\n",
       "    </tr>\n",
       "  </tbody>\n",
       "</table>\n",
       "</div>"
      ],
      "text/plain": [
       "            bal_strt  amt_in  amt_out  bal_end\n",
       "2023-01-31       0.0     0.0      0.0      0.0\n",
       "2023-02-28       0.0     0.0      0.0      0.0\n",
       "2023-03-31       0.0     0.0      0.0      0.0\n",
       "2023-04-30       0.0     0.0      0.0      0.0\n",
       "2023-05-31       0.0     0.0      0.0      0.0\n",
       "2023-06-30       0.0     0.0      0.0      0.0"
      ]
     },
     "execution_count": 52,
     "metadata": {},
     "output_type": "execute_result"
    }
   ],
   "source": [
    "oprtg.df"
   ]
  },
  {
   "cell_type": "markdown",
   "id": "c5854c48",
   "metadata": {},
   "source": [
    "### 5) 현금흐름 추정"
   ]
  },
  {
   "cell_type": "code",
   "execution_count": 53,
   "id": "5ec47f64",
   "metadata": {},
   "outputs": [],
   "source": [
    "# idx[0] : Nothing"
   ]
  },
  {
   "cell_type": "code",
   "execution_count": 54,
   "id": "1b72b7d8",
   "metadata": {},
   "outputs": [],
   "source": [
    "# idx[1]\n",
    "eqt.send(idx[1], eqt.scd_out[idx[1]], oprtg, \"자기자본 인출\")\n",
    "oprtg.send(idx[1], cst.scd_in[idx[1]], cst, \"사업비 지급\")"
   ]
  },
  {
   "cell_type": "code",
   "execution_count": 55,
   "id": "a4684179",
   "metadata": {},
   "outputs": [],
   "source": [
    "# idx[2]\n",
    "eqt.send(idx[2], eqt.scd_out[idx[2]], oprtg, \"자기자본 인출\")\n",
    "oprtg.send(idx[2], cst.scd_in[idx[2]], cst, \"사업비 지급\")"
   ]
  },
  {
   "cell_type": "code",
   "execution_count": 56,
   "id": "27e2916d",
   "metadata": {},
   "outputs": [],
   "source": [
    "# idx[3]\n",
    "eqt.send(idx[3], eqt.scd_out[idx[3]], oprtg, \"자기자본 인출\")\n",
    "oprtg.send(idx[3], cst.scd_in[idx[3]], cst, \"사업비 지급\")"
   ]
  },
  {
   "cell_type": "code",
   "execution_count": 57,
   "id": "7e20b818",
   "metadata": {},
   "outputs": [],
   "source": [
    "# idx[4]\n",
    "eqt.send(idx[4], eqt.scd_out[idx[4]], oprtg, \"자기자본 인출\")\n",
    "oprtg.send(idx[4], cst.scd_in[idx[4]], cst, \"사업비 지급\")"
   ]
  },
  {
   "cell_type": "code",
   "execution_count": 58,
   "id": "b3fca527",
   "metadata": {},
   "outputs": [],
   "source": [
    "# idx[5]\n",
    "eqt.send(idx[5], eqt.scd_out[idx[5]], oprtg, \"자기자본 인출\")\n",
    "oprtg.send(idx[5], cst.scd_in[idx[5]], cst, \"사업비 지급\")"
   ]
  },
  {
   "cell_type": "code",
   "execution_count": 59,
   "id": "234eeeb0",
   "metadata": {},
   "outputs": [
    {
     "data": {
      "text/html": [
       "<div>\n",
       "<style scoped>\n",
       "    .dataframe tbody tr th:only-of-type {\n",
       "        vertical-align: middle;\n",
       "    }\n",
       "\n",
       "    .dataframe tbody tr th {\n",
       "        vertical-align: top;\n",
       "    }\n",
       "\n",
       "    .dataframe thead th {\n",
       "        text-align: right;\n",
       "    }\n",
       "</style>\n",
       "<table border=\"1\" class=\"dataframe\">\n",
       "  <thead>\n",
       "    <tr style=\"text-align: right;\">\n",
       "      <th></th>\n",
       "      <th>amt_in</th>\n",
       "      <th>amt_out</th>\n",
       "      <th>rcvfrm</th>\n",
       "      <th>payto</th>\n",
       "      <th>note</th>\n",
       "    </tr>\n",
       "  </thead>\n",
       "  <tbody>\n",
       "    <tr>\n",
       "      <th>2023-02-28</th>\n",
       "      <td>15000.0</td>\n",
       "      <td>0</td>\n",
       "      <td>main</td>\n",
       "      <td>None</td>\n",
       "      <td>자기자본 인출</td>\n",
       "    </tr>\n",
       "    <tr>\n",
       "      <th>2023-02-28</th>\n",
       "      <td>0.0</td>\n",
       "      <td>8000.0</td>\n",
       "      <td>None</td>\n",
       "      <td>main</td>\n",
       "      <td>사업비 지급</td>\n",
       "    </tr>\n",
       "    <tr>\n",
       "      <th>2023-03-31</th>\n",
       "      <td>0.0</td>\n",
       "      <td>7000.0</td>\n",
       "      <td>None</td>\n",
       "      <td>main</td>\n",
       "      <td>사업비 지급</td>\n",
       "    </tr>\n",
       "    <tr>\n",
       "      <th>2023-04-30</th>\n",
       "      <td>15000.0</td>\n",
       "      <td>0</td>\n",
       "      <td>main</td>\n",
       "      <td>None</td>\n",
       "      <td>자기자본 인출</td>\n",
       "    </tr>\n",
       "    <tr>\n",
       "      <th>2023-04-30</th>\n",
       "      <td>0.0</td>\n",
       "      <td>7000.0</td>\n",
       "      <td>None</td>\n",
       "      <td>main</td>\n",
       "      <td>사업비 지급</td>\n",
       "    </tr>\n",
       "    <tr>\n",
       "      <th>2023-05-31</th>\n",
       "      <td>0.0</td>\n",
       "      <td>6000.0</td>\n",
       "      <td>None</td>\n",
       "      <td>main</td>\n",
       "      <td>사업비 지급</td>\n",
       "    </tr>\n",
       "  </tbody>\n",
       "</table>\n",
       "</div>"
      ],
      "text/plain": [
       "             amt_in amt_out rcvfrm payto     note\n",
       "2023-02-28  15000.0       0   main  None  자기자본 인출\n",
       "2023-02-28      0.0  8000.0   None  main   사업비 지급\n",
       "2023-03-31      0.0  7000.0   None  main   사업비 지급\n",
       "2023-04-30  15000.0       0   main  None  자기자본 인출\n",
       "2023-04-30      0.0  7000.0   None  main   사업비 지급\n",
       "2023-05-31      0.0  6000.0   None  main   사업비 지급"
      ]
     },
     "execution_count": 59,
     "metadata": {},
     "output_type": "execute_result"
    }
   ],
   "source": [
    "oprtg.jnl"
   ]
  },
  {
   "cell_type": "code",
   "execution_count": 60,
   "id": "7f3fb16a",
   "metadata": {},
   "outputs": [
    {
     "data": {
      "text/html": [
       "<div>\n",
       "<style scoped>\n",
       "    .dataframe tbody tr th:only-of-type {\n",
       "        vertical-align: middle;\n",
       "    }\n",
       "\n",
       "    .dataframe tbody tr th {\n",
       "        vertical-align: top;\n",
       "    }\n",
       "\n",
       "    .dataframe thead th {\n",
       "        text-align: right;\n",
       "    }\n",
       "</style>\n",
       "<table border=\"1\" class=\"dataframe\">\n",
       "  <thead>\n",
       "    <tr style=\"text-align: right;\">\n",
       "      <th></th>\n",
       "      <th>bal_strt</th>\n",
       "      <th>amt_in</th>\n",
       "      <th>amt_out</th>\n",
       "      <th>bal_end</th>\n",
       "    </tr>\n",
       "  </thead>\n",
       "  <tbody>\n",
       "    <tr>\n",
       "      <th>2023-01-31</th>\n",
       "      <td>0.0</td>\n",
       "      <td>30000.0</td>\n",
       "      <td>0.0</td>\n",
       "      <td>30000.0</td>\n",
       "    </tr>\n",
       "    <tr>\n",
       "      <th>2023-02-28</th>\n",
       "      <td>30000.0</td>\n",
       "      <td>0.0</td>\n",
       "      <td>15000.0</td>\n",
       "      <td>15000.0</td>\n",
       "    </tr>\n",
       "    <tr>\n",
       "      <th>2023-03-31</th>\n",
       "      <td>15000.0</td>\n",
       "      <td>0.0</td>\n",
       "      <td>0.0</td>\n",
       "      <td>15000.0</td>\n",
       "    </tr>\n",
       "    <tr>\n",
       "      <th>2023-04-30</th>\n",
       "      <td>15000.0</td>\n",
       "      <td>0.0</td>\n",
       "      <td>15000.0</td>\n",
       "      <td>0.0</td>\n",
       "    </tr>\n",
       "    <tr>\n",
       "      <th>2023-05-31</th>\n",
       "      <td>0.0</td>\n",
       "      <td>0.0</td>\n",
       "      <td>0.0</td>\n",
       "      <td>0.0</td>\n",
       "    </tr>\n",
       "    <tr>\n",
       "      <th>2023-06-30</th>\n",
       "      <td>0.0</td>\n",
       "      <td>0.0</td>\n",
       "      <td>0.0</td>\n",
       "      <td>0.0</td>\n",
       "    </tr>\n",
       "  </tbody>\n",
       "</table>\n",
       "</div>"
      ],
      "text/plain": [
       "            bal_strt   amt_in  amt_out  bal_end\n",
       "2023-01-31       0.0  30000.0      0.0  30000.0\n",
       "2023-02-28   30000.0      0.0  15000.0  15000.0\n",
       "2023-03-31   15000.0      0.0      0.0  15000.0\n",
       "2023-04-30   15000.0      0.0  15000.0      0.0\n",
       "2023-05-31       0.0      0.0      0.0      0.0\n",
       "2023-06-30       0.0      0.0      0.0      0.0"
      ]
     },
     "execution_count": 60,
     "metadata": {},
     "output_type": "execute_result"
    }
   ],
   "source": [
    "eqt.df"
   ]
  },
  {
   "cell_type": "code",
   "execution_count": 61,
   "id": "73c711a5",
   "metadata": {},
   "outputs": [
    {
     "data": {
      "text/html": [
       "<div>\n",
       "<style scoped>\n",
       "    .dataframe tbody tr th:only-of-type {\n",
       "        vertical-align: middle;\n",
       "    }\n",
       "\n",
       "    .dataframe tbody tr th {\n",
       "        vertical-align: top;\n",
       "    }\n",
       "\n",
       "    .dataframe thead th {\n",
       "        text-align: right;\n",
       "    }\n",
       "</style>\n",
       "<table border=\"1\" class=\"dataframe\">\n",
       "  <thead>\n",
       "    <tr style=\"text-align: right;\">\n",
       "      <th></th>\n",
       "      <th>amt_in</th>\n",
       "      <th>amt_out</th>\n",
       "      <th>rcvfrm</th>\n",
       "      <th>payto</th>\n",
       "      <th>note</th>\n",
       "    </tr>\n",
       "  </thead>\n",
       "  <tbody>\n",
       "    <tr>\n",
       "      <th>2023-01-31</th>\n",
       "      <td>30000</td>\n",
       "      <td>0</td>\n",
       "      <td>None</td>\n",
       "      <td>None</td>\n",
       "      <td>add_amt</td>\n",
       "    </tr>\n",
       "    <tr>\n",
       "      <th>2023-02-28</th>\n",
       "      <td>0</td>\n",
       "      <td>15000.0</td>\n",
       "      <td>None</td>\n",
       "      <td>main</td>\n",
       "      <td>자기자본 인출</td>\n",
       "    </tr>\n",
       "    <tr>\n",
       "      <th>2023-04-30</th>\n",
       "      <td>0</td>\n",
       "      <td>15000.0</td>\n",
       "      <td>None</td>\n",
       "      <td>main</td>\n",
       "      <td>자기자본 인출</td>\n",
       "    </tr>\n",
       "  </tbody>\n",
       "</table>\n",
       "</div>"
      ],
      "text/plain": [
       "           amt_in  amt_out rcvfrm payto     note\n",
       "2023-01-31  30000        0   None  None  add_amt\n",
       "2023-02-28      0  15000.0   None  main  자기자본 인출\n",
       "2023-04-30      0  15000.0   None  main  자기자본 인출"
      ]
     },
     "execution_count": 61,
     "metadata": {},
     "output_type": "execute_result"
    }
   ],
   "source": [
    "eqt.jnl"
   ]
  },
  {
   "cell_type": "code",
   "execution_count": 62,
   "id": "c35f23fa",
   "metadata": {},
   "outputs": [
    {
     "data": {
      "text/html": [
       "<div>\n",
       "<style scoped>\n",
       "    .dataframe tbody tr th:only-of-type {\n",
       "        vertical-align: middle;\n",
       "    }\n",
       "\n",
       "    .dataframe tbody tr th {\n",
       "        vertical-align: top;\n",
       "    }\n",
       "\n",
       "    .dataframe thead th {\n",
       "        text-align: right;\n",
       "    }\n",
       "</style>\n",
       "<table border=\"1\" class=\"dataframe\">\n",
       "  <thead>\n",
       "    <tr style=\"text-align: right;\">\n",
       "      <th></th>\n",
       "      <th>bal_strt</th>\n",
       "      <th>amt_in</th>\n",
       "      <th>amt_out</th>\n",
       "      <th>bal_end</th>\n",
       "    </tr>\n",
       "  </thead>\n",
       "  <tbody>\n",
       "    <tr>\n",
       "      <th>2023-01-31</th>\n",
       "      <td>0.0</td>\n",
       "      <td>0.0</td>\n",
       "      <td>0.0</td>\n",
       "      <td>0.0</td>\n",
       "    </tr>\n",
       "    <tr>\n",
       "      <th>2023-02-28</th>\n",
       "      <td>0.0</td>\n",
       "      <td>8000.0</td>\n",
       "      <td>0.0</td>\n",
       "      <td>8000.0</td>\n",
       "    </tr>\n",
       "    <tr>\n",
       "      <th>2023-03-31</th>\n",
       "      <td>8000.0</td>\n",
       "      <td>7000.0</td>\n",
       "      <td>0.0</td>\n",
       "      <td>15000.0</td>\n",
       "    </tr>\n",
       "    <tr>\n",
       "      <th>2023-04-30</th>\n",
       "      <td>15000.0</td>\n",
       "      <td>7000.0</td>\n",
       "      <td>0.0</td>\n",
       "      <td>22000.0</td>\n",
       "    </tr>\n",
       "    <tr>\n",
       "      <th>2023-05-31</th>\n",
       "      <td>22000.0</td>\n",
       "      <td>6000.0</td>\n",
       "      <td>0.0</td>\n",
       "      <td>28000.0</td>\n",
       "    </tr>\n",
       "    <tr>\n",
       "      <th>2023-06-30</th>\n",
       "      <td>28000.0</td>\n",
       "      <td>0.0</td>\n",
       "      <td>0.0</td>\n",
       "      <td>28000.0</td>\n",
       "    </tr>\n",
       "  </tbody>\n",
       "</table>\n",
       "</div>"
      ],
      "text/plain": [
       "            bal_strt  amt_in  amt_out  bal_end\n",
       "2023-01-31       0.0     0.0      0.0      0.0\n",
       "2023-02-28       0.0  8000.0      0.0   8000.0\n",
       "2023-03-31    8000.0  7000.0      0.0  15000.0\n",
       "2023-04-30   15000.0  7000.0      0.0  22000.0\n",
       "2023-05-31   22000.0  6000.0      0.0  28000.0\n",
       "2023-06-30   28000.0     0.0      0.0  28000.0"
      ]
     },
     "execution_count": 62,
     "metadata": {},
     "output_type": "execute_result"
    }
   ],
   "source": [
    "cst.df"
   ]
  },
  {
   "cell_type": "code",
   "execution_count": 63,
   "id": "7d2c4929",
   "metadata": {},
   "outputs": [
    {
     "data": {
      "text/html": [
       "<div>\n",
       "<style scoped>\n",
       "    .dataframe tbody tr th:only-of-type {\n",
       "        vertical-align: middle;\n",
       "    }\n",
       "\n",
       "    .dataframe tbody tr th {\n",
       "        vertical-align: top;\n",
       "    }\n",
       "\n",
       "    .dataframe thead th {\n",
       "        text-align: right;\n",
       "    }\n",
       "</style>\n",
       "<table border=\"1\" class=\"dataframe\">\n",
       "  <thead>\n",
       "    <tr style=\"text-align: right;\">\n",
       "      <th></th>\n",
       "      <th>amt_in</th>\n",
       "      <th>amt_out</th>\n",
       "      <th>rcvfrm</th>\n",
       "      <th>payto</th>\n",
       "      <th>note</th>\n",
       "    </tr>\n",
       "  </thead>\n",
       "  <tbody>\n",
       "    <tr>\n",
       "      <th>2023-02-28</th>\n",
       "      <td>8000.0</td>\n",
       "      <td>0</td>\n",
       "      <td>main</td>\n",
       "      <td>None</td>\n",
       "      <td>사업비 지급</td>\n",
       "    </tr>\n",
       "    <tr>\n",
       "      <th>2023-03-31</th>\n",
       "      <td>7000.0</td>\n",
       "      <td>0</td>\n",
       "      <td>main</td>\n",
       "      <td>None</td>\n",
       "      <td>사업비 지급</td>\n",
       "    </tr>\n",
       "    <tr>\n",
       "      <th>2023-04-30</th>\n",
       "      <td>7000.0</td>\n",
       "      <td>0</td>\n",
       "      <td>main</td>\n",
       "      <td>None</td>\n",
       "      <td>사업비 지급</td>\n",
       "    </tr>\n",
       "    <tr>\n",
       "      <th>2023-05-31</th>\n",
       "      <td>6000.0</td>\n",
       "      <td>0</td>\n",
       "      <td>main</td>\n",
       "      <td>None</td>\n",
       "      <td>사업비 지급</td>\n",
       "    </tr>\n",
       "  </tbody>\n",
       "</table>\n",
       "</div>"
      ],
      "text/plain": [
       "            amt_in amt_out rcvfrm payto    note\n",
       "2023-02-28  8000.0       0   main  None  사업비 지급\n",
       "2023-03-31  7000.0       0   main  None  사업비 지급\n",
       "2023-04-30  7000.0       0   main  None  사업비 지급\n",
       "2023-05-31  6000.0       0   main  None  사업비 지급"
      ]
     },
     "execution_count": 63,
     "metadata": {},
     "output_type": "execute_result"
    }
   ],
   "source": [
    "cst.jnl"
   ]
  },
  {
   "cell_type": "markdown",
   "id": "95ac7054",
   "metadata": {},
   "source": [
    "### 6) 현금흐름 추정(for 문 사용)"
   ]
  },
  {
   "cell_type": "code",
   "execution_count": 64,
   "id": "64c3e3de",
   "metadata": {},
   "outputs": [],
   "source": [
    "# 현금흐름 조건 재설정\n",
    "idx = Index('2023.01', 6)\n",
    "\n",
    "eqt = Account(idx)\n",
    "eqt.amt = 30_000\n",
    "eqt.addamt(idx[0], eqt.amt) #최초 보유 현금 기록\n",
    "eqt.subscd(idx[1], 15_000) #첫번째 인출 계획 기록\n",
    "eqt.subscd(idx[3], 15_000) #두번째 인출 계획 기록\n",
    "\n",
    "cst = Account(idx)\n",
    "cst.amt = 28_000\n",
    "cst.addscd(idx[1], 8_000)\n",
    "cst.addscd(idx[2], 7_000)\n",
    "cst.addscd(idx[3], 7_000)\n",
    "cst.addscd(idx[4], 6_000)\n",
    "\n",
    "oprtg = Account(idx)"
   ]
  },
  {
   "cell_type": "code",
   "execution_count": 65,
   "id": "04441e80",
   "metadata": {},
   "outputs": [],
   "source": [
    "for i in range(0, 6):\n",
    "    eqt.send(idx[i], eqt.scd_out[idx[i]], oprtg, \"자기자본 인출\")\n",
    "    oprtg.send(idx[i], cst.scd_in[idx[i]], cst, \"사업비 지급\")"
   ]
  },
  {
   "cell_type": "code",
   "execution_count": 66,
   "id": "deb0104b",
   "metadata": {},
   "outputs": [
    {
     "data": {
      "text/html": [
       "<div>\n",
       "<style scoped>\n",
       "    .dataframe tbody tr th:only-of-type {\n",
       "        vertical-align: middle;\n",
       "    }\n",
       "\n",
       "    .dataframe tbody tr th {\n",
       "        vertical-align: top;\n",
       "    }\n",
       "\n",
       "    .dataframe thead th {\n",
       "        text-align: right;\n",
       "    }\n",
       "</style>\n",
       "<table border=\"1\" class=\"dataframe\">\n",
       "  <thead>\n",
       "    <tr style=\"text-align: right;\">\n",
       "      <th></th>\n",
       "      <th>bal_strt</th>\n",
       "      <th>amt_in</th>\n",
       "      <th>amt_out</th>\n",
       "      <th>bal_end</th>\n",
       "    </tr>\n",
       "  </thead>\n",
       "  <tbody>\n",
       "    <tr>\n",
       "      <th>2023-01-31</th>\n",
       "      <td>0.0</td>\n",
       "      <td>0.0</td>\n",
       "      <td>0.0</td>\n",
       "      <td>0.0</td>\n",
       "    </tr>\n",
       "    <tr>\n",
       "      <th>2023-02-28</th>\n",
       "      <td>0.0</td>\n",
       "      <td>15000.0</td>\n",
       "      <td>8000.0</td>\n",
       "      <td>7000.0</td>\n",
       "    </tr>\n",
       "    <tr>\n",
       "      <th>2023-03-31</th>\n",
       "      <td>7000.0</td>\n",
       "      <td>0.0</td>\n",
       "      <td>7000.0</td>\n",
       "      <td>0.0</td>\n",
       "    </tr>\n",
       "    <tr>\n",
       "      <th>2023-04-30</th>\n",
       "      <td>0.0</td>\n",
       "      <td>15000.0</td>\n",
       "      <td>7000.0</td>\n",
       "      <td>8000.0</td>\n",
       "    </tr>\n",
       "    <tr>\n",
       "      <th>2023-05-31</th>\n",
       "      <td>8000.0</td>\n",
       "      <td>0.0</td>\n",
       "      <td>6000.0</td>\n",
       "      <td>2000.0</td>\n",
       "    </tr>\n",
       "    <tr>\n",
       "      <th>2023-06-30</th>\n",
       "      <td>2000.0</td>\n",
       "      <td>0.0</td>\n",
       "      <td>0.0</td>\n",
       "      <td>2000.0</td>\n",
       "    </tr>\n",
       "  </tbody>\n",
       "</table>\n",
       "</div>"
      ],
      "text/plain": [
       "            bal_strt   amt_in  amt_out  bal_end\n",
       "2023-01-31       0.0      0.0      0.0      0.0\n",
       "2023-02-28       0.0  15000.0   8000.0   7000.0\n",
       "2023-03-31    7000.0      0.0   7000.0      0.0\n",
       "2023-04-30       0.0  15000.0   7000.0   8000.0\n",
       "2023-05-31    8000.0      0.0   6000.0   2000.0\n",
       "2023-06-30    2000.0      0.0      0.0   2000.0"
      ]
     },
     "execution_count": 66,
     "metadata": {},
     "output_type": "execute_result"
    }
   ],
   "source": [
    "oprtg.df"
   ]
  },
  {
   "cell_type": "code",
   "execution_count": 67,
   "id": "e200269c",
   "metadata": {},
   "outputs": [
    {
     "data": {
      "text/html": [
       "<div>\n",
       "<style scoped>\n",
       "    .dataframe tbody tr th:only-of-type {\n",
       "        vertical-align: middle;\n",
       "    }\n",
       "\n",
       "    .dataframe tbody tr th {\n",
       "        vertical-align: top;\n",
       "    }\n",
       "\n",
       "    .dataframe thead th {\n",
       "        text-align: right;\n",
       "    }\n",
       "</style>\n",
       "<table border=\"1\" class=\"dataframe\">\n",
       "  <thead>\n",
       "    <tr style=\"text-align: right;\">\n",
       "      <th></th>\n",
       "      <th>amt_in</th>\n",
       "      <th>amt_out</th>\n",
       "      <th>rcvfrm</th>\n",
       "      <th>payto</th>\n",
       "      <th>note</th>\n",
       "    </tr>\n",
       "  </thead>\n",
       "  <tbody>\n",
       "    <tr>\n",
       "      <th>2023-02-28</th>\n",
       "      <td>15000.0</td>\n",
       "      <td>0</td>\n",
       "      <td>main</td>\n",
       "      <td>None</td>\n",
       "      <td>자기자본 인출</td>\n",
       "    </tr>\n",
       "    <tr>\n",
       "      <th>2023-02-28</th>\n",
       "      <td>0.0</td>\n",
       "      <td>8000.0</td>\n",
       "      <td>None</td>\n",
       "      <td>main</td>\n",
       "      <td>사업비 지급</td>\n",
       "    </tr>\n",
       "    <tr>\n",
       "      <th>2023-03-31</th>\n",
       "      <td>0.0</td>\n",
       "      <td>7000.0</td>\n",
       "      <td>None</td>\n",
       "      <td>main</td>\n",
       "      <td>사업비 지급</td>\n",
       "    </tr>\n",
       "    <tr>\n",
       "      <th>2023-04-30</th>\n",
       "      <td>15000.0</td>\n",
       "      <td>0</td>\n",
       "      <td>main</td>\n",
       "      <td>None</td>\n",
       "      <td>자기자본 인출</td>\n",
       "    </tr>\n",
       "    <tr>\n",
       "      <th>2023-04-30</th>\n",
       "      <td>0.0</td>\n",
       "      <td>7000.0</td>\n",
       "      <td>None</td>\n",
       "      <td>main</td>\n",
       "      <td>사업비 지급</td>\n",
       "    </tr>\n",
       "    <tr>\n",
       "      <th>2023-05-31</th>\n",
       "      <td>0.0</td>\n",
       "      <td>6000.0</td>\n",
       "      <td>None</td>\n",
       "      <td>main</td>\n",
       "      <td>사업비 지급</td>\n",
       "    </tr>\n",
       "  </tbody>\n",
       "</table>\n",
       "</div>"
      ],
      "text/plain": [
       "             amt_in amt_out rcvfrm payto     note\n",
       "2023-02-28  15000.0       0   main  None  자기자본 인출\n",
       "2023-02-28      0.0  8000.0   None  main   사업비 지급\n",
       "2023-03-31      0.0  7000.0   None  main   사업비 지급\n",
       "2023-04-30  15000.0       0   main  None  자기자본 인출\n",
       "2023-04-30      0.0  7000.0   None  main   사업비 지급\n",
       "2023-05-31      0.0  6000.0   None  main   사업비 지급"
      ]
     },
     "execution_count": 67,
     "metadata": {},
     "output_type": "execute_result"
    }
   ],
   "source": [
    "oprtg.jnl"
   ]
  },
  {
   "cell_type": "code",
   "execution_count": 68,
   "id": "ee1151aa",
   "metadata": {},
   "outputs": [
    {
     "data": {
      "text/html": [
       "<div>\n",
       "<style scoped>\n",
       "    .dataframe tbody tr th:only-of-type {\n",
       "        vertical-align: middle;\n",
       "    }\n",
       "\n",
       "    .dataframe tbody tr th {\n",
       "        vertical-align: top;\n",
       "    }\n",
       "\n",
       "    .dataframe thead th {\n",
       "        text-align: right;\n",
       "    }\n",
       "</style>\n",
       "<table border=\"1\" class=\"dataframe\">\n",
       "  <thead>\n",
       "    <tr style=\"text-align: right;\">\n",
       "      <th></th>\n",
       "      <th>scd_in</th>\n",
       "      <th>scd_in_cum</th>\n",
       "      <th>scd_out</th>\n",
       "      <th>scd_out_cum</th>\n",
       "      <th>bal_strt</th>\n",
       "      <th>amt_in</th>\n",
       "      <th>amt_in_cum</th>\n",
       "      <th>amt_out</th>\n",
       "      <th>amt_out_cum</th>\n",
       "      <th>bal_end</th>\n",
       "      <th>rsdl_in_cum</th>\n",
       "      <th>rsdl_out_cum</th>\n",
       "    </tr>\n",
       "  </thead>\n",
       "  <tbody>\n",
       "    <tr>\n",
       "      <th>2023-01-31</th>\n",
       "      <td>0.0</td>\n",
       "      <td>0.0</td>\n",
       "      <td>0.0</td>\n",
       "      <td>0.0</td>\n",
       "      <td>0.0</td>\n",
       "      <td>0.0</td>\n",
       "      <td>0.0</td>\n",
       "      <td>0.0</td>\n",
       "      <td>0.0</td>\n",
       "      <td>0.0</td>\n",
       "      <td>0.0</td>\n",
       "      <td>0.0</td>\n",
       "    </tr>\n",
       "    <tr>\n",
       "      <th>2023-02-28</th>\n",
       "      <td>8000.0</td>\n",
       "      <td>8000.0</td>\n",
       "      <td>0.0</td>\n",
       "      <td>0.0</td>\n",
       "      <td>0.0</td>\n",
       "      <td>8000.0</td>\n",
       "      <td>8000.0</td>\n",
       "      <td>0.0</td>\n",
       "      <td>0.0</td>\n",
       "      <td>8000.0</td>\n",
       "      <td>0.0</td>\n",
       "      <td>0.0</td>\n",
       "    </tr>\n",
       "    <tr>\n",
       "      <th>2023-03-31</th>\n",
       "      <td>7000.0</td>\n",
       "      <td>15000.0</td>\n",
       "      <td>0.0</td>\n",
       "      <td>0.0</td>\n",
       "      <td>8000.0</td>\n",
       "      <td>7000.0</td>\n",
       "      <td>15000.0</td>\n",
       "      <td>0.0</td>\n",
       "      <td>0.0</td>\n",
       "      <td>15000.0</td>\n",
       "      <td>0.0</td>\n",
       "      <td>0.0</td>\n",
       "    </tr>\n",
       "    <tr>\n",
       "      <th>2023-04-30</th>\n",
       "      <td>7000.0</td>\n",
       "      <td>22000.0</td>\n",
       "      <td>0.0</td>\n",
       "      <td>0.0</td>\n",
       "      <td>15000.0</td>\n",
       "      <td>7000.0</td>\n",
       "      <td>22000.0</td>\n",
       "      <td>0.0</td>\n",
       "      <td>0.0</td>\n",
       "      <td>22000.0</td>\n",
       "      <td>0.0</td>\n",
       "      <td>0.0</td>\n",
       "    </tr>\n",
       "    <tr>\n",
       "      <th>2023-05-31</th>\n",
       "      <td>6000.0</td>\n",
       "      <td>28000.0</td>\n",
       "      <td>0.0</td>\n",
       "      <td>0.0</td>\n",
       "      <td>22000.0</td>\n",
       "      <td>6000.0</td>\n",
       "      <td>28000.0</td>\n",
       "      <td>0.0</td>\n",
       "      <td>0.0</td>\n",
       "      <td>28000.0</td>\n",
       "      <td>0.0</td>\n",
       "      <td>0.0</td>\n",
       "    </tr>\n",
       "    <tr>\n",
       "      <th>2023-06-30</th>\n",
       "      <td>0.0</td>\n",
       "      <td>28000.0</td>\n",
       "      <td>0.0</td>\n",
       "      <td>0.0</td>\n",
       "      <td>28000.0</td>\n",
       "      <td>0.0</td>\n",
       "      <td>28000.0</td>\n",
       "      <td>0.0</td>\n",
       "      <td>0.0</td>\n",
       "      <td>28000.0</td>\n",
       "      <td>0.0</td>\n",
       "      <td>0.0</td>\n",
       "    </tr>\n",
       "  </tbody>\n",
       "</table>\n",
       "</div>"
      ],
      "text/plain": [
       "            scd_in  scd_in_cum  scd_out  scd_out_cum  bal_strt  amt_in  amt_in_cum  amt_out  amt_out_cum  bal_end  rsdl_in_cum  rsdl_out_cum\n",
       "2023-01-31     0.0         0.0      0.0          0.0       0.0     0.0         0.0      0.0          0.0      0.0          0.0           0.0\n",
       "2023-02-28  8000.0      8000.0      0.0          0.0       0.0  8000.0      8000.0      0.0          0.0   8000.0          0.0           0.0\n",
       "2023-03-31  7000.0     15000.0      0.0          0.0    8000.0  7000.0     15000.0      0.0          0.0  15000.0          0.0           0.0\n",
       "2023-04-30  7000.0     22000.0      0.0          0.0   15000.0  7000.0     22000.0      0.0          0.0  22000.0          0.0           0.0\n",
       "2023-05-31  6000.0     28000.0      0.0          0.0   22000.0  6000.0     28000.0      0.0          0.0  28000.0          0.0           0.0\n",
       "2023-06-30     0.0     28000.0      0.0          0.0   28000.0     0.0     28000.0      0.0          0.0  28000.0          0.0           0.0"
      ]
     },
     "execution_count": 68,
     "metadata": {},
     "output_type": "execute_result"
    }
   ],
   "source": [
    "cst.dfall"
   ]
  },
  {
   "cell_type": "markdown",
   "id": "2ffc4553",
   "metadata": {},
   "source": [
    "### 7) 현금흐름 추정(for 문 사용 2)"
   ]
  },
  {
   "cell_type": "code",
   "execution_count": 69,
   "id": "92bb6101",
   "metadata": {},
   "outputs": [],
   "source": [
    "# 현금흐름 조건 재설정\n",
    "idx = Index('2023.01', 6)\n",
    "\n",
    "eqt = Account(idx)\n",
    "eqt.amt = 30_000\n",
    "eqt.addamt(idx[0], eqt.amt) #최초 보유 현금 기록\n",
    "eqt.subscd(idx[1], 15_000) #첫번째 인출 계획 기록\n",
    "eqt.subscd(idx[3], 15_000) #두번째 인출 계획 기록\n",
    "\n",
    "cst = Account(idx)\n",
    "cst.amt = 28_000\n",
    "cst.addscd(idx[1], 8_000)\n",
    "cst.addscd(idx[2], 7_000)\n",
    "cst.addscd(idx[3], 7_000)\n",
    "cst.addscd(idx[4], 6_000)\n",
    "\n",
    "oprtg = Account(idx)"
   ]
  },
  {
   "cell_type": "code",
   "execution_count": 70,
   "id": "b919a6b6",
   "metadata": {},
   "outputs": [],
   "source": [
    "for i in idx:\n",
    "    eqt.send(i, eqt.scd_out[i], oprtg, \"자기자본 인출\")\n",
    "    oprtg.send(i, cst.scd_in[i], cst, \"사업비 지급\")"
   ]
  },
  {
   "cell_type": "code",
   "execution_count": 71,
   "id": "9af68899",
   "metadata": {},
   "outputs": [
    {
     "data": {
      "text/html": [
       "<div>\n",
       "<style scoped>\n",
       "    .dataframe tbody tr th:only-of-type {\n",
       "        vertical-align: middle;\n",
       "    }\n",
       "\n",
       "    .dataframe tbody tr th {\n",
       "        vertical-align: top;\n",
       "    }\n",
       "\n",
       "    .dataframe thead th {\n",
       "        text-align: right;\n",
       "    }\n",
       "</style>\n",
       "<table border=\"1\" class=\"dataframe\">\n",
       "  <thead>\n",
       "    <tr style=\"text-align: right;\">\n",
       "      <th></th>\n",
       "      <th>bal_strt</th>\n",
       "      <th>amt_in</th>\n",
       "      <th>amt_out</th>\n",
       "      <th>bal_end</th>\n",
       "    </tr>\n",
       "  </thead>\n",
       "  <tbody>\n",
       "    <tr>\n",
       "      <th>2023-01-31</th>\n",
       "      <td>0.0</td>\n",
       "      <td>0.0</td>\n",
       "      <td>0.0</td>\n",
       "      <td>0.0</td>\n",
       "    </tr>\n",
       "    <tr>\n",
       "      <th>2023-02-28</th>\n",
       "      <td>0.0</td>\n",
       "      <td>15000.0</td>\n",
       "      <td>8000.0</td>\n",
       "      <td>7000.0</td>\n",
       "    </tr>\n",
       "    <tr>\n",
       "      <th>2023-03-31</th>\n",
       "      <td>7000.0</td>\n",
       "      <td>0.0</td>\n",
       "      <td>7000.0</td>\n",
       "      <td>0.0</td>\n",
       "    </tr>\n",
       "    <tr>\n",
       "      <th>2023-04-30</th>\n",
       "      <td>0.0</td>\n",
       "      <td>15000.0</td>\n",
       "      <td>7000.0</td>\n",
       "      <td>8000.0</td>\n",
       "    </tr>\n",
       "    <tr>\n",
       "      <th>2023-05-31</th>\n",
       "      <td>8000.0</td>\n",
       "      <td>0.0</td>\n",
       "      <td>6000.0</td>\n",
       "      <td>2000.0</td>\n",
       "    </tr>\n",
       "    <tr>\n",
       "      <th>2023-06-30</th>\n",
       "      <td>2000.0</td>\n",
       "      <td>0.0</td>\n",
       "      <td>0.0</td>\n",
       "      <td>2000.0</td>\n",
       "    </tr>\n",
       "  </tbody>\n",
       "</table>\n",
       "</div>"
      ],
      "text/plain": [
       "            bal_strt   amt_in  amt_out  bal_end\n",
       "2023-01-31       0.0      0.0      0.0      0.0\n",
       "2023-02-28       0.0  15000.0   8000.0   7000.0\n",
       "2023-03-31    7000.0      0.0   7000.0      0.0\n",
       "2023-04-30       0.0  15000.0   7000.0   8000.0\n",
       "2023-05-31    8000.0      0.0   6000.0   2000.0\n",
       "2023-06-30    2000.0      0.0      0.0   2000.0"
      ]
     },
     "execution_count": 71,
     "metadata": {},
     "output_type": "execute_result"
    }
   ],
   "source": [
    "oprtg.df"
   ]
  },
  {
   "cell_type": "code",
   "execution_count": null,
   "id": "312ef28c",
   "metadata": {},
   "outputs": [],
   "source": []
  }
 ],
 "metadata": {
  "kernelspec": {
   "display_name": "Python 3 (ipykernel)",
   "language": "python",
   "name": "python3"
  },
  "language_info": {
   "codemirror_mode": {
    "name": "ipython",
    "version": 3
   },
   "file_extension": ".py",
   "mimetype": "text/x-python",
   "name": "python",
   "nbconvert_exporter": "python",
   "pygments_lexer": "ipython3",
   "version": "3.7.13"
  }
 },
 "nbformat": 4,
 "nbformat_minor": 5
}
