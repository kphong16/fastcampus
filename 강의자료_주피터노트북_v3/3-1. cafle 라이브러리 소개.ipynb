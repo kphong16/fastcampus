{
 "cells": [
  {
   "cell_type": "markdown",
   "id": "2fdbab0e",
   "metadata": {},
   "source": [
    "# [ 3-1. cafle 라이브러리 소개 ]"
   ]
  },
  {
   "cell_type": "markdown",
   "id": "4a91f6ca",
   "metadata": {},
   "source": [
    "## 1. \"cafle\" 라이브러리 소개\n",
    "---------\n",
    "\n",
    "### 1) 재무모델 작성에 활용할 목적으로 작성된 파이썬 라이브러리\n",
    "* 기존 엑셀로 작성하던 재무모델을 파이썬으로 작성할 수 있도록 여러가지 모듈과 함수를 제공.\n",
    "* pandas를 기반으로 모듈과 함수들이 작성되어 있으며 결과물을 모두 pandas.DataFrame으로 출력하므로, pandas에 대한 이해가 선행되어야 함.\n",
    "* 주요 모듈 : Account, Index, Write\n",
    "\n",
    "### 2) 주요 모듈\n",
    "* **Account :** 각각의 개별 현금흐름의 내용을 저장하고, 현금흐름의 유출입을 관리하는 모듈.\n",
    "* **Index :** 날짜 등 현금흐름의 시간적인 요소를 컨트롤하기 위한 모듈.\n",
    "* **Write :** 최종적으로 작성된 현금흐름을 엑셀 파일 상에 출력해주는 모듈.\n",
    "\n",
    "### 3) 재무모델 작성 개요\n",
    "1. **기간설정 :** 사업 기간, 조달된 자금의 만기 등을 Index 모듈에 설정.\n",
    "2. **Account 설정 :** 자금의 조달, 매출, 사업비 등 사업의 주요 요소들 별로 재무모델 가정에 따른 조건들을 Account 모듈에 설정.\n",
    "3. **현금흐름 실행 :** Index에 설정된 시간 흐름에 따라 각각의 요소들 간 사업 진행에 따라 발생되는 현금 유출입을 Account 내에 기록.\n",
    "4. **최종 결과물 출력 :** Account 내에 기록된 현금흐름을 최종적으로 확인하여 최종적인 현금흐름 결과물을 Excel파일로 추출."
   ]
  },
  {
   "cell_type": "code",
   "execution_count": null,
   "id": "6706bee7",
   "metadata": {},
   "outputs": [],
   "source": []
  },
  {
   "cell_type": "markdown",
   "id": "e22c1915",
   "metadata": {},
   "source": [
    "## 2. cafle 라이브러리의 설치"
   ]
  },
  {
   "cell_type": "markdown",
   "id": "b298a3eb",
   "metadata": {},
   "source": [
    "* jupyter notebook에서 아래 구문을 이용하여 설치.\n",
    "* 코드 작성 후 \"shift\" + \"Enter\"를 이용해 코드를 실행함.\n",
    "```\n",
    "! pip install cafle\n",
    "```\n",
    "![cafle 설치](./img/install_cafle.png)\n",
    "* \"import cafle\"을 입력하여 cafle 라이브러리를 임포트 한 후, cafle을 입력하면 cafle에 대한 기초 내용이 출력됨."
   ]
  },
  {
   "cell_type": "code",
   "execution_count": null,
   "id": "12b9700d",
   "metadata": {},
   "outputs": [],
   "source": []
  },
  {
   "cell_type": "markdown",
   "id": "1e12a190",
   "metadata": {},
   "source": [
    "## 3. cafle 임포트 하기"
   ]
  },
  {
   "cell_type": "code",
   "execution_count": 1,
   "id": "8a3929dd",
   "metadata": {},
   "outputs": [],
   "source": [
    "import cafle"
   ]
  },
  {
   "cell_type": "code",
   "execution_count": 2,
   "id": "d580f0ba",
   "metadata": {},
   "outputs": [
    {
     "data": {
      "text/plain": [
       "DateIndex(['2023.01.31', '2023.02.28', '2023.03.31', '2023.04.30', '2023.05.31', '2023.06.30', '2023.07.31', '2023.08.31', '2023.09.30', '2023.10.31', '2023.11.30', '2023.12.31'])"
      ]
     },
     "execution_count": 2,
     "metadata": {},
     "output_type": "execute_result"
    }
   ],
   "source": [
    "idx = cafle.Index('2023.01', 12)\n",
    "idx"
   ]
  },
  {
   "cell_type": "code",
   "execution_count": 3,
   "id": "1fab1476",
   "metadata": {},
   "outputs": [
    {
     "data": {
      "text/plain": [
       "Account(main, len 12)"
      ]
     },
     "execution_count": 3,
     "metadata": {},
     "output_type": "execute_result"
    }
   ],
   "source": [
    "acc = cafle.Account(idx)\n",
    "acc"
   ]
  },
  {
   "cell_type": "code",
   "execution_count": 4,
   "id": "bb09f561",
   "metadata": {
    "scrolled": false
   },
   "outputs": [
    {
     "data": {
      "text/html": [
       "<div>\n",
       "<style scoped>\n",
       "    .dataframe tbody tr th:only-of-type {\n",
       "        vertical-align: middle;\n",
       "    }\n",
       "\n",
       "    .dataframe tbody tr th {\n",
       "        vertical-align: top;\n",
       "    }\n",
       "\n",
       "    .dataframe thead th {\n",
       "        text-align: right;\n",
       "    }\n",
       "</style>\n",
       "<table border=\"1\" class=\"dataframe\">\n",
       "  <thead>\n",
       "    <tr style=\"text-align: right;\">\n",
       "      <th></th>\n",
       "      <th>bal_strt</th>\n",
       "      <th>amt_in</th>\n",
       "      <th>amt_out</th>\n",
       "      <th>bal_end</th>\n",
       "    </tr>\n",
       "  </thead>\n",
       "  <tbody>\n",
       "    <tr>\n",
       "      <th>2023-01-31</th>\n",
       "      <td>0.0</td>\n",
       "      <td>0.0</td>\n",
       "      <td>0.0</td>\n",
       "      <td>0.0</td>\n",
       "    </tr>\n",
       "    <tr>\n",
       "      <th>2023-02-28</th>\n",
       "      <td>0.0</td>\n",
       "      <td>0.0</td>\n",
       "      <td>0.0</td>\n",
       "      <td>0.0</td>\n",
       "    </tr>\n",
       "    <tr>\n",
       "      <th>2023-03-31</th>\n",
       "      <td>0.0</td>\n",
       "      <td>0.0</td>\n",
       "      <td>0.0</td>\n",
       "      <td>0.0</td>\n",
       "    </tr>\n",
       "    <tr>\n",
       "      <th>2023-04-30</th>\n",
       "      <td>0.0</td>\n",
       "      <td>0.0</td>\n",
       "      <td>0.0</td>\n",
       "      <td>0.0</td>\n",
       "    </tr>\n",
       "    <tr>\n",
       "      <th>2023-05-31</th>\n",
       "      <td>0.0</td>\n",
       "      <td>0.0</td>\n",
       "      <td>0.0</td>\n",
       "      <td>0.0</td>\n",
       "    </tr>\n",
       "    <tr>\n",
       "      <th>2023-06-30</th>\n",
       "      <td>0.0</td>\n",
       "      <td>0.0</td>\n",
       "      <td>0.0</td>\n",
       "      <td>0.0</td>\n",
       "    </tr>\n",
       "    <tr>\n",
       "      <th>2023-07-31</th>\n",
       "      <td>0.0</td>\n",
       "      <td>0.0</td>\n",
       "      <td>0.0</td>\n",
       "      <td>0.0</td>\n",
       "    </tr>\n",
       "    <tr>\n",
       "      <th>2023-08-31</th>\n",
       "      <td>0.0</td>\n",
       "      <td>0.0</td>\n",
       "      <td>0.0</td>\n",
       "      <td>0.0</td>\n",
       "    </tr>\n",
       "    <tr>\n",
       "      <th>2023-09-30</th>\n",
       "      <td>0.0</td>\n",
       "      <td>0.0</td>\n",
       "      <td>0.0</td>\n",
       "      <td>0.0</td>\n",
       "    </tr>\n",
       "    <tr>\n",
       "      <th>2023-10-31</th>\n",
       "      <td>0.0</td>\n",
       "      <td>0.0</td>\n",
       "      <td>0.0</td>\n",
       "      <td>0.0</td>\n",
       "    </tr>\n",
       "    <tr>\n",
       "      <th>2023-11-30</th>\n",
       "      <td>0.0</td>\n",
       "      <td>0.0</td>\n",
       "      <td>0.0</td>\n",
       "      <td>0.0</td>\n",
       "    </tr>\n",
       "    <tr>\n",
       "      <th>2023-12-31</th>\n",
       "      <td>0.0</td>\n",
       "      <td>0.0</td>\n",
       "      <td>0.0</td>\n",
       "      <td>0.0</td>\n",
       "    </tr>\n",
       "  </tbody>\n",
       "</table>\n",
       "</div>"
      ],
      "text/plain": [
       "            bal_strt  amt_in  amt_out  bal_end\n",
       "2023-01-31       0.0     0.0      0.0      0.0\n",
       "2023-02-28       0.0     0.0      0.0      0.0\n",
       "2023-03-31       0.0     0.0      0.0      0.0\n",
       "2023-04-30       0.0     0.0      0.0      0.0\n",
       "2023-05-31       0.0     0.0      0.0      0.0\n",
       "2023-06-30       0.0     0.0      0.0      0.0\n",
       "2023-07-31       0.0     0.0      0.0      0.0\n",
       "2023-08-31       0.0     0.0      0.0      0.0\n",
       "2023-09-30       0.0     0.0      0.0      0.0\n",
       "2023-10-31       0.0     0.0      0.0      0.0\n",
       "2023-11-30       0.0     0.0      0.0      0.0\n",
       "2023-12-31       0.0     0.0      0.0      0.0"
      ]
     },
     "execution_count": 4,
     "metadata": {},
     "output_type": "execute_result"
    }
   ],
   "source": [
    "acc.df"
   ]
  },
  {
   "cell_type": "code",
   "execution_count": 5,
   "id": "9e379167",
   "metadata": {},
   "outputs": [
    {
     "data": {
      "text/plain": [
       "pandas.core.frame.DataFrame"
      ]
     },
     "execution_count": 5,
     "metadata": {},
     "output_type": "execute_result"
    }
   ],
   "source": [
    "type(acc.df)"
   ]
  },
  {
   "cell_type": "code",
   "execution_count": 6,
   "id": "c36038e5",
   "metadata": {},
   "outputs": [
    {
     "data": {
      "text/plain": [
       "pandas.core.frame.DataFrame"
      ]
     },
     "execution_count": 6,
     "metadata": {},
     "output_type": "execute_result"
    }
   ],
   "source": [
    "import cafle\n",
    "\n",
    "idx = cafle.Index('2023.01', 12)\n",
    "idx\n",
    "\n",
    "acc = cafle.Account(idx)\n",
    "acc\n",
    "\n",
    "acc.df\n",
    "\n",
    "type(acc.df)"
   ]
  },
  {
   "cell_type": "code",
   "execution_count": null,
   "id": "7e7315c9",
   "metadata": {},
   "outputs": [],
   "source": []
  },
  {
   "cell_type": "code",
   "execution_count": 7,
   "id": "66902a8e",
   "metadata": {},
   "outputs": [],
   "source": [
    "import cafle as cf"
   ]
  },
  {
   "cell_type": "code",
   "execution_count": 8,
   "id": "34ac67c8",
   "metadata": {},
   "outputs": [
    {
     "data": {
      "text/plain": [
       "DateIndex(['2023.01.31', '2023.02.28', '2023.03.31', '2023.04.30', '2023.05.31', '2023.06.30', '2023.07.31', '2023.08.31', '2023.09.30', '2023.10.31', '2023.11.30', '2023.12.31'])"
      ]
     },
     "execution_count": 8,
     "metadata": {},
     "output_type": "execute_result"
    }
   ],
   "source": [
    "idx = cf.Index(\"2023.01\", 12)\n",
    "idx"
   ]
  },
  {
   "cell_type": "code",
   "execution_count": 9,
   "id": "9b14d6bf",
   "metadata": {},
   "outputs": [
    {
     "data": {
      "text/plain": [
       "Account(main, len 12)"
      ]
     },
     "execution_count": 9,
     "metadata": {},
     "output_type": "execute_result"
    }
   ],
   "source": [
    "acc = cf.Account(idx)\n",
    "acc"
   ]
  },
  {
   "cell_type": "code",
   "execution_count": 10,
   "id": "ee5e7136",
   "metadata": {
    "scrolled": false
   },
   "outputs": [
    {
     "data": {
      "text/html": [
       "<div>\n",
       "<style scoped>\n",
       "    .dataframe tbody tr th:only-of-type {\n",
       "        vertical-align: middle;\n",
       "    }\n",
       "\n",
       "    .dataframe tbody tr th {\n",
       "        vertical-align: top;\n",
       "    }\n",
       "\n",
       "    .dataframe thead th {\n",
       "        text-align: right;\n",
       "    }\n",
       "</style>\n",
       "<table border=\"1\" class=\"dataframe\">\n",
       "  <thead>\n",
       "    <tr style=\"text-align: right;\">\n",
       "      <th></th>\n",
       "      <th>bal_strt</th>\n",
       "      <th>amt_in</th>\n",
       "      <th>amt_out</th>\n",
       "      <th>bal_end</th>\n",
       "    </tr>\n",
       "  </thead>\n",
       "  <tbody>\n",
       "    <tr>\n",
       "      <th>2023-01-31</th>\n",
       "      <td>0.0</td>\n",
       "      <td>0.0</td>\n",
       "      <td>0.0</td>\n",
       "      <td>0.0</td>\n",
       "    </tr>\n",
       "    <tr>\n",
       "      <th>2023-02-28</th>\n",
       "      <td>0.0</td>\n",
       "      <td>0.0</td>\n",
       "      <td>0.0</td>\n",
       "      <td>0.0</td>\n",
       "    </tr>\n",
       "    <tr>\n",
       "      <th>2023-03-31</th>\n",
       "      <td>0.0</td>\n",
       "      <td>0.0</td>\n",
       "      <td>0.0</td>\n",
       "      <td>0.0</td>\n",
       "    </tr>\n",
       "    <tr>\n",
       "      <th>2023-04-30</th>\n",
       "      <td>0.0</td>\n",
       "      <td>0.0</td>\n",
       "      <td>0.0</td>\n",
       "      <td>0.0</td>\n",
       "    </tr>\n",
       "    <tr>\n",
       "      <th>2023-05-31</th>\n",
       "      <td>0.0</td>\n",
       "      <td>0.0</td>\n",
       "      <td>0.0</td>\n",
       "      <td>0.0</td>\n",
       "    </tr>\n",
       "    <tr>\n",
       "      <th>2023-06-30</th>\n",
       "      <td>0.0</td>\n",
       "      <td>0.0</td>\n",
       "      <td>0.0</td>\n",
       "      <td>0.0</td>\n",
       "    </tr>\n",
       "    <tr>\n",
       "      <th>2023-07-31</th>\n",
       "      <td>0.0</td>\n",
       "      <td>0.0</td>\n",
       "      <td>0.0</td>\n",
       "      <td>0.0</td>\n",
       "    </tr>\n",
       "    <tr>\n",
       "      <th>2023-08-31</th>\n",
       "      <td>0.0</td>\n",
       "      <td>0.0</td>\n",
       "      <td>0.0</td>\n",
       "      <td>0.0</td>\n",
       "    </tr>\n",
       "    <tr>\n",
       "      <th>2023-09-30</th>\n",
       "      <td>0.0</td>\n",
       "      <td>0.0</td>\n",
       "      <td>0.0</td>\n",
       "      <td>0.0</td>\n",
       "    </tr>\n",
       "    <tr>\n",
       "      <th>2023-10-31</th>\n",
       "      <td>0.0</td>\n",
       "      <td>0.0</td>\n",
       "      <td>0.0</td>\n",
       "      <td>0.0</td>\n",
       "    </tr>\n",
       "    <tr>\n",
       "      <th>2023-11-30</th>\n",
       "      <td>0.0</td>\n",
       "      <td>0.0</td>\n",
       "      <td>0.0</td>\n",
       "      <td>0.0</td>\n",
       "    </tr>\n",
       "    <tr>\n",
       "      <th>2023-12-31</th>\n",
       "      <td>0.0</td>\n",
       "      <td>0.0</td>\n",
       "      <td>0.0</td>\n",
       "      <td>0.0</td>\n",
       "    </tr>\n",
       "  </tbody>\n",
       "</table>\n",
       "</div>"
      ],
      "text/plain": [
       "            bal_strt  amt_in  amt_out  bal_end\n",
       "2023-01-31       0.0     0.0      0.0      0.0\n",
       "2023-02-28       0.0     0.0      0.0      0.0\n",
       "2023-03-31       0.0     0.0      0.0      0.0\n",
       "2023-04-30       0.0     0.0      0.0      0.0\n",
       "2023-05-31       0.0     0.0      0.0      0.0\n",
       "2023-06-30       0.0     0.0      0.0      0.0\n",
       "2023-07-31       0.0     0.0      0.0      0.0\n",
       "2023-08-31       0.0     0.0      0.0      0.0\n",
       "2023-09-30       0.0     0.0      0.0      0.0\n",
       "2023-10-31       0.0     0.0      0.0      0.0\n",
       "2023-11-30       0.0     0.0      0.0      0.0\n",
       "2023-12-31       0.0     0.0      0.0      0.0"
      ]
     },
     "execution_count": 10,
     "metadata": {},
     "output_type": "execute_result"
    }
   ],
   "source": [
    "acc.df"
   ]
  },
  {
   "cell_type": "code",
   "execution_count": null,
   "id": "b3f339ba",
   "metadata": {},
   "outputs": [],
   "source": []
  },
  {
   "cell_type": "code",
   "execution_count": 11,
   "id": "94187749",
   "metadata": {},
   "outputs": [],
   "source": [
    "from cafle import Index, Account"
   ]
  },
  {
   "cell_type": "code",
   "execution_count": 12,
   "id": "d6b0711b",
   "metadata": {},
   "outputs": [
    {
     "data": {
      "text/plain": [
       "DateIndex(['2023.01.31', '2023.02.28', '2023.03.31', '2023.04.30', '2023.05.31', '2023.06.30', '2023.07.31', '2023.08.31', '2023.09.30', '2023.10.31', '2023.11.30', '2023.12.31'])"
      ]
     },
     "execution_count": 12,
     "metadata": {},
     "output_type": "execute_result"
    }
   ],
   "source": [
    "idx = Index('2023.01', 12)\n",
    "idx"
   ]
  },
  {
   "cell_type": "code",
   "execution_count": 13,
   "id": "4a2b6dbc",
   "metadata": {},
   "outputs": [
    {
     "data": {
      "text/plain": [
       "Account(main, len 12)"
      ]
     },
     "execution_count": 13,
     "metadata": {},
     "output_type": "execute_result"
    }
   ],
   "source": [
    "acc = Account(idx)\n",
    "acc"
   ]
  },
  {
   "cell_type": "code",
   "execution_count": 14,
   "id": "127aa94e",
   "metadata": {
    "scrolled": false
   },
   "outputs": [
    {
     "data": {
      "text/html": [
       "<div>\n",
       "<style scoped>\n",
       "    .dataframe tbody tr th:only-of-type {\n",
       "        vertical-align: middle;\n",
       "    }\n",
       "\n",
       "    .dataframe tbody tr th {\n",
       "        vertical-align: top;\n",
       "    }\n",
       "\n",
       "    .dataframe thead th {\n",
       "        text-align: right;\n",
       "    }\n",
       "</style>\n",
       "<table border=\"1\" class=\"dataframe\">\n",
       "  <thead>\n",
       "    <tr style=\"text-align: right;\">\n",
       "      <th></th>\n",
       "      <th>bal_strt</th>\n",
       "      <th>amt_in</th>\n",
       "      <th>amt_out</th>\n",
       "      <th>bal_end</th>\n",
       "    </tr>\n",
       "  </thead>\n",
       "  <tbody>\n",
       "    <tr>\n",
       "      <th>2023-01-31</th>\n",
       "      <td>0.0</td>\n",
       "      <td>0.0</td>\n",
       "      <td>0.0</td>\n",
       "      <td>0.0</td>\n",
       "    </tr>\n",
       "    <tr>\n",
       "      <th>2023-02-28</th>\n",
       "      <td>0.0</td>\n",
       "      <td>0.0</td>\n",
       "      <td>0.0</td>\n",
       "      <td>0.0</td>\n",
       "    </tr>\n",
       "    <tr>\n",
       "      <th>2023-03-31</th>\n",
       "      <td>0.0</td>\n",
       "      <td>0.0</td>\n",
       "      <td>0.0</td>\n",
       "      <td>0.0</td>\n",
       "    </tr>\n",
       "    <tr>\n",
       "      <th>2023-04-30</th>\n",
       "      <td>0.0</td>\n",
       "      <td>0.0</td>\n",
       "      <td>0.0</td>\n",
       "      <td>0.0</td>\n",
       "    </tr>\n",
       "    <tr>\n",
       "      <th>2023-05-31</th>\n",
       "      <td>0.0</td>\n",
       "      <td>0.0</td>\n",
       "      <td>0.0</td>\n",
       "      <td>0.0</td>\n",
       "    </tr>\n",
       "    <tr>\n",
       "      <th>2023-06-30</th>\n",
       "      <td>0.0</td>\n",
       "      <td>0.0</td>\n",
       "      <td>0.0</td>\n",
       "      <td>0.0</td>\n",
       "    </tr>\n",
       "    <tr>\n",
       "      <th>2023-07-31</th>\n",
       "      <td>0.0</td>\n",
       "      <td>0.0</td>\n",
       "      <td>0.0</td>\n",
       "      <td>0.0</td>\n",
       "    </tr>\n",
       "    <tr>\n",
       "      <th>2023-08-31</th>\n",
       "      <td>0.0</td>\n",
       "      <td>0.0</td>\n",
       "      <td>0.0</td>\n",
       "      <td>0.0</td>\n",
       "    </tr>\n",
       "    <tr>\n",
       "      <th>2023-09-30</th>\n",
       "      <td>0.0</td>\n",
       "      <td>0.0</td>\n",
       "      <td>0.0</td>\n",
       "      <td>0.0</td>\n",
       "    </tr>\n",
       "    <tr>\n",
       "      <th>2023-10-31</th>\n",
       "      <td>0.0</td>\n",
       "      <td>0.0</td>\n",
       "      <td>0.0</td>\n",
       "      <td>0.0</td>\n",
       "    </tr>\n",
       "    <tr>\n",
       "      <th>2023-11-30</th>\n",
       "      <td>0.0</td>\n",
       "      <td>0.0</td>\n",
       "      <td>0.0</td>\n",
       "      <td>0.0</td>\n",
       "    </tr>\n",
       "    <tr>\n",
       "      <th>2023-12-31</th>\n",
       "      <td>0.0</td>\n",
       "      <td>0.0</td>\n",
       "      <td>0.0</td>\n",
       "      <td>0.0</td>\n",
       "    </tr>\n",
       "  </tbody>\n",
       "</table>\n",
       "</div>"
      ],
      "text/plain": [
       "            bal_strt  amt_in  amt_out  bal_end\n",
       "2023-01-31       0.0     0.0      0.0      0.0\n",
       "2023-02-28       0.0     0.0      0.0      0.0\n",
       "2023-03-31       0.0     0.0      0.0      0.0\n",
       "2023-04-30       0.0     0.0      0.0      0.0\n",
       "2023-05-31       0.0     0.0      0.0      0.0\n",
       "2023-06-30       0.0     0.0      0.0      0.0\n",
       "2023-07-31       0.0     0.0      0.0      0.0\n",
       "2023-08-31       0.0     0.0      0.0      0.0\n",
       "2023-09-30       0.0     0.0      0.0      0.0\n",
       "2023-10-31       0.0     0.0      0.0      0.0\n",
       "2023-11-30       0.0     0.0      0.0      0.0\n",
       "2023-12-31       0.0     0.0      0.0      0.0"
      ]
     },
     "execution_count": 14,
     "metadata": {},
     "output_type": "execute_result"
    }
   ],
   "source": [
    "acc.df"
   ]
  },
  {
   "cell_type": "code",
   "execution_count": 15,
   "id": "f34036e8",
   "metadata": {},
   "outputs": [],
   "source": [
    "acc.addamt('2023.01', 30_000)\n",
    "acc.subamt('2023.04', 10_000)\n",
    "acc.subamt('2023.05', 10_000)"
   ]
  },
  {
   "cell_type": "code",
   "execution_count": 16,
   "id": "8bc7f5e2",
   "metadata": {
    "scrolled": true
   },
   "outputs": [
    {
     "data": {
      "text/html": [
       "<div>\n",
       "<style scoped>\n",
       "    .dataframe tbody tr th:only-of-type {\n",
       "        vertical-align: middle;\n",
       "    }\n",
       "\n",
       "    .dataframe tbody tr th {\n",
       "        vertical-align: top;\n",
       "    }\n",
       "\n",
       "    .dataframe thead th {\n",
       "        text-align: right;\n",
       "    }\n",
       "</style>\n",
       "<table border=\"1\" class=\"dataframe\">\n",
       "  <thead>\n",
       "    <tr style=\"text-align: right;\">\n",
       "      <th></th>\n",
       "      <th>bal_strt</th>\n",
       "      <th>amt_in</th>\n",
       "      <th>amt_out</th>\n",
       "      <th>bal_end</th>\n",
       "    </tr>\n",
       "  </thead>\n",
       "  <tbody>\n",
       "    <tr>\n",
       "      <th>2023-01-31</th>\n",
       "      <td>0.0</td>\n",
       "      <td>30000.0</td>\n",
       "      <td>0.0</td>\n",
       "      <td>30000.0</td>\n",
       "    </tr>\n",
       "    <tr>\n",
       "      <th>2023-02-28</th>\n",
       "      <td>30000.0</td>\n",
       "      <td>0.0</td>\n",
       "      <td>0.0</td>\n",
       "      <td>30000.0</td>\n",
       "    </tr>\n",
       "    <tr>\n",
       "      <th>2023-03-31</th>\n",
       "      <td>30000.0</td>\n",
       "      <td>0.0</td>\n",
       "      <td>0.0</td>\n",
       "      <td>30000.0</td>\n",
       "    </tr>\n",
       "    <tr>\n",
       "      <th>2023-04-30</th>\n",
       "      <td>30000.0</td>\n",
       "      <td>0.0</td>\n",
       "      <td>10000.0</td>\n",
       "      <td>20000.0</td>\n",
       "    </tr>\n",
       "    <tr>\n",
       "      <th>2023-05-31</th>\n",
       "      <td>20000.0</td>\n",
       "      <td>0.0</td>\n",
       "      <td>10000.0</td>\n",
       "      <td>10000.0</td>\n",
       "    </tr>\n",
       "    <tr>\n",
       "      <th>2023-06-30</th>\n",
       "      <td>10000.0</td>\n",
       "      <td>0.0</td>\n",
       "      <td>0.0</td>\n",
       "      <td>10000.0</td>\n",
       "    </tr>\n",
       "    <tr>\n",
       "      <th>2023-07-31</th>\n",
       "      <td>10000.0</td>\n",
       "      <td>0.0</td>\n",
       "      <td>0.0</td>\n",
       "      <td>10000.0</td>\n",
       "    </tr>\n",
       "    <tr>\n",
       "      <th>2023-08-31</th>\n",
       "      <td>10000.0</td>\n",
       "      <td>0.0</td>\n",
       "      <td>0.0</td>\n",
       "      <td>10000.0</td>\n",
       "    </tr>\n",
       "    <tr>\n",
       "      <th>2023-09-30</th>\n",
       "      <td>10000.0</td>\n",
       "      <td>0.0</td>\n",
       "      <td>0.0</td>\n",
       "      <td>10000.0</td>\n",
       "    </tr>\n",
       "    <tr>\n",
       "      <th>2023-10-31</th>\n",
       "      <td>10000.0</td>\n",
       "      <td>0.0</td>\n",
       "      <td>0.0</td>\n",
       "      <td>10000.0</td>\n",
       "    </tr>\n",
       "    <tr>\n",
       "      <th>2023-11-30</th>\n",
       "      <td>10000.0</td>\n",
       "      <td>0.0</td>\n",
       "      <td>0.0</td>\n",
       "      <td>10000.0</td>\n",
       "    </tr>\n",
       "    <tr>\n",
       "      <th>2023-12-31</th>\n",
       "      <td>10000.0</td>\n",
       "      <td>0.0</td>\n",
       "      <td>0.0</td>\n",
       "      <td>10000.0</td>\n",
       "    </tr>\n",
       "  </tbody>\n",
       "</table>\n",
       "</div>"
      ],
      "text/plain": [
       "            bal_strt   amt_in  amt_out  bal_end\n",
       "2023-01-31       0.0  30000.0      0.0  30000.0\n",
       "2023-02-28   30000.0      0.0      0.0  30000.0\n",
       "2023-03-31   30000.0      0.0      0.0  30000.0\n",
       "2023-04-30   30000.0      0.0  10000.0  20000.0\n",
       "2023-05-31   20000.0      0.0  10000.0  10000.0\n",
       "2023-06-30   10000.0      0.0      0.0  10000.0\n",
       "2023-07-31   10000.0      0.0      0.0  10000.0\n",
       "2023-08-31   10000.0      0.0      0.0  10000.0\n",
       "2023-09-30   10000.0      0.0      0.0  10000.0\n",
       "2023-10-31   10000.0      0.0      0.0  10000.0\n",
       "2023-11-30   10000.0      0.0      0.0  10000.0\n",
       "2023-12-31   10000.0      0.0      0.0  10000.0"
      ]
     },
     "execution_count": 16,
     "metadata": {},
     "output_type": "execute_result"
    }
   ],
   "source": [
    "acc.df"
   ]
  },
  {
   "cell_type": "code",
   "execution_count": null,
   "id": "681ec432",
   "metadata": {},
   "outputs": [],
   "source": []
  }
 ],
 "metadata": {
  "kernelspec": {
   "display_name": "Python 3 (ipykernel)",
   "language": "python",
   "name": "python3"
  },
  "language_info": {
   "codemirror_mode": {
    "name": "ipython",
    "version": 3
   },
   "file_extension": ".py",
   "mimetype": "text/x-python",
   "name": "python",
   "nbconvert_exporter": "python",
   "pygments_lexer": "ipython3",
   "version": "3.7.13"
  }
 },
 "nbformat": 4,
 "nbformat_minor": 5
}
