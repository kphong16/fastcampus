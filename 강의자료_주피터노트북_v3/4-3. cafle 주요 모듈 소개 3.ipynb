{
 "cells": [
  {
   "cell_type": "markdown",
   "id": "2fc7f721",
   "metadata": {},
   "source": [
    "# [ 4-3. cafle 주요 모듈 소개 3 ]"
   ]
  },
  {
   "cell_type": "markdown",
   "id": "b7cc114c",
   "metadata": {},
   "source": [
    "## 7. Write 모듈\n",
    "* 엑셀파일을 생성하고, 작성된 현금흐름을 엑셀에 기입."
   ]
  },
  {
   "cell_type": "code",
   "execution_count": 1,
   "id": "c8828b8e",
   "metadata": {},
   "outputs": [],
   "source": [
    "import cafle as cf\n",
    "from cafle import Index, Account\n",
    "from cafle import Write, Cell"
   ]
  },
  {
   "cell_type": "code",
   "execution_count": 2,
   "id": "7d19a014",
   "metadata": {},
   "outputs": [
    {
     "data": {
      "text/plain": [
       "0"
      ]
     },
     "execution_count": 2,
     "metadata": {},
     "output_type": "execute_result"
    }
   ],
   "source": [
    "wb = Write(\"exercise01.xlsx\")\n",
    "ws = wb.add_ws(\"cashflow\")\n",
    "wb.ws[\"cashflow\"].set_column(\"A:K\", 12)"
   ]
  },
  {
   "cell_type": "code",
   "execution_count": 3,
   "id": "1492d15a",
   "metadata": {},
   "outputs": [
    {
     "data": {
      "text/plain": [
       "Cell(11, 0)"
      ]
     },
     "execution_count": 3,
     "metadata": {},
     "output_type": "execute_result"
    }
   ],
   "source": [
    "#단어 출력\n",
    "ws(\"Cashflow_normal\")\n",
    "ws(\"Cashflow_bold\", wb.bold)\n",
    "\n",
    "#한 행 띄우기\n",
    "ws.nextcell(1)\n",
    "\n",
    "#리스트 출력\n",
    "ws([\"Cashflow\", \"내용1\", \"내용2\"])\n",
    "ws([\"Cashflow\", \"내용1\", \"내용2\"], [wb.bold, wb.nml, wb.nml])\n",
    "\n",
    "#한 행 띄우기\n",
    "ws.nextcell(1)\n",
    "\n",
    "#딕셔너리 출력(행방향)\n",
    "dct = {\"구분1\": [10, 20, 30],\n",
    "       \"구분2\": [100, 200, 300]}\n",
    "ws(dct)\n",
    "\n",
    "#한 행 띄우기\n",
    "ws.nextcell(1)"
   ]
  },
  {
   "cell_type": "code",
   "execution_count": 4,
   "id": "a5c715d9",
   "metadata": {},
   "outputs": [
    {
     "data": {
      "text/plain": [
       "Cell(19, 0)"
      ]
     },
     "execution_count": 4,
     "metadata": {},
     "output_type": "execute_result"
    }
   ],
   "source": [
    "#딕셔너리 출력(열방향)\n",
    "ws(dct, valdrtn='col')\n",
    "\n",
    "ws.nextcell(1)\n",
    "\n",
    "#딕셔너리 출력(구분항목은 bold로)\n",
    "ws(dct, fmtkey=wb.bold)\n",
    "\n",
    "ws.nextcell(1)"
   ]
  },
  {
   "cell_type": "code",
   "execution_count": 5,
   "id": "3a304107",
   "metadata": {},
   "outputs": [
    {
     "data": {
      "text/plain": [
       "Cell(27, 0)"
      ]
     },
     "execution_count": 5,
     "metadata": {},
     "output_type": "execute_result"
    }
   ],
   "source": [
    "#DataFrame 출력\n",
    "\n",
    "import pandas as pd\n",
    "df = pd.DataFrame(dct)\n",
    "\n",
    "ws(df)\n",
    "\n",
    "ws.nextcell(1)\n",
    "\n",
    "ws(df, valdrtn='col')"
   ]
  },
  {
   "cell_type": "code",
   "execution_count": 6,
   "id": "11ce530c",
   "metadata": {},
   "outputs": [
    {
     "data": {
      "text/plain": [
       "True"
      ]
     },
     "execution_count": 6,
     "metadata": {},
     "output_type": "execute_result"
    }
   ],
   "source": [
    "wb.close()"
   ]
  },
  {
   "cell_type": "code",
   "execution_count": null,
   "id": "48f53af2",
   "metadata": {},
   "outputs": [],
   "source": []
  },
  {
   "cell_type": "markdown",
   "id": "53c94eff",
   "metadata": {},
   "source": [
    "### CashFlow 출력하기"
   ]
  },
  {
   "cell_type": "code",
   "execution_count": 7,
   "id": "398f4f0c",
   "metadata": {},
   "outputs": [],
   "source": [
    "idx = Index(\"2023.01\", 12)\n",
    "oprtg = Account(idx)\n",
    "\n",
    "oprtg.subamt(idx[0], 10_000)\n",
    "oprtg.addamt(idx[1:10], 100)\n",
    "oprtg.addamt(idx[11], 10_000)"
   ]
  },
  {
   "cell_type": "code",
   "execution_count": 8,
   "id": "116b9989",
   "metadata": {},
   "outputs": [
    {
     "data": {
      "text/html": [
       "<div>\n",
       "<style scoped>\n",
       "    .dataframe tbody tr th:only-of-type {\n",
       "        vertical-align: middle;\n",
       "    }\n",
       "\n",
       "    .dataframe tbody tr th {\n",
       "        vertical-align: top;\n",
       "    }\n",
       "\n",
       "    .dataframe thead th {\n",
       "        text-align: right;\n",
       "    }\n",
       "</style>\n",
       "<table border=\"1\" class=\"dataframe\">\n",
       "  <thead>\n",
       "    <tr style=\"text-align: right;\">\n",
       "      <th></th>\n",
       "      <th>bal_strt</th>\n",
       "      <th>amt_in</th>\n",
       "      <th>amt_out</th>\n",
       "      <th>bal_end</th>\n",
       "    </tr>\n",
       "  </thead>\n",
       "  <tbody>\n",
       "    <tr>\n",
       "      <th>2023-01-31</th>\n",
       "      <td>0.0</td>\n",
       "      <td>0.0</td>\n",
       "      <td>10000.0</td>\n",
       "      <td>-10000.0</td>\n",
       "    </tr>\n",
       "    <tr>\n",
       "      <th>2023-02-28</th>\n",
       "      <td>-10000.0</td>\n",
       "      <td>100.0</td>\n",
       "      <td>0.0</td>\n",
       "      <td>-9900.0</td>\n",
       "    </tr>\n",
       "    <tr>\n",
       "      <th>2023-03-31</th>\n",
       "      <td>-9900.0</td>\n",
       "      <td>100.0</td>\n",
       "      <td>0.0</td>\n",
       "      <td>-9800.0</td>\n",
       "    </tr>\n",
       "    <tr>\n",
       "      <th>2023-04-30</th>\n",
       "      <td>-9800.0</td>\n",
       "      <td>100.0</td>\n",
       "      <td>0.0</td>\n",
       "      <td>-9700.0</td>\n",
       "    </tr>\n",
       "    <tr>\n",
       "      <th>2023-05-31</th>\n",
       "      <td>-9700.0</td>\n",
       "      <td>100.0</td>\n",
       "      <td>0.0</td>\n",
       "      <td>-9600.0</td>\n",
       "    </tr>\n",
       "    <tr>\n",
       "      <th>2023-06-30</th>\n",
       "      <td>-9600.0</td>\n",
       "      <td>100.0</td>\n",
       "      <td>0.0</td>\n",
       "      <td>-9500.0</td>\n",
       "    </tr>\n",
       "    <tr>\n",
       "      <th>2023-07-31</th>\n",
       "      <td>-9500.0</td>\n",
       "      <td>100.0</td>\n",
       "      <td>0.0</td>\n",
       "      <td>-9400.0</td>\n",
       "    </tr>\n",
       "    <tr>\n",
       "      <th>2023-08-31</th>\n",
       "      <td>-9400.0</td>\n",
       "      <td>100.0</td>\n",
       "      <td>0.0</td>\n",
       "      <td>-9300.0</td>\n",
       "    </tr>\n",
       "    <tr>\n",
       "      <th>2023-09-30</th>\n",
       "      <td>-9300.0</td>\n",
       "      <td>100.0</td>\n",
       "      <td>0.0</td>\n",
       "      <td>-9200.0</td>\n",
       "    </tr>\n",
       "    <tr>\n",
       "      <th>2023-10-31</th>\n",
       "      <td>-9200.0</td>\n",
       "      <td>100.0</td>\n",
       "      <td>0.0</td>\n",
       "      <td>-9100.0</td>\n",
       "    </tr>\n",
       "    <tr>\n",
       "      <th>2023-11-30</th>\n",
       "      <td>-9100.0</td>\n",
       "      <td>0.0</td>\n",
       "      <td>0.0</td>\n",
       "      <td>-9100.0</td>\n",
       "    </tr>\n",
       "    <tr>\n",
       "      <th>2023-12-31</th>\n",
       "      <td>-9100.0</td>\n",
       "      <td>10000.0</td>\n",
       "      <td>0.0</td>\n",
       "      <td>900.0</td>\n",
       "    </tr>\n",
       "  </tbody>\n",
       "</table>\n",
       "</div>"
      ],
      "text/plain": [
       "            bal_strt   amt_in  amt_out  bal_end\n",
       "2023-01-31       0.0      0.0  10000.0 -10000.0\n",
       "2023-02-28  -10000.0    100.0      0.0  -9900.0\n",
       "2023-03-31   -9900.0    100.0      0.0  -9800.0\n",
       "2023-04-30   -9800.0    100.0      0.0  -9700.0\n",
       "2023-05-31   -9700.0    100.0      0.0  -9600.0\n",
       "2023-06-30   -9600.0    100.0      0.0  -9500.0\n",
       "2023-07-31   -9500.0    100.0      0.0  -9400.0\n",
       "2023-08-31   -9400.0    100.0      0.0  -9300.0\n",
       "2023-09-30   -9300.0    100.0      0.0  -9200.0\n",
       "2023-10-31   -9200.0    100.0      0.0  -9100.0\n",
       "2023-11-30   -9100.0      0.0      0.0  -9100.0\n",
       "2023-12-31   -9100.0  10000.0      0.0    900.0"
      ]
     },
     "execution_count": 8,
     "metadata": {},
     "output_type": "execute_result"
    }
   ],
   "source": [
    "oprtg.df"
   ]
  },
  {
   "cell_type": "code",
   "execution_count": null,
   "id": "3e8eabf7",
   "metadata": {},
   "outputs": [],
   "source": []
  },
  {
   "cell_type": "code",
   "execution_count": 9,
   "id": "9025ea83",
   "metadata": {},
   "outputs": [
    {
     "data": {
      "text/plain": [
       "Cell(15, 0)"
      ]
     },
     "execution_count": 9,
     "metadata": {},
     "output_type": "execute_result"
    }
   ],
   "source": [
    "wb = Write(\"exercise02.xlsx\")\n",
    "ws = wb.add_ws(\"operating\")\n",
    "wb.ws[\"operating\"].set_column(\"A:E\", 12)\n",
    "\n",
    "ws(\"Operating Account\")\n",
    "ws.nextcell(1)\n",
    "ws(oprtg.df, fmtidx=wb.date, fmtkey=wb.bold, fmt=wb.num)"
   ]
  },
  {
   "cell_type": "code",
   "execution_count": 10,
   "id": "fac88feb",
   "metadata": {},
   "outputs": [
    {
     "data": {
      "text/plain": [
       "Cell(15, 0)"
      ]
     },
     "execution_count": 10,
     "metadata": {},
     "output_type": "execute_result"
    }
   ],
   "source": [
    "ws = wb.add_ws(\"operating_all\")\n",
    "wb.ws[\"operating_all\"].set_column(\"A:M\", 12)\n",
    "\n",
    "ws(\"Operating All\")\n",
    "ws.nextcell(1)\n",
    "ws(oprtg.dfall, fmtidx=wb.date, fmtkey=wb.bold, fmt=wb.num)"
   ]
  },
  {
   "cell_type": "code",
   "execution_count": 11,
   "id": "85b72313",
   "metadata": {},
   "outputs": [
    {
     "data": {
      "text/plain": [
       "True"
      ]
     },
     "execution_count": 11,
     "metadata": {},
     "output_type": "execute_result"
    }
   ],
   "source": [
    "wb.close()"
   ]
  },
  {
   "cell_type": "code",
   "execution_count": null,
   "id": "bf1eb2d4",
   "metadata": {},
   "outputs": [],
   "source": []
  },
  {
   "cell_type": "markdown",
   "id": "7cf3e0ca",
   "metadata": {},
   "source": [
    "### format 설정하기"
   ]
  },
  {
   "cell_type": "markdown",
   "id": "0ea82939",
   "metadata": {},
   "source": [
    "* wb.nml : 표준 텍스트\n",
    "* wb.bold : bold 텍스트\n",
    "* wb.num : '#,##0' 형태 숫자\n",
    "* wb.numb : '#,##0' 형태 숫자 + bold\n",
    "* wb.pct : '0.0%' 형태의 백분율\n",
    "* wb.pct2 : '0.00%' 형태의 백분율\n",
    "* wb.date : 'yyyy-mm-dd' 형태의 날짜\n",
    "* wb.month : '#,##0\"개월\"' 형태의 숫자 + 텍스트\n",
    "* wb.now : 현재 날짜 및 시간"
   ]
  },
  {
   "cell_type": "markdown",
   "id": "80940910",
   "metadata": {},
   "source": [
    "임의 설정\n",
    "* wb.fmtnum(fmt, **kwargs) : fmt 형태의 숫자 format + 추가 조건들\n",
    "  * 예1) wb.fmtnum('#,##0') 은 wb.num과 같은 형태\n",
    "  * 예2) wb.fmtnum('#,##0', bold=True) 은 wb.numb와 같은 형태\n",
    "  * 예3) wb.fmtnum('$#,##0.00', bold=True, font_color='red')\n",
    "  * fmt : 엑셀 상 포맷 형식 사용 가능"
   ]
  },
  {
   "cell_type": "code",
   "execution_count": null,
   "id": "d1f0761c",
   "metadata": {},
   "outputs": [],
   "source": []
  },
  {
   "cell_type": "code",
   "execution_count": 12,
   "id": "ed58c342",
   "metadata": {},
   "outputs": [
    {
     "data": {
      "text/plain": [
       "True"
      ]
     },
     "execution_count": 12,
     "metadata": {},
     "output_type": "execute_result"
    }
   ],
   "source": [
    "wb = Write(\"exercise03.xlsx\")\n",
    "ws = wb.add_ws(\"exercise\")\n",
    "\n",
    "ws(\"표준 텍스트\", wb.nml)\n",
    "ws(\"bold 텍스트\", wb.bold)\n",
    "ws(123000, wb.num)\n",
    "ws(123000, wb.numb)\n",
    "ws(0.075, wb.pct)\n",
    "ws(0.075, wb.pct2)\n",
    "ws(idx[0], wb.date)\n",
    "ws(12, wb.month)\n",
    "ws(wb.now, wb.date)\n",
    "\n",
    "ws.nextcell(1)\n",
    "fmt = wb.fmtnum(\"#,##0_);[red](#,##0);-_)\")\n",
    "ws(123000, fmt)\n",
    "ws(-123000, fmt)\n",
    "ws(0.1, fmt)\n",
    "ws(0, fmt)\n",
    "wb.close()"
   ]
  },
  {
   "cell_type": "code",
   "execution_count": null,
   "id": "f5581503",
   "metadata": {},
   "outputs": [],
   "source": []
  },
  {
   "cell_type": "markdown",
   "id": "9dba5a46",
   "metadata": {},
   "source": [
    "### worksheet 기본 format 설정하기\n",
    "* Write 모듈은 XlsxWriter 라이브러리를 기반으로 작성되었으며, 이에 XlsxWriter 라이브러리의 속성이나, 메서드를 이용할 수 있음.\n",
    "  * 참고 사이트 : xlsxwriter.readthedocs.io\n",
    "* wb.wb와 wb.ws는 XlsxWriter 패키지 상 객체를 반환하며, 이를 이용하여 XlsxWriter의 메서드를 사용할 수 있음.\n",
    "* wb.ws[\"sheet name\"].set_column(\"column\", \"너비\", \"format 내용\")을 실행하여 worksheet 전체의 format 설정 가능함."
   ]
  },
  {
   "cell_type": "code",
   "execution_count": 13,
   "id": "d698c38b",
   "metadata": {},
   "outputs": [
    {
     "data": {
      "text/plain": [
       "True"
      ]
     },
     "execution_count": 13,
     "metadata": {},
     "output_type": "execute_result"
    }
   ],
   "source": [
    "wb = Write(\"exercise04.xlsx\")\n",
    "ws = wb.add_ws(\"exercise\")\n",
    "wb.ws[\"exercise\"].set_column('A:D', 10, wb.num)\n",
    "ws([123_000, 321_000, 456_000, 654_000])\n",
    "ws([123_000, 321_000, 456_000, 654_000])\n",
    "ws([123_000, 321_000, 456_000, 654_000])\n",
    "\n",
    "wb.close()"
   ]
  },
  {
   "cell_type": "code",
   "execution_count": 14,
   "id": "04503076",
   "metadata": {},
   "outputs": [
    {
     "data": {
      "text/plain": [
       "cafle.write.Write"
      ]
     },
     "execution_count": 14,
     "metadata": {},
     "output_type": "execute_result"
    }
   ],
   "source": [
    "type(wb)"
   ]
  },
  {
   "cell_type": "code",
   "execution_count": 15,
   "id": "806253c0",
   "metadata": {},
   "outputs": [
    {
     "data": {
      "text/plain": [
       "cafle.write.WriteWS"
      ]
     },
     "execution_count": 15,
     "metadata": {},
     "output_type": "execute_result"
    }
   ],
   "source": [
    "type(ws)"
   ]
  },
  {
   "cell_type": "code",
   "execution_count": 16,
   "id": "968065b6",
   "metadata": {},
   "outputs": [
    {
     "data": {
      "text/plain": [
       "xlsxwriter.workbook.Workbook"
      ]
     },
     "execution_count": 16,
     "metadata": {},
     "output_type": "execute_result"
    }
   ],
   "source": [
    "type(wb.wb)"
   ]
  },
  {
   "cell_type": "code",
   "execution_count": 17,
   "id": "817cd0f1",
   "metadata": {},
   "outputs": [
    {
     "data": {
      "text/plain": [
       "xlsxwriter.worksheet.Worksheet"
      ]
     },
     "execution_count": 17,
     "metadata": {},
     "output_type": "execute_result"
    }
   ],
   "source": [
    "type(wb.ws['exercise'])"
   ]
  },
  {
   "cell_type": "code",
   "execution_count": null,
   "id": "f72e3620",
   "metadata": {},
   "outputs": [],
   "source": []
  },
  {
   "cell_type": "code",
   "execution_count": 18,
   "id": "6bc34c0b",
   "metadata": {},
   "outputs": [
    {
     "data": {
      "text/plain": [
       "True"
      ]
     },
     "execution_count": 18,
     "metadata": {},
     "output_type": "execute_result"
    }
   ],
   "source": [
    "wb = Write(\"exercise05.xlsx\")\n",
    "fmt = wb.fmtnum(\"#,##0_);[red](#,##0);-_)\")\n",
    "ws = wb.add_ws(\"exercise\")\n",
    "wb.ws[\"exercise\"].set_column('A:D', 10, fmt)\n",
    "ws([123_000, -321_000, 0.1, 0])\n",
    "ws([123_000, -321_000, 0.1, 0])\n",
    "ws([123_000, -321_000, 0.1, 0])\n",
    "\n",
    "wb.close()"
   ]
  },
  {
   "cell_type": "code",
   "execution_count": null,
   "id": "b61276af",
   "metadata": {},
   "outputs": [],
   "source": []
  }
 ],
 "metadata": {
  "kernelspec": {
   "display_name": "Python 3 (ipykernel)",
   "language": "python",
   "name": "python3"
  },
  "language_info": {
   "codemirror_mode": {
    "name": "ipython",
    "version": 3
   },
   "file_extension": ".py",
   "mimetype": "text/x-python",
   "name": "python",
   "nbconvert_exporter": "python",
   "pygments_lexer": "ipython3",
   "version": "3.7.13"
  }
 },
 "nbformat": 4,
 "nbformat_minor": 5
}
