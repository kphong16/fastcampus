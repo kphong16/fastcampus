{
 "cells": [
  {
   "cell_type": "markdown",
   "id": "99085a33",
   "metadata": {},
   "source": [
    "# [ 파이썬으로 만드는 재무모델 ]"
   ]
  },
  {
   "cell_type": "markdown",
   "id": "9adb5a2a",
   "metadata": {},
   "source": [
    "# 수업 소개\n",
    "* 파이썬은 최근 데이터분석 분야에서 가장 많이 사용되는 프로그래밍 언어로, 상대적으로 배우기 쉽고, 라이브러리가 다양하게 제공되어 활용도가 높은 프로그래밍 언어임.\n",
    "* 기존 업계에서 재무모델을 작성할 때에는 거의 대부분 엑셀을 활용하여 작성을 하고, 주요한 의사결정에 이렇게 작성된 재무모델을 사용함.\n",
    "* 본 수업의 목적은 파이썬을 활용하여 재무모델을 작성하는 새로운 방법을 제시하고, 실제 업무에도 활용할 수 있도록 실제 재무모델 작성 사례를 보여주고자 하는데 있음."
   ]
  },
  {
   "cell_type": "markdown",
   "id": "b4d48fa5",
   "metadata": {},
   "source": [
    "### 수업자료 다운로드\n",
    "* 아래 깃허브 사이트에 수업자료 업로드\n",
    "* www.github.com/kphong16/fastcampus"
   ]
  },
  {
   "cell_type": "code",
   "execution_count": null,
   "id": "e0800775",
   "metadata": {},
   "outputs": [],
   "source": []
  },
  {
   "cell_type": "markdown",
   "id": "13b9c8b7",
   "metadata": {},
   "source": [
    "# \"Python(파이썬)\" 소개\n",
    "* **프로그래밍 언어** : 파이썬은 C, C++, Java와 같은 여러 프로그래밍 언어 중 하나.\n",
    "* **쉬운 문법** : 다른 프로그래밍 언어에 비해 진입장벽이 낮아 배우고 사용하기 쉬움.\n",
    "* **다양한 라이브러리(패키지) 제공** : \n",
    "  * 라이브러리는 자주 쓰는 기능을 미리 작성해놓고 필요할 때마다 가져다 쓸수 있도록 준비된 함수 또는 모듈 들의 집합을 말함.\n",
    "  * 데이터 분석에 가장 많이 사용되는 Pandas 라이브러리, 그래프 작성에 많이 사용되는 matplotlib 라이브러리 모두 파이썬 내에서 무료로 제공되는 라이브러리 임.\n",
    "  * 현재까지 수십만개의 라이브러리가 등록되어 있으며, 이러한 다양한 라이브러리들 덕분에 현재 데이터 과학 분야 등 여러 분야에서 가장 많이 사용되고 있음."
   ]
  },
  {
   "cell_type": "code",
   "execution_count": null,
   "id": "607741e5",
   "metadata": {},
   "outputs": [],
   "source": []
  },
  {
   "cell_type": "markdown",
   "id": "dd6e8a47",
   "metadata": {},
   "source": [
    "# \"Cafle\" 라이브러리 소개\n",
    "---------\n",
    "\n",
    "## 재무모델 작성에 활용할 목적으로 작성된 파이썬 라이브러리\n",
    "* 기존 엑셀로 작성하던 재무모델을 파이썬으로 작성할 수 있도록 여러가지 모듈과 함수를 제공.\n",
    "* Pandas를 기반으로 모듈과 함수들이 작성되어 있으므로, Pandas에 대한 이해가 선행되어야 함.\n",
    "* 주요 모듈 : Account, Index, Write\n",
    "\n",
    "## 주요 모듈\n",
    "* **Account :** 각각의 개별 현금흐름의 내용을 저장하고, 현금흐름의 유출입을 관리하는 모듈.\n",
    "* **Index :** 날짜 등 현금흐름의 시간적인 요소를 컨트롤하기 위한 모듈.\n",
    "* **Write :** 최종적으로 작성된 현금흐름을 엑셀 파일 상에 출력해주는 모듈.\n",
    "\n",
    "## 재무모델 작성 개요\n",
    "1. **기간설정 :** 사업 기간, 조달된 자금의 만기 등을 Index 모듈에 설정.\n",
    "2. **Account 설정 :** 자금의 조달, 매출, 사업비 등 사업의 주요 요소들 별로 재무모델 가정에 따른 조건들을 Account 모듈에 설정.\n",
    "3. **현금흐름 실행 :** Index에 설정된 시간 흐름에 따라 각각의 요소들 간 사업 진행에 따라 발생되는 현금 유출입을 Account 내에 기록.\n",
    "4. **최종 결과물 출력 :** Account 내에 기록된 현금흐름을 최종적으로 확인하여 최종적인 현금흐름 결과물을 Excel파일로 추출."
   ]
  },
  {
   "cell_type": "code",
   "execution_count": null,
   "id": "9e22bdc8",
   "metadata": {},
   "outputs": [],
   "source": []
  },
  {
   "cell_type": "markdown",
   "id": "e68348ae",
   "metadata": {},
   "source": [
    "# 엑셀로 작성하는 재무모델과의 차이점\n",
    "-------\n",
    "\n",
    "### 엑셀 장점 : 최초 접근이 용이하여 범용성이 높음\n",
    "* 엑셀에 대한 기초적인 이해도는 사무업에 종사하는 사람들 대부분 가지고 있고, 이에 개략 검토 단계의 간략한 모델의 작성부터 쉽게 접근이 가능함.\n",
    "* 작성된 재무모델의 배포도 용이함. 배포를 받은 사람 입장에서도 작성자가 말하고자 하는 요지를 파악하기 위해 엑셀 sheet를 검토하고, 간단한 조작을 하는 것이 용이함.\n",
    "\n",
    "### 엑셀 단점 : 엑셀로 작성된 재무모델은 사업구도에 따른 재활용 및 작성된 모델의 수정이 쉽지 않음\n",
    "* 실제 실무에서 다루는 사업구도는 건별로 차이가 많이 나는 경우가 많으며, 유사한 사업에 대해서도 금융구도가 개별적으로 차이가 큼.\n",
    "* (개발사업을 예로 들면) 각각의 사업별로 토지의 매입, 자금의 조달, 건축비 지급구조, 분양매출 발생 조건, 세금 등 개별적인 요인마다 변수들이 많기 때문에 모든 가능성을 고려한 엑셀 모델을 작성해 놓은 후 이를 재활용 하는 것에는 한계가 있음.\n",
    "* 한건의 딜에 대해서는 사업 진행 기간 동안 수십번의 사업구도 및 금융구조 변경이 일어나는 것이 비일비재하며, 엑셀의 경우 하나의 수정에 대하여 관련된 sheet들을 모두 수정작업 해줘야 하기 때문에 어느정도 구축된 재무모델에 대해 수정작업을 하는 것은 많은 시간이 소요되는 일임.\n",
    "* 예를 들어 기존 보통주-후순위대주-선순위대주 의 금융구도에서, 보통주-우선주-후순위대주-선순위대주 의 금융구도로 변경된다고 가정할 때 현금흐름에 관계되는 모든 sheet에 새로 행을 열어서 우선주 프로세스를 추가해줘야 함.\n",
    "\n",
    "### 파이썬 장점 : 파이썬으로 재무모델 작성시 가장 큰 장점은 모듈화를 통한 재활용성\n",
    "* 자금의 조달을 다루는 모듈, 매출을 발생시키는 모듈, 사업비를 관리하는 모듈, 운영계좌 모듈 등 재무모델에 필요한 각종 요소들을 하나의 부품처럼 모듈화 시킬 수 있음.\n",
    "* 작성된 모듈들을 재무모델 작성시 레고블럭을 쌓듯이 하나씩 이어서 모델을 완성함.\n",
    "* 수정이 필요할 때는 필요한 모듈의 내용만 수정을 하거나, 모듈을 바꿔 끼워넣는 방식으로 수정 가능.\n",
    "\n",
    "### 파이썬 단점 : 엑셀에 비해 범용성이 낮다는 것은 단점\n",
    "* 이러한 단점을 극복하고자, 최종적인 결과물은 엑셀로 추출하도록 함."
   ]
  },
  {
   "cell_type": "code",
   "execution_count": null,
   "id": "c6ed1112",
   "metadata": {},
   "outputs": [],
   "source": []
  },
  {
   "cell_type": "code",
   "execution_count": null,
   "id": "c440d57c",
   "metadata": {},
   "outputs": [],
   "source": []
  },
  {
   "cell_type": "code",
   "execution_count": null,
   "id": "4d8ef2a7",
   "metadata": {},
   "outputs": [],
   "source": []
  },
  {
   "cell_type": "code",
   "execution_count": null,
   "id": "8bdb6653",
   "metadata": {},
   "outputs": [],
   "source": []
  },
  {
   "cell_type": "markdown",
   "id": "13d52b18",
   "metadata": {},
   "source": [
    "# 파이썬 및 cafle의 설치\n",
    "----\n",
    "### 1. 아나콘다(anaconda) 설치\n",
    "* 아나콘다 : 파이썬과 데이터 분석 라이브러리를 모아 놓은 패키지.\n",
    "```\n",
    "[DOWNLOAD]\n",
    "https://www.anaconda.com/products/distribution\n",
    "```\n",
    "![아나콘다 다운로드 페이지](./img/anaconda_page.png)"
   ]
  },
  {
   "cell_type": "code",
   "execution_count": null,
   "id": "1b3c63f0",
   "metadata": {},
   "outputs": [],
   "source": []
  },
  {
   "cell_type": "code",
   "execution_count": null,
   "id": "c81e37b8",
   "metadata": {},
   "outputs": [],
   "source": []
  },
  {
   "cell_type": "code",
   "execution_count": null,
   "id": "12ca52ec",
   "metadata": {},
   "outputs": [],
   "source": []
  },
  {
   "cell_type": "code",
   "execution_count": null,
   "id": "6870732c",
   "metadata": {},
   "outputs": [],
   "source": []
  },
  {
   "cell_type": "markdown",
   "id": "bae1074c",
   "metadata": {},
   "source": [
    "* 아나콘다 아이콘 확인\n",
    "![아나콘다 아이콘](./img/anaconda_icon.png)"
   ]
  },
  {
   "cell_type": "markdown",
   "id": "3133279e",
   "metadata": {},
   "source": [
    "### 2. pandas 설치\n",
    "* cafle은 pandas를 기반으로 작성되었으므로, 먼저 아나콘다 내에서 pandas를 설치해 주어야 함.   \n",
    "* pandas는 아나콘다에서 기본 제공되는 라이브러리 이므로, 아나콘다 Environments 탭에서 체크하는 방식으로 설치 가능\n",
    "![pandas 설치](./img/install_pandas.png)"
   ]
  },
  {
   "cell_type": "markdown",
   "id": "e941f8c5",
   "metadata": {},
   "source": [
    "### 3. jupyter notebook 실행\n",
    "* jupyter notebook : \n",
    " - 파이썬 코드를 작성하고, 그 결과물을 대화형식으로 확인할 수 있는 프로그램. \n",
    " - Markdown을 이용하여 코드 중간 중간 노트처럼 필요한 내용을 기록할 수도 있음.\n",
    "![jupyter notebook 설치/실행](./img/install_jupyter.png)\n",
    "\n",
    "### 4. cafle 설치\n",
    "* jupyter notebook에서 아래 구문을 이용하여 설치.\n",
    "* 코드 작성 후 \"shift\" + \"Enter\"를 이용해 코드를 실행함.\n",
    "```\n",
    "! pip install cafle\n",
    "```\n",
    "![cafle 설치](./img/install_cafle.png)\n",
    "* \"import cafle\"을 입력하여 cafle 라이브러리를 임포트 한 후, cafle을 입력하면 cafle에 대한 기초 내용이 출력됨."
   ]
  },
  {
   "cell_type": "markdown",
   "id": "a6903b8c",
   "metadata": {},
   "source": [
    "### 5. jupyter notebook 주요 단축키\n",
    "* \"shift + enter\" : Cell 내 입력된 코드의 실행\n",
    "* \"Y\" : 코드 입력용 cell로 변환\n",
    "* \"M\" : Markdown 입력용 cell로 변환\n",
    "* \"A\" : 상단에 새로운 cell 삽입\n",
    "* \"B\" : 하단에 새로운 cell 삽입\n",
    "* \"DD\" : cell 삭제"
   ]
  },
  {
   "cell_type": "code",
   "execution_count": null,
   "id": "d638331e",
   "metadata": {},
   "outputs": [],
   "source": []
  }
 ],
 "metadata": {
  "kernelspec": {
   "display_name": "Python 3 (ipykernel)",
   "language": "python",
   "name": "python3"
  },
  "language_info": {
   "codemirror_mode": {
    "name": "ipython",
    "version": 3
   },
   "file_extension": ".py",
   "mimetype": "text/x-python",
   "name": "python",
   "nbconvert_exporter": "python",
   "pygments_lexer": "ipython3",
   "version": "3.7.13"
  }
 },
 "nbformat": 4,
 "nbformat_minor": 5
}
