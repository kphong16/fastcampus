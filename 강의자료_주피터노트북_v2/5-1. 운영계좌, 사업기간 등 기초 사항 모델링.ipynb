{
 "cells": [
  {
   "cell_type": "markdown",
   "id": "80cbbf07",
   "metadata": {},
   "source": [
    "# [ 5-1. 운영계좌, 사업기간 등 기초 사항 모델링 ]"
   ]
  },
  {
   "cell_type": "code",
   "execution_count": 1,
   "id": "741c52a3",
   "metadata": {},
   "outputs": [],
   "source": [
    "from pandas import DataFrame"
   ]
  },
  {
   "cell_type": "markdown",
   "id": "45c82b31",
   "metadata": {},
   "source": [
    "## 1. 사업개요 작성"
   ]
  },
  {
   "cell_type": "code",
   "execution_count": 2,
   "id": "e822a7aa",
   "metadata": {},
   "outputs": [],
   "source": [
    "overview = {}\n",
    "overview[\"business\"] = {\n",
    "    \"사업명\": [\"ㅇㅇ동 ㅁㅁ오피스텔 개발사업\"],\n",
    "    \"위치\": [\"서울시 ㄷㄷ구 ㅇㅇ동 123번지 일원\"],\n",
    "    \"지역지구\": [\"일반상업지구, 지구단위계획구역\"],\n",
    "    \"주용도\": [\"업무시설(오피스텔), 판매시설\"],\n",
    "    \"규모\": [\"지상15층 / 지하3층\"],\n",
    "    \"주구조\": [\"철근콘크리트구조\"],\n",
    "    \"주차대수\": [\"법정 161대\", \"계획 161대\"]\n",
    "}\n",
    "overview[\"area\"] = DataFrame({\n",
    "    \"대지면적\":   [ 1_500,   454],\n",
    "    \"건축면적\":   [   750,   227],\n",
    "    \"연면적\" :  [ 13_000,  3_933],\n",
    "    \"용적률연면적\": [9_500,  2_874],\n",
    "},  index =       ['m2',   '평'])"
   ]
  },
  {
   "cell_type": "code",
   "execution_count": 3,
   "id": "78d1034c",
   "metadata": {},
   "outputs": [
    {
     "data": {
      "text/plain": [
       "{'business': {'사업명': ['ㅇㅇ동 ㅁㅁ오피스텔 개발사업'],\n",
       "  '위치': ['서울시 ㄷㄷ구 ㅇㅇ동 123번지 일원'],\n",
       "  '지역지구': ['일반상업지구, 지구단위계획구역'],\n",
       "  '주용도': ['업무시설(오피스텔), 판매시설'],\n",
       "  '규모': ['지상15층 / 지하3층'],\n",
       "  '주구조': ['철근콘크리트구조'],\n",
       "  '주차대수': ['법정 161대', '계획 161대']},\n",
       " 'area':     대지면적  건축면적    연면적  용적률연면적\n",
       " m2  1500   750  13000    9500\n",
       " 평    454   227   3933    2874}"
      ]
     },
     "execution_count": 3,
     "metadata": {},
     "output_type": "execute_result"
    }
   ],
   "source": [
    "overview"
   ]
  },
  {
   "cell_type": "code",
   "execution_count": 4,
   "id": "cac500e1",
   "metadata": {},
   "outputs": [
    {
     "data": {
      "text/plain": [
       "{'사업명': ['ㅇㅇ동 ㅁㅁ오피스텔 개발사업'],\n",
       " '위치': ['서울시 ㄷㄷ구 ㅇㅇ동 123번지 일원'],\n",
       " '지역지구': ['일반상업지구, 지구단위계획구역'],\n",
       " '주용도': ['업무시설(오피스텔), 판매시설'],\n",
       " '규모': ['지상15층 / 지하3층'],\n",
       " '주구조': ['철근콘크리트구조'],\n",
       " '주차대수': ['법정 161대', '계획 161대']}"
      ]
     },
     "execution_count": 4,
     "metadata": {},
     "output_type": "execute_result"
    }
   ],
   "source": [
    "overview[\"business\"]"
   ]
  },
  {
   "cell_type": "code",
   "execution_count": 5,
   "id": "490894fe",
   "metadata": {},
   "outputs": [
    {
     "data": {
      "text/plain": [
       "['지상15층 / 지하3층']"
      ]
     },
     "execution_count": 5,
     "metadata": {},
     "output_type": "execute_result"
    }
   ],
   "source": [
    "overview[\"business\"][\"규모\"]"
   ]
  },
  {
   "cell_type": "code",
   "execution_count": 6,
   "id": "d6248d43",
   "metadata": {},
   "outputs": [
    {
     "data": {
      "text/html": [
       "<div>\n",
       "<style scoped>\n",
       "    .dataframe tbody tr th:only-of-type {\n",
       "        vertical-align: middle;\n",
       "    }\n",
       "\n",
       "    .dataframe tbody tr th {\n",
       "        vertical-align: top;\n",
       "    }\n",
       "\n",
       "    .dataframe thead th {\n",
       "        text-align: right;\n",
       "    }\n",
       "</style>\n",
       "<table border=\"1\" class=\"dataframe\">\n",
       "  <thead>\n",
       "    <tr style=\"text-align: right;\">\n",
       "      <th></th>\n",
       "      <th>대지면적</th>\n",
       "      <th>건축면적</th>\n",
       "      <th>연면적</th>\n",
       "      <th>용적률연면적</th>\n",
       "    </tr>\n",
       "  </thead>\n",
       "  <tbody>\n",
       "    <tr>\n",
       "      <th>m2</th>\n",
       "      <td>1500</td>\n",
       "      <td>750</td>\n",
       "      <td>13000</td>\n",
       "      <td>9500</td>\n",
       "    </tr>\n",
       "    <tr>\n",
       "      <th>평</th>\n",
       "      <td>454</td>\n",
       "      <td>227</td>\n",
       "      <td>3933</td>\n",
       "      <td>2874</td>\n",
       "    </tr>\n",
       "  </tbody>\n",
       "</table>\n",
       "</div>"
      ],
      "text/plain": [
       "    대지면적  건축면적    연면적  용적률연면적\n",
       "m2  1500   750  13000    9500\n",
       "평    454   227   3933    2874"
      ]
     },
     "execution_count": 6,
     "metadata": {},
     "output_type": "execute_result"
    }
   ],
   "source": [
    "overview[\"area\"]"
   ]
  },
  {
   "cell_type": "code",
   "execution_count": 7,
   "id": "45cc2f6e",
   "metadata": {},
   "outputs": [
    {
     "data": {
      "text/plain": [
       "m2    13000\n",
       "평      3933\n",
       "Name: 연면적, dtype: int64"
      ]
     },
     "execution_count": 7,
     "metadata": {},
     "output_type": "execute_result"
    }
   ],
   "source": [
    "overview[\"area\"][\"연면적\"]"
   ]
  },
  {
   "cell_type": "code",
   "execution_count": 8,
   "id": "13f1c954",
   "metadata": {},
   "outputs": [
    {
     "name": "stdout",
     "output_type": "stream",
     "text": [
      "연면적(㎡) : 13,000㎡\n",
      "연면적(평) : 3,933평\n"
     ]
    }
   ],
   "source": [
    "print(f\"연면적(㎡) : {overview['area']['연면적']['m2']:,}㎡\")\n",
    "print(f\"연면적(평) : {overview['area']['연면적']['평']:,}평\")"
   ]
  },
  {
   "cell_type": "code",
   "execution_count": null,
   "id": "3482e8d4",
   "metadata": {},
   "outputs": [],
   "source": []
  },
  {
   "cell_type": "markdown",
   "id": "bd2dd1bb",
   "metadata": {},
   "source": [
    "## 2. 사업기간 작성"
   ]
  },
  {
   "cell_type": "code",
   "execution_count": 9,
   "id": "242c4633",
   "metadata": {},
   "outputs": [],
   "source": [
    "from cafle import Index"
   ]
  },
  {
   "cell_type": "code",
   "execution_count": 10,
   "id": "62bb1dcc",
   "metadata": {},
   "outputs": [],
   "source": [
    "idx = Index(\"2023.01\", 30)\n",
    "idx.mtrt = 26\n",
    "idx.loan = Index(\"2023.03\", idx.mtrt + 1)\n",
    "idx.cstrn = Index(\"2023.04\", 24)\n",
    "idx.sales = Index(\"2023.04\", 25)"
   ]
  },
  {
   "cell_type": "code",
   "execution_count": 11,
   "id": "22964a27",
   "metadata": {},
   "outputs": [
    {
     "name": "stdout",
     "output_type": "stream",
     "text": [
      "사업개시일 : 2023-01-31\n",
      "사업종료일 : 2025-06-30\n",
      "사업기간 : 30개월\n",
      "\n",
      "대출실행일 : 2023-03-31\n",
      "대출만기일 : 2025-05-31\n",
      "대출기간 : 26개월\n",
      "\n",
      "착공일 : 2023-04-30\n",
      "준공일 : 2025-03-31\n",
      "공사기간 : 24개월\n",
      "\n",
      "분양개시 : 2023-04-30\n",
      "분양잔금 : 2025-04-30\n",
      "분양기간 : 25개월\n"
     ]
    }
   ],
   "source": [
    "print(f\"사업개시일 : {idx[0]}\")\n",
    "print(f\"사업종료일 : {idx[-1]}\")\n",
    "print(f\"사업기간 : {len(idx)}개월\")\n",
    "print()\n",
    "print(f\"대출실행일 : {idx.loan[0]}\")\n",
    "print(f\"대출만기일 : {idx.loan[-1]}\")\n",
    "print(f\"대출기간 : {idx.mtrt}개월\")\n",
    "print()\n",
    "print(f\"착공일 : {idx.cstrn[0]}\")\n",
    "print(f\"준공일 : {idx.cstrn[-1]}\")\n",
    "print(f\"공사기간 : {len(idx.cstrn)}개월\")\n",
    "print()\n",
    "print(f\"분양개시 : {idx.sales[0]}\")\n",
    "print(f\"분양잔금 : {idx.sales[-1]}\")\n",
    "print(f\"분양기간 : {len(idx.sales)}개월\")"
   ]
  },
  {
   "cell_type": "code",
   "execution_count": null,
   "id": "6a2dc6bf",
   "metadata": {},
   "outputs": [],
   "source": []
  },
  {
   "cell_type": "markdown",
   "id": "d072db2d",
   "metadata": {},
   "source": [
    "## 3. 주요 Account 작성"
   ]
  },
  {
   "cell_type": "code",
   "execution_count": 12,
   "id": "5d0e5ec7",
   "metadata": {},
   "outputs": [],
   "source": [
    "from cafle import Account\n",
    "\n",
    "acc = Account(idx) #Account 대분류\n",
    "acc.oprtg = acc.subacc(\"oprtg\") #운영계좌\n",
    "acc.repay = acc.subacc(\"repay\") #상환계좌\n",
    "acc.tmp = acc.subacc(\"tmp\") #임시계좌"
   ]
  },
  {
   "cell_type": "code",
   "execution_count": 13,
   "id": "09965c70",
   "metadata": {},
   "outputs": [
    {
     "data": {
      "text/plain": [
       "Account(main, len 30, dct: ['oprtg', 'repay', 'tmp'])"
      ]
     },
     "execution_count": 13,
     "metadata": {},
     "output_type": "execute_result"
    }
   ],
   "source": [
    "acc"
   ]
  },
  {
   "cell_type": "code",
   "execution_count": 14,
   "id": "6338a7de",
   "metadata": {},
   "outputs": [
    {
     "data": {
      "text/plain": [
       "{'oprtg': Account(oprtg, len 30),\n",
       " 'repay': Account(repay, len 30),\n",
       " 'tmp': Account(tmp, len 30)}"
      ]
     },
     "execution_count": 14,
     "metadata": {},
     "output_type": "execute_result"
    }
   ],
   "source": [
    "acc.dct"
   ]
  },
  {
   "cell_type": "code",
   "execution_count": 15,
   "id": "7474122f",
   "metadata": {
    "scrolled": true
   },
   "outputs": [
    {
     "data": {
      "text/html": [
       "<div>\n",
       "<style scoped>\n",
       "    .dataframe tbody tr th:only-of-type {\n",
       "        vertical-align: middle;\n",
       "    }\n",
       "\n",
       "    .dataframe tbody tr th {\n",
       "        vertical-align: top;\n",
       "    }\n",
       "\n",
       "    .dataframe thead th {\n",
       "        text-align: right;\n",
       "    }\n",
       "</style>\n",
       "<table border=\"1\" class=\"dataframe\">\n",
       "  <thead>\n",
       "    <tr style=\"text-align: right;\">\n",
       "      <th></th>\n",
       "      <th>bal_strt</th>\n",
       "      <th>amt_in</th>\n",
       "      <th>amt_out</th>\n",
       "      <th>bal_end</th>\n",
       "    </tr>\n",
       "  </thead>\n",
       "  <tbody>\n",
       "    <tr>\n",
       "      <th>2023-01-31</th>\n",
       "      <td>0.0</td>\n",
       "      <td>0.0</td>\n",
       "      <td>0.0</td>\n",
       "      <td>0.0</td>\n",
       "    </tr>\n",
       "    <tr>\n",
       "      <th>2023-02-28</th>\n",
       "      <td>0.0</td>\n",
       "      <td>0.0</td>\n",
       "      <td>0.0</td>\n",
       "      <td>0.0</td>\n",
       "    </tr>\n",
       "    <tr>\n",
       "      <th>2023-03-31</th>\n",
       "      <td>0.0</td>\n",
       "      <td>0.0</td>\n",
       "      <td>0.0</td>\n",
       "      <td>0.0</td>\n",
       "    </tr>\n",
       "    <tr>\n",
       "      <th>2023-04-30</th>\n",
       "      <td>0.0</td>\n",
       "      <td>0.0</td>\n",
       "      <td>0.0</td>\n",
       "      <td>0.0</td>\n",
       "    </tr>\n",
       "    <tr>\n",
       "      <th>2023-05-31</th>\n",
       "      <td>0.0</td>\n",
       "      <td>0.0</td>\n",
       "      <td>0.0</td>\n",
       "      <td>0.0</td>\n",
       "    </tr>\n",
       "    <tr>\n",
       "      <th>2023-06-30</th>\n",
       "      <td>0.0</td>\n",
       "      <td>0.0</td>\n",
       "      <td>0.0</td>\n",
       "      <td>0.0</td>\n",
       "    </tr>\n",
       "    <tr>\n",
       "      <th>2023-07-31</th>\n",
       "      <td>0.0</td>\n",
       "      <td>0.0</td>\n",
       "      <td>0.0</td>\n",
       "      <td>0.0</td>\n",
       "    </tr>\n",
       "    <tr>\n",
       "      <th>2023-08-31</th>\n",
       "      <td>0.0</td>\n",
       "      <td>0.0</td>\n",
       "      <td>0.0</td>\n",
       "      <td>0.0</td>\n",
       "    </tr>\n",
       "    <tr>\n",
       "      <th>2023-09-30</th>\n",
       "      <td>0.0</td>\n",
       "      <td>0.0</td>\n",
       "      <td>0.0</td>\n",
       "      <td>0.0</td>\n",
       "    </tr>\n",
       "    <tr>\n",
       "      <th>2023-10-31</th>\n",
       "      <td>0.0</td>\n",
       "      <td>0.0</td>\n",
       "      <td>0.0</td>\n",
       "      <td>0.0</td>\n",
       "    </tr>\n",
       "    <tr>\n",
       "      <th>2023-11-30</th>\n",
       "      <td>0.0</td>\n",
       "      <td>0.0</td>\n",
       "      <td>0.0</td>\n",
       "      <td>0.0</td>\n",
       "    </tr>\n",
       "    <tr>\n",
       "      <th>2023-12-31</th>\n",
       "      <td>0.0</td>\n",
       "      <td>0.0</td>\n",
       "      <td>0.0</td>\n",
       "      <td>0.0</td>\n",
       "    </tr>\n",
       "    <tr>\n",
       "      <th>2024-01-31</th>\n",
       "      <td>0.0</td>\n",
       "      <td>0.0</td>\n",
       "      <td>0.0</td>\n",
       "      <td>0.0</td>\n",
       "    </tr>\n",
       "    <tr>\n",
       "      <th>2024-02-29</th>\n",
       "      <td>0.0</td>\n",
       "      <td>0.0</td>\n",
       "      <td>0.0</td>\n",
       "      <td>0.0</td>\n",
       "    </tr>\n",
       "    <tr>\n",
       "      <th>2024-03-31</th>\n",
       "      <td>0.0</td>\n",
       "      <td>0.0</td>\n",
       "      <td>0.0</td>\n",
       "      <td>0.0</td>\n",
       "    </tr>\n",
       "    <tr>\n",
       "      <th>2024-04-30</th>\n",
       "      <td>0.0</td>\n",
       "      <td>0.0</td>\n",
       "      <td>0.0</td>\n",
       "      <td>0.0</td>\n",
       "    </tr>\n",
       "    <tr>\n",
       "      <th>2024-05-31</th>\n",
       "      <td>0.0</td>\n",
       "      <td>0.0</td>\n",
       "      <td>0.0</td>\n",
       "      <td>0.0</td>\n",
       "    </tr>\n",
       "    <tr>\n",
       "      <th>2024-06-30</th>\n",
       "      <td>0.0</td>\n",
       "      <td>0.0</td>\n",
       "      <td>0.0</td>\n",
       "      <td>0.0</td>\n",
       "    </tr>\n",
       "    <tr>\n",
       "      <th>2024-07-31</th>\n",
       "      <td>0.0</td>\n",
       "      <td>0.0</td>\n",
       "      <td>0.0</td>\n",
       "      <td>0.0</td>\n",
       "    </tr>\n",
       "    <tr>\n",
       "      <th>2024-08-31</th>\n",
       "      <td>0.0</td>\n",
       "      <td>0.0</td>\n",
       "      <td>0.0</td>\n",
       "      <td>0.0</td>\n",
       "    </tr>\n",
       "    <tr>\n",
       "      <th>2024-09-30</th>\n",
       "      <td>0.0</td>\n",
       "      <td>0.0</td>\n",
       "      <td>0.0</td>\n",
       "      <td>0.0</td>\n",
       "    </tr>\n",
       "    <tr>\n",
       "      <th>2024-10-31</th>\n",
       "      <td>0.0</td>\n",
       "      <td>0.0</td>\n",
       "      <td>0.0</td>\n",
       "      <td>0.0</td>\n",
       "    </tr>\n",
       "    <tr>\n",
       "      <th>2024-11-30</th>\n",
       "      <td>0.0</td>\n",
       "      <td>0.0</td>\n",
       "      <td>0.0</td>\n",
       "      <td>0.0</td>\n",
       "    </tr>\n",
       "    <tr>\n",
       "      <th>2024-12-31</th>\n",
       "      <td>0.0</td>\n",
       "      <td>0.0</td>\n",
       "      <td>0.0</td>\n",
       "      <td>0.0</td>\n",
       "    </tr>\n",
       "    <tr>\n",
       "      <th>2025-01-31</th>\n",
       "      <td>0.0</td>\n",
       "      <td>0.0</td>\n",
       "      <td>0.0</td>\n",
       "      <td>0.0</td>\n",
       "    </tr>\n",
       "    <tr>\n",
       "      <th>2025-02-28</th>\n",
       "      <td>0.0</td>\n",
       "      <td>0.0</td>\n",
       "      <td>0.0</td>\n",
       "      <td>0.0</td>\n",
       "    </tr>\n",
       "    <tr>\n",
       "      <th>2025-03-31</th>\n",
       "      <td>0.0</td>\n",
       "      <td>0.0</td>\n",
       "      <td>0.0</td>\n",
       "      <td>0.0</td>\n",
       "    </tr>\n",
       "    <tr>\n",
       "      <th>2025-04-30</th>\n",
       "      <td>0.0</td>\n",
       "      <td>0.0</td>\n",
       "      <td>0.0</td>\n",
       "      <td>0.0</td>\n",
       "    </tr>\n",
       "    <tr>\n",
       "      <th>2025-05-31</th>\n",
       "      <td>0.0</td>\n",
       "      <td>0.0</td>\n",
       "      <td>0.0</td>\n",
       "      <td>0.0</td>\n",
       "    </tr>\n",
       "    <tr>\n",
       "      <th>2025-06-30</th>\n",
       "      <td>0.0</td>\n",
       "      <td>0.0</td>\n",
       "      <td>0.0</td>\n",
       "      <td>0.0</td>\n",
       "    </tr>\n",
       "  </tbody>\n",
       "</table>\n",
       "</div>"
      ],
      "text/plain": [
       "            bal_strt  amt_in  amt_out  bal_end\n",
       "2023-01-31       0.0     0.0      0.0      0.0\n",
       "2023-02-28       0.0     0.0      0.0      0.0\n",
       "2023-03-31       0.0     0.0      0.0      0.0\n",
       "2023-04-30       0.0     0.0      0.0      0.0\n",
       "2023-05-31       0.0     0.0      0.0      0.0\n",
       "2023-06-30       0.0     0.0      0.0      0.0\n",
       "2023-07-31       0.0     0.0      0.0      0.0\n",
       "2023-08-31       0.0     0.0      0.0      0.0\n",
       "2023-09-30       0.0     0.0      0.0      0.0\n",
       "2023-10-31       0.0     0.0      0.0      0.0\n",
       "2023-11-30       0.0     0.0      0.0      0.0\n",
       "2023-12-31       0.0     0.0      0.0      0.0\n",
       "2024-01-31       0.0     0.0      0.0      0.0\n",
       "2024-02-29       0.0     0.0      0.0      0.0\n",
       "2024-03-31       0.0     0.0      0.0      0.0\n",
       "2024-04-30       0.0     0.0      0.0      0.0\n",
       "2024-05-31       0.0     0.0      0.0      0.0\n",
       "2024-06-30       0.0     0.0      0.0      0.0\n",
       "2024-07-31       0.0     0.0      0.0      0.0\n",
       "2024-08-31       0.0     0.0      0.0      0.0\n",
       "2024-09-30       0.0     0.0      0.0      0.0\n",
       "2024-10-31       0.0     0.0      0.0      0.0\n",
       "2024-11-30       0.0     0.0      0.0      0.0\n",
       "2024-12-31       0.0     0.0      0.0      0.0\n",
       "2025-01-31       0.0     0.0      0.0      0.0\n",
       "2025-02-28       0.0     0.0      0.0      0.0\n",
       "2025-03-31       0.0     0.0      0.0      0.0\n",
       "2025-04-30       0.0     0.0      0.0      0.0\n",
       "2025-05-31       0.0     0.0      0.0      0.0\n",
       "2025-06-30       0.0     0.0      0.0      0.0"
      ]
     },
     "execution_count": 15,
     "metadata": {},
     "output_type": "execute_result"
    }
   ],
   "source": [
    "acc.oprtg.df"
   ]
  },
  {
   "cell_type": "code",
   "execution_count": 16,
   "id": "13ebe8df",
   "metadata": {},
   "outputs": [
    {
     "data": {
      "text/html": [
       "<div>\n",
       "<style scoped>\n",
       "    .dataframe tbody tr th:only-of-type {\n",
       "        vertical-align: middle;\n",
       "    }\n",
       "\n",
       "    .dataframe tbody tr th {\n",
       "        vertical-align: top;\n",
       "    }\n",
       "\n",
       "    .dataframe thead th {\n",
       "        text-align: right;\n",
       "    }\n",
       "</style>\n",
       "<table border=\"1\" class=\"dataframe\">\n",
       "  <thead>\n",
       "    <tr style=\"text-align: right;\">\n",
       "      <th></th>\n",
       "      <th>amt_in</th>\n",
       "      <th>amt_out</th>\n",
       "      <th>rcvfrm</th>\n",
       "      <th>payto</th>\n",
       "      <th>note</th>\n",
       "    </tr>\n",
       "  </thead>\n",
       "  <tbody>\n",
       "  </tbody>\n",
       "</table>\n",
       "</div>"
      ],
      "text/plain": [
       "Empty DataFrame\n",
       "Columns: [amt_in, amt_out, rcvfrm, payto, note]\n",
       "Index: []"
      ]
     },
     "execution_count": 16,
     "metadata": {},
     "output_type": "execute_result"
    }
   ],
   "source": [
    "acc.oprtg.jnl"
   ]
  },
  {
   "cell_type": "code",
   "execution_count": null,
   "id": "05f46c7c",
   "metadata": {},
   "outputs": [],
   "source": []
  }
 ],
 "metadata": {
  "kernelspec": {
   "display_name": "Python 3 (ipykernel)",
   "language": "python",
   "name": "python3"
  },
  "language_info": {
   "codemirror_mode": {
    "name": "ipython",
    "version": 3
   },
   "file_extension": ".py",
   "mimetype": "text/x-python",
   "name": "python",
   "nbconvert_exporter": "python",
   "pygments_lexer": "ipython3",
   "version": "3.7.13"
  }
 },
 "nbformat": 4,
 "nbformat_minor": 5
}
