{
 "cells": [
  {
   "cell_type": "markdown",
   "id": "46a54930",
   "metadata": {},
   "source": [
    "# [ 2-1. 데이터분석도구 Pandas 라이브러리 소개 ]"
   ]
  },
  {
   "cell_type": "markdown",
   "id": "6a0723aa",
   "metadata": {},
   "source": [
    "## 1. pandas 라이브러리 소개\n",
    "* pandas는 파이썬의 여러 라이브러리 중 하나로 마이크로소프트 엑셀과 같이 데이터 분석을 더 효율적으로 편하게 할 수 있도록 다양한 자료 구조와 함수들을 제공한다.\n",
    "* pandas를 개발한 웨스 맥키니(Wes Mckinney)는 금융회사에서 일하면서 기존 데이터 분석 도구에 한계를 느끼고, 금융 데이터를 분석할 목적으로 pandas를 설계했다고 한다.\n",
    "* 이러한 이유로 pandas는 금융데이터를 분석하는데 적합한 도구(자료구조와 함수)들을 많이 보유하고 있다.\n",
    "* pandas 홈페이지 : https://pandas.pydata.org\n",
    "* 대표적인 참고서적 : 파이썬 라이브러리를 활용한 데이터 분석(Python for Data Analysis), 저자: 웨스 맥키니"
   ]
  },
  {
   "cell_type": "markdown",
   "id": "3bf34e97",
   "metadata": {},
   "source": [
    "## 2. pandas의 자료구조 : Series, DataFrame\n",
    "* pandas에는 Series와 DataFrame의 두가지 자료구조가 있으며, 두 자료구조에 데이터를 저장하고, 자료구조 내에서 데이터를 다듬고, 변형/병합하면서 데이터를 분석한다.\n",
    "* Series : 1차원의 데이터 배열. index가 있어 각각의 데이터에 index를 통해 접근이 가능.\n",
    "* DataFrame : 2차원의 데이터 표(스프레드시트). 행과 열에 대해 각각의 index가 있어, index를 통해 데이터 접근이 가능."
   ]
  },
  {
   "cell_type": "markdown",
   "id": "0365ea8f",
   "metadata": {},
   "source": [
    "## 3. pandas 설치 및 임포트\n",
    "###  (1) pandas 설치\n",
    "* pandas는 아나콘다에서 기본 제공되는 라이브러리 이므로, 아나콘다 Environments 탭에서 체크하는 방식으로 설치 가능\n",
    "![pandas 설치](./img/install_pandas.png)\n",
    "\n",
    "### (2) pandas 임포트\n",
    "* 일반적으로 pandas 임포트 시에는 \"pd\"로 축약한 이름을 사용한다.\n",
    "```python\n",
    "import pandas as pd\n",
    "```\n",
    "* DataFrame과 Series는 사용 빈도가 높으므로 직접 임포트해서 사용하기도 한다.\n",
    "```python\n",
    "from pandas import DataFrame, Series\n",
    "```\n",
    "* 결과적으로 pandas를 사용하고자 할 때는, 처음에 아래와 같은 임포트 문을 작성한 후 코드를 작성하는 것이 편하다.\n",
    "```python\n",
    "import pandas as pd\n",
    "from pandas import Series, DataFrame\n",
    "```"
   ]
  },
  {
   "cell_type": "markdown",
   "id": "8f7ee993",
   "metadata": {},
   "source": [
    "## 4. Series, DataFrame 생성하기"
   ]
  },
  {
   "cell_type": "markdown",
   "id": "91e64bae",
   "metadata": {},
   "source": [
    "### (1) 임포트 하기"
   ]
  },
  {
   "cell_type": "code",
   "execution_count": 1,
   "id": "58e5f17f",
   "metadata": {},
   "outputs": [],
   "source": [
    "import pandas as pd\n",
    "from pandas import Series, DataFrame"
   ]
  },
  {
   "cell_type": "markdown",
   "id": "9069b0d1",
   "metadata": {},
   "source": [
    "### (2) Series 생성\n",
    "#### 1) 데이터의 리스트를 전달하여 Series 생성"
   ]
  },
  {
   "cell_type": "code",
   "execution_count": 2,
   "id": "277f818d",
   "metadata": {},
   "outputs": [],
   "source": [
    "a = Series([1, 2, 3, 4])"
   ]
  },
  {
   "cell_type": "code",
   "execution_count": 3,
   "id": "54b2cfcc",
   "metadata": {
    "scrolled": true
   },
   "outputs": [
    {
     "data": {
      "text/plain": [
       "0    1\n",
       "1    2\n",
       "2    3\n",
       "3    4\n",
       "dtype: int64"
      ]
     },
     "execution_count": 3,
     "metadata": {},
     "output_type": "execute_result"
    }
   ],
   "source": [
    "a"
   ]
  },
  {
   "cell_type": "markdown",
   "id": "89fe608d",
   "metadata": {},
   "source": [
    "**=> [1, 2, 3, 4]의 데이터 값과 자동으로 생성된 index [0, 1, 2, 3]을 확인할 수 있다.**"
   ]
  },
  {
   "cell_type": "code",
   "execution_count": 5,
   "id": "2c1331b1",
   "metadata": {},
   "outputs": [
    {
     "data": {
      "text/plain": [
       "2"
      ]
     },
     "execution_count": 5,
     "metadata": {},
     "output_type": "execute_result"
    }
   ],
   "source": [
    "a[1] #index를 이용해서 데이터에 접근"
   ]
  },
  {
   "cell_type": "markdown",
   "id": "8843952b",
   "metadata": {},
   "source": [
    "#### 2) index 값을 직접 설정하여 Series 생성"
   ]
  },
  {
   "cell_type": "code",
   "execution_count": 6,
   "id": "02979b8c",
   "metadata": {},
   "outputs": [],
   "source": [
    "b = Series([1, 2, 3, 4], index=[10, 20, 30, 40])"
   ]
  },
  {
   "cell_type": "code",
   "execution_count": 7,
   "id": "ed534ffb",
   "metadata": {},
   "outputs": [
    {
     "data": {
      "text/plain": [
       "10    1\n",
       "20    2\n",
       "30    3\n",
       "40    4\n",
       "dtype: int64"
      ]
     },
     "execution_count": 7,
     "metadata": {},
     "output_type": "execute_result"
    }
   ],
   "source": [
    "b"
   ]
  },
  {
   "cell_type": "markdown",
   "id": "e1856fd2",
   "metadata": {},
   "source": [
    "**=> index 값을 별도로 지정할 수 있다.**"
   ]
  },
  {
   "cell_type": "code",
   "execution_count": 8,
   "id": "338840ec",
   "metadata": {},
   "outputs": [
    {
     "data": {
      "text/plain": [
       "2"
      ]
     },
     "execution_count": 8,
     "metadata": {},
     "output_type": "execute_result"
    }
   ],
   "source": [
    "b[20] #index를 이용해서 데이터에 접근"
   ]
  },
  {
   "cell_type": "markdown",
   "id": "80caeecc",
   "metadata": {},
   "source": [
    "#### 3) 파이썬 딕셔너리를 사용하여 Series 객체 생성"
   ]
  },
  {
   "cell_type": "code",
   "execution_count": 9,
   "id": "e184f1e3",
   "metadata": {},
   "outputs": [],
   "source": [
    "dct = {'a': 10, 'b': 20, 'c': 30, 'd': 40}"
   ]
  },
  {
   "cell_type": "code",
   "execution_count": 10,
   "id": "9300fa86",
   "metadata": {},
   "outputs": [
    {
     "data": {
      "text/plain": [
       "{'a': 10, 'b': 20, 'c': 30, 'd': 40}"
      ]
     },
     "execution_count": 10,
     "metadata": {},
     "output_type": "execute_result"
    }
   ],
   "source": [
    "dct"
   ]
  },
  {
   "cell_type": "code",
   "execution_count": 11,
   "id": "ac9de493",
   "metadata": {},
   "outputs": [
    {
     "data": {
      "text/plain": [
       "10"
      ]
     },
     "execution_count": 11,
     "metadata": {},
     "output_type": "execute_result"
    }
   ],
   "source": [
    "dct['a']"
   ]
  },
  {
   "cell_type": "code",
   "execution_count": 15,
   "id": "494c0c56",
   "metadata": {},
   "outputs": [],
   "source": [
    "c = Series(dct)  #딕셔너리를 사용하여 Series 객체 생성"
   ]
  },
  {
   "cell_type": "code",
   "execution_count": 13,
   "id": "ab28a7a8",
   "metadata": {},
   "outputs": [
    {
     "data": {
      "text/plain": [
       "a    10\n",
       "b    20\n",
       "c    30\n",
       "d    40\n",
       "dtype: int64"
      ]
     },
     "execution_count": 13,
     "metadata": {},
     "output_type": "execute_result"
    }
   ],
   "source": [
    "c"
   ]
  },
  {
   "cell_type": "markdown",
   "id": "96fa0600",
   "metadata": {},
   "source": [
    "**=> 딕셔너리의 key값은 Series의 index로 설정됨.**"
   ]
  },
  {
   "cell_type": "code",
   "execution_count": 14,
   "id": "1ec036ef",
   "metadata": {},
   "outputs": [
    {
     "data": {
      "text/plain": [
       "20"
      ]
     },
     "execution_count": 14,
     "metadata": {},
     "output_type": "execute_result"
    }
   ],
   "source": [
    "c['b']"
   ]
  },
  {
   "cell_type": "code",
   "execution_count": null,
   "id": "09ef4384",
   "metadata": {},
   "outputs": [],
   "source": []
  },
  {
   "cell_type": "markdown",
   "id": "5664696d",
   "metadata": {},
   "source": [
    "### (3) DataFrame 생성\n",
    "* 2차원의 데이터 표(스프레드시트)\n",
    "* 각각의 열은 동일한 길이를 가지고 있으며, 하나의 열에는 같은 종류의 데이터를 담을 수 있다.\n",
    "* 각각의 열은 서로 다른 종류의 데이터를 담을 수 있다."
   ]
  },
  {
   "cell_type": "markdown",
   "id": "d3e986ca",
   "metadata": {},
   "source": [
    "#### 1) 같은 길이의 리스트가 담긴 딕셔너리를 이용하여 DataFrame 생성"
   ]
  },
  {
   "cell_type": "code",
   "execution_count": 16,
   "id": "e263a2d8",
   "metadata": {},
   "outputs": [],
   "source": [
    "data = {'a': [1, 2, 3, 4],\n",
    "        'b': [10, 20, 30, 40],\n",
    "        'c': [100, 200, 300,400]}"
   ]
  },
  {
   "cell_type": "code",
   "execution_count": 17,
   "id": "0e58723e",
   "metadata": {},
   "outputs": [
    {
     "data": {
      "text/plain": [
       "{'a': [1, 2, 3, 4], 'b': [10, 20, 30, 40], 'c': [100, 200, 300, 400]}"
      ]
     },
     "execution_count": 17,
     "metadata": {},
     "output_type": "execute_result"
    }
   ],
   "source": [
    "data"
   ]
  },
  {
   "cell_type": "code",
   "execution_count": 18,
   "id": "8324d1be",
   "metadata": {},
   "outputs": [],
   "source": [
    "a = DataFrame(data)"
   ]
  },
  {
   "cell_type": "code",
   "execution_count": 19,
   "id": "9648dd92",
   "metadata": {},
   "outputs": [
    {
     "data": {
      "text/html": [
       "<div>\n",
       "<style scoped>\n",
       "    .dataframe tbody tr th:only-of-type {\n",
       "        vertical-align: middle;\n",
       "    }\n",
       "\n",
       "    .dataframe tbody tr th {\n",
       "        vertical-align: top;\n",
       "    }\n",
       "\n",
       "    .dataframe thead th {\n",
       "        text-align: right;\n",
       "    }\n",
       "</style>\n",
       "<table border=\"1\" class=\"dataframe\">\n",
       "  <thead>\n",
       "    <tr style=\"text-align: right;\">\n",
       "      <th></th>\n",
       "      <th>a</th>\n",
       "      <th>b</th>\n",
       "      <th>c</th>\n",
       "    </tr>\n",
       "  </thead>\n",
       "  <tbody>\n",
       "    <tr>\n",
       "      <th>0</th>\n",
       "      <td>1</td>\n",
       "      <td>10</td>\n",
       "      <td>100</td>\n",
       "    </tr>\n",
       "    <tr>\n",
       "      <th>1</th>\n",
       "      <td>2</td>\n",
       "      <td>20</td>\n",
       "      <td>200</td>\n",
       "    </tr>\n",
       "    <tr>\n",
       "      <th>2</th>\n",
       "      <td>3</td>\n",
       "      <td>30</td>\n",
       "      <td>300</td>\n",
       "    </tr>\n",
       "    <tr>\n",
       "      <th>3</th>\n",
       "      <td>4</td>\n",
       "      <td>40</td>\n",
       "      <td>400</td>\n",
       "    </tr>\n",
       "  </tbody>\n",
       "</table>\n",
       "</div>"
      ],
      "text/plain": [
       "   a   b    c\n",
       "0  1  10  100\n",
       "1  2  20  200\n",
       "2  3  30  300\n",
       "3  4  40  400"
      ]
     },
     "execution_count": 19,
     "metadata": {},
     "output_type": "execute_result"
    }
   ],
   "source": [
    "a"
   ]
  },
  {
   "cell_type": "markdown",
   "id": "a6cc54b8",
   "metadata": {},
   "source": [
    "=> dictionary의 key는 DataFrame의 컬럼(열) 이름이 되었으며,  \n",
    "=> index는 자동 생성되어 [0, 1, 2, 3]이 적용되었음."
   ]
  },
  {
   "cell_type": "code",
   "execution_count": null,
   "id": "0644eef7",
   "metadata": {},
   "outputs": [],
   "source": []
  },
  {
   "cell_type": "markdown",
   "id": "cde9c294",
   "metadata": {},
   "source": [
    "#### 2) DataFrame 생성시 index 값 설정하기"
   ]
  },
  {
   "cell_type": "code",
   "execution_count": 17,
   "id": "f700bda1",
   "metadata": {},
   "outputs": [],
   "source": [
    "b = DataFrame(data, index=['k', 'l', 'm', 'n'])"
   ]
  },
  {
   "cell_type": "code",
   "execution_count": 18,
   "id": "4beb49f6",
   "metadata": {},
   "outputs": [
    {
     "data": {
      "text/html": [
       "<div>\n",
       "<style scoped>\n",
       "    .dataframe tbody tr th:only-of-type {\n",
       "        vertical-align: middle;\n",
       "    }\n",
       "\n",
       "    .dataframe tbody tr th {\n",
       "        vertical-align: top;\n",
       "    }\n",
       "\n",
       "    .dataframe thead th {\n",
       "        text-align: right;\n",
       "    }\n",
       "</style>\n",
       "<table border=\"1\" class=\"dataframe\">\n",
       "  <thead>\n",
       "    <tr style=\"text-align: right;\">\n",
       "      <th></th>\n",
       "      <th>a</th>\n",
       "      <th>b</th>\n",
       "      <th>c</th>\n",
       "    </tr>\n",
       "  </thead>\n",
       "  <tbody>\n",
       "    <tr>\n",
       "      <th>k</th>\n",
       "      <td>1</td>\n",
       "      <td>10</td>\n",
       "      <td>100</td>\n",
       "    </tr>\n",
       "    <tr>\n",
       "      <th>l</th>\n",
       "      <td>2</td>\n",
       "      <td>20</td>\n",
       "      <td>200</td>\n",
       "    </tr>\n",
       "    <tr>\n",
       "      <th>m</th>\n",
       "      <td>3</td>\n",
       "      <td>30</td>\n",
       "      <td>300</td>\n",
       "    </tr>\n",
       "    <tr>\n",
       "      <th>n</th>\n",
       "      <td>4</td>\n",
       "      <td>40</td>\n",
       "      <td>400</td>\n",
       "    </tr>\n",
       "  </tbody>\n",
       "</table>\n",
       "</div>"
      ],
      "text/plain": [
       "   a   b    c\n",
       "k  1  10  100\n",
       "l  2  20  200\n",
       "m  3  30  300\n",
       "n  4  40  400"
      ]
     },
     "execution_count": 18,
     "metadata": {},
     "output_type": "execute_result"
    }
   ],
   "source": [
    "b"
   ]
  },
  {
   "cell_type": "code",
   "execution_count": null,
   "id": "d9afb8ad",
   "metadata": {},
   "outputs": [],
   "source": []
  },
  {
   "cell_type": "markdown",
   "id": "0b604aef",
   "metadata": {},
   "source": [
    "#### 3) 배열을 이용하여 DataFrame 생성하기"
   ]
  },
  {
   "cell_type": "code",
   "execution_count": 23,
   "id": "f52a766f",
   "metadata": {},
   "outputs": [],
   "source": [
    "data = [[2022, 100, 1000],\n",
    "        [2023, 200, 2000],\n",
    "        [2024, 300, 3000],\n",
    "        [2025, 400, 4000]]"
   ]
  },
  {
   "cell_type": "code",
   "execution_count": 24,
   "id": "c987fd4e",
   "metadata": {},
   "outputs": [],
   "source": [
    "c = DataFrame(data, columns=['year', 'data1', 'data2'],\n",
    "              index=['one', 'two', 'three', 'four'])"
   ]
  },
  {
   "cell_type": "code",
   "execution_count": 25,
   "id": "5f21aa1d",
   "metadata": {},
   "outputs": [
    {
     "data": {
      "text/html": [
       "<div>\n",
       "<style scoped>\n",
       "    .dataframe tbody tr th:only-of-type {\n",
       "        vertical-align: middle;\n",
       "    }\n",
       "\n",
       "    .dataframe tbody tr th {\n",
       "        vertical-align: top;\n",
       "    }\n",
       "\n",
       "    .dataframe thead th {\n",
       "        text-align: right;\n",
       "    }\n",
       "</style>\n",
       "<table border=\"1\" class=\"dataframe\">\n",
       "  <thead>\n",
       "    <tr style=\"text-align: right;\">\n",
       "      <th></th>\n",
       "      <th>year</th>\n",
       "      <th>data1</th>\n",
       "      <th>data2</th>\n",
       "    </tr>\n",
       "  </thead>\n",
       "  <tbody>\n",
       "    <tr>\n",
       "      <th>one</th>\n",
       "      <td>2022</td>\n",
       "      <td>100</td>\n",
       "      <td>1000</td>\n",
       "    </tr>\n",
       "    <tr>\n",
       "      <th>two</th>\n",
       "      <td>2023</td>\n",
       "      <td>200</td>\n",
       "      <td>2000</td>\n",
       "    </tr>\n",
       "    <tr>\n",
       "      <th>three</th>\n",
       "      <td>2024</td>\n",
       "      <td>300</td>\n",
       "      <td>3000</td>\n",
       "    </tr>\n",
       "    <tr>\n",
       "      <th>four</th>\n",
       "      <td>2025</td>\n",
       "      <td>400</td>\n",
       "      <td>4000</td>\n",
       "    </tr>\n",
       "  </tbody>\n",
       "</table>\n",
       "</div>"
      ],
      "text/plain": [
       "       year  data1  data2\n",
       "one    2022    100   1000\n",
       "two    2023    200   2000\n",
       "three  2024    300   3000\n",
       "four   2025    400   4000"
      ]
     },
     "execution_count": 25,
     "metadata": {},
     "output_type": "execute_result"
    }
   ],
   "source": [
    "c"
   ]
  },
  {
   "cell_type": "code",
   "execution_count": null,
   "id": "c71bd6c7",
   "metadata": {},
   "outputs": [],
   "source": []
  },
  {
   "cell_type": "markdown",
   "id": "31c91966",
   "metadata": {},
   "source": [
    "#### 4) DataFrame에서 데이터 추출하기"
   ]
  },
  {
   "cell_type": "code",
   "execution_count": 26,
   "id": "02a526aa",
   "metadata": {},
   "outputs": [
    {
     "data": {
      "text/plain": [
       "one      2022\n",
       "two      2023\n",
       "three    2024\n",
       "four     2025\n",
       "Name: year, dtype: int64"
      ]
     },
     "execution_count": 26,
     "metadata": {},
     "output_type": "execute_result"
    }
   ],
   "source": [
    "c['year'] #컬럼명을 이용하여 컬럼 데이터 추출"
   ]
  },
  {
   "cell_type": "code",
   "execution_count": 27,
   "id": "780e8d82",
   "metadata": {},
   "outputs": [
    {
     "data": {
      "text/plain": [
       "year     2023\n",
       "data1     200\n",
       "data2    2000\n",
       "Name: two, dtype: int64"
      ]
     },
     "execution_count": 27,
     "metadata": {},
     "output_type": "execute_result"
    }
   ],
   "source": [
    "c.loc['two'] #로우 데이터를 추출하려면 loc 메서드를 사용함"
   ]
  },
  {
   "cell_type": "code",
   "execution_count": 28,
   "id": "de415537",
   "metadata": {},
   "outputs": [
    {
     "data": {
      "text/plain": [
       "200"
      ]
     },
     "execution_count": 28,
     "metadata": {},
     "output_type": "execute_result"
    }
   ],
   "source": [
    "c.loc['two', 'data1'] #하나의 데이터에 접근하기 위해서는 loc 메서드를 사용하여 로우명과 컬럼명을 같이 지정해 줌."
   ]
  },
  {
   "cell_type": "code",
   "execution_count": 29,
   "id": "63568096",
   "metadata": {},
   "outputs": [
    {
     "data": {
      "text/plain": [
       "year     2025\n",
       "data1     400\n",
       "data2    4000\n",
       "Name: four, dtype: int64"
      ]
     },
     "execution_count": 29,
     "metadata": {},
     "output_type": "execute_result"
    }
   ],
   "source": [
    "c.loc['four', :]"
   ]
  },
  {
   "cell_type": "code",
   "execution_count": 30,
   "id": "43c30870",
   "metadata": {},
   "outputs": [
    {
     "data": {
      "text/plain": [
       "one      1000\n",
       "two      2000\n",
       "three    3000\n",
       "four     4000\n",
       "Name: data2, dtype: int64"
      ]
     },
     "execution_count": 30,
     "metadata": {},
     "output_type": "execute_result"
    }
   ],
   "source": [
    "c.loc[:, 'data2']"
   ]
  }
 ],
 "metadata": {
  "kernelspec": {
   "display_name": "Python 3 (ipykernel)",
   "language": "python",
   "name": "python3"
  },
  "language_info": {
   "codemirror_mode": {
    "name": "ipython",
    "version": 3
   },
   "file_extension": ".py",
   "mimetype": "text/x-python",
   "name": "python",
   "nbconvert_exporter": "python",
   "pygments_lexer": "ipython3",
   "version": "3.7.13"
  }
 },
 "nbformat": 4,
 "nbformat_minor": 5
}
