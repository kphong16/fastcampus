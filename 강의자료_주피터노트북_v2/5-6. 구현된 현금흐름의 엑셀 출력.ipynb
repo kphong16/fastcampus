{
 "cells": [
  {
   "cell_type": "markdown",
   "id": "406cd462",
   "metadata": {},
   "source": [
    "# [ 5-6. 구현된 현금흐름의 엑셀 출력 ]"
   ]
  },
  {
   "cell_type": "code",
   "execution_count": 1,
   "id": "aa1f0683",
   "metadata": {},
   "outputs": [],
   "source": [
    "from datetime import date\n",
    "import pandas as pd\n",
    "from pandas import DataFrame, Series\n",
    "from cafle import Write, extnddct"
   ]
  },
  {
   "cell_type": "code",
   "execution_count": 2,
   "id": "b22ae97c",
   "metadata": {},
   "outputs": [],
   "source": [
    "from practice.cashflow import overview, idx, acc, sales, cost, equity, loan"
   ]
  },
  {
   "cell_type": "code",
   "execution_count": null,
   "id": "f94b7010",
   "metadata": {},
   "outputs": [],
   "source": []
  },
  {
   "cell_type": "markdown",
   "id": "8c33787f",
   "metadata": {},
   "source": [
    "## 1. 사업개요 출력 연습"
   ]
  },
  {
   "cell_type": "markdown",
   "id": "4e41d42b",
   "metadata": {},
   "source": [
    "### 1) 출력할 데이터 확인"
   ]
  },
  {
   "cell_type": "code",
   "execution_count": 3,
   "id": "ac54e42f",
   "metadata": {},
   "outputs": [
    {
     "data": {
      "text/plain": [
       "{'business': {'사업명': ['ㅇㅇ동 ㅁㅁ오피스텔 개발사업'],\n",
       "  '위치': ['서울시 ㄷㄷ구 ㅇㅇ동 123번지 일원'],\n",
       "  '지역지구': ['일반상업지구, 지구단위계획구역'],\n",
       "  '주용도': ['업무시설(오피스텔), 판매시설'],\n",
       "  '규모': ['지상15층 / 지하3층'],\n",
       "  '주구조': ['철근콘크리트구조'],\n",
       "  '주차대수': ['법정 161대', '계획 161대']},\n",
       " 'area':     대지면적  건축면적    연면적  용적률연면적\n",
       " m2  1500   750  13000    9500\n",
       " 평    454   227   3933    2874}"
      ]
     },
     "execution_count": 3,
     "metadata": {},
     "output_type": "execute_result"
    }
   ],
   "source": [
    "overview"
   ]
  },
  {
   "cell_type": "code",
   "execution_count": 4,
   "id": "1e2b7b5b",
   "metadata": {},
   "outputs": [
    {
     "data": {
      "text/plain": [
       "{'사업명': ['ㅇㅇ동 ㅁㅁ오피스텔 개발사업'],\n",
       " '위치': ['서울시 ㄷㄷ구 ㅇㅇ동 123번지 일원'],\n",
       " '지역지구': ['일반상업지구, 지구단위계획구역'],\n",
       " '주용도': ['업무시설(오피스텔), 판매시설'],\n",
       " '규모': ['지상15층 / 지하3층'],\n",
       " '주구조': ['철근콘크리트구조'],\n",
       " '주차대수': ['법정 161대', '계획 161대']}"
      ]
     },
     "execution_count": 4,
     "metadata": {},
     "output_type": "execute_result"
    }
   ],
   "source": [
    "#dictionary\n",
    "overview['business']"
   ]
  },
  {
   "cell_type": "code",
   "execution_count": 5,
   "id": "fe3d95f1",
   "metadata": {},
   "outputs": [
    {
     "data": {
      "text/html": [
       "<div>\n",
       "<style scoped>\n",
       "    .dataframe tbody tr th:only-of-type {\n",
       "        vertical-align: middle;\n",
       "    }\n",
       "\n",
       "    .dataframe tbody tr th {\n",
       "        vertical-align: top;\n",
       "    }\n",
       "\n",
       "    .dataframe thead th {\n",
       "        text-align: right;\n",
       "    }\n",
       "</style>\n",
       "<table border=\"1\" class=\"dataframe\">\n",
       "  <thead>\n",
       "    <tr style=\"text-align: right;\">\n",
       "      <th></th>\n",
       "      <th>대지면적</th>\n",
       "      <th>건축면적</th>\n",
       "      <th>연면적</th>\n",
       "      <th>용적률연면적</th>\n",
       "    </tr>\n",
       "  </thead>\n",
       "  <tbody>\n",
       "    <tr>\n",
       "      <th>m2</th>\n",
       "      <td>1500</td>\n",
       "      <td>750</td>\n",
       "      <td>13000</td>\n",
       "      <td>9500</td>\n",
       "    </tr>\n",
       "    <tr>\n",
       "      <th>평</th>\n",
       "      <td>454</td>\n",
       "      <td>227</td>\n",
       "      <td>3933</td>\n",
       "      <td>2874</td>\n",
       "    </tr>\n",
       "  </tbody>\n",
       "</table>\n",
       "</div>"
      ],
      "text/plain": [
       "    대지면적  건축면적    연면적  용적률연면적\n",
       "m2  1500   750  13000    9500\n",
       "평    454   227   3933    2874"
      ]
     },
     "execution_count": 5,
     "metadata": {},
     "output_type": "execute_result"
    }
   ],
   "source": [
    "#DataFrame\n",
    "overview['area']"
   ]
  },
  {
   "cell_type": "markdown",
   "id": "03179197",
   "metadata": {},
   "source": [
    "### 2) 엑셀파일 및 sheet 생성"
   ]
  },
  {
   "cell_type": "code",
   "execution_count": 6,
   "id": "d359fd8f",
   "metadata": {},
   "outputs": [],
   "source": [
    "#Excel Workbook 생성\n",
    "wb = Write(\"exercise/Exercise_overview.xlsx\")"
   ]
  },
  {
   "cell_type": "code",
   "execution_count": 7,
   "id": "a6b53d35",
   "metadata": {},
   "outputs": [
    {
     "data": {
      "text/plain": [
       "0"
      ]
     },
     "execution_count": 7,
     "metadata": {},
     "output_type": "execute_result"
    }
   ],
   "source": [
    "#Excel Sheet 생성\n",
    "ws = wb.add_ws('overview')\n",
    "wb.ws['overview'].set_column(\"A:K\", 12)"
   ]
  },
  {
   "cell_type": "markdown",
   "id": "d4b764c3",
   "metadata": {},
   "source": [
    "### 3) 사업개요 및 사업면적 출력(세로출력)"
   ]
  },
  {
   "cell_type": "code",
   "execution_count": 8,
   "id": "0b3cd807",
   "metadata": {},
   "outputs": [
    {
     "data": {
      "text/plain": [
       "Cell(9, 0)"
      ]
     },
     "execution_count": 8,
     "metadata": {},
     "output_type": "execute_result"
    }
   ],
   "source": [
    "ws(\"[사업개요]\", wb.bold)\n",
    "ws(overview['business'], fmtkey=wb.bold, fmt=wb.nml, valdrtn='col', drtn='col')\n",
    "ws.nextcell(1)"
   ]
  },
  {
   "cell_type": "code",
   "execution_count": 9,
   "id": "11681e43",
   "metadata": {},
   "outputs": [
    {
     "data": {
      "text/plain": [
       "Cell(15, 0)"
      ]
     },
     "execution_count": 9,
     "metadata": {},
     "output_type": "execute_result"
    }
   ],
   "source": [
    "ws(\"[사업면적]\", wb.bold)\n",
    "ws(overview['area'], fmtkey=wb.bold, fmt=wb.nml, valdrtn='col', drtn='col')"
   ]
  },
  {
   "cell_type": "markdown",
   "id": "4c054eda",
   "metadata": {},
   "source": [
    "### 4) 엑셀 sheet2 생성"
   ]
  },
  {
   "cell_type": "code",
   "execution_count": 10,
   "id": "5cb6e01a",
   "metadata": {},
   "outputs": [
    {
     "data": {
      "text/plain": [
       "0"
      ]
     },
     "execution_count": 10,
     "metadata": {},
     "output_type": "execute_result"
    }
   ],
   "source": [
    "#Excel Sheet 생성\n",
    "ws = wb.add_ws('overview2')\n",
    "wb.ws['overview2'].set_column(\"A:K\", 12)"
   ]
  },
  {
   "cell_type": "markdown",
   "id": "23509fe9",
   "metadata": {},
   "source": [
    "### 5) 사업개요 및 사업면적 출력(가로출력)"
   ]
  },
  {
   "cell_type": "code",
   "execution_count": 11,
   "id": "11e446ca",
   "metadata": {},
   "outputs": [],
   "source": [
    "ws(\"[사업개요]\", wb.bold)\n",
    "cell = ws(overview['business'], fmtkey=wb.bold, fmt=wb.nml, valdrtn='col', drtn='row')"
   ]
  },
  {
   "cell_type": "code",
   "execution_count": 12,
   "id": "d815d439",
   "metadata": {},
   "outputs": [
    {
     "data": {
      "text/plain": [
       "Cell(1, 7)"
      ]
     },
     "execution_count": 12,
     "metadata": {},
     "output_type": "execute_result"
    }
   ],
   "source": [
    "ws.setcell(0, cell.col + 1)\n",
    "ws(\"[사업면적]\", wb.bold)\n",
    "ws(overview['area'], fmtkey=wb.bold, fmt=wb.nml, valdrtn='col', drtn='row')"
   ]
  },
  {
   "cell_type": "markdown",
   "id": "74e29853",
   "metadata": {},
   "source": [
    "### 6) 엑셀워크북 클로징"
   ]
  },
  {
   "cell_type": "code",
   "execution_count": 13,
   "id": "0061e6eb",
   "metadata": {},
   "outputs": [
    {
     "data": {
      "text/plain": [
       "True"
      ]
     },
     "execution_count": 13,
     "metadata": {},
     "output_type": "execute_result"
    }
   ],
   "source": [
    "wb.close()"
   ]
  },
  {
   "cell_type": "markdown",
   "id": "707c992a",
   "metadata": {},
   "source": [
    "**=> \"Exercise_overview.xlsx\" 파일 생성 확인**"
   ]
  },
  {
   "cell_type": "code",
   "execution_count": null,
   "id": "884a5adb",
   "metadata": {},
   "outputs": [],
   "source": []
  },
  {
   "cell_type": "markdown",
   "id": "21d70922",
   "metadata": {},
   "source": [
    "## 2. 사업개요 및 Assumption 데이터 출력\n",
    "* 일반적으로 사업개요와 Assumption 데이터를 한 sheet에 출력함.\n",
    "* 앞에서 한 사업개요와 함께 Assumption 데이터를 출력하고자 함."
   ]
  },
  {
   "cell_type": "markdown",
   "id": "ac06df7e",
   "metadata": {},
   "source": [
    "### 1) 엑셀 워크북 및 sheet 생성"
   ]
  },
  {
   "cell_type": "code",
   "execution_count": 14,
   "id": "2866a78f",
   "metadata": {},
   "outputs": [],
   "source": [
    "#Excel Workbook 생성\n",
    "wb = Write(\"exercise/Exercise_Cashflow.xlsx\")"
   ]
  },
  {
   "cell_type": "code",
   "execution_count": 15,
   "id": "59ee5c0b",
   "metadata": {},
   "outputs": [
    {
     "data": {
      "text/plain": [
       "0"
      ]
     },
     "execution_count": 15,
     "metadata": {},
     "output_type": "execute_result"
    }
   ],
   "source": [
    "#Excel Sheet 생성\n",
    "ws = wb.add_ws(\"assumption\")\n",
    "wb.ws[\"assumption\"].set_column(\"A:K\", 12)"
   ]
  },
  {
   "cell_type": "markdown",
   "id": "b224f694",
   "metadata": {},
   "source": [
    "### 2) 머릿글  출력"
   ]
  },
  {
   "cell_type": "code",
   "execution_count": 16,
   "id": "c92aec2a",
   "metadata": {},
   "outputs": [
    {
     "data": {
      "text/plain": [
       "Cell(4, 0)"
      ]
     },
     "execution_count": 16,
     "metadata": {},
     "output_type": "execute_result"
    }
   ],
   "source": [
    "ws(\"ASSUMPTION\", wb.bold)                  #sheet 제목 출력\n",
    "ws(\"Written at: \" + wb.now)                #작성 일시 출력\n",
    "ws.nextcell(2)                             #두칸 띄우기"
   ]
  },
  {
   "cell_type": "markdown",
   "id": "23f2e359",
   "metadata": {},
   "source": [
    "### 3) 사업개요 출력"
   ]
  },
  {
   "cell_type": "code",
   "execution_count": 17,
   "id": "cd522ca6",
   "metadata": {},
   "outputs": [
    {
     "data": {
      "text/plain": [
       "Cell(13, 0)"
      ]
     },
     "execution_count": 17,
     "metadata": {},
     "output_type": "execute_result"
    }
   ],
   "source": [
    "#사업개요 출력\n",
    "ws(\"[Business Overview]\", wb.bold)\n",
    "ws(overview[\"business\"], fmtkey=wb.bold, fmt=wb.nml, \n",
    "                         valdrtn='col', drtn='col')\n",
    "ws.nextcell(1)"
   ]
  },
  {
   "cell_type": "code",
   "execution_count": 18,
   "id": "7b2ee8a8",
   "metadata": {},
   "outputs": [
    {
     "data": {
      "text/plain": [
       "Cell(20, 0)"
      ]
     },
     "execution_count": 18,
     "metadata": {},
     "output_type": "execute_result"
    }
   ],
   "source": [
    "#사업면적 출력\n",
    "ws(\"[Business Area]\", wb.bold)\n",
    "ws(overview[\"area\"], fmtkey=wb.bold, fmt=wb.nml, \n",
    "                     valdrtn='col', drtn='col')\n",
    "ws.nextcell(1)"
   ]
  },
  {
   "cell_type": "code",
   "execution_count": 19,
   "id": "f9f2d46e",
   "metadata": {},
   "outputs": [
    {
     "data": {
      "text/plain": [
       "Cell(27, 0)"
      ]
     },
     "execution_count": 19,
     "metadata": {},
     "output_type": "execute_result"
    }
   ],
   "source": [
    "#Index 출력\n",
    "ws(\"[Index]\", wb.bold)\n",
    "fmtd = [wb.bold, wb.month, wb.date, wb.date]\n",
    "ws([\"\", \"개월수\", \"시작일\", \"종료일\"])\n",
    "ws([\"사업기간\", len(idx) - 1, idx[0], idx[-1]], fmtd)\n",
    "ws([\"매출기간\", len(idx.sales), idx.sales[0], idx.sales[-1]], fmtd)\n",
    "ws([\"대출기간\", idx.mtrt, idx.loan[0], idx.loan[-1]], fmtd)\n",
    "ws([\"건축기간\", len(idx.cstrn), idx.cstrn[0], idx.cstrn[-1]], fmtd)\n",
    "ws.nextcell(1)"
   ]
  },
  {
   "cell_type": "code",
   "execution_count": 20,
   "id": "a622e75d",
   "metadata": {},
   "outputs": [
    {
     "data": {
      "text/plain": [
       "Cell(31, 0)"
      ]
     },
     "execution_count": 20,
     "metadata": {},
     "output_type": "execute_result"
    }
   ],
   "source": [
    "#Equity 출력\n",
    "ws(\"[Equity]\", wb.bold)\n",
    "ws({\"구분\": [_.name for _ in equity.dct.values()]}, \n",
    "           fmtkey=wb.bold, fmt=wb.nml, valdrtn='col')\n",
    "    #=> key값은 bold체로, 데이터값은 일반글씨체로, 데이터값은 칼럼 방향으로 출력\n",
    "ws({\"출자금액\": [_.amt for _ in equity.dct.values()]}, \n",
    "           fmtkey=wb.bold, fmt=wb.num, valdrtn='col')\n",
    "ws.nextcell(1)"
   ]
  },
  {
   "cell_type": "code",
   "execution_count": 21,
   "id": "fb5bbd72",
   "metadata": {},
   "outputs": [
    {
     "data": {
      "text/plain": [
       "Cell(43, 0)"
      ]
     },
     "execution_count": 21,
     "metadata": {},
     "output_type": "execute_result"
    }
   ],
   "source": [
    "#Loan 출력\n",
    "ws(\"[Loan]\", wb.bold)\n",
    "ws({\"구분\": [_.name for _ in loan.dct.values()]}, \n",
    "           fmtkey=wb.bold, fmt=wb.nml, valdrtn='col')\n",
    "ws({\"순위\": [_.rank for _ in loan.dct.values()]}, \n",
    "           fmtkey=wb.bold, fmt=wb.num, valdrtn='col')\n",
    "ws({\"대출금액\": [_.ntnl.amt for _ in loan.dct.values()]}, \n",
    "           fmtkey=wb.bold, fmt=wb.num, valdrtn='col')\n",
    "ws({\"최초인출\": [_.ntnl.intlamt for _ in loan.dct.values()]}, \n",
    "           fmtkey=wb.bold, fmt=wb.num, valdrtn='col')\n",
    "ws({\"한도인출\": [_.ntnl.amt - _.ntnl.intlamt for _ in loan.dct.values()]}, \n",
    "           fmtkey=wb.bold, fmt=wb.num, valdrtn='col')\n",
    "ws({\"수수료율\": [_.fee.rate for _ in loan.dct.values()]}, \n",
    "           fmtkey=wb.bold, fmt=wb.pct, valdrtn='col')\n",
    "ws({\"금리\": [_.IR.rate for _ in loan.dct.values()]}, \n",
    "           fmtkey=wb.bold, fmt=wb.pct, valdrtn='col')\n",
    "ws.nextcell(1)\n",
    "\n",
    "ws([\"만기\", idx.mtrt], [wb.bold, wb.month])\n",
    "ws([\"총 대출금액\", sum([ln.ntnl.amt for ln in loan.dct.values()])],\n",
    "           [wb.bold, wb.num])\n",
    "ws.nextcell(1)"
   ]
  },
  {
   "cell_type": "markdown",
   "id": "581e83b2",
   "metadata": {},
   "source": [
    "### 4) 분양매출 가정 출력"
   ]
  },
  {
   "cell_type": "code",
   "execution_count": 22,
   "id": "7ff91140",
   "metadata": {},
   "outputs": [],
   "source": [
    "ws.setcell(4, 6)"
   ]
  },
  {
   "cell_type": "code",
   "execution_count": 23,
   "id": "07063d83",
   "metadata": {},
   "outputs": [
    {
     "data": {
      "text/plain": [
       "Cell(12, 6)"
      ]
     },
     "execution_count": 23,
     "metadata": {},
     "output_type": "execute_result"
    }
   ],
   "source": [
    "ws(\"[분양매출가정_오피스텔]\", wb.bold)\n",
    "slstbl = sales.분양테이블['오피']\n",
    "slssum = DataFrame(slstbl.sum(), columns=['합계']).T\n",
    "slstbl = pd.concat([slstbl, slssum])\n",
    "ws(slstbl, fmtkey=wb.bold, fmt=wb.num, valdrtn='row', drtn='col')\n",
    "ws.nextcell(1)"
   ]
  },
  {
   "cell_type": "code",
   "execution_count": 24,
   "id": "2f4bbc6c",
   "metadata": {},
   "outputs": [
    {
     "data": {
      "text/plain": [
       "Cell(17, 6)"
      ]
     },
     "execution_count": 24,
     "metadata": {},
     "output_type": "execute_result"
    }
   ],
   "source": [
    "ws(\"[분양매출가정_근생시설]\", wb.bold)\n",
    "slstbl = sales.분양테이블['근생']\n",
    "slssum = DataFrame(slstbl.sum(), columns=['합계']).T\n",
    "slstbl = pd.concat([slstbl, slssum])\n",
    "ws(slstbl, fmtkey=wb.bold, fmt=wb.num, valdrtn='row', drtn='col')\n",
    "ws.nextcell(1)"
   ]
  },
  {
   "cell_type": "code",
   "execution_count": 25,
   "id": "f99c3cd9",
   "metadata": {},
   "outputs": [
    {
     "data": {
      "text/plain": [
       "Cell(21, 6)"
      ]
     },
     "execution_count": 25,
     "metadata": {},
     "output_type": "execute_result"
    }
   ],
   "source": [
    "ws(\"[분양매출금액]\", wb.bold)\n",
    "ws(sales.분양매출, fmtkey=wb.bold, fmt=wb.num, valdrtn='row', drtn='col')\n",
    "ws.nextcell(1)"
   ]
  },
  {
   "cell_type": "code",
   "execution_count": 26,
   "id": "761cfbb6",
   "metadata": {},
   "outputs": [
    {
     "data": {
      "text/plain": [
       "Cell(31, 6)"
      ]
     },
     "execution_count": 26,
     "metadata": {},
     "output_type": "execute_result"
    }
   ],
   "source": [
    "ws(\"[분양대금 납입일정]\", wb.bold)\n",
    "tmpfmt = {'구분':wb.nml, '오피':wb.pct, '근생':wb.pct, '납입오피':wb.num, '납입근생':wb.num, '납입소계':wb.num}\n",
    "slstbl = sales.대금납입일정\n",
    "slssum = DataFrame(slstbl.sum(), columns=['합계']).T\n",
    "slstbl = pd.concat([slstbl, slssum])\n",
    "ws(slstbl, fmtidx=wb.date, fmtkey=wb.bold, fmt=tmpfmt, \n",
    "           valdrtn='row', drtn='col')\n",
    "ws.nextcell(1)"
   ]
  },
  {
   "cell_type": "code",
   "execution_count": 27,
   "id": "a0c4355c",
   "metadata": {},
   "outputs": [
    {
     "data": {
      "text/plain": [
       "Cell(39, 6)"
      ]
     },
     "execution_count": 27,
     "metadata": {},
     "output_type": "execute_result"
    }
   ],
   "source": [
    "ws(\"[분양률 가정]\", wb.bold)\n",
    "tmpfmt = {'오피':wb.pct, '근생':wb.pct, '계약오피':wb.num, '계약근생':wb.num, '계약소계':wb.num}\n",
    "slstbl = sales.분양률가정\n",
    "slssum = DataFrame(slstbl.sum(), columns=['합계']).T\n",
    "slstbl = pd.concat([slstbl, slssum])\n",
    "ws(slstbl, fmtidx=wb.date, fmtkey=wb.bold, fmt=tmpfmt,\n",
    "           valdrtn='row', drtn='col')"
   ]
  },
  {
   "cell_type": "code",
   "execution_count": null,
   "id": "9d5f93dc",
   "metadata": {},
   "outputs": [],
   "source": []
  },
  {
   "cell_type": "markdown",
   "id": "44596926",
   "metadata": {},
   "source": [
    "## 3. Cashflow 출력"
   ]
  },
  {
   "cell_type": "markdown",
   "id": "ee6626f1",
   "metadata": {},
   "source": [
    "### 1) sheet 생성"
   ]
  },
  {
   "cell_type": "code",
   "execution_count": 28,
   "id": "cba05f09",
   "metadata": {},
   "outputs": [
    {
     "data": {
      "text/plain": [
       "0"
      ]
     },
     "execution_count": 28,
     "metadata": {},
     "output_type": "execute_result"
    }
   ],
   "source": [
    "#Excel Sheet 생성\n",
    "ws = wb.add_ws(\"cashflow\")\n",
    "wb.ws[\"cashflow\"].set_column(\"A:A\", 12)"
   ]
  },
  {
   "cell_type": "markdown",
   "id": "9ec1dfdd",
   "metadata": {},
   "source": [
    "### 2) 머릿글  출력"
   ]
  },
  {
   "cell_type": "code",
   "execution_count": 29,
   "id": "ffcba38f",
   "metadata": {},
   "outputs": [
    {
     "data": {
      "text/plain": [
       "Cell(4, 0)"
      ]
     },
     "execution_count": 29,
     "metadata": {},
     "output_type": "execute_result"
    }
   ],
   "source": [
    "ws(\"CASH FLOW\", wb.bold)\n",
    "ws(\"Written at: \" + wb.now)\n",
    "ws.nextcell(2)"
   ]
  },
  {
   "cell_type": "markdown",
   "id": "d9fb7363",
   "metadata": {},
   "source": [
    "### 3) Cashflow data 출력"
   ]
  },
  {
   "cell_type": "markdown",
   "id": "985cbc73",
   "metadata": {},
   "source": [
    "#### (1) Index 출력"
   ]
  },
  {
   "cell_type": "code",
   "execution_count": 30,
   "id": "cd172a5a",
   "metadata": {},
   "outputs": [
    {
     "data": {
      "text/plain": [
       "Cell(5, 1)"
      ]
     },
     "execution_count": 30,
     "metadata": {},
     "output_type": "execute_result"
    }
   ],
   "source": [
    "cell = ws(\"[Cashflow]\", wb.bold)\n",
    "ws.nextcell(2)\n",
    "ws(idx, wb.date, valdrtn='col', drtn='col')\n",
    "ws(\"합계\", wb.nml)\n",
    "\n",
    "ws.setcell(cell)\n",
    "ws.nextcell(1, drtn='col')"
   ]
  },
  {
   "cell_type": "markdown",
   "id": "be626b1a",
   "metadata": {},
   "source": [
    "#### (2) 출력하고자 하는 딕셔너리 데이터들을 묶어서 하나의 딕셔너리로 통합"
   ]
  },
  {
   "cell_type": "code",
   "execution_count": 31,
   "id": "034e13bc",
   "metadata": {},
   "outputs": [],
   "source": [
    "#사업비의 경우 3개의 층으로 데이터가 구성되어 있으므로, 미리 데이터 형태를 2개 층으로 조정함.\n",
    "사업비 = {key: {key2: list(item2.df.amt_in) for key2, item2 in item.dct.items()} for key, item in cost.dct.items()}"
   ]
  },
  {
   "cell_type": "code",
   "execution_count": 32,
   "id": "fc1650a5",
   "metadata": {},
   "outputs": [],
   "source": [
    "cfdct = {\n",
    "    '운영_기초': extnddct(\n",
    "        {'기초잔액': acc.oprtg.df.bal_strt},\n",
    "    ),\n",
    "    '자금조달': extnddct(\n",
    "        {'Eqt_'+key: list(item.amt_out) for key, item in equity.dct.items()},\n",
    "        {'Loan_'+key: list(item.ntnl.df.amt_out) for key, item in loan.dct.items()},\n",
    "    ),\n",
    "    '분양매출': extnddct(\n",
    "        {'분양_'+key: list(item.amt_out) for key, item in sales.dct.items()},\n",
    "    ),\n",
    "    '운영_유입': extnddct(\n",
    "        {'현금유입': list(acc.oprtg.df.amt_in)},\n",
    "    ),\n",
    "    '금융비용': extnddct(\n",
    "        {'Fee_'+key: list(item.fee.df.amt_in) for key, item in loan.dct.items()},\n",
    "        {'IR_'+key: list(item.IR.df.amt_in) for key, item in loan.dct.items()}\n",
    "    ),\n",
    "    **사업비,\n",
    "    '상환_loan': extnddct(\n",
    "        {'상환'+key: list(item.ntnl.df.amt_in) for key, item in loan.dct.items()},\n",
    "    ),\n",
    "    '상환_Eqt': extnddct(\n",
    "        {'Eqt_'+key: list(item.df.amt_in) for key, item, in equity.dct.items()}\n",
    "    ),\n",
    "    '운영_유출': extnddct(\n",
    "        {'현금유출': acc.oprtg.df.amt_out},\n",
    "    ),\n",
    "    '운영_기말': extnddct(\n",
    "        {'기말잔액': acc.oprtg.df.bal_end}\n",
    "    ),\n",
    "}"
   ]
  },
  {
   "cell_type": "markdown",
   "id": "8062eff1",
   "metadata": {},
   "source": [
    "#### (3) 데이터 합계 계산"
   ]
  },
  {
   "cell_type": "code",
   "execution_count": 33,
   "id": "f7bcd703",
   "metadata": {},
   "outputs": [],
   "source": [
    "dctsum = {}\n",
    "for key, dct in cfdct.items():\n",
    "    dctsum[key] = {}\n",
    "    for key2, srs in dct.items():\n",
    "        if key2 in ['기초잔액', '기말잔액']:\n",
    "            tmpval = '-'\n",
    "        else:\n",
    "            tmpval = sum(srs)\n",
    "        dctsum[key][key2] = pd.concat([Series(srs), Series([tmpval], index=['합계'])])    "
   ]
  },
  {
   "cell_type": "markdown",
   "id": "d1d170ce",
   "metadata": {},
   "source": [
    "#### (4) cashflow 데이터 출력"
   ]
  },
  {
   "cell_type": "code",
   "execution_count": 34,
   "id": "df7c8fea",
   "metadata": {},
   "outputs": [],
   "source": [
    "ws(dctsum, fmtkey=wb.bold, fmt=wb.num, valdrtn='row', drtn='col')\n",
    "cell = ws.nextcell(2)"
   ]
  },
  {
   "cell_type": "markdown",
   "id": "3f785439",
   "metadata": {},
   "source": [
    "### 4) 요약 Cashflow 출력"
   ]
  },
  {
   "cell_type": "markdown",
   "id": "08c25a0d",
   "metadata": {},
   "source": [
    "#### (1) Index 출력"
   ]
  },
  {
   "cell_type": "code",
   "execution_count": 36,
   "id": "51c0757f",
   "metadata": {},
   "outputs": [
    {
     "data": {
      "text/plain": [
       "Cell(41, 1)"
      ]
     },
     "execution_count": 36,
     "metadata": {},
     "output_type": "execute_result"
    }
   ],
   "source": [
    "ws.setcell(cell.row, 0)\n",
    "cell = ws(\"[요약 Cashflow]\", wb.bold)\n",
    "ws.nextcell(2)\n",
    "ws(idx, wb.date, valdrtn='col', drtn='col')\n",
    "ws(\"합계\", wb.nml)\n",
    "ws.setcell(cell)\n",
    "ws.nextcell(1, drtn='col')"
   ]
  },
  {
   "cell_type": "markdown",
   "id": "0891804f",
   "metadata": {},
   "source": [
    "#### (2) 출력하고자 하는 딕셔너리 데이터들을 묶어서 하나의 딕셔너리로 통합"
   ]
  },
  {
   "cell_type": "code",
   "execution_count": 37,
   "id": "70ad4b98",
   "metadata": {},
   "outputs": [],
   "source": [
    "cfdct = {\n",
    "    '운영_기초': extnddct(\n",
    "        {'기초잔액': acc.oprtg.df.bal_strt},\n",
    "    ),\n",
    "    '자금조달': extnddct(\n",
    "        {'Eqt_'+key: list(item.amt_out) for key, item in equity.dct.items()},\n",
    "        {'Loan_'+key: list(item.ntnl.df.amt_out) for key, item in loan.dct.items()},\n",
    "    ),\n",
    "    '분양매출': extnddct(\n",
    "        {'분양_'+key: list(item.amt_out) for key, item in sales.dct.items()},\n",
    "    ),\n",
    "    '운영_유입': extnddct(\n",
    "        {'현금유입': list(acc.oprtg.df.amt_in)},\n",
    "    ),\n",
    "    '금융비용': extnddct(\n",
    "        {'Fee_'+key: list(item.fee.df.amt_in) for key, item in loan.dct.items()},\n",
    "        {'IR_'+key: list(item.IR.df.amt_in) for key, item in loan.dct.items()}\n",
    "    ),\n",
    "    '사업비': extnddct(\n",
    "        {key: list(item.mrg.df.amt_in) for key, item in cost.dct.items()},\n",
    "    ),\n",
    "    '상환_loan': extnddct(\n",
    "        {'상환'+key: list(item.ntnl.df.amt_in) for key, item in loan.dct.items()},\n",
    "    ),\n",
    "    '상환_Eqt': extnddct(\n",
    "        {'Eqt_'+key: list(item.df.amt_in) for key, item, in equity.dct.items()}\n",
    "    ),\n",
    "    '운영_유출': extnddct(\n",
    "        {'현금유출': acc.oprtg.df.amt_out},\n",
    "    ),\n",
    "    '운영_기말': extnddct(\n",
    "        {'기말잔액': acc.oprtg.df.bal_end}\n",
    "    ),\n",
    "}"
   ]
  },
  {
   "cell_type": "markdown",
   "id": "2f19003a",
   "metadata": {},
   "source": [
    "#### (3) 데이터 합계 계산"
   ]
  },
  {
   "cell_type": "code",
   "execution_count": 38,
   "id": "61cf6d46",
   "metadata": {},
   "outputs": [],
   "source": [
    "dctsum = {}\n",
    "for key, dct in cfdct.items():\n",
    "    dctsum[key] = {}\n",
    "    for key2, srs in dct.items():\n",
    "        if key2 in ['기초잔액', '기말잔액']:\n",
    "            tmpval = '-'\n",
    "        else:\n",
    "            tmpval = sum(srs)\n",
    "        dctsum[key][key2] = pd.concat([Series(srs), Series([tmpval], index=['합계'])]) "
   ]
  },
  {
   "cell_type": "markdown",
   "id": "62daf5cc",
   "metadata": {},
   "source": [
    "#### (4) cashflow 데이터 출력"
   ]
  },
  {
   "cell_type": "code",
   "execution_count": 39,
   "id": "8c0a1928",
   "metadata": {},
   "outputs": [
    {
     "data": {
      "text/plain": [
       "Cell(74, 1)"
      ]
     },
     "execution_count": 39,
     "metadata": {},
     "output_type": "execute_result"
    }
   ],
   "source": [
    "ws(dctsum, fmtkey=wb.bold, fmt=wb.num, valdrtn='row', drtn='col')"
   ]
  },
  {
   "cell_type": "code",
   "execution_count": null,
   "id": "6f8072db",
   "metadata": {},
   "outputs": [],
   "source": []
  },
  {
   "cell_type": "markdown",
   "id": "05461f0b",
   "metadata": {},
   "source": [
    "## 4. Financing data 출력"
   ]
  },
  {
   "cell_type": "markdown",
   "id": "ec66ddd8",
   "metadata": {},
   "source": [
    "### 1) sheet 생성"
   ]
  },
  {
   "cell_type": "code",
   "execution_count": 40,
   "id": "0fb8d4d1",
   "metadata": {},
   "outputs": [
    {
     "data": {
      "text/plain": [
       "0"
      ]
     },
     "execution_count": 40,
     "metadata": {},
     "output_type": "execute_result"
    }
   ],
   "source": [
    "#Excel Sheet 생성\n",
    "ws = wb.add_ws(\"financing\")\n",
    "wb.ws[\"financing\"].set_column(\"A:A\", 12)"
   ]
  },
  {
   "cell_type": "markdown",
   "id": "acefe830",
   "metadata": {},
   "source": [
    "### 2) 머릿글  출력"
   ]
  },
  {
   "cell_type": "code",
   "execution_count": 41,
   "id": "a2971d82",
   "metadata": {},
   "outputs": [],
   "source": [
    "ws(\"FINANCING\", wb.bold)\n",
    "ws(\"Written at: \" + wb.now)\n",
    "cell = ws.nextcell(2)"
   ]
  },
  {
   "cell_type": "markdown",
   "id": "76c99c05",
   "metadata": {},
   "source": [
    "### 3) Index 출력"
   ]
  },
  {
   "cell_type": "code",
   "execution_count": 42,
   "id": "48f96b17",
   "metadata": {},
   "outputs": [
    {
     "data": {
      "text/plain": [
       "Cell(4, 1)"
      ]
     },
     "execution_count": 42,
     "metadata": {},
     "output_type": "execute_result"
    }
   ],
   "source": [
    "ws.nextcell(3)\n",
    "ws(idx, wb.date, valdrtn='col', drtn='col')\n",
    "ws(\"합계\", wb.nml)\n",
    "\n",
    "ws.setcell(cell)\n",
    "ws.nextcell(1, drtn='col')"
   ]
  },
  {
   "cell_type": "markdown",
   "id": "eacb1c47",
   "metadata": {},
   "source": [
    "### 4) Financing data 출력"
   ]
  },
  {
   "cell_type": "markdown",
   "id": "7144e0cd",
   "metadata": {},
   "source": [
    "#### (1) 빈 딕셔너리 생성"
   ]
  },
  {
   "cell_type": "code",
   "execution_count": 43,
   "id": "352d023a",
   "metadata": {},
   "outputs": [],
   "source": [
    "fncdct = {}"
   ]
  },
  {
   "cell_type": "markdown",
   "id": "d1e9669b",
   "metadata": {},
   "source": [
    "#### (2) fncdct에 Loan 데이터 입력"
   ]
  },
  {
   "cell_type": "code",
   "execution_count": 44,
   "id": "6a369e5d",
   "metadata": {},
   "outputs": [],
   "source": [
    "for key, ln in loan.dct.items():\n",
    "    fncdct['Loan_'+key] = wb.dctprt_loan(ln)\n",
    "    #dctprt_loan : 딕셔너리 형태로 Loan데이터를 출력하는 함수"
   ]
  },
  {
   "cell_type": "markdown",
   "id": "ae3e3165",
   "metadata": {},
   "source": [
    "#### (3) fncdct에 Equity 데이터 입력"
   ]
  },
  {
   "cell_type": "code",
   "execution_count": 45,
   "id": "a2fd4cdd",
   "metadata": {},
   "outputs": [],
   "source": [
    "#Equity데이터를 딕셔너리 형태로 변환\n",
    "eqtdct = {}\n",
    "for key, eqt in equity.dct.items():\n",
    "    eqtdct['Eqt_'+key] = {\n",
    "        '인출한도': eqt._df.scd_out,\n",
    "        '상환예정': eqt._df.scd_in,\n",
    "        '인출금액': eqt._df.amt_out,\n",
    "        '상환금액': eqt._df.amt_in,\n",
    "        '대출잔액': eqt._df.bal_end,\n",
    "    }\n",
    "fncdct['Equity'] = eqtdct"
   ]
  },
  {
   "cell_type": "markdown",
   "id": "b83c6be0",
   "metadata": {},
   "source": [
    "#### (4) 합계 데이터 입력"
   ]
  },
  {
   "cell_type": "code",
   "execution_count": 46,
   "id": "ae155c24",
   "metadata": {},
   "outputs": [],
   "source": [
    "ttldct = {}\n",
    "for key, dct in fncdct.items():\n",
    "    ttldct[key] = {}\n",
    "    for key2, dct2 in dct.items():\n",
    "        ttldct[key][key2] = {}\n",
    "        for key3, srs in dct2.items():\n",
    "            if key3 in ['대출잔액', '누적이자', '누적수수료', '누적미인출']:\n",
    "                tmpval = '-'\n",
    "            else:\n",
    "                tmpval = sum(srs)\n",
    "            ttldct[key][key2][key3] = pd.concat([srs, Series([tmpval], index=['합계'])])"
   ]
  },
  {
   "cell_type": "markdown",
   "id": "f0837ae2",
   "metadata": {},
   "source": [
    "#### (5) 최종 딕셔너리 데이터 출력"
   ]
  },
  {
   "cell_type": "code",
   "execution_count": 47,
   "id": "cb585579",
   "metadata": {},
   "outputs": [
    {
     "data": {
      "text/plain": [
       "Cell(38, 1)"
      ]
     },
     "execution_count": 47,
     "metadata": {},
     "output_type": "execute_result"
    }
   ],
   "source": [
    "ws(ttldct, fmtkey=wb.bold, fmt=wb.num, valdrtn='row', drtn='col')"
   ]
  },
  {
   "cell_type": "markdown",
   "id": "6266f5f6",
   "metadata": {},
   "source": [
    "## 6. 엑셀 워크북 클로징"
   ]
  },
  {
   "cell_type": "code",
   "execution_count": 48,
   "id": "b78b2a73",
   "metadata": {},
   "outputs": [
    {
     "data": {
      "text/plain": [
       "True"
      ]
     },
     "execution_count": 48,
     "metadata": {},
     "output_type": "execute_result"
    }
   ],
   "source": [
    "wb.close()"
   ]
  }
 ],
 "metadata": {
  "kernelspec": {
   "display_name": "Python 3 (ipykernel)",
   "language": "python",
   "name": "python3"
  },
  "language_info": {
   "codemirror_mode": {
    "name": "ipython",
    "version": 3
   },
   "file_extension": ".py",
   "mimetype": "text/x-python",
   "name": "python",
   "nbconvert_exporter": "python",
   "pygments_lexer": "ipython3",
   "version": "3.7.13"
  }
 },
 "nbformat": 4,
 "nbformat_minor": 5
}
