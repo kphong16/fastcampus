{
 "cells": [
  {
   "cell_type": "markdown",
   "id": "d5fea0f8",
   "metadata": {},
   "source": [
    "# [ 2-4. 시계열 다루기(datetime) ]"
   ]
  },
  {
   "cell_type": "markdown",
   "id": "4900b6c8",
   "metadata": {},
   "source": [
    "## 1. datetime 라이브러리\n",
    "* 파이썬에서 날짜와 시간을 다루고자 하는 경우 datetime 라이브러리를 많이 사용함.\n",
    "* datetime 라이브러리는 파이썬 표준라이브러리임.\n",
    "* datetime 라이브러리에는 date객체(날짜), time객체(시간), datetime객체(날짜와 시간)가 있고, 이러한 객체들을 이용하여 날짜와 시간을 다루게 됨."
   ]
  },
  {
   "cell_type": "markdown",
   "id": "13620a0c",
   "metadata": {},
   "source": [
    "### 1) datetime 객체"
   ]
  },
  {
   "cell_type": "code",
   "execution_count": 42,
   "id": "faf9c30f",
   "metadata": {},
   "outputs": [],
   "source": [
    "from datetime import datetime"
   ]
  },
  {
   "cell_type": "code",
   "execution_count": 43,
   "id": "ab18c1e0",
   "metadata": {},
   "outputs": [],
   "source": [
    "dt = [datetime(2023, 1, 31), datetime(2023, 2, 28), datetime(2023, 3, 31), \n",
    "      datetime(2023, 4, 30), datetime(2023, 5, 31), datetime(2023, 6, 30)]"
   ]
  },
  {
   "cell_type": "code",
   "execution_count": 44,
   "id": "295e9890",
   "metadata": {
    "scrolled": true
   },
   "outputs": [
    {
     "data": {
      "text/plain": [
       "[datetime.datetime(2023, 1, 31, 0, 0),\n",
       " datetime.datetime(2023, 2, 28, 0, 0),\n",
       " datetime.datetime(2023, 3, 31, 0, 0),\n",
       " datetime.datetime(2023, 4, 30, 0, 0),\n",
       " datetime.datetime(2023, 5, 31, 0, 0),\n",
       " datetime.datetime(2023, 6, 30, 0, 0)]"
      ]
     },
     "execution_count": 44,
     "metadata": {},
     "output_type": "execute_result"
    }
   ],
   "source": [
    "dt"
   ]
  },
  {
   "cell_type": "code",
   "execution_count": 45,
   "id": "c6eadb32",
   "metadata": {},
   "outputs": [
    {
     "data": {
      "text/plain": [
       "2023"
      ]
     },
     "execution_count": 45,
     "metadata": {},
     "output_type": "execute_result"
    }
   ],
   "source": [
    "dt[0].year"
   ]
  },
  {
   "cell_type": "code",
   "execution_count": 46,
   "id": "236a5f3c",
   "metadata": {},
   "outputs": [
    {
     "data": {
      "text/plain": [
       "1"
      ]
     },
     "execution_count": 46,
     "metadata": {},
     "output_type": "execute_result"
    }
   ],
   "source": [
    "dt[0].month"
   ]
  },
  {
   "cell_type": "code",
   "execution_count": 47,
   "id": "1a619b8e",
   "metadata": {},
   "outputs": [
    {
     "data": {
      "text/plain": [
       "31"
      ]
     },
     "execution_count": 47,
     "metadata": {},
     "output_type": "execute_result"
    }
   ],
   "source": [
    "dt[0].day"
   ]
  },
  {
   "cell_type": "code",
   "execution_count": 48,
   "id": "69a168f3",
   "metadata": {},
   "outputs": [
    {
     "data": {
      "text/plain": [
       "[1, 2, 3, 4, 5, 6]"
      ]
     },
     "execution_count": 48,
     "metadata": {},
     "output_type": "execute_result"
    }
   ],
   "source": [
    "[x.month for x in dt]  #리스트 컴프리헨션을 통해 year, month, day 등 추출"
   ]
  },
  {
   "cell_type": "code",
   "execution_count": 49,
   "id": "b1fa3020",
   "metadata": {},
   "outputs": [
    {
     "data": {
      "text/plain": [
       "[2023, 2023, 2023, 2023, 2023, 2023]"
      ]
     },
     "execution_count": 49,
     "metadata": {},
     "output_type": "execute_result"
    }
   ],
   "source": [
    "[x.year for x in dt]"
   ]
  },
  {
   "cell_type": "code",
   "execution_count": 50,
   "id": "d73ea4b1",
   "metadata": {},
   "outputs": [
    {
     "data": {
      "text/plain": [
       "[(2023, 1), (2023, 2), (2023, 3), (2023, 4), (2023, 5), (2023, 6)]"
      ]
     },
     "execution_count": 50,
     "metadata": {},
     "output_type": "execute_result"
    }
   ],
   "source": [
    "[(x.year, x.month) for x in dt]"
   ]
  },
  {
   "cell_type": "markdown",
   "id": "4e66a252",
   "metadata": {},
   "source": [
    "#### 문자형태로 출력(strftime 메서드)"
   ]
  },
  {
   "cell_type": "code",
   "execution_count": 51,
   "id": "f434744b",
   "metadata": {},
   "outputs": [
    {
     "data": {
      "text/plain": [
       "'2023-01-31'"
      ]
     },
     "execution_count": 51,
     "metadata": {},
     "output_type": "execute_result"
    }
   ],
   "source": [
    "dt[0].strftime('%Y-%m-%d')"
   ]
  },
  {
   "cell_type": "code",
   "execution_count": 52,
   "id": "2f6186de",
   "metadata": {},
   "outputs": [
    {
     "data": {
      "text/plain": [
       "'2023.02.28'"
      ]
     },
     "execution_count": 52,
     "metadata": {},
     "output_type": "execute_result"
    }
   ],
   "source": [
    "dt[1].strftime('%Y.%m.%d')"
   ]
  },
  {
   "cell_type": "code",
   "execution_count": 53,
   "id": "f83f1e0b",
   "metadata": {},
   "outputs": [
    {
     "data": {
      "text/plain": [
       "['2023.01.31',\n",
       " '2023.02.28',\n",
       " '2023.03.31',\n",
       " '2023.04.30',\n",
       " '2023.05.31',\n",
       " '2023.06.30']"
      ]
     },
     "execution_count": 53,
     "metadata": {},
     "output_type": "execute_result"
    }
   ],
   "source": [
    "[x.strftime('%Y.%m.%d') for x in dt]"
   ]
  },
  {
   "cell_type": "markdown",
   "id": "f9031c94",
   "metadata": {},
   "source": [
    "#### 날짜간 차이 계산"
   ]
  },
  {
   "cell_type": "code",
   "execution_count": 56,
   "id": "6fc2fc27",
   "metadata": {},
   "outputs": [
    {
     "data": {
      "text/plain": [
       "datetime.timedelta(days=181)"
      ]
     },
     "execution_count": 56,
     "metadata": {},
     "output_type": "execute_result"
    }
   ],
   "source": [
    "diff = datetime(2023, 7, 1) - datetime(2023, 1, 1)\n",
    "diff"
   ]
  },
  {
   "cell_type": "code",
   "execution_count": 57,
   "id": "3a4d7857",
   "metadata": {},
   "outputs": [
    {
     "data": {
      "text/plain": [
       "181"
      ]
     },
     "execution_count": 57,
     "metadata": {},
     "output_type": "execute_result"
    }
   ],
   "source": [
    "diff.days"
   ]
  },
  {
   "cell_type": "markdown",
   "id": "c5088145",
   "metadata": {},
   "source": [
    "#### 오늘 날짜 객체 생성"
   ]
  },
  {
   "cell_type": "code",
   "execution_count": 58,
   "id": "b41fce04",
   "metadata": {},
   "outputs": [
    {
     "data": {
      "text/plain": [
       "datetime.datetime(2022, 11, 29, 17, 1, 56, 948754)"
      ]
     },
     "execution_count": 58,
     "metadata": {},
     "output_type": "execute_result"
    }
   ],
   "source": [
    "datetime.today()"
   ]
  },
  {
   "cell_type": "code",
   "execution_count": 59,
   "id": "7035c089",
   "metadata": {},
   "outputs": [
    {
     "data": {
      "text/plain": [
       "datetime.datetime(2022, 11, 29, 17, 2, 22, 469811)"
      ]
     },
     "execution_count": 59,
     "metadata": {},
     "output_type": "execute_result"
    }
   ],
   "source": [
    "datetime.now()"
   ]
  },
  {
   "cell_type": "code",
   "execution_count": null,
   "id": "2213b8bd",
   "metadata": {},
   "outputs": [],
   "source": []
  },
  {
   "cell_type": "markdown",
   "id": "70e5a88f",
   "metadata": {},
   "source": [
    "### 2) timedelta 객체"
   ]
  },
  {
   "cell_type": "code",
   "execution_count": 67,
   "id": "cd816589",
   "metadata": {},
   "outputs": [],
   "source": [
    "from datetime import timedelta"
   ]
  },
  {
   "cell_type": "code",
   "execution_count": 68,
   "id": "889184d1",
   "metadata": {},
   "outputs": [],
   "source": [
    "start = datetime(2023, 1, 1)"
   ]
  },
  {
   "cell_type": "code",
   "execution_count": 70,
   "id": "1ef1b19e",
   "metadata": {},
   "outputs": [
    {
     "data": {
      "text/plain": [
       "datetime.datetime(2023, 2, 1, 0, 0)"
      ]
     },
     "execution_count": 70,
     "metadata": {},
     "output_type": "execute_result"
    }
   ],
   "source": [
    "start + timedelta(31)  #days"
   ]
  },
  {
   "cell_type": "code",
   "execution_count": 71,
   "id": "9d632653",
   "metadata": {},
   "outputs": [
    {
     "data": {
      "text/plain": [
       "[datetime.datetime(2023, 1, 31, 0, 0),\n",
       " datetime.datetime(2023, 2, 28, 0, 0),\n",
       " datetime.datetime(2023, 3, 31, 0, 0),\n",
       " datetime.datetime(2023, 4, 30, 0, 0),\n",
       " datetime.datetime(2023, 5, 31, 0, 0),\n",
       " datetime.datetime(2023, 6, 30, 0, 0)]"
      ]
     },
     "execution_count": 71,
     "metadata": {},
     "output_type": "execute_result"
    }
   ],
   "source": [
    "dt"
   ]
  },
  {
   "cell_type": "code",
   "execution_count": 73,
   "id": "916ddb65",
   "metadata": {},
   "outputs": [
    {
     "data": {
      "text/plain": [
       "[datetime.datetime(2023, 2, 1, 0, 0),\n",
       " datetime.datetime(2023, 3, 1, 0, 0),\n",
       " datetime.datetime(2023, 4, 1, 0, 0),\n",
       " datetime.datetime(2023, 5, 1, 0, 0),\n",
       " datetime.datetime(2023, 6, 1, 0, 0),\n",
       " datetime.datetime(2023, 7, 1, 0, 0)]"
      ]
     },
     "execution_count": 73,
     "metadata": {},
     "output_type": "execute_result"
    }
   ],
   "source": [
    "[x + timedelta(1) for x in dt]"
   ]
  },
  {
   "cell_type": "code",
   "execution_count": null,
   "id": "51507c2b",
   "metadata": {},
   "outputs": [],
   "source": []
  },
  {
   "cell_type": "markdown",
   "id": "4185cfb1",
   "metadata": {},
   "source": [
    "## 2. pandas.to_datetime\n",
    "* 일반적으로 사용하는 날짜 시간의 문자열 형식을 datetime 객체로 변환"
   ]
  },
  {
   "cell_type": "code",
   "execution_count": 74,
   "id": "53ed3d78",
   "metadata": {},
   "outputs": [
    {
     "data": {
      "text/plain": [
       "[datetime.datetime(2023, 1, 31, 0, 0),\n",
       " datetime.datetime(2023, 2, 28, 0, 0),\n",
       " datetime.datetime(2023, 3, 31, 0, 0),\n",
       " datetime.datetime(2023, 4, 30, 0, 0),\n",
       " datetime.datetime(2023, 5, 31, 0, 0),\n",
       " datetime.datetime(2023, 6, 30, 0, 0)]"
      ]
     },
     "execution_count": 74,
     "metadata": {},
     "output_type": "execute_result"
    }
   ],
   "source": [
    "dt"
   ]
  },
  {
   "cell_type": "code",
   "execution_count": 76,
   "id": "83b2c7d2",
   "metadata": {},
   "outputs": [
    {
     "data": {
      "text/plain": [
       "['2023.01.31',\n",
       " '2023.02.28',\n",
       " '2023.03.31',\n",
       " '2023.04.30',\n",
       " '2023.05.31',\n",
       " '2023.06.30']"
      ]
     },
     "execution_count": 76,
     "metadata": {},
     "output_type": "execute_result"
    }
   ],
   "source": [
    "dtstr = [x.strftime('%Y.%m.%d') for x in dt]\n",
    "dtstr"
   ]
  },
  {
   "cell_type": "code",
   "execution_count": 83,
   "id": "fa45ab9f",
   "metadata": {},
   "outputs": [
    {
     "data": {
      "text/plain": [
       "'2023.01.31'"
      ]
     },
     "execution_count": 83,
     "metadata": {},
     "output_type": "execute_result"
    }
   ],
   "source": [
    "dtstr[0]"
   ]
  },
  {
   "cell_type": "code",
   "execution_count": null,
   "id": "26132cdc",
   "metadata": {},
   "outputs": [],
   "source": []
  },
  {
   "cell_type": "code",
   "execution_count": 60,
   "id": "af13adf2",
   "metadata": {},
   "outputs": [],
   "source": [
    "import pandas as pd"
   ]
  },
  {
   "cell_type": "code",
   "execution_count": 78,
   "id": "038d0087",
   "metadata": {},
   "outputs": [
    {
     "data": {
      "text/plain": [
       "DatetimeIndex(['2023-01-31', '2023-02-28', '2023-03-31', '2023-04-30',\n",
       "               '2023-05-31', '2023-06-30'],\n",
       "              dtype='datetime64[ns]', freq=None)"
      ]
     },
     "execution_count": 78,
     "metadata": {},
     "output_type": "execute_result"
    }
   ],
   "source": [
    "dtpd = pd.to_datetime(dtstr)  #문자열로 작성된 날짜를 datetime 객체로 변환\n",
    "dtpd"
   ]
  },
  {
   "cell_type": "code",
   "execution_count": 85,
   "id": "5cd822ea",
   "metadata": {},
   "outputs": [
    {
     "data": {
      "text/plain": [
       "DatetimeIndex(['2023-02-01', '2023-03-01', '2023-04-01', '2023-05-01',\n",
       "               '2023-06-01', '2023-07-01'],\n",
       "              dtype='datetime64[ns]', freq=None)"
      ]
     },
     "execution_count": 85,
     "metadata": {},
     "output_type": "execute_result"
    }
   ],
   "source": [
    "dtpd + timedelta(1)"
   ]
  },
  {
   "cell_type": "code",
   "execution_count": null,
   "id": "8c999c8a",
   "metadata": {},
   "outputs": [],
   "source": []
  }
 ],
 "metadata": {
  "kernelspec": {
   "display_name": "Python 3 (ipykernel)",
   "language": "python",
   "name": "python3"
  },
  "language_info": {
   "codemirror_mode": {
    "name": "ipython",
    "version": 3
   },
   "file_extension": ".py",
   "mimetype": "text/x-python",
   "name": "python",
   "nbconvert_exporter": "python",
   "pygments_lexer": "ipython3",
   "version": "3.7.13"
  }
 },
 "nbformat": 4,
 "nbformat_minor": 5
}
