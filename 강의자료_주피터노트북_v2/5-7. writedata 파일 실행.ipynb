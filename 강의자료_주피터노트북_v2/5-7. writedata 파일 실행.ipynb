{
 "cells": [
  {
   "cell_type": "markdown",
   "id": "20dee20c",
   "metadata": {},
   "source": [
    "# [ 5-7. writedata.py 파일 실행 ]"
   ]
  },
  {
   "cell_type": "code",
   "execution_count": 1,
   "id": "41ada7f2",
   "metadata": {},
   "outputs": [],
   "source": [
    "from practice import writedata"
   ]
  },
  {
   "cell_type": "code",
   "execution_count": null,
   "id": "3af93c2b",
   "metadata": {},
   "outputs": [],
   "source": []
  }
 ],
 "metadata": {
  "kernelspec": {
   "display_name": "Python 3 (ipykernel)",
   "language": "python",
   "name": "python3"
  },
  "language_info": {
   "codemirror_mode": {
    "name": "ipython",
    "version": 3
   },
   "file_extension": ".py",
   "mimetype": "text/x-python",
   "name": "python",
   "nbconvert_exporter": "python",
   "pygments_lexer": "ipython3",
   "version": "3.7.13"
  }
 },
 "nbformat": 4,
 "nbformat_minor": 5
}
