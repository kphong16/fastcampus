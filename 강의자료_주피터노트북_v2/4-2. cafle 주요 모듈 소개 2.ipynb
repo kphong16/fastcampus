{
 "cells": [
  {
   "cell_type": "markdown",
   "id": "e271b639",
   "metadata": {},
   "source": [
    "# [ 4-2. cafle 주요 모듈 소개 2 ]"
   ]
  },
  {
   "cell_type": "markdown",
   "id": "9df51efc",
   "metadata": {},
   "source": [
    "## 5. Account 데이터 추출\n",
    "* Account의 결과물인 df와 jnl의 타입은 모두 pandas의 DataFrame이므로, DataFrame의 추출 방식을 동일하게 사용 가능함.\n",
    "* df의 column명은 각각 df의 메서드로서 개별 column의 데이터를 추출하는 기능을 함."
   ]
  },
  {
   "cell_type": "code",
   "execution_count": 26,
   "id": "a5c8e7c9",
   "metadata": {},
   "outputs": [],
   "source": [
    "from cafle import Index, Account"
   ]
  },
  {
   "cell_type": "code",
   "execution_count": 27,
   "id": "d9dc779d",
   "metadata": {},
   "outputs": [],
   "source": [
    "idx = Index('2023.01', 6)\n",
    "\n",
    "cst = Account(idx)\n",
    "cst.amt = 28_000\n",
    "cst.addscd(idx[1], 10_000)\n",
    "cst.addscd(idx[2], 10_000)\n",
    "cst.addscd(idx[3],  8_000)\n",
    "cst.addamt(idx[1], 8_000)\n",
    "cst.addamt(idx[2], 7_000)\n",
    "cst.addamt(idx[3], 7_000)\n",
    "cst.addamt(idx[4], 6_000)"
   ]
  },
  {
   "cell_type": "code",
   "execution_count": 28,
   "id": "08bb2baa",
   "metadata": {},
   "outputs": [
    {
     "data": {
      "text/html": [
       "<div>\n",
       "<style scoped>\n",
       "    .dataframe tbody tr th:only-of-type {\n",
       "        vertical-align: middle;\n",
       "    }\n",
       "\n",
       "    .dataframe tbody tr th {\n",
       "        vertical-align: top;\n",
       "    }\n",
       "\n",
       "    .dataframe thead th {\n",
       "        text-align: right;\n",
       "    }\n",
       "</style>\n",
       "<table border=\"1\" class=\"dataframe\">\n",
       "  <thead>\n",
       "    <tr style=\"text-align: right;\">\n",
       "      <th></th>\n",
       "      <th>bal_strt</th>\n",
       "      <th>amt_in</th>\n",
       "      <th>amt_out</th>\n",
       "      <th>bal_end</th>\n",
       "    </tr>\n",
       "  </thead>\n",
       "  <tbody>\n",
       "    <tr>\n",
       "      <th>2023-01-31</th>\n",
       "      <td>0.0</td>\n",
       "      <td>0.0</td>\n",
       "      <td>0.0</td>\n",
       "      <td>0.0</td>\n",
       "    </tr>\n",
       "    <tr>\n",
       "      <th>2023-02-28</th>\n",
       "      <td>0.0</td>\n",
       "      <td>8000.0</td>\n",
       "      <td>0.0</td>\n",
       "      <td>8000.0</td>\n",
       "    </tr>\n",
       "    <tr>\n",
       "      <th>2023-03-31</th>\n",
       "      <td>8000.0</td>\n",
       "      <td>7000.0</td>\n",
       "      <td>0.0</td>\n",
       "      <td>15000.0</td>\n",
       "    </tr>\n",
       "    <tr>\n",
       "      <th>2023-04-30</th>\n",
       "      <td>15000.0</td>\n",
       "      <td>7000.0</td>\n",
       "      <td>0.0</td>\n",
       "      <td>22000.0</td>\n",
       "    </tr>\n",
       "    <tr>\n",
       "      <th>2023-05-31</th>\n",
       "      <td>22000.0</td>\n",
       "      <td>6000.0</td>\n",
       "      <td>0.0</td>\n",
       "      <td>28000.0</td>\n",
       "    </tr>\n",
       "    <tr>\n",
       "      <th>2023-06-30</th>\n",
       "      <td>28000.0</td>\n",
       "      <td>0.0</td>\n",
       "      <td>0.0</td>\n",
       "      <td>28000.0</td>\n",
       "    </tr>\n",
       "  </tbody>\n",
       "</table>\n",
       "</div>"
      ],
      "text/plain": [
       "            bal_strt  amt_in  amt_out  bal_end\n",
       "2023-01-31       0.0     0.0      0.0      0.0\n",
       "2023-02-28       0.0  8000.0      0.0   8000.0\n",
       "2023-03-31    8000.0  7000.0      0.0  15000.0\n",
       "2023-04-30   15000.0  7000.0      0.0  22000.0\n",
       "2023-05-31   22000.0  6000.0      0.0  28000.0\n",
       "2023-06-30   28000.0     0.0      0.0  28000.0"
      ]
     },
     "execution_count": 28,
     "metadata": {},
     "output_type": "execute_result"
    }
   ],
   "source": [
    "cst.df"
   ]
  },
  {
   "cell_type": "markdown",
   "id": "482170ca",
   "metadata": {},
   "source": [
    "### 1) pandas DataFrame의 메서드를 이용한 데이터 추출"
   ]
  },
  {
   "cell_type": "code",
   "execution_count": 29,
   "id": "69920f94",
   "metadata": {},
   "outputs": [
    {
     "data": {
      "text/plain": [
       "2023-01-31       0.0\n",
       "2023-02-28    8000.0\n",
       "2023-03-31    7000.0\n",
       "2023-04-30    7000.0\n",
       "2023-05-31    6000.0\n",
       "2023-06-30       0.0\n",
       "Name: amt_in, dtype: float64"
      ]
     },
     "execution_count": 29,
     "metadata": {},
     "output_type": "execute_result"
    }
   ],
   "source": [
    "# 'amt_in' column 추출\n",
    "cst.df['amt_in']"
   ]
  },
  {
   "cell_type": "code",
   "execution_count": 30,
   "id": "09e5e4f1",
   "metadata": {},
   "outputs": [
    {
     "data": {
      "text/plain": [
       "2023-01-31        0.0\n",
       "2023-02-28     8000.0\n",
       "2023-03-31    15000.0\n",
       "2023-04-30    22000.0\n",
       "2023-05-31    28000.0\n",
       "2023-06-30    28000.0\n",
       "Name: bal_end, dtype: float64"
      ]
     },
     "execution_count": 30,
     "metadata": {},
     "output_type": "execute_result"
    }
   ],
   "source": [
    "# 'bal_end' column 추출\n",
    "cst.df['bal_end']"
   ]
  },
  {
   "cell_type": "code",
   "execution_count": 31,
   "id": "179be4bd",
   "metadata": {},
   "outputs": [
    {
     "data": {
      "text/plain": [
       "8000.0"
      ]
     },
     "execution_count": 31,
     "metadata": {},
     "output_type": "execute_result"
    }
   ],
   "source": [
    "# 'bal_end' column의 '2023-02-28'에 해당하는 값 추출\n",
    "cst.df.loc[idx[1], 'bal_end']"
   ]
  },
  {
   "cell_type": "code",
   "execution_count": 32,
   "id": "b641eaa1",
   "metadata": {},
   "outputs": [
    {
     "data": {
      "text/plain": [
       "28000.0"
      ]
     },
     "execution_count": 32,
     "metadata": {},
     "output_type": "execute_result"
    }
   ],
   "source": [
    "# 'bal_strt' column의 마지막 행에 해당하는 값 추출\n",
    "cst.df.loc[idx[-1], 'bal_strt']"
   ]
  },
  {
   "cell_type": "code",
   "execution_count": 33,
   "id": "3ec69c36",
   "metadata": {},
   "outputs": [
    {
     "data": {
      "text/plain": [
       "bal_strt    28000.0\n",
       "amt_in          0.0\n",
       "amt_out         0.0\n",
       "bal_end     28000.0\n",
       "Name: 2023-06-30, dtype: float64"
      ]
     },
     "execution_count": 33,
     "metadata": {},
     "output_type": "execute_result"
    }
   ],
   "source": [
    "# 마지막 행에 해당하는 전체 값 추출\n",
    "cst.df.loc[idx[-1], :]"
   ]
  },
  {
   "cell_type": "code",
   "execution_count": 34,
   "id": "832de013",
   "metadata": {},
   "outputs": [],
   "source": [
    "from datetime import date as D"
   ]
  },
  {
   "cell_type": "code",
   "execution_count": 35,
   "id": "e95f0d98",
   "metadata": {},
   "outputs": [
    {
     "data": {
      "text/plain": [
       "6000.0"
      ]
     },
     "execution_count": 35,
     "metadata": {},
     "output_type": "execute_result"
    }
   ],
   "source": [
    "cst.df.loc[D(2023, 5, 31), 'amt_in']"
   ]
  },
  {
   "cell_type": "code",
   "execution_count": 36,
   "id": "aef453cf",
   "metadata": {},
   "outputs": [
    {
     "data": {
      "text/plain": [
       "6000.0"
      ]
     },
     "execution_count": 36,
     "metadata": {},
     "output_type": "execute_result"
    }
   ],
   "source": [
    "cst.df.loc[idx[4], 'amt_in']"
   ]
  },
  {
   "cell_type": "code",
   "execution_count": 37,
   "id": "868b0036",
   "metadata": {},
   "outputs": [
    {
     "data": {
      "text/plain": [
       "2023-02-28        0.0\n",
       "2023-03-31     8000.0\n",
       "2023-04-30    15000.0\n",
       "2023-05-31    22000.0\n",
       "Name: bal_strt, dtype: float64"
      ]
     },
     "execution_count": 37,
     "metadata": {},
     "output_type": "execute_result"
    }
   ],
   "source": [
    "#슬라이싱을 이용한 추출\n",
    "cst.df.loc[idx[1]:idx[4], 'bal_strt']"
   ]
  },
  {
   "cell_type": "code",
   "execution_count": 38,
   "id": "392f8d46",
   "metadata": {},
   "outputs": [
    {
     "data": {
      "text/plain": [
       "2023-02-28        0.0\n",
       "2023-03-31     8000.0\n",
       "2023-04-30    15000.0\n",
       "2023-05-31    22000.0\n",
       "Name: bal_strt, dtype: float64"
      ]
     },
     "execution_count": 38,
     "metadata": {},
     "output_type": "execute_result"
    }
   ],
   "source": [
    "cst.df.loc[D(2023, 2, 28):D(2023, 5, 31), 'bal_strt']"
   ]
  },
  {
   "cell_type": "code",
   "execution_count": null,
   "id": "343be54e",
   "metadata": {},
   "outputs": [],
   "source": []
  },
  {
   "cell_type": "code",
   "execution_count": 39,
   "id": "beb3102a",
   "metadata": {},
   "outputs": [
    {
     "data": {
      "text/html": [
       "<div>\n",
       "<style scoped>\n",
       "    .dataframe tbody tr th:only-of-type {\n",
       "        vertical-align: middle;\n",
       "    }\n",
       "\n",
       "    .dataframe tbody tr th {\n",
       "        vertical-align: top;\n",
       "    }\n",
       "\n",
       "    .dataframe thead th {\n",
       "        text-align: right;\n",
       "    }\n",
       "</style>\n",
       "<table border=\"1\" class=\"dataframe\">\n",
       "  <thead>\n",
       "    <tr style=\"text-align: right;\">\n",
       "      <th></th>\n",
       "      <th>amt_in</th>\n",
       "      <th>amt_out</th>\n",
       "      <th>rcvfrm</th>\n",
       "      <th>payto</th>\n",
       "      <th>note</th>\n",
       "    </tr>\n",
       "  </thead>\n",
       "  <tbody>\n",
       "    <tr>\n",
       "      <th>2023-02-28</th>\n",
       "      <td>8000</td>\n",
       "      <td>0</td>\n",
       "      <td>None</td>\n",
       "      <td>None</td>\n",
       "      <td>add_amt</td>\n",
       "    </tr>\n",
       "    <tr>\n",
       "      <th>2023-03-31</th>\n",
       "      <td>7000</td>\n",
       "      <td>0</td>\n",
       "      <td>None</td>\n",
       "      <td>None</td>\n",
       "      <td>add_amt</td>\n",
       "    </tr>\n",
       "    <tr>\n",
       "      <th>2023-04-30</th>\n",
       "      <td>7000</td>\n",
       "      <td>0</td>\n",
       "      <td>None</td>\n",
       "      <td>None</td>\n",
       "      <td>add_amt</td>\n",
       "    </tr>\n",
       "    <tr>\n",
       "      <th>2023-05-31</th>\n",
       "      <td>6000</td>\n",
       "      <td>0</td>\n",
       "      <td>None</td>\n",
       "      <td>None</td>\n",
       "      <td>add_amt</td>\n",
       "    </tr>\n",
       "  </tbody>\n",
       "</table>\n",
       "</div>"
      ],
      "text/plain": [
       "           amt_in amt_out rcvfrm payto     note\n",
       "2023-02-28   8000       0   None  None  add_amt\n",
       "2023-03-31   7000       0   None  None  add_amt\n",
       "2023-04-30   7000       0   None  None  add_amt\n",
       "2023-05-31   6000       0   None  None  add_amt"
      ]
     },
     "execution_count": 39,
     "metadata": {},
     "output_type": "execute_result"
    }
   ],
   "source": [
    "cst.jnl"
   ]
  },
  {
   "cell_type": "code",
   "execution_count": 40,
   "id": "3aca02c6",
   "metadata": {},
   "outputs": [
    {
     "data": {
      "text/plain": [
       "2023-02-28    8000\n",
       "2023-03-31    7000\n",
       "2023-04-30    7000\n",
       "2023-05-31    6000\n",
       "Name: amt_in, dtype: object"
      ]
     },
     "execution_count": 40,
     "metadata": {},
     "output_type": "execute_result"
    }
   ],
   "source": [
    "cst.jnl['amt_in']"
   ]
  },
  {
   "cell_type": "code",
   "execution_count": 41,
   "id": "e3651dad",
   "metadata": {},
   "outputs": [
    {
     "data": {
      "text/plain": [
       "8000"
      ]
     },
     "execution_count": 41,
     "metadata": {},
     "output_type": "execute_result"
    }
   ],
   "source": [
    "cst.jnl.loc[idx[1], 'amt_in']"
   ]
  },
  {
   "cell_type": "code",
   "execution_count": null,
   "id": "1ffe05dd",
   "metadata": {},
   "outputs": [],
   "source": []
  },
  {
   "cell_type": "markdown",
   "id": "1d4c3e46",
   "metadata": {},
   "source": [
    "### 2) df의 컬럼명은 해당 컬럼 데이터를 추출하는 메서드 역할을 함"
   ]
  },
  {
   "cell_type": "code",
   "execution_count": 42,
   "id": "eab1fa54",
   "metadata": {},
   "outputs": [
    {
     "data": {
      "text/plain": [
       "Index(['bal_strt', 'amt_in', 'amt_out', 'bal_end'], dtype='object')"
      ]
     },
     "execution_count": 42,
     "metadata": {},
     "output_type": "execute_result"
    }
   ],
   "source": [
    "cst.df.columns"
   ]
  },
  {
   "cell_type": "code",
   "execution_count": 43,
   "id": "889fac2e",
   "metadata": {},
   "outputs": [
    {
     "data": {
      "text/plain": [
       "0.0"
      ]
     },
     "execution_count": 43,
     "metadata": {},
     "output_type": "execute_result"
    }
   ],
   "source": [
    "cst.bal_strt[idx[0]]"
   ]
  },
  {
   "cell_type": "code",
   "execution_count": 44,
   "id": "f0824759",
   "metadata": {},
   "outputs": [
    {
     "data": {
      "text/plain": [
       "8000.0"
      ]
     },
     "execution_count": 44,
     "metadata": {},
     "output_type": "execute_result"
    }
   ],
   "source": [
    "cst.amt_in[idx[1]]"
   ]
  },
  {
   "cell_type": "code",
   "execution_count": 45,
   "id": "a3eebb5d",
   "metadata": {
    "scrolled": false
   },
   "outputs": [
    {
     "data": {
      "text/plain": [
       "2023-02-28     8000.0\n",
       "2023-03-31    15000.0\n",
       "2023-04-30    22000.0\n",
       "2023-05-31    28000.0\n",
       "Name: bal_end, dtype: float64"
      ]
     },
     "execution_count": 45,
     "metadata": {},
     "output_type": "execute_result"
    }
   ],
   "source": [
    "cst.bal_end[idx[1]:idx[4]]"
   ]
  },
  {
   "cell_type": "code",
   "execution_count": 46,
   "id": "0ce0d7a1",
   "metadata": {},
   "outputs": [
    {
     "data": {
      "text/plain": [
       "2023-01-31        0.0\n",
       "2023-02-28     8000.0\n",
       "2023-03-31    15000.0\n",
       "2023-04-30    22000.0\n",
       "2023-05-31    28000.0\n",
       "2023-06-30    28000.0\n",
       "Name: bal_end, dtype: float64"
      ]
     },
     "execution_count": 46,
     "metadata": {},
     "output_type": "execute_result"
    }
   ],
   "source": [
    "cst.bal_end[idx[0]:idx[-1]]"
   ]
  },
  {
   "cell_type": "code",
   "execution_count": null,
   "id": "afbd5fbf",
   "metadata": {},
   "outputs": [],
   "source": []
  },
  {
   "cell_type": "code",
   "execution_count": 47,
   "id": "a9359672",
   "metadata": {},
   "outputs": [
    {
     "data": {
      "text/plain": [
       "Index(['scd_in', 'scd_in_cum', 'scd_out', 'scd_out_cum', 'bal_strt', 'amt_in', 'amt_in_cum', 'amt_out', 'amt_out_cum', 'bal_end', 'rsdl_in_cum', 'rsdl_out_cum'], dtype='object')"
      ]
     },
     "execution_count": 47,
     "metadata": {},
     "output_type": "execute_result"
    }
   ],
   "source": [
    "cst.dfall.columns"
   ]
  },
  {
   "cell_type": "code",
   "execution_count": 48,
   "id": "9818065e",
   "metadata": {},
   "outputs": [
    {
     "data": {
      "text/plain": [
       "8000.0"
      ]
     },
     "execution_count": 48,
     "metadata": {},
     "output_type": "execute_result"
    }
   ],
   "source": [
    "cst.scd_in[idx[3]]"
   ]
  },
  {
   "cell_type": "code",
   "execution_count": 49,
   "id": "f1655835",
   "metadata": {},
   "outputs": [
    {
     "data": {
      "text/plain": [
       "2023-01-31        0.0\n",
       "2023-02-28    10000.0\n",
       "2023-03-31    10000.0\n",
       "2023-04-30     8000.0\n",
       "2023-05-31        0.0\n",
       "2023-06-30        0.0\n",
       "Name: scd_in, dtype: float64"
      ]
     },
     "execution_count": 49,
     "metadata": {},
     "output_type": "execute_result"
    }
   ],
   "source": [
    "cst.scd_in[idx[0]:idx[-1]]"
   ]
  },
  {
   "cell_type": "code",
   "execution_count": 50,
   "id": "e1476c09",
   "metadata": {},
   "outputs": [
    {
     "data": {
      "text/plain": [
       "2023-01-31       0.0\n",
       "2023-02-28    2000.0\n",
       "2023-03-31    5000.0\n",
       "2023-04-30    6000.0\n",
       "2023-05-31       0.0\n",
       "2023-06-30       0.0\n",
       "Name: rsdl_in_cum, dtype: float64"
      ]
     },
     "execution_count": 50,
     "metadata": {},
     "output_type": "execute_result"
    }
   ],
   "source": [
    "cst.rsdl_in_cum[idx[0]:idx[-1]]"
   ]
  },
  {
   "cell_type": "code",
   "execution_count": null,
   "id": "f3ea561f",
   "metadata": {},
   "outputs": [],
   "source": []
  },
  {
   "cell_type": "code",
   "execution_count": 51,
   "id": "22e83416",
   "metadata": {},
   "outputs": [
    {
     "data": {
      "text/html": [
       "<div>\n",
       "<style scoped>\n",
       "    .dataframe tbody tr th:only-of-type {\n",
       "        vertical-align: middle;\n",
       "    }\n",
       "\n",
       "    .dataframe tbody tr th {\n",
       "        vertical-align: top;\n",
       "    }\n",
       "\n",
       "    .dataframe thead th {\n",
       "        text-align: right;\n",
       "    }\n",
       "</style>\n",
       "<table border=\"1\" class=\"dataframe\">\n",
       "  <thead>\n",
       "    <tr style=\"text-align: right;\">\n",
       "      <th></th>\n",
       "      <th>amt_in</th>\n",
       "      <th>amt_out</th>\n",
       "      <th>rcvfrm</th>\n",
       "      <th>payto</th>\n",
       "      <th>note</th>\n",
       "    </tr>\n",
       "  </thead>\n",
       "  <tbody>\n",
       "    <tr>\n",
       "      <th>2023-02-28</th>\n",
       "      <td>8000</td>\n",
       "      <td>0</td>\n",
       "      <td>None</td>\n",
       "      <td>None</td>\n",
       "      <td>add_amt</td>\n",
       "    </tr>\n",
       "    <tr>\n",
       "      <th>2023-03-31</th>\n",
       "      <td>7000</td>\n",
       "      <td>0</td>\n",
       "      <td>None</td>\n",
       "      <td>None</td>\n",
       "      <td>add_amt</td>\n",
       "    </tr>\n",
       "    <tr>\n",
       "      <th>2023-04-30</th>\n",
       "      <td>7000</td>\n",
       "      <td>0</td>\n",
       "      <td>None</td>\n",
       "      <td>None</td>\n",
       "      <td>add_amt</td>\n",
       "    </tr>\n",
       "    <tr>\n",
       "      <th>2023-05-31</th>\n",
       "      <td>6000</td>\n",
       "      <td>0</td>\n",
       "      <td>None</td>\n",
       "      <td>None</td>\n",
       "      <td>add_amt</td>\n",
       "    </tr>\n",
       "  </tbody>\n",
       "</table>\n",
       "</div>"
      ],
      "text/plain": [
       "           amt_in amt_out rcvfrm payto     note\n",
       "2023-02-28   8000       0   None  None  add_amt\n",
       "2023-03-31   7000       0   None  None  add_amt\n",
       "2023-04-30   7000       0   None  None  add_amt\n",
       "2023-05-31   6000       0   None  None  add_amt"
      ]
     },
     "execution_count": 51,
     "metadata": {},
     "output_type": "execute_result"
    }
   ],
   "source": [
    "cst.jnl"
   ]
  },
  {
   "cell_type": "code",
   "execution_count": 52,
   "id": "f3e0efcd",
   "metadata": {},
   "outputs": [
    {
     "data": {
      "text/plain": [
       "8000.0"
      ]
     },
     "execution_count": 52,
     "metadata": {},
     "output_type": "execute_result"
    }
   ],
   "source": [
    "cst.amt_in[idx[1]]"
   ]
  },
  {
   "cell_type": "code",
   "execution_count": 53,
   "id": "b5af06e4",
   "metadata": {},
   "outputs": [
    {
     "data": {
      "text/plain": [
       "2023-02-28    8000.0\n",
       "2023-03-31    7000.0\n",
       "2023-04-30    7000.0\n",
       "2023-05-31    6000.0\n",
       "Name: amt_in, dtype: float64"
      ]
     },
     "execution_count": 53,
     "metadata": {},
     "output_type": "execute_result"
    }
   ],
   "source": [
    "cst.amt_in[idx[1]:idx[4]]"
   ]
  },
  {
   "cell_type": "code",
   "execution_count": null,
   "id": "095817b2",
   "metadata": {},
   "outputs": [],
   "source": []
  },
  {
   "cell_type": "markdown",
   "id": "eb3a88d6",
   "metadata": {},
   "source": [
    "## 6. Account 다중 설정\n",
    "* Account를 다중 설정하여 객체의 대분류, 소분류 구분이 가능함\n",
    "* Account.**subacc**(_subacc명_) : Account에 하위 Account를 설정하고, 이를 _subacc_라고 명칭함\n",
    "* Account.**dct** : 하위 Account의 dictionary\n",
    "* Account.**mrg** : 하위 Account의 현금흐름을 취합"
   ]
  },
  {
   "cell_type": "markdown",
   "id": "63af931b",
   "metadata": {},
   "source": [
    "### 1) 공사비를 대분류로, 토목공사비/건축공사비를 소분류로 구분"
   ]
  },
  {
   "cell_type": "code",
   "execution_count": 54,
   "id": "2aeb8d8f",
   "metadata": {},
   "outputs": [],
   "source": [
    "공사비 = Account(idx)\n",
    "공사비.토목공사비 = 공사비.subacc(\"토목공사비\")\n",
    "공사비.건축공사비 = 공사비.subacc(\"건축공사비\")"
   ]
  },
  {
   "cell_type": "code",
   "execution_count": 55,
   "id": "f5007014",
   "metadata": {},
   "outputs": [
    {
     "data": {
      "text/plain": [
       "Account(main, len 6, dct: ['토목공사비', '건축공사비'])"
      ]
     },
     "execution_count": 55,
     "metadata": {},
     "output_type": "execute_result"
    }
   ],
   "source": [
    "공사비"
   ]
  },
  {
   "cell_type": "code",
   "execution_count": 56,
   "id": "a4ab287a",
   "metadata": {},
   "outputs": [
    {
     "data": {
      "text/plain": [
       "Account(토목공사비, len 6)"
      ]
     },
     "execution_count": 56,
     "metadata": {},
     "output_type": "execute_result"
    }
   ],
   "source": [
    "공사비.토목공사비"
   ]
  },
  {
   "cell_type": "code",
   "execution_count": 57,
   "id": "b5b98653",
   "metadata": {},
   "outputs": [
    {
     "data": {
      "text/plain": [
       "Account(건축공사비, len 6)"
      ]
     },
     "execution_count": 57,
     "metadata": {},
     "output_type": "execute_result"
    }
   ],
   "source": [
    "공사비.건축공사비"
   ]
  },
  {
   "cell_type": "code",
   "execution_count": 58,
   "id": "63c7e3fa",
   "metadata": {},
   "outputs": [
    {
     "data": {
      "text/plain": [
       "{'토목공사비': Account(토목공사비, len 6), '건축공사비': Account(건축공사비, len 6)}"
      ]
     },
     "execution_count": 58,
     "metadata": {},
     "output_type": "execute_result"
    }
   ],
   "source": [
    "공사비.dct"
   ]
  },
  {
   "cell_type": "code",
   "execution_count": 59,
   "id": "c95d976b",
   "metadata": {},
   "outputs": [
    {
     "data": {
      "text/plain": [
       "Account(토목공사비, len 6)"
      ]
     },
     "execution_count": 59,
     "metadata": {},
     "output_type": "execute_result"
    }
   ],
   "source": [
    "공사비.dct['토목공사비']"
   ]
  },
  {
   "cell_type": "code",
   "execution_count": 60,
   "id": "e0ae3eff",
   "metadata": {},
   "outputs": [
    {
     "data": {
      "text/plain": [
       "Account(건축공사비, len 6)"
      ]
     },
     "execution_count": 60,
     "metadata": {},
     "output_type": "execute_result"
    }
   ],
   "source": [
    "공사비.dct['건축공사비']"
   ]
  },
  {
   "cell_type": "code",
   "execution_count": null,
   "id": "42e0e1a7",
   "metadata": {},
   "outputs": [],
   "source": []
  },
  {
   "cell_type": "code",
   "execution_count": 61,
   "id": "16957dce",
   "metadata": {},
   "outputs": [],
   "source": [
    "with 공사비.토목공사비 as c:\n",
    "    c.addamt(idx, [100, 100, 100, 100, 100, 100])"
   ]
  },
  {
   "cell_type": "code",
   "execution_count": 62,
   "id": "97c57acd",
   "metadata": {
    "scrolled": true
   },
   "outputs": [
    {
     "data": {
      "text/html": [
       "<div>\n",
       "<style scoped>\n",
       "    .dataframe tbody tr th:only-of-type {\n",
       "        vertical-align: middle;\n",
       "    }\n",
       "\n",
       "    .dataframe tbody tr th {\n",
       "        vertical-align: top;\n",
       "    }\n",
       "\n",
       "    .dataframe thead th {\n",
       "        text-align: right;\n",
       "    }\n",
       "</style>\n",
       "<table border=\"1\" class=\"dataframe\">\n",
       "  <thead>\n",
       "    <tr style=\"text-align: right;\">\n",
       "      <th></th>\n",
       "      <th>bal_strt</th>\n",
       "      <th>amt_in</th>\n",
       "      <th>amt_out</th>\n",
       "      <th>bal_end</th>\n",
       "    </tr>\n",
       "  </thead>\n",
       "  <tbody>\n",
       "    <tr>\n",
       "      <th>2023-01-31</th>\n",
       "      <td>0.0</td>\n",
       "      <td>100.0</td>\n",
       "      <td>0.0</td>\n",
       "      <td>100.0</td>\n",
       "    </tr>\n",
       "    <tr>\n",
       "      <th>2023-02-28</th>\n",
       "      <td>100.0</td>\n",
       "      <td>100.0</td>\n",
       "      <td>0.0</td>\n",
       "      <td>200.0</td>\n",
       "    </tr>\n",
       "    <tr>\n",
       "      <th>2023-03-31</th>\n",
       "      <td>200.0</td>\n",
       "      <td>100.0</td>\n",
       "      <td>0.0</td>\n",
       "      <td>300.0</td>\n",
       "    </tr>\n",
       "    <tr>\n",
       "      <th>2023-04-30</th>\n",
       "      <td>300.0</td>\n",
       "      <td>100.0</td>\n",
       "      <td>0.0</td>\n",
       "      <td>400.0</td>\n",
       "    </tr>\n",
       "    <tr>\n",
       "      <th>2023-05-31</th>\n",
       "      <td>400.0</td>\n",
       "      <td>100.0</td>\n",
       "      <td>0.0</td>\n",
       "      <td>500.0</td>\n",
       "    </tr>\n",
       "    <tr>\n",
       "      <th>2023-06-30</th>\n",
       "      <td>500.0</td>\n",
       "      <td>100.0</td>\n",
       "      <td>0.0</td>\n",
       "      <td>600.0</td>\n",
       "    </tr>\n",
       "  </tbody>\n",
       "</table>\n",
       "</div>"
      ],
      "text/plain": [
       "            bal_strt  amt_in  amt_out  bal_end\n",
       "2023-01-31       0.0   100.0      0.0    100.0\n",
       "2023-02-28     100.0   100.0      0.0    200.0\n",
       "2023-03-31     200.0   100.0      0.0    300.0\n",
       "2023-04-30     300.0   100.0      0.0    400.0\n",
       "2023-05-31     400.0   100.0      0.0    500.0\n",
       "2023-06-30     500.0   100.0      0.0    600.0"
      ]
     },
     "execution_count": 62,
     "metadata": {},
     "output_type": "execute_result"
    }
   ],
   "source": [
    "공사비.토목공사비.df"
   ]
  },
  {
   "cell_type": "code",
   "execution_count": 63,
   "id": "97e8ccf1",
   "metadata": {},
   "outputs": [
    {
     "data": {
      "text/html": [
       "<div>\n",
       "<style scoped>\n",
       "    .dataframe tbody tr th:only-of-type {\n",
       "        vertical-align: middle;\n",
       "    }\n",
       "\n",
       "    .dataframe tbody tr th {\n",
       "        vertical-align: top;\n",
       "    }\n",
       "\n",
       "    .dataframe thead th {\n",
       "        text-align: right;\n",
       "    }\n",
       "</style>\n",
       "<table border=\"1\" class=\"dataframe\">\n",
       "  <thead>\n",
       "    <tr style=\"text-align: right;\">\n",
       "      <th></th>\n",
       "      <th>amt_in</th>\n",
       "      <th>amt_out</th>\n",
       "      <th>rcvfrm</th>\n",
       "      <th>payto</th>\n",
       "      <th>note</th>\n",
       "    </tr>\n",
       "  </thead>\n",
       "  <tbody>\n",
       "    <tr>\n",
       "      <th>2023-01-31</th>\n",
       "      <td>100</td>\n",
       "      <td>0</td>\n",
       "      <td>None</td>\n",
       "      <td>None</td>\n",
       "      <td>add_amt</td>\n",
       "    </tr>\n",
       "    <tr>\n",
       "      <th>2023-02-28</th>\n",
       "      <td>100</td>\n",
       "      <td>0</td>\n",
       "      <td>None</td>\n",
       "      <td>None</td>\n",
       "      <td>add_amt</td>\n",
       "    </tr>\n",
       "    <tr>\n",
       "      <th>2023-03-31</th>\n",
       "      <td>100</td>\n",
       "      <td>0</td>\n",
       "      <td>None</td>\n",
       "      <td>None</td>\n",
       "      <td>add_amt</td>\n",
       "    </tr>\n",
       "    <tr>\n",
       "      <th>2023-04-30</th>\n",
       "      <td>100</td>\n",
       "      <td>0</td>\n",
       "      <td>None</td>\n",
       "      <td>None</td>\n",
       "      <td>add_amt</td>\n",
       "    </tr>\n",
       "    <tr>\n",
       "      <th>2023-05-31</th>\n",
       "      <td>100</td>\n",
       "      <td>0</td>\n",
       "      <td>None</td>\n",
       "      <td>None</td>\n",
       "      <td>add_amt</td>\n",
       "    </tr>\n",
       "    <tr>\n",
       "      <th>2023-06-30</th>\n",
       "      <td>100</td>\n",
       "      <td>0</td>\n",
       "      <td>None</td>\n",
       "      <td>None</td>\n",
       "      <td>add_amt</td>\n",
       "    </tr>\n",
       "  </tbody>\n",
       "</table>\n",
       "</div>"
      ],
      "text/plain": [
       "           amt_in amt_out rcvfrm payto     note\n",
       "2023-01-31    100       0   None  None  add_amt\n",
       "2023-02-28    100       0   None  None  add_amt\n",
       "2023-03-31    100       0   None  None  add_amt\n",
       "2023-04-30    100       0   None  None  add_amt\n",
       "2023-05-31    100       0   None  None  add_amt\n",
       "2023-06-30    100       0   None  None  add_amt"
      ]
     },
     "execution_count": 63,
     "metadata": {},
     "output_type": "execute_result"
    }
   ],
   "source": [
    "공사비.토목공사비.jnl"
   ]
  },
  {
   "cell_type": "code",
   "execution_count": null,
   "id": "69219ed0",
   "metadata": {},
   "outputs": [],
   "source": []
  },
  {
   "cell_type": "code",
   "execution_count": 64,
   "id": "44251967",
   "metadata": {},
   "outputs": [],
   "source": [
    "with 공사비.건축공사비 as c:\n",
    "    c.addamt(idx, [300, 300, 300, 300, 300, 300])"
   ]
  },
  {
   "cell_type": "code",
   "execution_count": 65,
   "id": "f03581ae",
   "metadata": {},
   "outputs": [
    {
     "data": {
      "text/html": [
       "<div>\n",
       "<style scoped>\n",
       "    .dataframe tbody tr th:only-of-type {\n",
       "        vertical-align: middle;\n",
       "    }\n",
       "\n",
       "    .dataframe tbody tr th {\n",
       "        vertical-align: top;\n",
       "    }\n",
       "\n",
       "    .dataframe thead th {\n",
       "        text-align: right;\n",
       "    }\n",
       "</style>\n",
       "<table border=\"1\" class=\"dataframe\">\n",
       "  <thead>\n",
       "    <tr style=\"text-align: right;\">\n",
       "      <th></th>\n",
       "      <th>bal_strt</th>\n",
       "      <th>amt_in</th>\n",
       "      <th>amt_out</th>\n",
       "      <th>bal_end</th>\n",
       "    </tr>\n",
       "  </thead>\n",
       "  <tbody>\n",
       "    <tr>\n",
       "      <th>2023-01-31</th>\n",
       "      <td>0.0</td>\n",
       "      <td>300.0</td>\n",
       "      <td>0.0</td>\n",
       "      <td>300.0</td>\n",
       "    </tr>\n",
       "    <tr>\n",
       "      <th>2023-02-28</th>\n",
       "      <td>300.0</td>\n",
       "      <td>300.0</td>\n",
       "      <td>0.0</td>\n",
       "      <td>600.0</td>\n",
       "    </tr>\n",
       "    <tr>\n",
       "      <th>2023-03-31</th>\n",
       "      <td>600.0</td>\n",
       "      <td>300.0</td>\n",
       "      <td>0.0</td>\n",
       "      <td>900.0</td>\n",
       "    </tr>\n",
       "    <tr>\n",
       "      <th>2023-04-30</th>\n",
       "      <td>900.0</td>\n",
       "      <td>300.0</td>\n",
       "      <td>0.0</td>\n",
       "      <td>1200.0</td>\n",
       "    </tr>\n",
       "    <tr>\n",
       "      <th>2023-05-31</th>\n",
       "      <td>1200.0</td>\n",
       "      <td>300.0</td>\n",
       "      <td>0.0</td>\n",
       "      <td>1500.0</td>\n",
       "    </tr>\n",
       "    <tr>\n",
       "      <th>2023-06-30</th>\n",
       "      <td>1500.0</td>\n",
       "      <td>300.0</td>\n",
       "      <td>0.0</td>\n",
       "      <td>1800.0</td>\n",
       "    </tr>\n",
       "  </tbody>\n",
       "</table>\n",
       "</div>"
      ],
      "text/plain": [
       "            bal_strt  amt_in  amt_out  bal_end\n",
       "2023-01-31       0.0   300.0      0.0    300.0\n",
       "2023-02-28     300.0   300.0      0.0    600.0\n",
       "2023-03-31     600.0   300.0      0.0    900.0\n",
       "2023-04-30     900.0   300.0      0.0   1200.0\n",
       "2023-05-31    1200.0   300.0      0.0   1500.0\n",
       "2023-06-30    1500.0   300.0      0.0   1800.0"
      ]
     },
     "execution_count": 65,
     "metadata": {},
     "output_type": "execute_result"
    }
   ],
   "source": [
    "공사비.건축공사비.df"
   ]
  },
  {
   "cell_type": "code",
   "execution_count": 66,
   "id": "1123322d",
   "metadata": {},
   "outputs": [
    {
     "data": {
      "text/html": [
       "<div>\n",
       "<style scoped>\n",
       "    .dataframe tbody tr th:only-of-type {\n",
       "        vertical-align: middle;\n",
       "    }\n",
       "\n",
       "    .dataframe tbody tr th {\n",
       "        vertical-align: top;\n",
       "    }\n",
       "\n",
       "    .dataframe thead th {\n",
       "        text-align: right;\n",
       "    }\n",
       "</style>\n",
       "<table border=\"1\" class=\"dataframe\">\n",
       "  <thead>\n",
       "    <tr style=\"text-align: right;\">\n",
       "      <th></th>\n",
       "      <th>amt_in</th>\n",
       "      <th>amt_out</th>\n",
       "      <th>rcvfrm</th>\n",
       "      <th>payto</th>\n",
       "      <th>note</th>\n",
       "    </tr>\n",
       "  </thead>\n",
       "  <tbody>\n",
       "    <tr>\n",
       "      <th>2023-01-31</th>\n",
       "      <td>300</td>\n",
       "      <td>0</td>\n",
       "      <td>None</td>\n",
       "      <td>None</td>\n",
       "      <td>add_amt</td>\n",
       "    </tr>\n",
       "    <tr>\n",
       "      <th>2023-02-28</th>\n",
       "      <td>300</td>\n",
       "      <td>0</td>\n",
       "      <td>None</td>\n",
       "      <td>None</td>\n",
       "      <td>add_amt</td>\n",
       "    </tr>\n",
       "    <tr>\n",
       "      <th>2023-03-31</th>\n",
       "      <td>300</td>\n",
       "      <td>0</td>\n",
       "      <td>None</td>\n",
       "      <td>None</td>\n",
       "      <td>add_amt</td>\n",
       "    </tr>\n",
       "    <tr>\n",
       "      <th>2023-04-30</th>\n",
       "      <td>300</td>\n",
       "      <td>0</td>\n",
       "      <td>None</td>\n",
       "      <td>None</td>\n",
       "      <td>add_amt</td>\n",
       "    </tr>\n",
       "    <tr>\n",
       "      <th>2023-05-31</th>\n",
       "      <td>300</td>\n",
       "      <td>0</td>\n",
       "      <td>None</td>\n",
       "      <td>None</td>\n",
       "      <td>add_amt</td>\n",
       "    </tr>\n",
       "    <tr>\n",
       "      <th>2023-06-30</th>\n",
       "      <td>300</td>\n",
       "      <td>0</td>\n",
       "      <td>None</td>\n",
       "      <td>None</td>\n",
       "      <td>add_amt</td>\n",
       "    </tr>\n",
       "  </tbody>\n",
       "</table>\n",
       "</div>"
      ],
      "text/plain": [
       "           amt_in amt_out rcvfrm payto     note\n",
       "2023-01-31    300       0   None  None  add_amt\n",
       "2023-02-28    300       0   None  None  add_amt\n",
       "2023-03-31    300       0   None  None  add_amt\n",
       "2023-04-30    300       0   None  None  add_amt\n",
       "2023-05-31    300       0   None  None  add_amt\n",
       "2023-06-30    300       0   None  None  add_amt"
      ]
     },
     "execution_count": 66,
     "metadata": {},
     "output_type": "execute_result"
    }
   ],
   "source": [
    "공사비.건축공사비.jnl"
   ]
  },
  {
   "cell_type": "code",
   "execution_count": null,
   "id": "5e9d8e5b",
   "metadata": {},
   "outputs": [],
   "source": []
  },
  {
   "cell_type": "code",
   "execution_count": 67,
   "id": "3f9af6a0",
   "metadata": {},
   "outputs": [
    {
     "data": {
      "text/plain": [
       "Account(main, len 6)"
      ]
     },
     "execution_count": 67,
     "metadata": {},
     "output_type": "execute_result"
    }
   ],
   "source": [
    "공사비.mrg"
   ]
  },
  {
   "cell_type": "code",
   "execution_count": 68,
   "id": "04ff7f61",
   "metadata": {},
   "outputs": [
    {
     "data": {
      "text/html": [
       "<div>\n",
       "<style scoped>\n",
       "    .dataframe tbody tr th:only-of-type {\n",
       "        vertical-align: middle;\n",
       "    }\n",
       "\n",
       "    .dataframe tbody tr th {\n",
       "        vertical-align: top;\n",
       "    }\n",
       "\n",
       "    .dataframe thead th {\n",
       "        text-align: right;\n",
       "    }\n",
       "</style>\n",
       "<table border=\"1\" class=\"dataframe\">\n",
       "  <thead>\n",
       "    <tr style=\"text-align: right;\">\n",
       "      <th></th>\n",
       "      <th>bal_strt</th>\n",
       "      <th>amt_in</th>\n",
       "      <th>amt_out</th>\n",
       "      <th>bal_end</th>\n",
       "    </tr>\n",
       "  </thead>\n",
       "  <tbody>\n",
       "    <tr>\n",
       "      <th>2023-01-31</th>\n",
       "      <td>0.0</td>\n",
       "      <td>400.0</td>\n",
       "      <td>0.0</td>\n",
       "      <td>400.0</td>\n",
       "    </tr>\n",
       "    <tr>\n",
       "      <th>2023-02-28</th>\n",
       "      <td>400.0</td>\n",
       "      <td>400.0</td>\n",
       "      <td>0.0</td>\n",
       "      <td>800.0</td>\n",
       "    </tr>\n",
       "    <tr>\n",
       "      <th>2023-03-31</th>\n",
       "      <td>800.0</td>\n",
       "      <td>400.0</td>\n",
       "      <td>0.0</td>\n",
       "      <td>1200.0</td>\n",
       "    </tr>\n",
       "    <tr>\n",
       "      <th>2023-04-30</th>\n",
       "      <td>1200.0</td>\n",
       "      <td>400.0</td>\n",
       "      <td>0.0</td>\n",
       "      <td>1600.0</td>\n",
       "    </tr>\n",
       "    <tr>\n",
       "      <th>2023-05-31</th>\n",
       "      <td>1600.0</td>\n",
       "      <td>400.0</td>\n",
       "      <td>0.0</td>\n",
       "      <td>2000.0</td>\n",
       "    </tr>\n",
       "    <tr>\n",
       "      <th>2023-06-30</th>\n",
       "      <td>2000.0</td>\n",
       "      <td>400.0</td>\n",
       "      <td>0.0</td>\n",
       "      <td>2400.0</td>\n",
       "    </tr>\n",
       "  </tbody>\n",
       "</table>\n",
       "</div>"
      ],
      "text/plain": [
       "            bal_strt  amt_in  amt_out  bal_end\n",
       "2023-01-31       0.0   400.0      0.0    400.0\n",
       "2023-02-28     400.0   400.0      0.0    800.0\n",
       "2023-03-31     800.0   400.0      0.0   1200.0\n",
       "2023-04-30    1200.0   400.0      0.0   1600.0\n",
       "2023-05-31    1600.0   400.0      0.0   2000.0\n",
       "2023-06-30    2000.0   400.0      0.0   2400.0"
      ]
     },
     "execution_count": 68,
     "metadata": {},
     "output_type": "execute_result"
    }
   ],
   "source": [
    "공사비.mrg.df"
   ]
  },
  {
   "cell_type": "code",
   "execution_count": 69,
   "id": "31d1440d",
   "metadata": {
    "scrolled": true
   },
   "outputs": [
    {
     "data": {
      "text/html": [
       "<div>\n",
       "<style scoped>\n",
       "    .dataframe tbody tr th:only-of-type {\n",
       "        vertical-align: middle;\n",
       "    }\n",
       "\n",
       "    .dataframe tbody tr th {\n",
       "        vertical-align: top;\n",
       "    }\n",
       "\n",
       "    .dataframe thead th {\n",
       "        text-align: right;\n",
       "    }\n",
       "</style>\n",
       "<table border=\"1\" class=\"dataframe\">\n",
       "  <thead>\n",
       "    <tr style=\"text-align: right;\">\n",
       "      <th></th>\n",
       "      <th>amt_in</th>\n",
       "      <th>amt_out</th>\n",
       "      <th>rcvfrm</th>\n",
       "      <th>payto</th>\n",
       "      <th>note</th>\n",
       "    </tr>\n",
       "  </thead>\n",
       "  <tbody>\n",
       "    <tr>\n",
       "      <th>2023-01-31</th>\n",
       "      <td>100</td>\n",
       "      <td>0</td>\n",
       "      <td>None</td>\n",
       "      <td>None</td>\n",
       "      <td>add_amt</td>\n",
       "    </tr>\n",
       "    <tr>\n",
       "      <th>2023-01-31</th>\n",
       "      <td>300</td>\n",
       "      <td>0</td>\n",
       "      <td>None</td>\n",
       "      <td>None</td>\n",
       "      <td>add_amt</td>\n",
       "    </tr>\n",
       "    <tr>\n",
       "      <th>2023-02-28</th>\n",
       "      <td>100</td>\n",
       "      <td>0</td>\n",
       "      <td>None</td>\n",
       "      <td>None</td>\n",
       "      <td>add_amt</td>\n",
       "    </tr>\n",
       "    <tr>\n",
       "      <th>2023-02-28</th>\n",
       "      <td>300</td>\n",
       "      <td>0</td>\n",
       "      <td>None</td>\n",
       "      <td>None</td>\n",
       "      <td>add_amt</td>\n",
       "    </tr>\n",
       "    <tr>\n",
       "      <th>2023-03-31</th>\n",
       "      <td>100</td>\n",
       "      <td>0</td>\n",
       "      <td>None</td>\n",
       "      <td>None</td>\n",
       "      <td>add_amt</td>\n",
       "    </tr>\n",
       "    <tr>\n",
       "      <th>2023-03-31</th>\n",
       "      <td>300</td>\n",
       "      <td>0</td>\n",
       "      <td>None</td>\n",
       "      <td>None</td>\n",
       "      <td>add_amt</td>\n",
       "    </tr>\n",
       "    <tr>\n",
       "      <th>2023-04-30</th>\n",
       "      <td>100</td>\n",
       "      <td>0</td>\n",
       "      <td>None</td>\n",
       "      <td>None</td>\n",
       "      <td>add_amt</td>\n",
       "    </tr>\n",
       "    <tr>\n",
       "      <th>2023-04-30</th>\n",
       "      <td>300</td>\n",
       "      <td>0</td>\n",
       "      <td>None</td>\n",
       "      <td>None</td>\n",
       "      <td>add_amt</td>\n",
       "    </tr>\n",
       "    <tr>\n",
       "      <th>2023-05-31</th>\n",
       "      <td>100</td>\n",
       "      <td>0</td>\n",
       "      <td>None</td>\n",
       "      <td>None</td>\n",
       "      <td>add_amt</td>\n",
       "    </tr>\n",
       "    <tr>\n",
       "      <th>2023-05-31</th>\n",
       "      <td>300</td>\n",
       "      <td>0</td>\n",
       "      <td>None</td>\n",
       "      <td>None</td>\n",
       "      <td>add_amt</td>\n",
       "    </tr>\n",
       "    <tr>\n",
       "      <th>2023-06-30</th>\n",
       "      <td>100</td>\n",
       "      <td>0</td>\n",
       "      <td>None</td>\n",
       "      <td>None</td>\n",
       "      <td>add_amt</td>\n",
       "    </tr>\n",
       "    <tr>\n",
       "      <th>2023-06-30</th>\n",
       "      <td>300</td>\n",
       "      <td>0</td>\n",
       "      <td>None</td>\n",
       "      <td>None</td>\n",
       "      <td>add_amt</td>\n",
       "    </tr>\n",
       "  </tbody>\n",
       "</table>\n",
       "</div>"
      ],
      "text/plain": [
       "           amt_in amt_out rcvfrm payto     note\n",
       "2023-01-31    100       0   None  None  add_amt\n",
       "2023-01-31    300       0   None  None  add_amt\n",
       "2023-02-28    100       0   None  None  add_amt\n",
       "2023-02-28    300       0   None  None  add_amt\n",
       "2023-03-31    100       0   None  None  add_amt\n",
       "2023-03-31    300       0   None  None  add_amt\n",
       "2023-04-30    100       0   None  None  add_amt\n",
       "2023-04-30    300       0   None  None  add_amt\n",
       "2023-05-31    100       0   None  None  add_amt\n",
       "2023-05-31    300       0   None  None  add_amt\n",
       "2023-06-30    100       0   None  None  add_amt\n",
       "2023-06-30    300       0   None  None  add_amt"
      ]
     },
     "execution_count": 69,
     "metadata": {},
     "output_type": "execute_result"
    }
   ],
   "source": [
    "공사비.mrg.jnl"
   ]
  },
  {
   "cell_type": "code",
   "execution_count": null,
   "id": "389b316e",
   "metadata": {},
   "outputs": [],
   "source": []
  },
  {
   "cell_type": "markdown",
   "id": "4ec39de6",
   "metadata": {},
   "source": [
    "### 2) 보통주를 대분류로, 주주1과 주주2를 소분류로 구분"
   ]
  },
  {
   "cell_type": "code",
   "execution_count": 70,
   "id": "502c6d34",
   "metadata": {},
   "outputs": [],
   "source": [
    "idx = Index(\"2023.01\", 6)"
   ]
  },
  {
   "cell_type": "code",
   "execution_count": 71,
   "id": "3298fcf7",
   "metadata": {},
   "outputs": [],
   "source": [
    "보통주 = Account(idx)"
   ]
  },
  {
   "cell_type": "code",
   "execution_count": 72,
   "id": "dcb2dae2",
   "metadata": {},
   "outputs": [],
   "source": [
    "보통주.주주1 = 보통주.subacc(\"주주1\")\n",
    "with 보통주.주주1 as e:\n",
    "    e.amt = 5_000\n",
    "    e.subscd(idx[0], e.amt, note=\"주주1의 최초 출자금\")\n",
    "    e.addscd(idx[-1], e.amt, note=\"주주1의 출자금 회수\")"
   ]
  },
  {
   "cell_type": "code",
   "execution_count": 73,
   "id": "2815ca2b",
   "metadata": {},
   "outputs": [],
   "source": [
    "보통주.주주2 = 보통주.subacc(\"주주2\")\n",
    "with 보통주.주주2 as e:\n",
    "    e.amt = 3_000\n",
    "    e.subscd(idx[0], e.amt, note=\"주주2의 최초 출자금\")\n",
    "    e.addscd(idx[-1], e.amt, note=\"주주2의 출자금 회수\")"
   ]
  },
  {
   "cell_type": "code",
   "execution_count": 74,
   "id": "c3b0ba51",
   "metadata": {},
   "outputs": [
    {
     "data": {
      "text/plain": [
       "Account(main, len 6, dct: ['주주1', '주주2'])"
      ]
     },
     "execution_count": 74,
     "metadata": {},
     "output_type": "execute_result"
    }
   ],
   "source": [
    "보통주"
   ]
  },
  {
   "cell_type": "code",
   "execution_count": 75,
   "id": "e4112bfb",
   "metadata": {},
   "outputs": [
    {
     "data": {
      "text/html": [
       "<div>\n",
       "<style scoped>\n",
       "    .dataframe tbody tr th:only-of-type {\n",
       "        vertical-align: middle;\n",
       "    }\n",
       "\n",
       "    .dataframe tbody tr th {\n",
       "        vertical-align: top;\n",
       "    }\n",
       "\n",
       "    .dataframe thead th {\n",
       "        text-align: right;\n",
       "    }\n",
       "</style>\n",
       "<table border=\"1\" class=\"dataframe\">\n",
       "  <thead>\n",
       "    <tr style=\"text-align: right;\">\n",
       "      <th></th>\n",
       "      <th>scd_in</th>\n",
       "      <th>scd_in_cum</th>\n",
       "      <th>scd_out</th>\n",
       "      <th>scd_out_cum</th>\n",
       "      <th>bal_strt</th>\n",
       "      <th>amt_in</th>\n",
       "      <th>amt_in_cum</th>\n",
       "      <th>amt_out</th>\n",
       "      <th>amt_out_cum</th>\n",
       "      <th>bal_end</th>\n",
       "      <th>rsdl_in_cum</th>\n",
       "      <th>rsdl_out_cum</th>\n",
       "    </tr>\n",
       "  </thead>\n",
       "  <tbody>\n",
       "    <tr>\n",
       "      <th>2023-01-31</th>\n",
       "      <td>0.0</td>\n",
       "      <td>0.0</td>\n",
       "      <td>5000.0</td>\n",
       "      <td>5000.0</td>\n",
       "      <td>0.0</td>\n",
       "      <td>0.0</td>\n",
       "      <td>0.0</td>\n",
       "      <td>0.0</td>\n",
       "      <td>0.0</td>\n",
       "      <td>0.0</td>\n",
       "      <td>0.0</td>\n",
       "      <td>5000.0</td>\n",
       "    </tr>\n",
       "    <tr>\n",
       "      <th>2023-02-28</th>\n",
       "      <td>0.0</td>\n",
       "      <td>0.0</td>\n",
       "      <td>0.0</td>\n",
       "      <td>5000.0</td>\n",
       "      <td>0.0</td>\n",
       "      <td>0.0</td>\n",
       "      <td>0.0</td>\n",
       "      <td>0.0</td>\n",
       "      <td>0.0</td>\n",
       "      <td>0.0</td>\n",
       "      <td>0.0</td>\n",
       "      <td>5000.0</td>\n",
       "    </tr>\n",
       "    <tr>\n",
       "      <th>2023-03-31</th>\n",
       "      <td>0.0</td>\n",
       "      <td>0.0</td>\n",
       "      <td>0.0</td>\n",
       "      <td>5000.0</td>\n",
       "      <td>0.0</td>\n",
       "      <td>0.0</td>\n",
       "      <td>0.0</td>\n",
       "      <td>0.0</td>\n",
       "      <td>0.0</td>\n",
       "      <td>0.0</td>\n",
       "      <td>0.0</td>\n",
       "      <td>5000.0</td>\n",
       "    </tr>\n",
       "    <tr>\n",
       "      <th>2023-04-30</th>\n",
       "      <td>0.0</td>\n",
       "      <td>0.0</td>\n",
       "      <td>0.0</td>\n",
       "      <td>5000.0</td>\n",
       "      <td>0.0</td>\n",
       "      <td>0.0</td>\n",
       "      <td>0.0</td>\n",
       "      <td>0.0</td>\n",
       "      <td>0.0</td>\n",
       "      <td>0.0</td>\n",
       "      <td>0.0</td>\n",
       "      <td>5000.0</td>\n",
       "    </tr>\n",
       "    <tr>\n",
       "      <th>2023-05-31</th>\n",
       "      <td>0.0</td>\n",
       "      <td>0.0</td>\n",
       "      <td>0.0</td>\n",
       "      <td>5000.0</td>\n",
       "      <td>0.0</td>\n",
       "      <td>0.0</td>\n",
       "      <td>0.0</td>\n",
       "      <td>0.0</td>\n",
       "      <td>0.0</td>\n",
       "      <td>0.0</td>\n",
       "      <td>0.0</td>\n",
       "      <td>5000.0</td>\n",
       "    </tr>\n",
       "    <tr>\n",
       "      <th>2023-06-30</th>\n",
       "      <td>5000.0</td>\n",
       "      <td>5000.0</td>\n",
       "      <td>0.0</td>\n",
       "      <td>5000.0</td>\n",
       "      <td>0.0</td>\n",
       "      <td>0.0</td>\n",
       "      <td>0.0</td>\n",
       "      <td>0.0</td>\n",
       "      <td>0.0</td>\n",
       "      <td>0.0</td>\n",
       "      <td>5000.0</td>\n",
       "      <td>5000.0</td>\n",
       "    </tr>\n",
       "  </tbody>\n",
       "</table>\n",
       "</div>"
      ],
      "text/plain": [
       "            scd_in  scd_in_cum  scd_out  scd_out_cum  bal_strt  amt_in  amt_in_cum  amt_out  amt_out_cum  bal_end  rsdl_in_cum  rsdl_out_cum\n",
       "2023-01-31     0.0         0.0   5000.0       5000.0       0.0     0.0         0.0      0.0          0.0      0.0          0.0        5000.0\n",
       "2023-02-28     0.0         0.0      0.0       5000.0       0.0     0.0         0.0      0.0          0.0      0.0          0.0        5000.0\n",
       "2023-03-31     0.0         0.0      0.0       5000.0       0.0     0.0         0.0      0.0          0.0      0.0          0.0        5000.0\n",
       "2023-04-30     0.0         0.0      0.0       5000.0       0.0     0.0         0.0      0.0          0.0      0.0          0.0        5000.0\n",
       "2023-05-31     0.0         0.0      0.0       5000.0       0.0     0.0         0.0      0.0          0.0      0.0          0.0        5000.0\n",
       "2023-06-30  5000.0      5000.0      0.0       5000.0       0.0     0.0         0.0      0.0          0.0      0.0       5000.0        5000.0"
      ]
     },
     "execution_count": 75,
     "metadata": {},
     "output_type": "execute_result"
    }
   ],
   "source": [
    "보통주.주주1.dfall"
   ]
  },
  {
   "cell_type": "code",
   "execution_count": 76,
   "id": "4df5cbf1",
   "metadata": {},
   "outputs": [
    {
     "data": {
      "text/html": [
       "<div>\n",
       "<style scoped>\n",
       "    .dataframe tbody tr th:only-of-type {\n",
       "        vertical-align: middle;\n",
       "    }\n",
       "\n",
       "    .dataframe tbody tr th {\n",
       "        vertical-align: top;\n",
       "    }\n",
       "\n",
       "    .dataframe thead th {\n",
       "        text-align: right;\n",
       "    }\n",
       "</style>\n",
       "<table border=\"1\" class=\"dataframe\">\n",
       "  <thead>\n",
       "    <tr style=\"text-align: right;\">\n",
       "      <th></th>\n",
       "      <th>scd_in</th>\n",
       "      <th>scd_in_cum</th>\n",
       "      <th>scd_out</th>\n",
       "      <th>scd_out_cum</th>\n",
       "      <th>bal_strt</th>\n",
       "      <th>amt_in</th>\n",
       "      <th>amt_in_cum</th>\n",
       "      <th>amt_out</th>\n",
       "      <th>amt_out_cum</th>\n",
       "      <th>bal_end</th>\n",
       "      <th>rsdl_in_cum</th>\n",
       "      <th>rsdl_out_cum</th>\n",
       "    </tr>\n",
       "  </thead>\n",
       "  <tbody>\n",
       "    <tr>\n",
       "      <th>2023-01-31</th>\n",
       "      <td>0.0</td>\n",
       "      <td>0.0</td>\n",
       "      <td>3000.0</td>\n",
       "      <td>3000.0</td>\n",
       "      <td>0.0</td>\n",
       "      <td>0.0</td>\n",
       "      <td>0.0</td>\n",
       "      <td>0.0</td>\n",
       "      <td>0.0</td>\n",
       "      <td>0.0</td>\n",
       "      <td>0.0</td>\n",
       "      <td>3000.0</td>\n",
       "    </tr>\n",
       "    <tr>\n",
       "      <th>2023-02-28</th>\n",
       "      <td>0.0</td>\n",
       "      <td>0.0</td>\n",
       "      <td>0.0</td>\n",
       "      <td>3000.0</td>\n",
       "      <td>0.0</td>\n",
       "      <td>0.0</td>\n",
       "      <td>0.0</td>\n",
       "      <td>0.0</td>\n",
       "      <td>0.0</td>\n",
       "      <td>0.0</td>\n",
       "      <td>0.0</td>\n",
       "      <td>3000.0</td>\n",
       "    </tr>\n",
       "    <tr>\n",
       "      <th>2023-03-31</th>\n",
       "      <td>0.0</td>\n",
       "      <td>0.0</td>\n",
       "      <td>0.0</td>\n",
       "      <td>3000.0</td>\n",
       "      <td>0.0</td>\n",
       "      <td>0.0</td>\n",
       "      <td>0.0</td>\n",
       "      <td>0.0</td>\n",
       "      <td>0.0</td>\n",
       "      <td>0.0</td>\n",
       "      <td>0.0</td>\n",
       "      <td>3000.0</td>\n",
       "    </tr>\n",
       "    <tr>\n",
       "      <th>2023-04-30</th>\n",
       "      <td>0.0</td>\n",
       "      <td>0.0</td>\n",
       "      <td>0.0</td>\n",
       "      <td>3000.0</td>\n",
       "      <td>0.0</td>\n",
       "      <td>0.0</td>\n",
       "      <td>0.0</td>\n",
       "      <td>0.0</td>\n",
       "      <td>0.0</td>\n",
       "      <td>0.0</td>\n",
       "      <td>0.0</td>\n",
       "      <td>3000.0</td>\n",
       "    </tr>\n",
       "    <tr>\n",
       "      <th>2023-05-31</th>\n",
       "      <td>0.0</td>\n",
       "      <td>0.0</td>\n",
       "      <td>0.0</td>\n",
       "      <td>3000.0</td>\n",
       "      <td>0.0</td>\n",
       "      <td>0.0</td>\n",
       "      <td>0.0</td>\n",
       "      <td>0.0</td>\n",
       "      <td>0.0</td>\n",
       "      <td>0.0</td>\n",
       "      <td>0.0</td>\n",
       "      <td>3000.0</td>\n",
       "    </tr>\n",
       "    <tr>\n",
       "      <th>2023-06-30</th>\n",
       "      <td>3000.0</td>\n",
       "      <td>3000.0</td>\n",
       "      <td>0.0</td>\n",
       "      <td>3000.0</td>\n",
       "      <td>0.0</td>\n",
       "      <td>0.0</td>\n",
       "      <td>0.0</td>\n",
       "      <td>0.0</td>\n",
       "      <td>0.0</td>\n",
       "      <td>0.0</td>\n",
       "      <td>3000.0</td>\n",
       "      <td>3000.0</td>\n",
       "    </tr>\n",
       "  </tbody>\n",
       "</table>\n",
       "</div>"
      ],
      "text/plain": [
       "            scd_in  scd_in_cum  scd_out  scd_out_cum  bal_strt  amt_in  amt_in_cum  amt_out  amt_out_cum  bal_end  rsdl_in_cum  rsdl_out_cum\n",
       "2023-01-31     0.0         0.0   3000.0       3000.0       0.0     0.0         0.0      0.0          0.0      0.0          0.0        3000.0\n",
       "2023-02-28     0.0         0.0      0.0       3000.0       0.0     0.0         0.0      0.0          0.0      0.0          0.0        3000.0\n",
       "2023-03-31     0.0         0.0      0.0       3000.0       0.0     0.0         0.0      0.0          0.0      0.0          0.0        3000.0\n",
       "2023-04-30     0.0         0.0      0.0       3000.0       0.0     0.0         0.0      0.0          0.0      0.0          0.0        3000.0\n",
       "2023-05-31     0.0         0.0      0.0       3000.0       0.0     0.0         0.0      0.0          0.0      0.0          0.0        3000.0\n",
       "2023-06-30  3000.0      3000.0      0.0       3000.0       0.0     0.0         0.0      0.0          0.0      0.0       3000.0        3000.0"
      ]
     },
     "execution_count": 76,
     "metadata": {},
     "output_type": "execute_result"
    }
   ],
   "source": [
    "보통주.주주2.dfall"
   ]
  },
  {
   "cell_type": "code",
   "execution_count": null,
   "id": "9f4a3d2f",
   "metadata": {},
   "outputs": [],
   "source": []
  },
  {
   "cell_type": "code",
   "execution_count": 77,
   "id": "6fb712a6",
   "metadata": {},
   "outputs": [],
   "source": [
    "oprtg = Account(idx) #운영계좌"
   ]
  },
  {
   "cell_type": "code",
   "execution_count": null,
   "id": "436ba177",
   "metadata": {},
   "outputs": [],
   "source": []
  },
  {
   "cell_type": "code",
   "execution_count": 78,
   "id": "9f4d4279",
   "metadata": {},
   "outputs": [],
   "source": [
    "#idx[0]\n",
    "보통주.주주1.send(idx[0], 보통주.주주1.scd_out[idx[0]], oprtg, note=\"주주1 출자금\")\n",
    "보통주.주주2.send(idx[0], 보통주.주주2.scd_out[idx[0]], oprtg, note=\"주주2 출자금\")"
   ]
  },
  {
   "cell_type": "code",
   "execution_count": 79,
   "id": "db8f8573",
   "metadata": {},
   "outputs": [],
   "source": [
    "#idx[5]\n",
    "oprtg.send(idx[5], 보통주.주주1.scd_in[idx[5]], 보통주.주주1, note=\"주주1 분배\")\n",
    "oprtg.send(idx[5], 보통주.주주2.scd_in[idx[5]], 보통주.주주2, note=\"주주2 분배\")"
   ]
  },
  {
   "cell_type": "code",
   "execution_count": 80,
   "id": "da45d8f6",
   "metadata": {},
   "outputs": [
    {
     "data": {
      "text/html": [
       "<div>\n",
       "<style scoped>\n",
       "    .dataframe tbody tr th:only-of-type {\n",
       "        vertical-align: middle;\n",
       "    }\n",
       "\n",
       "    .dataframe tbody tr th {\n",
       "        vertical-align: top;\n",
       "    }\n",
       "\n",
       "    .dataframe thead th {\n",
       "        text-align: right;\n",
       "    }\n",
       "</style>\n",
       "<table border=\"1\" class=\"dataframe\">\n",
       "  <thead>\n",
       "    <tr style=\"text-align: right;\">\n",
       "      <th></th>\n",
       "      <th>bal_strt</th>\n",
       "      <th>amt_in</th>\n",
       "      <th>amt_out</th>\n",
       "      <th>bal_end</th>\n",
       "    </tr>\n",
       "  </thead>\n",
       "  <tbody>\n",
       "    <tr>\n",
       "      <th>2023-01-31</th>\n",
       "      <td>0.0</td>\n",
       "      <td>8000.0</td>\n",
       "      <td>0.0</td>\n",
       "      <td>8000.0</td>\n",
       "    </tr>\n",
       "    <tr>\n",
       "      <th>2023-02-28</th>\n",
       "      <td>8000.0</td>\n",
       "      <td>0.0</td>\n",
       "      <td>0.0</td>\n",
       "      <td>8000.0</td>\n",
       "    </tr>\n",
       "    <tr>\n",
       "      <th>2023-03-31</th>\n",
       "      <td>8000.0</td>\n",
       "      <td>0.0</td>\n",
       "      <td>0.0</td>\n",
       "      <td>8000.0</td>\n",
       "    </tr>\n",
       "    <tr>\n",
       "      <th>2023-04-30</th>\n",
       "      <td>8000.0</td>\n",
       "      <td>0.0</td>\n",
       "      <td>0.0</td>\n",
       "      <td>8000.0</td>\n",
       "    </tr>\n",
       "    <tr>\n",
       "      <th>2023-05-31</th>\n",
       "      <td>8000.0</td>\n",
       "      <td>0.0</td>\n",
       "      <td>0.0</td>\n",
       "      <td>8000.0</td>\n",
       "    </tr>\n",
       "    <tr>\n",
       "      <th>2023-06-30</th>\n",
       "      <td>8000.0</td>\n",
       "      <td>0.0</td>\n",
       "      <td>8000.0</td>\n",
       "      <td>0.0</td>\n",
       "    </tr>\n",
       "  </tbody>\n",
       "</table>\n",
       "</div>"
      ],
      "text/plain": [
       "            bal_strt  amt_in  amt_out  bal_end\n",
       "2023-01-31       0.0  8000.0      0.0   8000.0\n",
       "2023-02-28    8000.0     0.0      0.0   8000.0\n",
       "2023-03-31    8000.0     0.0      0.0   8000.0\n",
       "2023-04-30    8000.0     0.0      0.0   8000.0\n",
       "2023-05-31    8000.0     0.0      0.0   8000.0\n",
       "2023-06-30    8000.0     0.0   8000.0      0.0"
      ]
     },
     "execution_count": 80,
     "metadata": {},
     "output_type": "execute_result"
    }
   ],
   "source": [
    "oprtg.df"
   ]
  },
  {
   "cell_type": "code",
   "execution_count": 81,
   "id": "86cb3a9b",
   "metadata": {
    "scrolled": true
   },
   "outputs": [
    {
     "data": {
      "text/html": [
       "<div>\n",
       "<style scoped>\n",
       "    .dataframe tbody tr th:only-of-type {\n",
       "        vertical-align: middle;\n",
       "    }\n",
       "\n",
       "    .dataframe tbody tr th {\n",
       "        vertical-align: top;\n",
       "    }\n",
       "\n",
       "    .dataframe thead th {\n",
       "        text-align: right;\n",
       "    }\n",
       "</style>\n",
       "<table border=\"1\" class=\"dataframe\">\n",
       "  <thead>\n",
       "    <tr style=\"text-align: right;\">\n",
       "      <th></th>\n",
       "      <th>amt_in</th>\n",
       "      <th>amt_out</th>\n",
       "      <th>rcvfrm</th>\n",
       "      <th>payto</th>\n",
       "      <th>note</th>\n",
       "    </tr>\n",
       "  </thead>\n",
       "  <tbody>\n",
       "    <tr>\n",
       "      <th>2023-01-31</th>\n",
       "      <td>5000.0</td>\n",
       "      <td>0</td>\n",
       "      <td>주주1</td>\n",
       "      <td>None</td>\n",
       "      <td>주주1 출자금</td>\n",
       "    </tr>\n",
       "    <tr>\n",
       "      <th>2023-01-31</th>\n",
       "      <td>3000.0</td>\n",
       "      <td>0</td>\n",
       "      <td>주주2</td>\n",
       "      <td>None</td>\n",
       "      <td>주주2 출자금</td>\n",
       "    </tr>\n",
       "    <tr>\n",
       "      <th>2023-06-30</th>\n",
       "      <td>0.0</td>\n",
       "      <td>5000.0</td>\n",
       "      <td>None</td>\n",
       "      <td>주주1</td>\n",
       "      <td>주주1 분배</td>\n",
       "    </tr>\n",
       "    <tr>\n",
       "      <th>2023-06-30</th>\n",
       "      <td>0.0</td>\n",
       "      <td>3000.0</td>\n",
       "      <td>None</td>\n",
       "      <td>주주2</td>\n",
       "      <td>주주2 분배</td>\n",
       "    </tr>\n",
       "  </tbody>\n",
       "</table>\n",
       "</div>"
      ],
      "text/plain": [
       "            amt_in amt_out rcvfrm payto     note\n",
       "2023-01-31  5000.0       0    주주1  None  주주1 출자금\n",
       "2023-01-31  3000.0       0    주주2  None  주주2 출자금\n",
       "2023-06-30     0.0  5000.0   None   주주1   주주1 분배\n",
       "2023-06-30     0.0  3000.0   None   주주2   주주2 분배"
      ]
     },
     "execution_count": 81,
     "metadata": {},
     "output_type": "execute_result"
    }
   ],
   "source": [
    "oprtg.jnl"
   ]
  },
  {
   "cell_type": "code",
   "execution_count": 82,
   "id": "c8c07423",
   "metadata": {},
   "outputs": [
    {
     "data": {
      "text/html": [
       "<div>\n",
       "<style scoped>\n",
       "    .dataframe tbody tr th:only-of-type {\n",
       "        vertical-align: middle;\n",
       "    }\n",
       "\n",
       "    .dataframe tbody tr th {\n",
       "        vertical-align: top;\n",
       "    }\n",
       "\n",
       "    .dataframe thead th {\n",
       "        text-align: right;\n",
       "    }\n",
       "</style>\n",
       "<table border=\"1\" class=\"dataframe\">\n",
       "  <thead>\n",
       "    <tr style=\"text-align: right;\">\n",
       "      <th></th>\n",
       "      <th>scd_in</th>\n",
       "      <th>scd_in_cum</th>\n",
       "      <th>scd_out</th>\n",
       "      <th>scd_out_cum</th>\n",
       "      <th>bal_strt</th>\n",
       "      <th>amt_in</th>\n",
       "      <th>amt_in_cum</th>\n",
       "      <th>amt_out</th>\n",
       "      <th>amt_out_cum</th>\n",
       "      <th>bal_end</th>\n",
       "      <th>rsdl_in_cum</th>\n",
       "      <th>rsdl_out_cum</th>\n",
       "    </tr>\n",
       "  </thead>\n",
       "  <tbody>\n",
       "    <tr>\n",
       "      <th>2023-01-31</th>\n",
       "      <td>0.0</td>\n",
       "      <td>0.0</td>\n",
       "      <td>5000.0</td>\n",
       "      <td>5000.0</td>\n",
       "      <td>0.0</td>\n",
       "      <td>0.0</td>\n",
       "      <td>0.0</td>\n",
       "      <td>5000.0</td>\n",
       "      <td>5000.0</td>\n",
       "      <td>-5000.0</td>\n",
       "      <td>0.0</td>\n",
       "      <td>0.0</td>\n",
       "    </tr>\n",
       "    <tr>\n",
       "      <th>2023-02-28</th>\n",
       "      <td>0.0</td>\n",
       "      <td>0.0</td>\n",
       "      <td>0.0</td>\n",
       "      <td>5000.0</td>\n",
       "      <td>-5000.0</td>\n",
       "      <td>0.0</td>\n",
       "      <td>0.0</td>\n",
       "      <td>0.0</td>\n",
       "      <td>5000.0</td>\n",
       "      <td>-5000.0</td>\n",
       "      <td>0.0</td>\n",
       "      <td>0.0</td>\n",
       "    </tr>\n",
       "    <tr>\n",
       "      <th>2023-03-31</th>\n",
       "      <td>0.0</td>\n",
       "      <td>0.0</td>\n",
       "      <td>0.0</td>\n",
       "      <td>5000.0</td>\n",
       "      <td>-5000.0</td>\n",
       "      <td>0.0</td>\n",
       "      <td>0.0</td>\n",
       "      <td>0.0</td>\n",
       "      <td>5000.0</td>\n",
       "      <td>-5000.0</td>\n",
       "      <td>0.0</td>\n",
       "      <td>0.0</td>\n",
       "    </tr>\n",
       "    <tr>\n",
       "      <th>2023-04-30</th>\n",
       "      <td>0.0</td>\n",
       "      <td>0.0</td>\n",
       "      <td>0.0</td>\n",
       "      <td>5000.0</td>\n",
       "      <td>-5000.0</td>\n",
       "      <td>0.0</td>\n",
       "      <td>0.0</td>\n",
       "      <td>0.0</td>\n",
       "      <td>5000.0</td>\n",
       "      <td>-5000.0</td>\n",
       "      <td>0.0</td>\n",
       "      <td>0.0</td>\n",
       "    </tr>\n",
       "    <tr>\n",
       "      <th>2023-05-31</th>\n",
       "      <td>0.0</td>\n",
       "      <td>0.0</td>\n",
       "      <td>0.0</td>\n",
       "      <td>5000.0</td>\n",
       "      <td>-5000.0</td>\n",
       "      <td>0.0</td>\n",
       "      <td>0.0</td>\n",
       "      <td>0.0</td>\n",
       "      <td>5000.0</td>\n",
       "      <td>-5000.0</td>\n",
       "      <td>0.0</td>\n",
       "      <td>0.0</td>\n",
       "    </tr>\n",
       "    <tr>\n",
       "      <th>2023-06-30</th>\n",
       "      <td>5000.0</td>\n",
       "      <td>5000.0</td>\n",
       "      <td>0.0</td>\n",
       "      <td>5000.0</td>\n",
       "      <td>-5000.0</td>\n",
       "      <td>5000.0</td>\n",
       "      <td>5000.0</td>\n",
       "      <td>0.0</td>\n",
       "      <td>5000.0</td>\n",
       "      <td>0.0</td>\n",
       "      <td>0.0</td>\n",
       "      <td>0.0</td>\n",
       "    </tr>\n",
       "  </tbody>\n",
       "</table>\n",
       "</div>"
      ],
      "text/plain": [
       "            scd_in  scd_in_cum  scd_out  scd_out_cum  bal_strt  amt_in  amt_in_cum  amt_out  amt_out_cum  bal_end  rsdl_in_cum  rsdl_out_cum\n",
       "2023-01-31     0.0         0.0   5000.0       5000.0       0.0     0.0         0.0   5000.0       5000.0  -5000.0          0.0           0.0\n",
       "2023-02-28     0.0         0.0      0.0       5000.0   -5000.0     0.0         0.0      0.0       5000.0  -5000.0          0.0           0.0\n",
       "2023-03-31     0.0         0.0      0.0       5000.0   -5000.0     0.0         0.0      0.0       5000.0  -5000.0          0.0           0.0\n",
       "2023-04-30     0.0         0.0      0.0       5000.0   -5000.0     0.0         0.0      0.0       5000.0  -5000.0          0.0           0.0\n",
       "2023-05-31     0.0         0.0      0.0       5000.0   -5000.0     0.0         0.0      0.0       5000.0  -5000.0          0.0           0.0\n",
       "2023-06-30  5000.0      5000.0      0.0       5000.0   -5000.0  5000.0      5000.0      0.0       5000.0      0.0          0.0           0.0"
      ]
     },
     "execution_count": 82,
     "metadata": {},
     "output_type": "execute_result"
    }
   ],
   "source": [
    "보통주.주주1.dfall"
   ]
  },
  {
   "cell_type": "code",
   "execution_count": 83,
   "id": "2ac4ab98",
   "metadata": {},
   "outputs": [
    {
     "data": {
      "text/html": [
       "<div>\n",
       "<style scoped>\n",
       "    .dataframe tbody tr th:only-of-type {\n",
       "        vertical-align: middle;\n",
       "    }\n",
       "\n",
       "    .dataframe tbody tr th {\n",
       "        vertical-align: top;\n",
       "    }\n",
       "\n",
       "    .dataframe thead th {\n",
       "        text-align: right;\n",
       "    }\n",
       "</style>\n",
       "<table border=\"1\" class=\"dataframe\">\n",
       "  <thead>\n",
       "    <tr style=\"text-align: right;\">\n",
       "      <th></th>\n",
       "      <th>amt_in</th>\n",
       "      <th>amt_out</th>\n",
       "      <th>rcvfrm</th>\n",
       "      <th>payto</th>\n",
       "      <th>note</th>\n",
       "    </tr>\n",
       "  </thead>\n",
       "  <tbody>\n",
       "    <tr>\n",
       "      <th>2023-01-31</th>\n",
       "      <td>0</td>\n",
       "      <td>5000</td>\n",
       "      <td>None</td>\n",
       "      <td>None</td>\n",
       "      <td>주주1의 최초 출자금</td>\n",
       "    </tr>\n",
       "    <tr>\n",
       "      <th>2023-06-30</th>\n",
       "      <td>5000</td>\n",
       "      <td>0</td>\n",
       "      <td>None</td>\n",
       "      <td>None</td>\n",
       "      <td>주주1의 출자금 회수</td>\n",
       "    </tr>\n",
       "  </tbody>\n",
       "</table>\n",
       "</div>"
      ],
      "text/plain": [
       "           amt_in amt_out rcvfrm payto         note\n",
       "2023-01-31      0    5000   None  None  주주1의 최초 출자금\n",
       "2023-06-30   5000       0   None  None  주주1의 출자금 회수"
      ]
     },
     "execution_count": 83,
     "metadata": {},
     "output_type": "execute_result"
    }
   ],
   "source": [
    "보통주.주주1.jnlscd"
   ]
  },
  {
   "cell_type": "code",
   "execution_count": 84,
   "id": "ebdea4f3",
   "metadata": {},
   "outputs": [
    {
     "data": {
      "text/html": [
       "<div>\n",
       "<style scoped>\n",
       "    .dataframe tbody tr th:only-of-type {\n",
       "        vertical-align: middle;\n",
       "    }\n",
       "\n",
       "    .dataframe tbody tr th {\n",
       "        vertical-align: top;\n",
       "    }\n",
       "\n",
       "    .dataframe thead th {\n",
       "        text-align: right;\n",
       "    }\n",
       "</style>\n",
       "<table border=\"1\" class=\"dataframe\">\n",
       "  <thead>\n",
       "    <tr style=\"text-align: right;\">\n",
       "      <th></th>\n",
       "      <th>amt_in</th>\n",
       "      <th>amt_out</th>\n",
       "      <th>rcvfrm</th>\n",
       "      <th>payto</th>\n",
       "      <th>note</th>\n",
       "    </tr>\n",
       "  </thead>\n",
       "  <tbody>\n",
       "    <tr>\n",
       "      <th>2023-01-31</th>\n",
       "      <td>0</td>\n",
       "      <td>5000.0</td>\n",
       "      <td>None</td>\n",
       "      <td>main</td>\n",
       "      <td>주주1 출자금</td>\n",
       "    </tr>\n",
       "    <tr>\n",
       "      <th>2023-06-30</th>\n",
       "      <td>5000.0</td>\n",
       "      <td>0.0</td>\n",
       "      <td>main</td>\n",
       "      <td>None</td>\n",
       "      <td>주주1 분배</td>\n",
       "    </tr>\n",
       "  </tbody>\n",
       "</table>\n",
       "</div>"
      ],
      "text/plain": [
       "            amt_in  amt_out rcvfrm payto     note\n",
       "2023-01-31       0   5000.0   None  main  주주1 출자금\n",
       "2023-06-30  5000.0      0.0   main  None   주주1 분배"
      ]
     },
     "execution_count": 84,
     "metadata": {},
     "output_type": "execute_result"
    }
   ],
   "source": [
    "보통주.주주1.jnl"
   ]
  },
  {
   "cell_type": "code",
   "execution_count": 85,
   "id": "f257e6ff",
   "metadata": {},
   "outputs": [
    {
     "data": {
      "text/html": [
       "<div>\n",
       "<style scoped>\n",
       "    .dataframe tbody tr th:only-of-type {\n",
       "        vertical-align: middle;\n",
       "    }\n",
       "\n",
       "    .dataframe tbody tr th {\n",
       "        vertical-align: top;\n",
       "    }\n",
       "\n",
       "    .dataframe thead th {\n",
       "        text-align: right;\n",
       "    }\n",
       "</style>\n",
       "<table border=\"1\" class=\"dataframe\">\n",
       "  <thead>\n",
       "    <tr style=\"text-align: right;\">\n",
       "      <th></th>\n",
       "      <th>scd_in</th>\n",
       "      <th>scd_in_cum</th>\n",
       "      <th>scd_out</th>\n",
       "      <th>scd_out_cum</th>\n",
       "      <th>bal_strt</th>\n",
       "      <th>amt_in</th>\n",
       "      <th>amt_in_cum</th>\n",
       "      <th>amt_out</th>\n",
       "      <th>amt_out_cum</th>\n",
       "      <th>bal_end</th>\n",
       "      <th>rsdl_in_cum</th>\n",
       "      <th>rsdl_out_cum</th>\n",
       "    </tr>\n",
       "  </thead>\n",
       "  <tbody>\n",
       "    <tr>\n",
       "      <th>2023-01-31</th>\n",
       "      <td>0.0</td>\n",
       "      <td>0.0</td>\n",
       "      <td>3000.0</td>\n",
       "      <td>3000.0</td>\n",
       "      <td>0.0</td>\n",
       "      <td>0.0</td>\n",
       "      <td>0.0</td>\n",
       "      <td>3000.0</td>\n",
       "      <td>3000.0</td>\n",
       "      <td>-3000.0</td>\n",
       "      <td>0.0</td>\n",
       "      <td>0.0</td>\n",
       "    </tr>\n",
       "    <tr>\n",
       "      <th>2023-02-28</th>\n",
       "      <td>0.0</td>\n",
       "      <td>0.0</td>\n",
       "      <td>0.0</td>\n",
       "      <td>3000.0</td>\n",
       "      <td>-3000.0</td>\n",
       "      <td>0.0</td>\n",
       "      <td>0.0</td>\n",
       "      <td>0.0</td>\n",
       "      <td>3000.0</td>\n",
       "      <td>-3000.0</td>\n",
       "      <td>0.0</td>\n",
       "      <td>0.0</td>\n",
       "    </tr>\n",
       "    <tr>\n",
       "      <th>2023-03-31</th>\n",
       "      <td>0.0</td>\n",
       "      <td>0.0</td>\n",
       "      <td>0.0</td>\n",
       "      <td>3000.0</td>\n",
       "      <td>-3000.0</td>\n",
       "      <td>0.0</td>\n",
       "      <td>0.0</td>\n",
       "      <td>0.0</td>\n",
       "      <td>3000.0</td>\n",
       "      <td>-3000.0</td>\n",
       "      <td>0.0</td>\n",
       "      <td>0.0</td>\n",
       "    </tr>\n",
       "    <tr>\n",
       "      <th>2023-04-30</th>\n",
       "      <td>0.0</td>\n",
       "      <td>0.0</td>\n",
       "      <td>0.0</td>\n",
       "      <td>3000.0</td>\n",
       "      <td>-3000.0</td>\n",
       "      <td>0.0</td>\n",
       "      <td>0.0</td>\n",
       "      <td>0.0</td>\n",
       "      <td>3000.0</td>\n",
       "      <td>-3000.0</td>\n",
       "      <td>0.0</td>\n",
       "      <td>0.0</td>\n",
       "    </tr>\n",
       "    <tr>\n",
       "      <th>2023-05-31</th>\n",
       "      <td>0.0</td>\n",
       "      <td>0.0</td>\n",
       "      <td>0.0</td>\n",
       "      <td>3000.0</td>\n",
       "      <td>-3000.0</td>\n",
       "      <td>0.0</td>\n",
       "      <td>0.0</td>\n",
       "      <td>0.0</td>\n",
       "      <td>3000.0</td>\n",
       "      <td>-3000.0</td>\n",
       "      <td>0.0</td>\n",
       "      <td>0.0</td>\n",
       "    </tr>\n",
       "    <tr>\n",
       "      <th>2023-06-30</th>\n",
       "      <td>3000.0</td>\n",
       "      <td>3000.0</td>\n",
       "      <td>0.0</td>\n",
       "      <td>3000.0</td>\n",
       "      <td>-3000.0</td>\n",
       "      <td>3000.0</td>\n",
       "      <td>3000.0</td>\n",
       "      <td>0.0</td>\n",
       "      <td>3000.0</td>\n",
       "      <td>0.0</td>\n",
       "      <td>0.0</td>\n",
       "      <td>0.0</td>\n",
       "    </tr>\n",
       "  </tbody>\n",
       "</table>\n",
       "</div>"
      ],
      "text/plain": [
       "            scd_in  scd_in_cum  scd_out  scd_out_cum  bal_strt  amt_in  amt_in_cum  amt_out  amt_out_cum  bal_end  rsdl_in_cum  rsdl_out_cum\n",
       "2023-01-31     0.0         0.0   3000.0       3000.0       0.0     0.0         0.0   3000.0       3000.0  -3000.0          0.0           0.0\n",
       "2023-02-28     0.0         0.0      0.0       3000.0   -3000.0     0.0         0.0      0.0       3000.0  -3000.0          0.0           0.0\n",
       "2023-03-31     0.0         0.0      0.0       3000.0   -3000.0     0.0         0.0      0.0       3000.0  -3000.0          0.0           0.0\n",
       "2023-04-30     0.0         0.0      0.0       3000.0   -3000.0     0.0         0.0      0.0       3000.0  -3000.0          0.0           0.0\n",
       "2023-05-31     0.0         0.0      0.0       3000.0   -3000.0     0.0         0.0      0.0       3000.0  -3000.0          0.0           0.0\n",
       "2023-06-30  3000.0      3000.0      0.0       3000.0   -3000.0  3000.0      3000.0      0.0       3000.0      0.0          0.0           0.0"
      ]
     },
     "execution_count": 85,
     "metadata": {},
     "output_type": "execute_result"
    }
   ],
   "source": [
    "보통주.주주2.dfall"
   ]
  },
  {
   "cell_type": "code",
   "execution_count": 86,
   "id": "35b02829",
   "metadata": {},
   "outputs": [
    {
     "data": {
      "text/html": [
       "<div>\n",
       "<style scoped>\n",
       "    .dataframe tbody tr th:only-of-type {\n",
       "        vertical-align: middle;\n",
       "    }\n",
       "\n",
       "    .dataframe tbody tr th {\n",
       "        vertical-align: top;\n",
       "    }\n",
       "\n",
       "    .dataframe thead th {\n",
       "        text-align: right;\n",
       "    }\n",
       "</style>\n",
       "<table border=\"1\" class=\"dataframe\">\n",
       "  <thead>\n",
       "    <tr style=\"text-align: right;\">\n",
       "      <th></th>\n",
       "      <th>amt_in</th>\n",
       "      <th>amt_out</th>\n",
       "      <th>rcvfrm</th>\n",
       "      <th>payto</th>\n",
       "      <th>note</th>\n",
       "    </tr>\n",
       "  </thead>\n",
       "  <tbody>\n",
       "    <tr>\n",
       "      <th>2023-01-31</th>\n",
       "      <td>0</td>\n",
       "      <td>3000</td>\n",
       "      <td>None</td>\n",
       "      <td>None</td>\n",
       "      <td>주주2의 최초 출자금</td>\n",
       "    </tr>\n",
       "    <tr>\n",
       "      <th>2023-06-30</th>\n",
       "      <td>3000</td>\n",
       "      <td>0</td>\n",
       "      <td>None</td>\n",
       "      <td>None</td>\n",
       "      <td>주주2의 출자금 회수</td>\n",
       "    </tr>\n",
       "  </tbody>\n",
       "</table>\n",
       "</div>"
      ],
      "text/plain": [
       "           amt_in amt_out rcvfrm payto         note\n",
       "2023-01-31      0    3000   None  None  주주2의 최초 출자금\n",
       "2023-06-30   3000       0   None  None  주주2의 출자금 회수"
      ]
     },
     "execution_count": 86,
     "metadata": {},
     "output_type": "execute_result"
    }
   ],
   "source": [
    "보통주.주주2.jnlscd"
   ]
  },
  {
   "cell_type": "code",
   "execution_count": 87,
   "id": "20edc2e4",
   "metadata": {},
   "outputs": [
    {
     "data": {
      "text/html": [
       "<div>\n",
       "<style scoped>\n",
       "    .dataframe tbody tr th:only-of-type {\n",
       "        vertical-align: middle;\n",
       "    }\n",
       "\n",
       "    .dataframe tbody tr th {\n",
       "        vertical-align: top;\n",
       "    }\n",
       "\n",
       "    .dataframe thead th {\n",
       "        text-align: right;\n",
       "    }\n",
       "</style>\n",
       "<table border=\"1\" class=\"dataframe\">\n",
       "  <thead>\n",
       "    <tr style=\"text-align: right;\">\n",
       "      <th></th>\n",
       "      <th>amt_in</th>\n",
       "      <th>amt_out</th>\n",
       "      <th>rcvfrm</th>\n",
       "      <th>payto</th>\n",
       "      <th>note</th>\n",
       "    </tr>\n",
       "  </thead>\n",
       "  <tbody>\n",
       "    <tr>\n",
       "      <th>2023-01-31</th>\n",
       "      <td>0</td>\n",
       "      <td>3000.0</td>\n",
       "      <td>None</td>\n",
       "      <td>main</td>\n",
       "      <td>주주2 출자금</td>\n",
       "    </tr>\n",
       "    <tr>\n",
       "      <th>2023-06-30</th>\n",
       "      <td>3000.0</td>\n",
       "      <td>0.0</td>\n",
       "      <td>main</td>\n",
       "      <td>None</td>\n",
       "      <td>주주2 분배</td>\n",
       "    </tr>\n",
       "  </tbody>\n",
       "</table>\n",
       "</div>"
      ],
      "text/plain": [
       "            amt_in  amt_out rcvfrm payto     note\n",
       "2023-01-31       0   3000.0   None  main  주주2 출자금\n",
       "2023-06-30  3000.0      0.0   main  None   주주2 분배"
      ]
     },
     "execution_count": 87,
     "metadata": {},
     "output_type": "execute_result"
    }
   ],
   "source": [
    "보통주.주주2.jnl"
   ]
  },
  {
   "cell_type": "code",
   "execution_count": null,
   "id": "f7233d66",
   "metadata": {},
   "outputs": [],
   "source": []
  },
  {
   "cell_type": "markdown",
   "id": "528f5b60",
   "metadata": {},
   "source": [
    "### 3) for문을 이용한 현금흐름 작성"
   ]
  },
  {
   "cell_type": "code",
   "execution_count": 88,
   "id": "adf4f12f",
   "metadata": {},
   "outputs": [],
   "source": [
    "보통주 = Account(idx)\n",
    "\n",
    "보통주.주주1 = 보통주.subacc(\"주주1\")\n",
    "with 보통주.주주1 as e:\n",
    "    e.amt = 5_000\n",
    "    e.subscd(idx[0], e.amt, note=\"주주1의 최초 출자금\")\n",
    "    e.addscd(idx[-1], e.amt, note=\"주주1의 출자금 회수\")\n",
    "    \n",
    "보통주.주주2 = 보통주.subacc(\"주주2\")\n",
    "with 보통주.주주2 as e:\n",
    "    e.amt = 3_000\n",
    "    e.subscd(idx[0], e.amt, note=\"주주2의 최초 출자금\")\n",
    "    e.addscd(idx[-1], e.amt, note=\"주주2의 출자금 회수\")\n",
    "    \n",
    "oprtg = Account(idx) #운영계좌"
   ]
  },
  {
   "cell_type": "code",
   "execution_count": 89,
   "id": "06d83de4",
   "metadata": {},
   "outputs": [],
   "source": [
    "for i in idx:\n",
    "    보통주.주주1.send(i, 보통주.주주1.scd_out[i], oprtg, note=\"주주1 출자금\")\n",
    "    보통주.주주2.send(i, 보통주.주주2.scd_out[i], oprtg, note=\"주주2 출자금\")\n",
    "    oprtg.send(i, 보통주.주주1.scd_in[i], 보통주.주주1, note=\"주주1 분배\")\n",
    "    oprtg.send(i, 보통주.주주2.scd_in[i], 보통주.주주2, note=\"주주2 분배\")"
   ]
  },
  {
   "cell_type": "code",
   "execution_count": 90,
   "id": "a30bbcf3",
   "metadata": {},
   "outputs": [
    {
     "data": {
      "text/html": [
       "<div>\n",
       "<style scoped>\n",
       "    .dataframe tbody tr th:only-of-type {\n",
       "        vertical-align: middle;\n",
       "    }\n",
       "\n",
       "    .dataframe tbody tr th {\n",
       "        vertical-align: top;\n",
       "    }\n",
       "\n",
       "    .dataframe thead th {\n",
       "        text-align: right;\n",
       "    }\n",
       "</style>\n",
       "<table border=\"1\" class=\"dataframe\">\n",
       "  <thead>\n",
       "    <tr style=\"text-align: right;\">\n",
       "      <th></th>\n",
       "      <th>amt_in</th>\n",
       "      <th>amt_out</th>\n",
       "      <th>rcvfrm</th>\n",
       "      <th>payto</th>\n",
       "      <th>note</th>\n",
       "    </tr>\n",
       "  </thead>\n",
       "  <tbody>\n",
       "    <tr>\n",
       "      <th>2023-01-31</th>\n",
       "      <td>5000.0</td>\n",
       "      <td>0</td>\n",
       "      <td>주주1</td>\n",
       "      <td>None</td>\n",
       "      <td>주주1 출자금</td>\n",
       "    </tr>\n",
       "    <tr>\n",
       "      <th>2023-01-31</th>\n",
       "      <td>3000.0</td>\n",
       "      <td>0</td>\n",
       "      <td>주주2</td>\n",
       "      <td>None</td>\n",
       "      <td>주주2 출자금</td>\n",
       "    </tr>\n",
       "    <tr>\n",
       "      <th>2023-06-30</th>\n",
       "      <td>0.0</td>\n",
       "      <td>5000.0</td>\n",
       "      <td>None</td>\n",
       "      <td>주주1</td>\n",
       "      <td>주주1 분배</td>\n",
       "    </tr>\n",
       "    <tr>\n",
       "      <th>2023-06-30</th>\n",
       "      <td>0.0</td>\n",
       "      <td>3000.0</td>\n",
       "      <td>None</td>\n",
       "      <td>주주2</td>\n",
       "      <td>주주2 분배</td>\n",
       "    </tr>\n",
       "  </tbody>\n",
       "</table>\n",
       "</div>"
      ],
      "text/plain": [
       "            amt_in amt_out rcvfrm payto     note\n",
       "2023-01-31  5000.0       0    주주1  None  주주1 출자금\n",
       "2023-01-31  3000.0       0    주주2  None  주주2 출자금\n",
       "2023-06-30     0.0  5000.0   None   주주1   주주1 분배\n",
       "2023-06-30     0.0  3000.0   None   주주2   주주2 분배"
      ]
     },
     "execution_count": 90,
     "metadata": {},
     "output_type": "execute_result"
    }
   ],
   "source": [
    "oprtg.jnl"
   ]
  },
  {
   "cell_type": "code",
   "execution_count": 91,
   "id": "95212d80",
   "metadata": {},
   "outputs": [
    {
     "data": {
      "text/html": [
       "<div>\n",
       "<style scoped>\n",
       "    .dataframe tbody tr th:only-of-type {\n",
       "        vertical-align: middle;\n",
       "    }\n",
       "\n",
       "    .dataframe tbody tr th {\n",
       "        vertical-align: top;\n",
       "    }\n",
       "\n",
       "    .dataframe thead th {\n",
       "        text-align: right;\n",
       "    }\n",
       "</style>\n",
       "<table border=\"1\" class=\"dataframe\">\n",
       "  <thead>\n",
       "    <tr style=\"text-align: right;\">\n",
       "      <th></th>\n",
       "      <th>bal_strt</th>\n",
       "      <th>amt_in</th>\n",
       "      <th>amt_out</th>\n",
       "      <th>bal_end</th>\n",
       "    </tr>\n",
       "  </thead>\n",
       "  <tbody>\n",
       "    <tr>\n",
       "      <th>2023-01-31</th>\n",
       "      <td>0.0</td>\n",
       "      <td>8000.0</td>\n",
       "      <td>0.0</td>\n",
       "      <td>8000.0</td>\n",
       "    </tr>\n",
       "    <tr>\n",
       "      <th>2023-02-28</th>\n",
       "      <td>8000.0</td>\n",
       "      <td>0.0</td>\n",
       "      <td>0.0</td>\n",
       "      <td>8000.0</td>\n",
       "    </tr>\n",
       "    <tr>\n",
       "      <th>2023-03-31</th>\n",
       "      <td>8000.0</td>\n",
       "      <td>0.0</td>\n",
       "      <td>0.0</td>\n",
       "      <td>8000.0</td>\n",
       "    </tr>\n",
       "    <tr>\n",
       "      <th>2023-04-30</th>\n",
       "      <td>8000.0</td>\n",
       "      <td>0.0</td>\n",
       "      <td>0.0</td>\n",
       "      <td>8000.0</td>\n",
       "    </tr>\n",
       "    <tr>\n",
       "      <th>2023-05-31</th>\n",
       "      <td>8000.0</td>\n",
       "      <td>0.0</td>\n",
       "      <td>0.0</td>\n",
       "      <td>8000.0</td>\n",
       "    </tr>\n",
       "    <tr>\n",
       "      <th>2023-06-30</th>\n",
       "      <td>8000.0</td>\n",
       "      <td>0.0</td>\n",
       "      <td>8000.0</td>\n",
       "      <td>0.0</td>\n",
       "    </tr>\n",
       "  </tbody>\n",
       "</table>\n",
       "</div>"
      ],
      "text/plain": [
       "            bal_strt  amt_in  amt_out  bal_end\n",
       "2023-01-31       0.0  8000.0      0.0   8000.0\n",
       "2023-02-28    8000.0     0.0      0.0   8000.0\n",
       "2023-03-31    8000.0     0.0      0.0   8000.0\n",
       "2023-04-30    8000.0     0.0      0.0   8000.0\n",
       "2023-05-31    8000.0     0.0      0.0   8000.0\n",
       "2023-06-30    8000.0     0.0   8000.0      0.0"
      ]
     },
     "execution_count": 91,
     "metadata": {},
     "output_type": "execute_result"
    }
   ],
   "source": [
    "oprtg.df"
   ]
  },
  {
   "cell_type": "code",
   "execution_count": null,
   "id": "40979119",
   "metadata": {},
   "outputs": [],
   "source": []
  },
  {
   "cell_type": "markdown",
   "id": "f53346ac",
   "metadata": {},
   "source": [
    "### 4) 금융조달 측면에서 다중 Account 설정 이용\n",
    "* 재무모델 작성시 금융조달 측면에서 여러가지 현금흐름이 동시에 필요함.\n",
    "  * 대출원금 : 최초 대출금의 인출, 대출기간 중에 발생하는 한도인출, 대출기간 중 발생되는 중도상환, 만기시 발생되는 만기상환 등을 처리\n",
    "  * 이자 : 대출기간 중 인출된 대출금에 대한 사용 비용을 계산하고, 해당 이자금원의 유출입을 처리\n",
    "  * 수수료 : 대출 실행시 일반적으로 대출을 실행하고, 인출하는 데 대한 수수료를 청구하며, 이에 대한 유출입을 처리\n",
    "  * 미인출수수료 : 한도대출이 실행되는 경우 미인출된 대출금 한도에 대해서는 자금의 대기비용을 계산하여 별도의 미인출수수료를 청구하기도 함.\n",
    "* 하나의 금융조달 객체(보통주, 우선주, 대출 등)에 대하여 상기와 같이 필요한 개별 Account들을 하위 Account로 설정하여 사용하면 데이터의 관리 및 추출에 편리함."
   ]
  },
  {
   "cell_type": "code",
   "execution_count": 92,
   "id": "501589d2",
   "metadata": {},
   "outputs": [],
   "source": [
    "idx = Index(\"2023.01\", 6)"
   ]
  },
  {
   "cell_type": "code",
   "execution_count": 93,
   "id": "f817c846",
   "metadata": {},
   "outputs": [],
   "source": [
    "loan = Account(idx)\n",
    "loan.mtrt = len(idx) - 1 #만기 설정"
   ]
  },
  {
   "cell_type": "code",
   "execution_count": 94,
   "id": "29952902",
   "metadata": {},
   "outputs": [],
   "source": [
    "# 대출금 현금흐름 설정\n",
    "loan.ntnl = loan.subacc(\"ntnl\")\n",
    "with loan.ntnl as n:\n",
    "    n.amt = 10_000\n",
    "    n.subscd(idx[0], n.amt)\n",
    "    n.addscd(idx[-1], n.amt)"
   ]
  },
  {
   "cell_type": "code",
   "execution_count": 95,
   "id": "910d25b8",
   "metadata": {},
   "outputs": [],
   "source": [
    "# 대출금 취급수수료 설정\n",
    "loan.fee = loan.subacc(\"fee\")\n",
    "with loan.fee as f:\n",
    "    f.rate = 0.02 #2.0%\n",
    "    f.amt = f.rate * loan.ntnl.amt\n",
    "    f.addscd(idx[0], f.amt)"
   ]
  },
  {
   "cell_type": "code",
   "execution_count": 96,
   "id": "e38409ea",
   "metadata": {},
   "outputs": [],
   "source": [
    "# 대출금 이자 설정\n",
    "loan.IR = loan.subacc(\"IR\")\n",
    "with loan.IR as i:\n",
    "    i.rate = 0.06 #6.0%\n",
    "    i.cycle = 1 #1개월 마다 이자 지급\n",
    "    i.rate_cycle = i.rate / 12 * i.cycle #1개월 기준으로 계산되는 이자율"
   ]
  },
  {
   "cell_type": "code",
   "execution_count": 97,
   "id": "f9aff704",
   "metadata": {},
   "outputs": [
    {
     "data": {
      "text/plain": [
       "Account(main, len 6, dct: ['ntnl', 'fee', 'IR'])"
      ]
     },
     "execution_count": 97,
     "metadata": {},
     "output_type": "execute_result"
    }
   ],
   "source": [
    "loan"
   ]
  },
  {
   "cell_type": "code",
   "execution_count": 98,
   "id": "ad8ae003",
   "metadata": {},
   "outputs": [
    {
     "name": "stdout",
     "output_type": "stream",
     "text": [
      "대출금 :  10000\n",
      "이자율 :  0.06\n",
      "수수료율 :  0.02\n"
     ]
    }
   ],
   "source": [
    "print(\"대출금 : \", loan.ntnl.amt)\n",
    "print(\"이자율 : \", loan.IR.rate)\n",
    "print(\"수수료율 : \", loan.fee.rate)"
   ]
  },
  {
   "cell_type": "code",
   "execution_count": 99,
   "id": "1d200168",
   "metadata": {},
   "outputs": [
    {
     "data": {
      "text/plain": [
       "200.0"
      ]
     },
     "execution_count": 99,
     "metadata": {},
     "output_type": "execute_result"
    }
   ],
   "source": [
    "loan.fee.amt"
   ]
  },
  {
   "cell_type": "code",
   "execution_count": null,
   "id": "c5205e81",
   "metadata": {},
   "outputs": [],
   "source": []
  },
  {
   "cell_type": "code",
   "execution_count": 100,
   "id": "d27a709b",
   "metadata": {},
   "outputs": [],
   "source": [
    "oprtg = Account(idx)\n",
    "oprtg.addamt(idx[0], 1000, note=\"최초 계좌 잔액\")"
   ]
  },
  {
   "cell_type": "code",
   "execution_count": 101,
   "id": "ff395973",
   "metadata": {},
   "outputs": [
    {
     "data": {
      "text/html": [
       "<div>\n",
       "<style scoped>\n",
       "    .dataframe tbody tr th:only-of-type {\n",
       "        vertical-align: middle;\n",
       "    }\n",
       "\n",
       "    .dataframe tbody tr th {\n",
       "        vertical-align: top;\n",
       "    }\n",
       "\n",
       "    .dataframe thead th {\n",
       "        text-align: right;\n",
       "    }\n",
       "</style>\n",
       "<table border=\"1\" class=\"dataframe\">\n",
       "  <thead>\n",
       "    <tr style=\"text-align: right;\">\n",
       "      <th></th>\n",
       "      <th>bal_strt</th>\n",
       "      <th>amt_in</th>\n",
       "      <th>amt_out</th>\n",
       "      <th>bal_end</th>\n",
       "    </tr>\n",
       "  </thead>\n",
       "  <tbody>\n",
       "    <tr>\n",
       "      <th>2023-01-31</th>\n",
       "      <td>0.0</td>\n",
       "      <td>1000.0</td>\n",
       "      <td>0.0</td>\n",
       "      <td>1000.0</td>\n",
       "    </tr>\n",
       "    <tr>\n",
       "      <th>2023-02-28</th>\n",
       "      <td>1000.0</td>\n",
       "      <td>0.0</td>\n",
       "      <td>0.0</td>\n",
       "      <td>1000.0</td>\n",
       "    </tr>\n",
       "    <tr>\n",
       "      <th>2023-03-31</th>\n",
       "      <td>1000.0</td>\n",
       "      <td>0.0</td>\n",
       "      <td>0.0</td>\n",
       "      <td>1000.0</td>\n",
       "    </tr>\n",
       "    <tr>\n",
       "      <th>2023-04-30</th>\n",
       "      <td>1000.0</td>\n",
       "      <td>0.0</td>\n",
       "      <td>0.0</td>\n",
       "      <td>1000.0</td>\n",
       "    </tr>\n",
       "    <tr>\n",
       "      <th>2023-05-31</th>\n",
       "      <td>1000.0</td>\n",
       "      <td>0.0</td>\n",
       "      <td>0.0</td>\n",
       "      <td>1000.0</td>\n",
       "    </tr>\n",
       "    <tr>\n",
       "      <th>2023-06-30</th>\n",
       "      <td>1000.0</td>\n",
       "      <td>0.0</td>\n",
       "      <td>0.0</td>\n",
       "      <td>1000.0</td>\n",
       "    </tr>\n",
       "  </tbody>\n",
       "</table>\n",
       "</div>"
      ],
      "text/plain": [
       "            bal_strt  amt_in  amt_out  bal_end\n",
       "2023-01-31       0.0  1000.0      0.0   1000.0\n",
       "2023-02-28    1000.0     0.0      0.0   1000.0\n",
       "2023-03-31    1000.0     0.0      0.0   1000.0\n",
       "2023-04-30    1000.0     0.0      0.0   1000.0\n",
       "2023-05-31    1000.0     0.0      0.0   1000.0\n",
       "2023-06-30    1000.0     0.0      0.0   1000.0"
      ]
     },
     "execution_count": 101,
     "metadata": {},
     "output_type": "execute_result"
    }
   ],
   "source": [
    "oprtg.df"
   ]
  },
  {
   "cell_type": "code",
   "execution_count": null,
   "id": "67e883ac",
   "metadata": {},
   "outputs": [],
   "source": []
  },
  {
   "cell_type": "code",
   "execution_count": 102,
   "id": "07b7a378",
   "metadata": {},
   "outputs": [],
   "source": [
    "#idx[0] : 대출금의 인출 및 수수료 수취\n",
    "loan.ntnl.send(idx[0], loan.ntnl.scd_out[idx[0]], oprtg, note=\"대출금 인출\")\n",
    "oprtg.send(idx[0], loan.fee.scd_in[idx[0]], loan.fee, note=\"취급수수료\")"
   ]
  },
  {
   "cell_type": "code",
   "execution_count": 103,
   "id": "a4ea3dc3",
   "metadata": {},
   "outputs": [],
   "source": [
    "#idx[1] : 이자 계산 및 이자 수취\n",
    "IR_amt = -loan.ntnl.bal_strt[idx[1]] * loan.IR.rate_cycle\n",
    "oprtg.send(idx[1], IR_amt, loan.IR, note=\"대출이자\")"
   ]
  },
  {
   "cell_type": "code",
   "execution_count": 104,
   "id": "abbb50c2",
   "metadata": {},
   "outputs": [],
   "source": [
    "#idx[2] : 이자 계산 및 이자 수취\n",
    "IR_amt = -loan.ntnl.bal_strt[idx[2]] * loan.IR.rate_cycle\n",
    "oprtg.send(idx[2], IR_amt, loan.IR, note=\"대출이자\")"
   ]
  },
  {
   "cell_type": "code",
   "execution_count": 105,
   "id": "3d14943c",
   "metadata": {},
   "outputs": [],
   "source": [
    "#idx[3] : 이자 계산 및 이자 수취\n",
    "IR_amt = -loan.ntnl.bal_strt[idx[3]] * loan.IR.rate_cycle\n",
    "oprtg.send(idx[3], IR_amt, loan.IR, note=\"대출이자\")"
   ]
  },
  {
   "cell_type": "code",
   "execution_count": 106,
   "id": "29f84e3e",
   "metadata": {},
   "outputs": [],
   "source": [
    "#idx[4] : 이자 계산 및 이자 수취\n",
    "IR_amt = -loan.ntnl.bal_strt[idx[4]] * loan.IR.rate_cycle\n",
    "oprtg.send(idx[4], IR_amt, loan.IR, note=\"대출이자\")"
   ]
  },
  {
   "cell_type": "code",
   "execution_count": 107,
   "id": "dcdc2cd3",
   "metadata": {},
   "outputs": [],
   "source": [
    "#idx[5] : 이자 계산 및 이자 수취, 대출원금 회수\n",
    "IR_amt = -loan.ntnl.bal_strt[idx[5]] * loan.IR.rate_cycle\n",
    "oprtg.send(idx[5], IR_amt, loan.IR, note=\"대출이자\")\n",
    "oprtg.send(idx[5], loan.ntnl.scd_in[idx[5]], loan.ntnl, note=\"대출금 상환\")"
   ]
  },
  {
   "cell_type": "code",
   "execution_count": 108,
   "id": "f4d9a0d9",
   "metadata": {},
   "outputs": [
    {
     "data": {
      "text/html": [
       "<div>\n",
       "<style scoped>\n",
       "    .dataframe tbody tr th:only-of-type {\n",
       "        vertical-align: middle;\n",
       "    }\n",
       "\n",
       "    .dataframe tbody tr th {\n",
       "        vertical-align: top;\n",
       "    }\n",
       "\n",
       "    .dataframe thead th {\n",
       "        text-align: right;\n",
       "    }\n",
       "</style>\n",
       "<table border=\"1\" class=\"dataframe\">\n",
       "  <thead>\n",
       "    <tr style=\"text-align: right;\">\n",
       "      <th></th>\n",
       "      <th>amt_in</th>\n",
       "      <th>amt_out</th>\n",
       "      <th>rcvfrm</th>\n",
       "      <th>payto</th>\n",
       "      <th>note</th>\n",
       "    </tr>\n",
       "  </thead>\n",
       "  <tbody>\n",
       "    <tr>\n",
       "      <th>2023-01-31</th>\n",
       "      <td>1000</td>\n",
       "      <td>0</td>\n",
       "      <td>None</td>\n",
       "      <td>None</td>\n",
       "      <td>최초 계좌 잔액</td>\n",
       "    </tr>\n",
       "    <tr>\n",
       "      <th>2023-01-31</th>\n",
       "      <td>10000.0</td>\n",
       "      <td>0</td>\n",
       "      <td>ntnl</td>\n",
       "      <td>None</td>\n",
       "      <td>대출금 인출</td>\n",
       "    </tr>\n",
       "    <tr>\n",
       "      <th>2023-01-31</th>\n",
       "      <td>0</td>\n",
       "      <td>200.0</td>\n",
       "      <td>None</td>\n",
       "      <td>fee</td>\n",
       "      <td>취급수수료</td>\n",
       "    </tr>\n",
       "    <tr>\n",
       "      <th>2023-02-28</th>\n",
       "      <td>0</td>\n",
       "      <td>50.0</td>\n",
       "      <td>None</td>\n",
       "      <td>IR</td>\n",
       "      <td>대출이자</td>\n",
       "    </tr>\n",
       "    <tr>\n",
       "      <th>2023-03-31</th>\n",
       "      <td>0</td>\n",
       "      <td>50.0</td>\n",
       "      <td>None</td>\n",
       "      <td>IR</td>\n",
       "      <td>대출이자</td>\n",
       "    </tr>\n",
       "    <tr>\n",
       "      <th>2023-04-30</th>\n",
       "      <td>0</td>\n",
       "      <td>50.0</td>\n",
       "      <td>None</td>\n",
       "      <td>IR</td>\n",
       "      <td>대출이자</td>\n",
       "    </tr>\n",
       "    <tr>\n",
       "      <th>2023-05-31</th>\n",
       "      <td>0</td>\n",
       "      <td>50.0</td>\n",
       "      <td>None</td>\n",
       "      <td>IR</td>\n",
       "      <td>대출이자</td>\n",
       "    </tr>\n",
       "    <tr>\n",
       "      <th>2023-06-30</th>\n",
       "      <td>0</td>\n",
       "      <td>50.0</td>\n",
       "      <td>None</td>\n",
       "      <td>IR</td>\n",
       "      <td>대출이자</td>\n",
       "    </tr>\n",
       "    <tr>\n",
       "      <th>2023-06-30</th>\n",
       "      <td>0</td>\n",
       "      <td>10000.0</td>\n",
       "      <td>None</td>\n",
       "      <td>ntnl</td>\n",
       "      <td>대출금 상환</td>\n",
       "    </tr>\n",
       "  </tbody>\n",
       "</table>\n",
       "</div>"
      ],
      "text/plain": [
       "             amt_in  amt_out rcvfrm payto      note\n",
       "2023-01-31     1000        0   None  None  최초 계좌 잔액\n",
       "2023-01-31  10000.0        0   ntnl  None    대출금 인출\n",
       "2023-01-31        0    200.0   None   fee     취급수수료\n",
       "2023-02-28        0     50.0   None    IR      대출이자\n",
       "2023-03-31        0     50.0   None    IR      대출이자\n",
       "2023-04-30        0     50.0   None    IR      대출이자\n",
       "2023-05-31        0     50.0   None    IR      대출이자\n",
       "2023-06-30        0     50.0   None    IR      대출이자\n",
       "2023-06-30        0  10000.0   None  ntnl    대출금 상환"
      ]
     },
     "execution_count": 108,
     "metadata": {},
     "output_type": "execute_result"
    }
   ],
   "source": [
    "oprtg.jnl"
   ]
  },
  {
   "cell_type": "code",
   "execution_count": 109,
   "id": "dd7a9aad",
   "metadata": {},
   "outputs": [
    {
     "data": {
      "text/html": [
       "<div>\n",
       "<style scoped>\n",
       "    .dataframe tbody tr th:only-of-type {\n",
       "        vertical-align: middle;\n",
       "    }\n",
       "\n",
       "    .dataframe tbody tr th {\n",
       "        vertical-align: top;\n",
       "    }\n",
       "\n",
       "    .dataframe thead th {\n",
       "        text-align: right;\n",
       "    }\n",
       "</style>\n",
       "<table border=\"1\" class=\"dataframe\">\n",
       "  <thead>\n",
       "    <tr style=\"text-align: right;\">\n",
       "      <th></th>\n",
       "      <th>bal_strt</th>\n",
       "      <th>amt_in</th>\n",
       "      <th>amt_out</th>\n",
       "      <th>bal_end</th>\n",
       "    </tr>\n",
       "  </thead>\n",
       "  <tbody>\n",
       "    <tr>\n",
       "      <th>2023-01-31</th>\n",
       "      <td>0.0</td>\n",
       "      <td>11000.0</td>\n",
       "      <td>200.0</td>\n",
       "      <td>10800.0</td>\n",
       "    </tr>\n",
       "    <tr>\n",
       "      <th>2023-02-28</th>\n",
       "      <td>10800.0</td>\n",
       "      <td>0.0</td>\n",
       "      <td>50.0</td>\n",
       "      <td>10750.0</td>\n",
       "    </tr>\n",
       "    <tr>\n",
       "      <th>2023-03-31</th>\n",
       "      <td>10750.0</td>\n",
       "      <td>0.0</td>\n",
       "      <td>50.0</td>\n",
       "      <td>10700.0</td>\n",
       "    </tr>\n",
       "    <tr>\n",
       "      <th>2023-04-30</th>\n",
       "      <td>10700.0</td>\n",
       "      <td>0.0</td>\n",
       "      <td>50.0</td>\n",
       "      <td>10650.0</td>\n",
       "    </tr>\n",
       "    <tr>\n",
       "      <th>2023-05-31</th>\n",
       "      <td>10650.0</td>\n",
       "      <td>0.0</td>\n",
       "      <td>50.0</td>\n",
       "      <td>10600.0</td>\n",
       "    </tr>\n",
       "    <tr>\n",
       "      <th>2023-06-30</th>\n",
       "      <td>10600.0</td>\n",
       "      <td>0.0</td>\n",
       "      <td>10050.0</td>\n",
       "      <td>550.0</td>\n",
       "    </tr>\n",
       "  </tbody>\n",
       "</table>\n",
       "</div>"
      ],
      "text/plain": [
       "            bal_strt   amt_in  amt_out  bal_end\n",
       "2023-01-31       0.0  11000.0    200.0  10800.0\n",
       "2023-02-28   10800.0      0.0     50.0  10750.0\n",
       "2023-03-31   10750.0      0.0     50.0  10700.0\n",
       "2023-04-30   10700.0      0.0     50.0  10650.0\n",
       "2023-05-31   10650.0      0.0     50.0  10600.0\n",
       "2023-06-30   10600.0      0.0  10050.0    550.0"
      ]
     },
     "execution_count": 109,
     "metadata": {},
     "output_type": "execute_result"
    }
   ],
   "source": [
    "oprtg.df"
   ]
  },
  {
   "cell_type": "code",
   "execution_count": 110,
   "id": "d0012707",
   "metadata": {},
   "outputs": [
    {
     "data": {
      "text/html": [
       "<div>\n",
       "<style scoped>\n",
       "    .dataframe tbody tr th:only-of-type {\n",
       "        vertical-align: middle;\n",
       "    }\n",
       "\n",
       "    .dataframe tbody tr th {\n",
       "        vertical-align: top;\n",
       "    }\n",
       "\n",
       "    .dataframe thead th {\n",
       "        text-align: right;\n",
       "    }\n",
       "</style>\n",
       "<table border=\"1\" class=\"dataframe\">\n",
       "  <thead>\n",
       "    <tr style=\"text-align: right;\">\n",
       "      <th></th>\n",
       "      <th>scd_in</th>\n",
       "      <th>scd_in_cum</th>\n",
       "      <th>scd_out</th>\n",
       "      <th>scd_out_cum</th>\n",
       "      <th>bal_strt</th>\n",
       "      <th>amt_in</th>\n",
       "      <th>amt_in_cum</th>\n",
       "      <th>amt_out</th>\n",
       "      <th>amt_out_cum</th>\n",
       "      <th>bal_end</th>\n",
       "      <th>rsdl_in_cum</th>\n",
       "      <th>rsdl_out_cum</th>\n",
       "    </tr>\n",
       "  </thead>\n",
       "  <tbody>\n",
       "    <tr>\n",
       "      <th>2023-01-31</th>\n",
       "      <td>0.0</td>\n",
       "      <td>0.0</td>\n",
       "      <td>10000.0</td>\n",
       "      <td>10000.0</td>\n",
       "      <td>0.0</td>\n",
       "      <td>0.0</td>\n",
       "      <td>0.0</td>\n",
       "      <td>10000.0</td>\n",
       "      <td>10000.0</td>\n",
       "      <td>-10000.0</td>\n",
       "      <td>0.0</td>\n",
       "      <td>0.0</td>\n",
       "    </tr>\n",
       "    <tr>\n",
       "      <th>2023-02-28</th>\n",
       "      <td>0.0</td>\n",
       "      <td>0.0</td>\n",
       "      <td>0.0</td>\n",
       "      <td>10000.0</td>\n",
       "      <td>-10000.0</td>\n",
       "      <td>0.0</td>\n",
       "      <td>0.0</td>\n",
       "      <td>0.0</td>\n",
       "      <td>10000.0</td>\n",
       "      <td>-10000.0</td>\n",
       "      <td>0.0</td>\n",
       "      <td>0.0</td>\n",
       "    </tr>\n",
       "    <tr>\n",
       "      <th>2023-03-31</th>\n",
       "      <td>0.0</td>\n",
       "      <td>0.0</td>\n",
       "      <td>0.0</td>\n",
       "      <td>10000.0</td>\n",
       "      <td>-10000.0</td>\n",
       "      <td>0.0</td>\n",
       "      <td>0.0</td>\n",
       "      <td>0.0</td>\n",
       "      <td>10000.0</td>\n",
       "      <td>-10000.0</td>\n",
       "      <td>0.0</td>\n",
       "      <td>0.0</td>\n",
       "    </tr>\n",
       "    <tr>\n",
       "      <th>2023-04-30</th>\n",
       "      <td>0.0</td>\n",
       "      <td>0.0</td>\n",
       "      <td>0.0</td>\n",
       "      <td>10000.0</td>\n",
       "      <td>-10000.0</td>\n",
       "      <td>0.0</td>\n",
       "      <td>0.0</td>\n",
       "      <td>0.0</td>\n",
       "      <td>10000.0</td>\n",
       "      <td>-10000.0</td>\n",
       "      <td>0.0</td>\n",
       "      <td>0.0</td>\n",
       "    </tr>\n",
       "    <tr>\n",
       "      <th>2023-05-31</th>\n",
       "      <td>0.0</td>\n",
       "      <td>0.0</td>\n",
       "      <td>0.0</td>\n",
       "      <td>10000.0</td>\n",
       "      <td>-10000.0</td>\n",
       "      <td>0.0</td>\n",
       "      <td>0.0</td>\n",
       "      <td>0.0</td>\n",
       "      <td>10000.0</td>\n",
       "      <td>-10000.0</td>\n",
       "      <td>0.0</td>\n",
       "      <td>0.0</td>\n",
       "    </tr>\n",
       "    <tr>\n",
       "      <th>2023-06-30</th>\n",
       "      <td>10000.0</td>\n",
       "      <td>10000.0</td>\n",
       "      <td>0.0</td>\n",
       "      <td>10000.0</td>\n",
       "      <td>-10000.0</td>\n",
       "      <td>10000.0</td>\n",
       "      <td>10000.0</td>\n",
       "      <td>0.0</td>\n",
       "      <td>10000.0</td>\n",
       "      <td>0.0</td>\n",
       "      <td>0.0</td>\n",
       "      <td>0.0</td>\n",
       "    </tr>\n",
       "  </tbody>\n",
       "</table>\n",
       "</div>"
      ],
      "text/plain": [
       "             scd_in  scd_in_cum  scd_out  scd_out_cum  bal_strt   amt_in  amt_in_cum  amt_out  amt_out_cum  bal_end  rsdl_in_cum  rsdl_out_cum\n",
       "2023-01-31      0.0         0.0  10000.0      10000.0       0.0      0.0         0.0  10000.0      10000.0 -10000.0          0.0           0.0\n",
       "2023-02-28      0.0         0.0      0.0      10000.0  -10000.0      0.0         0.0      0.0      10000.0 -10000.0          0.0           0.0\n",
       "2023-03-31      0.0         0.0      0.0      10000.0  -10000.0      0.0         0.0      0.0      10000.0 -10000.0          0.0           0.0\n",
       "2023-04-30      0.0         0.0      0.0      10000.0  -10000.0      0.0         0.0      0.0      10000.0 -10000.0          0.0           0.0\n",
       "2023-05-31      0.0         0.0      0.0      10000.0  -10000.0      0.0         0.0      0.0      10000.0 -10000.0          0.0           0.0\n",
       "2023-06-30  10000.0     10000.0      0.0      10000.0  -10000.0  10000.0     10000.0      0.0      10000.0      0.0          0.0           0.0"
      ]
     },
     "execution_count": 110,
     "metadata": {},
     "output_type": "execute_result"
    }
   ],
   "source": [
    "loan.ntnl.dfall"
   ]
  },
  {
   "cell_type": "code",
   "execution_count": 111,
   "id": "3880da55",
   "metadata": {},
   "outputs": [
    {
     "data": {
      "text/html": [
       "<div>\n",
       "<style scoped>\n",
       "    .dataframe tbody tr th:only-of-type {\n",
       "        vertical-align: middle;\n",
       "    }\n",
       "\n",
       "    .dataframe tbody tr th {\n",
       "        vertical-align: top;\n",
       "    }\n",
       "\n",
       "    .dataframe thead th {\n",
       "        text-align: right;\n",
       "    }\n",
       "</style>\n",
       "<table border=\"1\" class=\"dataframe\">\n",
       "  <thead>\n",
       "    <tr style=\"text-align: right;\">\n",
       "      <th></th>\n",
       "      <th>amt_in</th>\n",
       "      <th>amt_out</th>\n",
       "      <th>rcvfrm</th>\n",
       "      <th>payto</th>\n",
       "      <th>note</th>\n",
       "    </tr>\n",
       "  </thead>\n",
       "  <tbody>\n",
       "    <tr>\n",
       "      <th>2023-01-31</th>\n",
       "      <td>0</td>\n",
       "      <td>10000.0</td>\n",
       "      <td>None</td>\n",
       "      <td>main</td>\n",
       "      <td>대출금 인출</td>\n",
       "    </tr>\n",
       "    <tr>\n",
       "      <th>2023-06-30</th>\n",
       "      <td>10000.0</td>\n",
       "      <td>0.0</td>\n",
       "      <td>main</td>\n",
       "      <td>None</td>\n",
       "      <td>대출금 상환</td>\n",
       "    </tr>\n",
       "  </tbody>\n",
       "</table>\n",
       "</div>"
      ],
      "text/plain": [
       "             amt_in  amt_out rcvfrm payto    note\n",
       "2023-01-31        0  10000.0   None  main  대출금 인출\n",
       "2023-06-30  10000.0      0.0   main  None  대출금 상환"
      ]
     },
     "execution_count": 111,
     "metadata": {},
     "output_type": "execute_result"
    }
   ],
   "source": [
    "loan.ntnl.jnl"
   ]
  },
  {
   "cell_type": "code",
   "execution_count": 112,
   "id": "53651a03",
   "metadata": {},
   "outputs": [
    {
     "data": {
      "text/html": [
       "<div>\n",
       "<style scoped>\n",
       "    .dataframe tbody tr th:only-of-type {\n",
       "        vertical-align: middle;\n",
       "    }\n",
       "\n",
       "    .dataframe tbody tr th {\n",
       "        vertical-align: top;\n",
       "    }\n",
       "\n",
       "    .dataframe thead th {\n",
       "        text-align: right;\n",
       "    }\n",
       "</style>\n",
       "<table border=\"1\" class=\"dataframe\">\n",
       "  <thead>\n",
       "    <tr style=\"text-align: right;\">\n",
       "      <th></th>\n",
       "      <th>bal_strt</th>\n",
       "      <th>amt_in</th>\n",
       "      <th>amt_out</th>\n",
       "      <th>bal_end</th>\n",
       "    </tr>\n",
       "  </thead>\n",
       "  <tbody>\n",
       "    <tr>\n",
       "      <th>2023-01-31</th>\n",
       "      <td>0.0</td>\n",
       "      <td>0.0</td>\n",
       "      <td>0.0</td>\n",
       "      <td>0.0</td>\n",
       "    </tr>\n",
       "    <tr>\n",
       "      <th>2023-02-28</th>\n",
       "      <td>0.0</td>\n",
       "      <td>50.0</td>\n",
       "      <td>0.0</td>\n",
       "      <td>50.0</td>\n",
       "    </tr>\n",
       "    <tr>\n",
       "      <th>2023-03-31</th>\n",
       "      <td>50.0</td>\n",
       "      <td>50.0</td>\n",
       "      <td>0.0</td>\n",
       "      <td>100.0</td>\n",
       "    </tr>\n",
       "    <tr>\n",
       "      <th>2023-04-30</th>\n",
       "      <td>100.0</td>\n",
       "      <td>50.0</td>\n",
       "      <td>0.0</td>\n",
       "      <td>150.0</td>\n",
       "    </tr>\n",
       "    <tr>\n",
       "      <th>2023-05-31</th>\n",
       "      <td>150.0</td>\n",
       "      <td>50.0</td>\n",
       "      <td>0.0</td>\n",
       "      <td>200.0</td>\n",
       "    </tr>\n",
       "    <tr>\n",
       "      <th>2023-06-30</th>\n",
       "      <td>200.0</td>\n",
       "      <td>50.0</td>\n",
       "      <td>0.0</td>\n",
       "      <td>250.0</td>\n",
       "    </tr>\n",
       "  </tbody>\n",
       "</table>\n",
       "</div>"
      ],
      "text/plain": [
       "            bal_strt  amt_in  amt_out  bal_end\n",
       "2023-01-31       0.0     0.0      0.0      0.0\n",
       "2023-02-28       0.0    50.0      0.0     50.0\n",
       "2023-03-31      50.0    50.0      0.0    100.0\n",
       "2023-04-30     100.0    50.0      0.0    150.0\n",
       "2023-05-31     150.0    50.0      0.0    200.0\n",
       "2023-06-30     200.0    50.0      0.0    250.0"
      ]
     },
     "execution_count": 112,
     "metadata": {},
     "output_type": "execute_result"
    }
   ],
   "source": [
    "loan.IR.df"
   ]
  },
  {
   "cell_type": "code",
   "execution_count": 113,
   "id": "5b40f198",
   "metadata": {},
   "outputs": [
    {
     "data": {
      "text/html": [
       "<div>\n",
       "<style scoped>\n",
       "    .dataframe tbody tr th:only-of-type {\n",
       "        vertical-align: middle;\n",
       "    }\n",
       "\n",
       "    .dataframe tbody tr th {\n",
       "        vertical-align: top;\n",
       "    }\n",
       "\n",
       "    .dataframe thead th {\n",
       "        text-align: right;\n",
       "    }\n",
       "</style>\n",
       "<table border=\"1\" class=\"dataframe\">\n",
       "  <thead>\n",
       "    <tr style=\"text-align: right;\">\n",
       "      <th></th>\n",
       "      <th>amt_in</th>\n",
       "      <th>amt_out</th>\n",
       "      <th>rcvfrm</th>\n",
       "      <th>payto</th>\n",
       "      <th>note</th>\n",
       "    </tr>\n",
       "  </thead>\n",
       "  <tbody>\n",
       "    <tr>\n",
       "      <th>2023-02-28</th>\n",
       "      <td>50.0</td>\n",
       "      <td>0</td>\n",
       "      <td>main</td>\n",
       "      <td>None</td>\n",
       "      <td>대출이자</td>\n",
       "    </tr>\n",
       "    <tr>\n",
       "      <th>2023-03-31</th>\n",
       "      <td>50.0</td>\n",
       "      <td>0</td>\n",
       "      <td>main</td>\n",
       "      <td>None</td>\n",
       "      <td>대출이자</td>\n",
       "    </tr>\n",
       "    <tr>\n",
       "      <th>2023-04-30</th>\n",
       "      <td>50.0</td>\n",
       "      <td>0</td>\n",
       "      <td>main</td>\n",
       "      <td>None</td>\n",
       "      <td>대출이자</td>\n",
       "    </tr>\n",
       "    <tr>\n",
       "      <th>2023-05-31</th>\n",
       "      <td>50.0</td>\n",
       "      <td>0</td>\n",
       "      <td>main</td>\n",
       "      <td>None</td>\n",
       "      <td>대출이자</td>\n",
       "    </tr>\n",
       "    <tr>\n",
       "      <th>2023-06-30</th>\n",
       "      <td>50.0</td>\n",
       "      <td>0</td>\n",
       "      <td>main</td>\n",
       "      <td>None</td>\n",
       "      <td>대출이자</td>\n",
       "    </tr>\n",
       "  </tbody>\n",
       "</table>\n",
       "</div>"
      ],
      "text/plain": [
       "            amt_in amt_out rcvfrm payto  note\n",
       "2023-02-28    50.0       0   main  None  대출이자\n",
       "2023-03-31    50.0       0   main  None  대출이자\n",
       "2023-04-30    50.0       0   main  None  대출이자\n",
       "2023-05-31    50.0       0   main  None  대출이자\n",
       "2023-06-30    50.0       0   main  None  대출이자"
      ]
     },
     "execution_count": 113,
     "metadata": {},
     "output_type": "execute_result"
    }
   ],
   "source": [
    "loan.IR.jnl"
   ]
  },
  {
   "cell_type": "code",
   "execution_count": 114,
   "id": "b8cf1856",
   "metadata": {},
   "outputs": [
    {
     "data": {
      "text/html": [
       "<div>\n",
       "<style scoped>\n",
       "    .dataframe tbody tr th:only-of-type {\n",
       "        vertical-align: middle;\n",
       "    }\n",
       "\n",
       "    .dataframe tbody tr th {\n",
       "        vertical-align: top;\n",
       "    }\n",
       "\n",
       "    .dataframe thead th {\n",
       "        text-align: right;\n",
       "    }\n",
       "</style>\n",
       "<table border=\"1\" class=\"dataframe\">\n",
       "  <thead>\n",
       "    <tr style=\"text-align: right;\">\n",
       "      <th></th>\n",
       "      <th>bal_strt</th>\n",
       "      <th>amt_in</th>\n",
       "      <th>amt_out</th>\n",
       "      <th>bal_end</th>\n",
       "    </tr>\n",
       "  </thead>\n",
       "  <tbody>\n",
       "    <tr>\n",
       "      <th>2023-01-31</th>\n",
       "      <td>0.0</td>\n",
       "      <td>200.0</td>\n",
       "      <td>0.0</td>\n",
       "      <td>200.0</td>\n",
       "    </tr>\n",
       "    <tr>\n",
       "      <th>2023-02-28</th>\n",
       "      <td>200.0</td>\n",
       "      <td>0.0</td>\n",
       "      <td>0.0</td>\n",
       "      <td>200.0</td>\n",
       "    </tr>\n",
       "    <tr>\n",
       "      <th>2023-03-31</th>\n",
       "      <td>200.0</td>\n",
       "      <td>0.0</td>\n",
       "      <td>0.0</td>\n",
       "      <td>200.0</td>\n",
       "    </tr>\n",
       "    <tr>\n",
       "      <th>2023-04-30</th>\n",
       "      <td>200.0</td>\n",
       "      <td>0.0</td>\n",
       "      <td>0.0</td>\n",
       "      <td>200.0</td>\n",
       "    </tr>\n",
       "    <tr>\n",
       "      <th>2023-05-31</th>\n",
       "      <td>200.0</td>\n",
       "      <td>0.0</td>\n",
       "      <td>0.0</td>\n",
       "      <td>200.0</td>\n",
       "    </tr>\n",
       "    <tr>\n",
       "      <th>2023-06-30</th>\n",
       "      <td>200.0</td>\n",
       "      <td>0.0</td>\n",
       "      <td>0.0</td>\n",
       "      <td>200.0</td>\n",
       "    </tr>\n",
       "  </tbody>\n",
       "</table>\n",
       "</div>"
      ],
      "text/plain": [
       "            bal_strt  amt_in  amt_out  bal_end\n",
       "2023-01-31       0.0   200.0      0.0    200.0\n",
       "2023-02-28     200.0     0.0      0.0    200.0\n",
       "2023-03-31     200.0     0.0      0.0    200.0\n",
       "2023-04-30     200.0     0.0      0.0    200.0\n",
       "2023-05-31     200.0     0.0      0.0    200.0\n",
       "2023-06-30     200.0     0.0      0.0    200.0"
      ]
     },
     "execution_count": 114,
     "metadata": {},
     "output_type": "execute_result"
    }
   ],
   "source": [
    "loan.fee.df"
   ]
  },
  {
   "cell_type": "code",
   "execution_count": 115,
   "id": "7c779a38",
   "metadata": {},
   "outputs": [
    {
     "data": {
      "text/html": [
       "<div>\n",
       "<style scoped>\n",
       "    .dataframe tbody tr th:only-of-type {\n",
       "        vertical-align: middle;\n",
       "    }\n",
       "\n",
       "    .dataframe tbody tr th {\n",
       "        vertical-align: top;\n",
       "    }\n",
       "\n",
       "    .dataframe thead th {\n",
       "        text-align: right;\n",
       "    }\n",
       "</style>\n",
       "<table border=\"1\" class=\"dataframe\">\n",
       "  <thead>\n",
       "    <tr style=\"text-align: right;\">\n",
       "      <th></th>\n",
       "      <th>amt_in</th>\n",
       "      <th>amt_out</th>\n",
       "      <th>rcvfrm</th>\n",
       "      <th>payto</th>\n",
       "      <th>note</th>\n",
       "    </tr>\n",
       "  </thead>\n",
       "  <tbody>\n",
       "    <tr>\n",
       "      <th>2023-01-31</th>\n",
       "      <td>200.0</td>\n",
       "      <td>0</td>\n",
       "      <td>main</td>\n",
       "      <td>None</td>\n",
       "      <td>취급수수료</td>\n",
       "    </tr>\n",
       "  </tbody>\n",
       "</table>\n",
       "</div>"
      ],
      "text/plain": [
       "            amt_in amt_out rcvfrm payto   note\n",
       "2023-01-31   200.0       0   main  None  취급수수료"
      ]
     },
     "execution_count": 115,
     "metadata": {},
     "output_type": "execute_result"
    }
   ],
   "source": [
    "loan.fee.jnl"
   ]
  },
  {
   "cell_type": "code",
   "execution_count": 116,
   "id": "177562fd",
   "metadata": {},
   "outputs": [
    {
     "data": {
      "text/html": [
       "<div>\n",
       "<style scoped>\n",
       "    .dataframe tbody tr th:only-of-type {\n",
       "        vertical-align: middle;\n",
       "    }\n",
       "\n",
       "    .dataframe tbody tr th {\n",
       "        vertical-align: top;\n",
       "    }\n",
       "\n",
       "    .dataframe thead th {\n",
       "        text-align: right;\n",
       "    }\n",
       "</style>\n",
       "<table border=\"1\" class=\"dataframe\">\n",
       "  <thead>\n",
       "    <tr style=\"text-align: right;\">\n",
       "      <th></th>\n",
       "      <th>bal_strt</th>\n",
       "      <th>amt_in</th>\n",
       "      <th>amt_out</th>\n",
       "      <th>bal_end</th>\n",
       "    </tr>\n",
       "  </thead>\n",
       "  <tbody>\n",
       "    <tr>\n",
       "      <th>2023-01-31</th>\n",
       "      <td>0.0</td>\n",
       "      <td>200.0</td>\n",
       "      <td>10000.0</td>\n",
       "      <td>-9800.0</td>\n",
       "    </tr>\n",
       "    <tr>\n",
       "      <th>2023-02-28</th>\n",
       "      <td>-9800.0</td>\n",
       "      <td>50.0</td>\n",
       "      <td>0.0</td>\n",
       "      <td>-9750.0</td>\n",
       "    </tr>\n",
       "    <tr>\n",
       "      <th>2023-03-31</th>\n",
       "      <td>-9750.0</td>\n",
       "      <td>50.0</td>\n",
       "      <td>0.0</td>\n",
       "      <td>-9700.0</td>\n",
       "    </tr>\n",
       "    <tr>\n",
       "      <th>2023-04-30</th>\n",
       "      <td>-9700.0</td>\n",
       "      <td>50.0</td>\n",
       "      <td>0.0</td>\n",
       "      <td>-9650.0</td>\n",
       "    </tr>\n",
       "    <tr>\n",
       "      <th>2023-05-31</th>\n",
       "      <td>-9650.0</td>\n",
       "      <td>50.0</td>\n",
       "      <td>0.0</td>\n",
       "      <td>-9600.0</td>\n",
       "    </tr>\n",
       "    <tr>\n",
       "      <th>2023-06-30</th>\n",
       "      <td>-9600.0</td>\n",
       "      <td>10050.0</td>\n",
       "      <td>0.0</td>\n",
       "      <td>450.0</td>\n",
       "    </tr>\n",
       "  </tbody>\n",
       "</table>\n",
       "</div>"
      ],
      "text/plain": [
       "            bal_strt   amt_in  amt_out  bal_end\n",
       "2023-01-31       0.0    200.0  10000.0  -9800.0\n",
       "2023-02-28   -9800.0     50.0      0.0  -9750.0\n",
       "2023-03-31   -9750.0     50.0      0.0  -9700.0\n",
       "2023-04-30   -9700.0     50.0      0.0  -9650.0\n",
       "2023-05-31   -9650.0     50.0      0.0  -9600.0\n",
       "2023-06-30   -9600.0  10050.0      0.0    450.0"
      ]
     },
     "execution_count": 116,
     "metadata": {},
     "output_type": "execute_result"
    }
   ],
   "source": [
    "loan.mrg.df"
   ]
  },
  {
   "cell_type": "code",
   "execution_count": null,
   "id": "c51ee8e5",
   "metadata": {},
   "outputs": [],
   "source": []
  },
  {
   "cell_type": "markdown",
   "id": "7781d516",
   "metadata": {},
   "source": [
    "### 5) for문으로 대출 현금흐름 추정"
   ]
  },
  {
   "cell_type": "code",
   "execution_count": 117,
   "id": "eed1c30e",
   "metadata": {},
   "outputs": [],
   "source": [
    "idx = Index(\"2023.01\", 6)\n",
    "\n",
    "loan = Account(idx)\n",
    "loan.mtrt = len(idx) - 1 #만기 설정\n",
    "\n",
    "# 대출금 현금흐름 설정\n",
    "loan.ntnl = loan.subacc(\"ntnl\")\n",
    "with loan.ntnl as n:\n",
    "    n.amt = 10_000\n",
    "    n.subscd(idx[0], n.amt)\n",
    "    n.addscd(idx[-1], n.amt)\n",
    "    \n",
    "# 대출금 취급수수료 설정\n",
    "loan.fee = loan.subacc(\"fee\")\n",
    "with loan.fee as f:\n",
    "    f.rate = 0.02 #2.0%\n",
    "    f.amt = f.rate * loan.ntnl.amt\n",
    "    f.addscd(idx[0], f.amt)\n",
    "    \n",
    "# 대출금 이자 설정\n",
    "loan.IR = loan.subacc(\"IR\")\n",
    "with loan.IR as i:\n",
    "    i.rate = 0.06 #6.0%\n",
    "    i.cycle = 1 #1개월 마다 이자 지급\n",
    "    i.rate_cycle = i.rate / 12 * i.cycle #1개월 기준으로 계산되는 이자율\n",
    "    \n",
    "# 운영계좌 설정\n",
    "oprtg = Account(idx)\n",
    "oprtg.addamt(idx[0], 1000, note=\"최초 계좌 잔액\")"
   ]
  },
  {
   "cell_type": "code",
   "execution_count": 118,
   "id": "5f7e7868",
   "metadata": {},
   "outputs": [],
   "source": [
    "for i in idx:\n",
    "    #대출금의 인출 및 수수료 수취\n",
    "    loan.ntnl.send(i, loan.ntnl.scd_out[i], oprtg, note=\"대출금 인출\")\n",
    "    oprtg.send(i, loan.fee.scd_in[i], loan.fee, note=\"취급수수료\")\n",
    "    \n",
    "    #이자 계산 및 이자 수취\n",
    "    IR_amt = -loan.ntnl.bal_strt[i] * loan.IR.rate_cycle\n",
    "    oprtg.send(i, IR_amt, loan.IR, note=\"대출이자\")\n",
    "    \n",
    "    #대출원금 회수\n",
    "    oprtg.send(i, loan.ntnl.scd_in[i], loan.ntnl, note=\"대출금 상환\")"
   ]
  },
  {
   "cell_type": "code",
   "execution_count": 119,
   "id": "42812fb6",
   "metadata": {},
   "outputs": [
    {
     "data": {
      "text/html": [
       "<div>\n",
       "<style scoped>\n",
       "    .dataframe tbody tr th:only-of-type {\n",
       "        vertical-align: middle;\n",
       "    }\n",
       "\n",
       "    .dataframe tbody tr th {\n",
       "        vertical-align: top;\n",
       "    }\n",
       "\n",
       "    .dataframe thead th {\n",
       "        text-align: right;\n",
       "    }\n",
       "</style>\n",
       "<table border=\"1\" class=\"dataframe\">\n",
       "  <thead>\n",
       "    <tr style=\"text-align: right;\">\n",
       "      <th></th>\n",
       "      <th>bal_strt</th>\n",
       "      <th>amt_in</th>\n",
       "      <th>amt_out</th>\n",
       "      <th>bal_end</th>\n",
       "    </tr>\n",
       "  </thead>\n",
       "  <tbody>\n",
       "    <tr>\n",
       "      <th>2023-01-31</th>\n",
       "      <td>0.0</td>\n",
       "      <td>11000.0</td>\n",
       "      <td>200.0</td>\n",
       "      <td>10800.0</td>\n",
       "    </tr>\n",
       "    <tr>\n",
       "      <th>2023-02-28</th>\n",
       "      <td>10800.0</td>\n",
       "      <td>0.0</td>\n",
       "      <td>50.0</td>\n",
       "      <td>10750.0</td>\n",
       "    </tr>\n",
       "    <tr>\n",
       "      <th>2023-03-31</th>\n",
       "      <td>10750.0</td>\n",
       "      <td>0.0</td>\n",
       "      <td>50.0</td>\n",
       "      <td>10700.0</td>\n",
       "    </tr>\n",
       "    <tr>\n",
       "      <th>2023-04-30</th>\n",
       "      <td>10700.0</td>\n",
       "      <td>0.0</td>\n",
       "      <td>50.0</td>\n",
       "      <td>10650.0</td>\n",
       "    </tr>\n",
       "    <tr>\n",
       "      <th>2023-05-31</th>\n",
       "      <td>10650.0</td>\n",
       "      <td>0.0</td>\n",
       "      <td>50.0</td>\n",
       "      <td>10600.0</td>\n",
       "    </tr>\n",
       "    <tr>\n",
       "      <th>2023-06-30</th>\n",
       "      <td>10600.0</td>\n",
       "      <td>0.0</td>\n",
       "      <td>10050.0</td>\n",
       "      <td>550.0</td>\n",
       "    </tr>\n",
       "  </tbody>\n",
       "</table>\n",
       "</div>"
      ],
      "text/plain": [
       "            bal_strt   amt_in  amt_out  bal_end\n",
       "2023-01-31       0.0  11000.0    200.0  10800.0\n",
       "2023-02-28   10800.0      0.0     50.0  10750.0\n",
       "2023-03-31   10750.0      0.0     50.0  10700.0\n",
       "2023-04-30   10700.0      0.0     50.0  10650.0\n",
       "2023-05-31   10650.0      0.0     50.0  10600.0\n",
       "2023-06-30   10600.0      0.0  10050.0    550.0"
      ]
     },
     "execution_count": 119,
     "metadata": {},
     "output_type": "execute_result"
    }
   ],
   "source": [
    "oprtg.df"
   ]
  },
  {
   "cell_type": "code",
   "execution_count": 120,
   "id": "cf3d9cab",
   "metadata": {},
   "outputs": [
    {
     "data": {
      "text/html": [
       "<div>\n",
       "<style scoped>\n",
       "    .dataframe tbody tr th:only-of-type {\n",
       "        vertical-align: middle;\n",
       "    }\n",
       "\n",
       "    .dataframe tbody tr th {\n",
       "        vertical-align: top;\n",
       "    }\n",
       "\n",
       "    .dataframe thead th {\n",
       "        text-align: right;\n",
       "    }\n",
       "</style>\n",
       "<table border=\"1\" class=\"dataframe\">\n",
       "  <thead>\n",
       "    <tr style=\"text-align: right;\">\n",
       "      <th></th>\n",
       "      <th>amt_in</th>\n",
       "      <th>amt_out</th>\n",
       "      <th>rcvfrm</th>\n",
       "      <th>payto</th>\n",
       "      <th>note</th>\n",
       "    </tr>\n",
       "  </thead>\n",
       "  <tbody>\n",
       "    <tr>\n",
       "      <th>2023-01-31</th>\n",
       "      <td>1000</td>\n",
       "      <td>0</td>\n",
       "      <td>None</td>\n",
       "      <td>None</td>\n",
       "      <td>최초 계좌 잔액</td>\n",
       "    </tr>\n",
       "    <tr>\n",
       "      <th>2023-01-31</th>\n",
       "      <td>10000.0</td>\n",
       "      <td>0</td>\n",
       "      <td>ntnl</td>\n",
       "      <td>None</td>\n",
       "      <td>대출금 인출</td>\n",
       "    </tr>\n",
       "    <tr>\n",
       "      <th>2023-01-31</th>\n",
       "      <td>0</td>\n",
       "      <td>200.0</td>\n",
       "      <td>None</td>\n",
       "      <td>fee</td>\n",
       "      <td>취급수수료</td>\n",
       "    </tr>\n",
       "    <tr>\n",
       "      <th>2023-02-28</th>\n",
       "      <td>0</td>\n",
       "      <td>50.0</td>\n",
       "      <td>None</td>\n",
       "      <td>IR</td>\n",
       "      <td>대출이자</td>\n",
       "    </tr>\n",
       "    <tr>\n",
       "      <th>2023-03-31</th>\n",
       "      <td>0</td>\n",
       "      <td>50.0</td>\n",
       "      <td>None</td>\n",
       "      <td>IR</td>\n",
       "      <td>대출이자</td>\n",
       "    </tr>\n",
       "    <tr>\n",
       "      <th>2023-04-30</th>\n",
       "      <td>0</td>\n",
       "      <td>50.0</td>\n",
       "      <td>None</td>\n",
       "      <td>IR</td>\n",
       "      <td>대출이자</td>\n",
       "    </tr>\n",
       "    <tr>\n",
       "      <th>2023-05-31</th>\n",
       "      <td>0</td>\n",
       "      <td>50.0</td>\n",
       "      <td>None</td>\n",
       "      <td>IR</td>\n",
       "      <td>대출이자</td>\n",
       "    </tr>\n",
       "    <tr>\n",
       "      <th>2023-06-30</th>\n",
       "      <td>0</td>\n",
       "      <td>50.0</td>\n",
       "      <td>None</td>\n",
       "      <td>IR</td>\n",
       "      <td>대출이자</td>\n",
       "    </tr>\n",
       "    <tr>\n",
       "      <th>2023-06-30</th>\n",
       "      <td>0</td>\n",
       "      <td>10000.0</td>\n",
       "      <td>None</td>\n",
       "      <td>ntnl</td>\n",
       "      <td>대출금 상환</td>\n",
       "    </tr>\n",
       "  </tbody>\n",
       "</table>\n",
       "</div>"
      ],
      "text/plain": [
       "             amt_in  amt_out rcvfrm payto      note\n",
       "2023-01-31     1000        0   None  None  최초 계좌 잔액\n",
       "2023-01-31  10000.0        0   ntnl  None    대출금 인출\n",
       "2023-01-31        0    200.0   None   fee     취급수수료\n",
       "2023-02-28        0     50.0   None    IR      대출이자\n",
       "2023-03-31        0     50.0   None    IR      대출이자\n",
       "2023-04-30        0     50.0   None    IR      대출이자\n",
       "2023-05-31        0     50.0   None    IR      대출이자\n",
       "2023-06-30        0     50.0   None    IR      대출이자\n",
       "2023-06-30        0  10000.0   None  ntnl    대출금 상환"
      ]
     },
     "execution_count": 120,
     "metadata": {},
     "output_type": "execute_result"
    }
   ],
   "source": [
    "oprtg.jnl"
   ]
  },
  {
   "cell_type": "code",
   "execution_count": null,
   "id": "8ed043df",
   "metadata": {},
   "outputs": [],
   "source": []
  }
 ],
 "metadata": {
  "kernelspec": {
   "display_name": "Python 3 (ipykernel)",
   "language": "python",
   "name": "python3"
  },
  "language_info": {
   "codemirror_mode": {
    "name": "ipython",
    "version": 3
   },
   "file_extension": ".py",
   "mimetype": "text/x-python",
   "name": "python",
   "nbconvert_exporter": "python",
   "pygments_lexer": "ipython3",
   "version": "3.7.13"
  }
 },
 "nbformat": 4,
 "nbformat_minor": 5
}
