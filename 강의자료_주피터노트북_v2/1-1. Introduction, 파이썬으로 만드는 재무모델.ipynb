{
 "cells": [
  {
   "cell_type": "markdown",
   "id": "0b89189b",
   "metadata": {},
   "source": [
    "# [ 1-1. Introduction, 파이썬으로 만드는 재무모델 ]"
   ]
  },
  {
   "cell_type": "markdown",
   "id": "85d5c3a9",
   "metadata": {},
   "source": [
    "## 1. 수업 소개\n",
    "* 파이썬은 최근 데이터분석 분야에서 가장 많이 사용되는 프로그래밍 언어로, 상대적으로 배우기 쉽고, 라이브러리가 다양하게 제공되어 활용도가 높은 프로그래밍 언어이다.\n",
    "* 현재 업계에서 재무모델을 작성할 때에는 대부분 엑셀을 활용하여 작성을 하며, 주요한 의사결정에 이렇게 엑셀로 작성된 재무모델을 사용하고 있다.\n",
    "* 본 수업의 목적은 파이썬을 활용하여 재무모델을 작성하는 새로운 방법을 제시하고, 실제 업무에도 활용할 수 있도록 실제 재무모델 작성 사례를 보여주고자 하는데 있다."
   ]
  },
  {
   "cell_type": "markdown",
   "id": "03ec16c8",
   "metadata": {},
   "source": [
    "### 수업자료 다운로드\n",
    "* 아래 깃허브 사이트에 수업자료 업로드 되어 있습니다.\n",
    "* www.github.com/kphong16/fastcampus\n",
    "* pdf파일은 수업 교재이며, ipynb파일은 주피터노트북 파일로 직접 열어서 실습해보실 수 있습니다."
   ]
  },
  {
   "cell_type": "code",
   "execution_count": null,
   "id": "e1f49214",
   "metadata": {},
   "outputs": [],
   "source": []
  },
  {
   "cell_type": "markdown",
   "id": "26d5bfb8",
   "metadata": {},
   "source": [
    "## 2. \"Python(파이썬)\" 소개\n",
    "* **프로그래밍 언어** : 파이썬은 C, C++, Java와 같은 여러 프로그래밍 언어 중 하나.\n",
    "* **쉬운 문법** : 다른 프로그래밍 언어에 비해 진입장벽이 낮아 배우고 사용하기 쉬움.\n",
    "* **다양한 라이브러리(패키지) 제공** : \n",
    "  * 라이브러리는 자주 쓰는 기능을 미리 작성해 놓고 필요할 때마다 가져다 쓸 수 있도록 준비된 함수 또는 모듈들의 집합을 말함.\n",
    "  * 데이터 분석에 가장 많이 사용되는 Pandas 라이브러리, 그래프 작성에 많이 사용되는 matplotlib 라이브러리 모두 파이썬 내에서 무료로 제공되는 라이브러리 임.\n",
    "  * 현재까지 수십만개의 라이브러리가 등록되어 있으며, 이러한 다양한 라이브러리들 덕분에 현재 데이터 과학 분야 등 여러 분야에서 가장 많이 사용되고 있음."
   ]
  },
  {
   "cell_type": "code",
   "execution_count": null,
   "id": "c67694cd",
   "metadata": {},
   "outputs": [],
   "source": []
  },
  {
   "cell_type": "markdown",
   "id": "5fa3ba1e",
   "metadata": {},
   "source": [
    "## 3. 파이썬을 활용한 재무모델 작성의 필요성 및 장점(엑셀과 비교)\n",
    "----\n",
    "\n",
    "### 엑셀 장점 : 최초 접근이 용이하여 범용성이 높음\n",
    "* 엑셀에 대한 기초적인 이해도는 사무업에 종사하는 사람들 대부분 가지고 있고, 이에 개략 검토 단계의 간략한 모델의 작성부터 쉽게 접근이 가능함.\n",
    "* 작성된 재무모델의 배포도 용이함. 배포를 받은 사람 입장에서도 작성자가 말하고자 하는 요지를 파악하기 위해 엑셀 sheet를 검토하고, 간단한 조작을 하는 것이 용이함.\n",
    "\n",
    "### 엑셀 단점 : 엑셀로 작성된 재무모델은 사업구도에 따른 재활용 및 작성된 모델의 수정이 쉽지 않음\n",
    "* 실제 실무에서 다루는 사업구도는 건별로 차이가 많이 나는 경우가 많으며, 유사한 사업에 대해서도 금융구도가 개별적으로 차이가 큼.\n",
    "* (개발사업을 예로 들면) 각각의 사업별로 토지의 매입, 자금의 조달, 건축비 지급구조, 분양매출 발생 조건, 세금 등 개별적인 요인마다 변수들이 많기 때문에 모든 가능성을 고려한 엑셀 모델을 작성해 놓은 후 이를 재활용 하는 것에는 한계가 있음.\n",
    "* 한건의 딜에 대해서는 사업 진행 기간 동안 수십번의 사업구도 및 금융구조 변경이 일어나는 것이 비일비재하며, 엑셀의 경우 하나의 수정에 대하여 관련된 sheet들을 모두 수정작업 해줘야 하기 때문에 어느정도 구축된 재무모델에 대해 수정작업을 하는 것은 많은 시간이 소요되는 일임.\n",
    "* 예를 들어 기존 보통주-후순위대주-선순위대주 의 금융구도에서, 보통주-우선주-후순위대주-선순위대주 의 금융구도로 변경된다고 가정할 때 현금흐름에 관계되는 모든 sheet에 새로 행을 열어서 우선주 프로세스를 추가해줘야 함."
   ]
  },
  {
   "cell_type": "markdown",
   "id": "2c3268b1",
   "metadata": {},
   "source": [
    "### 파이썬 장점 : 파이썬으로 재무모델 작성시 가장 큰 장점은 모듈화를 통한 재활용성\n",
    "* 자금의 조달을 다루는 모듈, 매출을 발생시키는 모듈, 사업비를 관리하는 모듈, 운영계좌 모듈 등 재무모델에 필요한 각종 요소들을 하나의 부품처럼 모듈화 시킬 수 있음.\n",
    "* 작성된 모듈들을 재무모델 작성시 레고블럭을 쌓듯이 하나씩 이어서 모델을 완성함.\n",
    "* 수정이 필요할 때는 필요한 모듈의 내용만 수정을 하거나, 모듈을 바꿔 끼워넣는 방식으로 수정 가능.\n",
    "\n",
    "### 파이썬 단점 : 엑셀에 비해 범용성이 낮다는 것은 단점\n",
    "* 이러한 단점을 극복하고자, 최종적인 결과물은 엑셀로 추출하도록 함."
   ]
  },
  {
   "cell_type": "code",
   "execution_count": null,
   "id": "19e9d945",
   "metadata": {},
   "outputs": [],
   "source": []
  },
  {
   "cell_type": "markdown",
   "id": "18d81a3b",
   "metadata": {},
   "source": [
    "## 4. 최종적으로 얻을 수 있는 재무모델 결과물 소개"
   ]
  },
  {
   "cell_type": "code",
   "execution_count": null,
   "id": "6d840dba",
   "metadata": {},
   "outputs": [],
   "source": []
  },
  {
   "cell_type": "code",
   "execution_count": null,
   "id": "5c3deaab",
   "metadata": {},
   "outputs": [],
   "source": []
  },
  {
   "cell_type": "code",
   "execution_count": null,
   "id": "4155891c",
   "metadata": {},
   "outputs": [],
   "source": []
  },
  {
   "cell_type": "code",
   "execution_count": null,
   "id": "7a1beede",
   "metadata": {},
   "outputs": [],
   "source": []
  },
  {
   "cell_type": "code",
   "execution_count": null,
   "id": "0980524d",
   "metadata": {},
   "outputs": [],
   "source": []
  },
  {
   "cell_type": "code",
   "execution_count": null,
   "id": "8e6ffb70",
   "metadata": {},
   "outputs": [],
   "source": []
  },
  {
   "cell_type": "markdown",
   "id": "c740169d",
   "metadata": {},
   "source": [
    "## 5. 파이썬 설치\n",
    "----\n",
    "### 1) 아나콘다(anaconda) 설치\n",
    "* 아나콘다 : 파이썬과 데이터 분석 라이브러리를 모아 놓은 패키지.\n",
    "```\n",
    "[DOWNLOAD]\n",
    "https://www.anaconda.com/products/distribution\n",
    "```\n",
    "![아나콘다 다운로드 페이지](./img/anaconda_page.png)"
   ]
  },
  {
   "cell_type": "markdown",
   "id": "31a6a565",
   "metadata": {},
   "source": [
    "* 아나콘다 아이콘 확인\n",
    "![아나콘다 아이콘](./img/anaconda_icon.png)"
   ]
  },
  {
   "cell_type": "markdown",
   "id": "af782acd",
   "metadata": {},
   "source": [
    "### 2) jupyter notebook 실행\n",
    "* jupyter notebook : \n",
    " - 파이썬 코드를 작성하고, 그 결과물을 대화형식으로 확인할 수 있는 프로그램. \n",
    " - Markdown을 이용하여 코드 중간 중간 노트처럼 필요한 내용을 기록할 수도 있음.\n",
    "![jupyter notebook 설치/실행](./img/anaconda_jupyter.png)"
   ]
  },
  {
   "cell_type": "markdown",
   "id": "b15cbed1",
   "metadata": {},
   "source": [
    "* jupyter notebook 화면 : \n",
    "![jupyter notebook 실행화면](./img/jupyternotebook_page2.png)"
   ]
  },
  {
   "cell_type": "markdown",
   "id": "34e6127a",
   "metadata": {},
   "source": [
    "* jupyter notebook 작성하기 :\n",
    "![jupyter notebook 작성하기](./img/jupyternotebook_make.png)"
   ]
  },
  {
   "cell_type": "markdown",
   "id": "aa8607ab",
   "metadata": {},
   "source": [
    "* jupyter notebook 작성화면\n",
    "![jupyter notebook 작성화면](./img/jupyternotebook_page.png)"
   ]
  },
  {
   "cell_type": "markdown",
   "id": "15a96173",
   "metadata": {},
   "source": [
    "### 3) Jupyter notebook 주요 단축키\n",
    "* \"shift + enter\" : Cell 내 입력된 코드의 실행\n",
    "* \"Y\" : 코드 입력용 cell로 변환\n",
    "* \"M\" : Markdown 입력용 cell로 변환\n",
    "* \"A\" : 상단에 새로운 cell 삽입\n",
    "* \"B\" : 하단에 새로운 cell 삽입\n",
    "* \"DD\" : cell 삭제"
   ]
  },
  {
   "cell_type": "code",
   "execution_count": null,
   "id": "4f8984cc",
   "metadata": {},
   "outputs": [],
   "source": []
  }
 ],
 "metadata": {
  "kernelspec": {
   "display_name": "Python 3 (ipykernel)",
   "language": "python",
   "name": "python3"
  },
  "language_info": {
   "codemirror_mode": {
    "name": "ipython",
    "version": 3
   },
   "file_extension": ".py",
   "mimetype": "text/x-python",
   "name": "python",
   "nbconvert_exporter": "python",
   "pygments_lexer": "ipython3",
   "version": "3.7.13"
  }
 },
 "nbformat": 4,
 "nbformat_minor": 5
}
